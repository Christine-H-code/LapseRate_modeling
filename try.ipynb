{
 "cells": [
  {
   "cell_type": "code",
   "execution_count": 58,
   "id": "3d93d03e",
   "metadata": {},
   "outputs": [],
   "source": [
    "import sys\n",
    "sys.path.append(\"C:/Users/E1005279/OneDrive - Sanlam Life Insurance Limited/MWL/MWLrepo/MiWayLife2/Data_Analysis_Package\")\n",
    "from data_preparation import DataPreparation, Analysis, multi_data_ops\n",
    "import data_operations as do\n",
    "\n",
    "import pandas as pd\n",
    "import matplotlib.pyplot as plt\n",
    "import numpy as np\n",
    "from datetime import datetime"
   ]
  },
  {
   "cell_type": "markdown",
   "id": "71ba184e",
   "metadata": {},
   "source": [
    "# Loading data"
   ]
  },
  {
   "cell_type": "code",
   "execution_count": 26,
   "id": "3c22bd98",
   "metadata": {},
   "outputs": [],
   "source": [
    "path = \"C:/Users/E1005279/OneDrive - Sanlam Life Insurance Limited/MWL/Lapse Rate Projections/Data/\""
   ]
  },
  {
   "cell_type": "code",
   "execution_count": 65,
   "id": "bf4fb7b0",
   "metadata": {},
   "outputs": [],
   "source": [
    "calls_data = pd.DataFrame(pd.read_csv(path+\"calls.csv\"))\n",
    "sales_data = pd.DataFrame(pd.read_csv(path+\"sales.csv\"))\n",
    "policy_data = pd.DataFrame(pd.read_csv(path+\"policy_data.csv\"))\n",
    "payment_data = pd.concat([pd.DataFrame(pd.read_csv(path+\"Payment_data_1.csv\")),pd.DataFrame(pd.read_csv(path+\"Payment_data_2.csv\"))])\n",
    "lapse_data = pd.concat([pd.DataFrame(pd.read_csv(path+\"lapse_1.csv\")),pd.DataFrame(pd.read_csv(path+\"lapse_2.csv\"))])\n"
   ]
  },
  {
   "cell_type": "code",
   "execution_count": null,
   "id": "6164c0a7",
   "metadata": {},
   "outputs": [
    {
     "data": {
      "application/vnd.microsoft.datawrangler.viewer.v0+json": {
       "columns": [
        {
         "name": "index",
         "rawType": "int64",
         "type": "integer"
        },
        {
         "name": "policy_name",
         "rawType": "object",
         "type": "string"
        },
        {
         "name": "call_id",
         "rawType": "object",
         "type": "string"
        },
        {
         "name": "contact_indicator",
         "rawType": "int64",
         "type": "integer"
        },
        {
         "name": "datetime_start",
         "rawType": "object",
         "type": "string"
        }
       ],
       "ref": "9fedfd27-1bd2-419c-b99b-9bb39b82e596",
       "rows": [
        [
         "0",
         "MQ22-0000002",
         "fa3ff83f-39ed-4e47-bf4b-08cc517a3a02",
         "1",
         "2022-08-31 06:07:16"
        ],
        [
         "1",
         "MQ22-0000002",
         "86f9ce30-dad1-4d94-8593-70eaf788ff78",
         "1",
         "2022-08-31 06:51:27"
        ],
        [
         "2",
         "ML22-0000003",
         "817c8493-27db-4e6b-8f03-bcbfcd51aa28",
         "0",
         "2022-08-31 10:23:12"
        ],
        [
         "3",
         "ML22-0000003",
         "e5af692f-1fcf-48ee-91c6-97ae7d8f9367",
         "0",
         "2022-08-31 10:24:18"
        ],
        [
         "4",
         "ML22-0000014",
         "d631ead4-a76e-46a7-8060-83b084a82ddb",
         "1",
         "2022-09-02 07:46:01"
        ],
        [
         "5",
         "MQ22-0000009",
         "9fc4c37c-d208-45dc-b85d-396162b3d21c",
         "0",
         "2022-09-02 08:19:31"
        ],
        [
         "6",
         "ML22-0000006",
         "bf6176d7-8b10-4088-9052-c96ad6be981b",
         "1",
         "2022-09-02 08:21:00"
        ],
        [
         "7",
         "ML22-0000006",
         "cb0d4ac7-5e15-464d-8042-eb6393577b34",
         "1",
         "2022-09-02 09:32:22"
        ],
        [
         "8",
         "ML22-0000006",
         "571397e9-9940-4931-9b9f-db8833b016b9",
         "1",
         "2022-09-02 09:47:16"
        ],
        [
         "9",
         "ML22-0000006",
         "98611f4b-e53d-42ae-ab56-ad2001df43ba",
         "1",
         "2022-09-02 09:53:53"
        ],
        [
         "10",
         "MQ22-0000008",
         "016ec2cd-8289-4f22-9278-160e5a95653e",
         "1",
         "2022-09-02 10:23:30"
        ],
        [
         "11",
         "MQ22-0000023",
         "d0e76ab6-5f17-4beb-a8a7-352327422646",
         "1",
         "2022-09-02 10:37:17"
        ],
        [
         "12",
         "ML22-0000005",
         "4d104dc3-ece8-4226-ac34-404d4af38a9f",
         "0",
         "2022-09-02 10:54:29"
        ],
        [
         "13",
         "ML22-0000005",
         "2375400c-833e-4cc2-90b1-95baa946c9c7",
         "0",
         "2022-09-02 12:21:04"
        ],
        [
         "14",
         "ML22-0000005",
         "892a766e-e3ee-4966-bd06-34fc728b1445",
         "0",
         "2022-09-02 13:58:33"
        ],
        [
         "15",
         "MQ22-0000009",
         "33657638-e5df-4689-b254-2f0c3141be6f",
         "1",
         "2022-09-05 07:56:35"
        ],
        [
         "16",
         "MQ22-0000010",
         "f9c719a8-699e-4330-b0fb-3e72158afe65",
         "1",
         "2022-09-05 08:14:00"
        ],
        [
         "17",
         "MQ22-0000010",
         "e8efeafa-b39a-46d8-ab50-a2704286ced1",
         "1",
         "2022-09-05 08:22:01"
        ],
        [
         "18",
         "ML22-0000005",
         "302c00a7-8968-491d-8572-b7ee66a733af",
         "0",
         "2022-09-05 08:29:38"
        ],
        [
         "19",
         "MQ22-0000011",
         "ce1ecd11-64de-4b46-9e34-cf269a670f40",
         "1",
         "2022-09-05 13:03:21"
        ],
        [
         "20",
         "MQ22-0000027",
         "5192d710-01b6-4eb5-b19e-3d5a11b47603",
         "0",
         "2022-09-06 06:23:35"
        ],
        [
         "21",
         "ML22-0000014",
         "2c70de64-a530-4c1b-acb2-21ab1dab3560",
         "1",
         "2022-09-06 06:45:51"
        ],
        [
         "22",
         "ML22-0000013",
         "f92c1ba8-a318-4031-9242-cebfb587ade2",
         "1",
         "2022-09-06 06:50:00"
        ],
        [
         "23",
         "ML22-0000013",
         "66948756-7bd5-4235-8f68-83497ed56799",
         "1",
         "2022-09-06 07:11:40"
        ],
        [
         "24",
         "MQ22-0000015",
         "73ee2a54-b421-4c4a-ab8b-e318e05f2e25",
         "1",
         "2022-09-06 07:34:29"
        ],
        [
         "25",
         "ML22-0000016",
         "1add48aa-df00-4324-b40e-29995fa34c73",
         "1",
         "2022-09-06 07:44:42"
        ],
        [
         "26",
         "MQ22-0000017",
         "2c7d3c00-362f-4249-954b-ed8f62325c25",
         "1",
         "2022-09-06 07:53:19"
        ],
        [
         "27",
         "MQ22-0000040",
         "433006db-39b7-48e3-8d42-76503a924bc2",
         "0",
         "2022-09-06 07:57:21"
        ],
        [
         "28",
         "MQ22-0000040",
         "07469c3f-a9eb-4a9c-944e-3b7af2446e9b",
         "0",
         "2022-09-06 07:58:06"
        ],
        [
         "29",
         "MQ22-0000040",
         "b37f090e-8a4a-466c-8d5d-636ec657c79f",
         "0",
         "2022-09-06 07:58:44"
        ],
        [
         "30",
         "MQ22-0000017",
         "1ed24375-f97e-4c05-8da3-e0f82d14e913",
         "1",
         "2022-09-06 07:59:00"
        ],
        [
         "31",
         "MQ22-0000018",
         "02bece3f-eb60-41fd-b677-4e7886ed5fdc",
         "1",
         "2022-09-06 08:04:13"
        ],
        [
         "32",
         "MQ22-0000035",
         "8e39b9e0-47d6-4220-9145-8002f8983d34",
         "1",
         "2022-09-06 08:07:23"
        ],
        [
         "33",
         "ML22-0000036",
         "84f98ca0-4b7f-4c2b-8f7f-9ea645604df2",
         "1",
         "2022-09-06 08:09:29"
        ],
        [
         "34",
         "MQ22-0000024",
         "f5a6fa38-a726-4d0a-9c12-e82ae6d077b2",
         "0",
         "2022-09-06 08:25:24"
        ],
        [
         "35",
         "MQ22-0000011",
         "094813cc-78c4-43f3-ab1b-fcd6bbacd445",
         "1",
         "2022-09-06 08:30:58"
        ],
        [
         "36",
         "MQ22-0000020",
         "e91153b0-bc53-4945-bba0-733b5f5c90dc",
         "1",
         "2022-09-06 08:36:16"
        ],
        [
         "37",
         "MQ22-0000020",
         "a571f4c5-5ba2-4b0b-bad7-5a1883c85311",
         "0",
         "2022-09-06 08:39:32"
        ],
        [
         "38",
         "MQ22-0000020",
         "1ed2c3b1-efd2-4e15-a46f-03334505b3fc",
         "1",
         "2022-09-06 08:40:50"
        ],
        [
         "39",
         "MQ22-0000096",
         "d6e66632-7110-4d56-9d83-45bef68af5b0",
         "1",
         "2022-09-06 08:50:09"
        ],
        [
         "40",
         "MQ22-0000096",
         "9f3bf3dc-2a38-4e26-a6a9-b55a474e5260",
         "1",
         "2022-09-06 09:06:51"
        ],
        [
         "41",
         "MQ22-0000021",
         "5302b5e7-aaa0-4863-be89-90b704d59e95",
         "1",
         "2022-09-06 09:16:46"
        ],
        [
         "42",
         "MQ22-0000034",
         "b2be7606-4756-4434-a5f3-2533d9565b73",
         "0",
         "2022-09-06 09:25:08"
        ],
        [
         "43",
         "MQ22-0000034",
         "8195fe31-c608-4766-aaf3-1889561668ff",
         "0",
         "2022-09-06 09:27:39"
        ],
        [
         "44",
         "ML22-0000173",
         "fe4d2339-f780-4817-a2b7-5ad735010ed5",
         "0",
         "2022-09-06 09:38:21"
        ],
        [
         "45",
         "ML22-0000036",
         "eefc448d-43b4-42e0-877a-42aefa129469",
         "0",
         "2022-09-06 10:29:32"
        ],
        [
         "46",
         "ML22-0000036",
         "c1907cc7-3463-422a-83c7-90860e69c12c",
         "0",
         "2022-09-06 10:39:09"
        ],
        [
         "47",
         "ML22-0000036",
         "dd1100d0-123a-47ee-a989-3e314c57a815",
         "0",
         "2022-09-06 10:47:27"
        ],
        [
         "48",
         "MQ22-0000047",
         "9669a111-d691-48e6-8fd5-4c1106e9dd72",
         "1",
         "2022-09-06 12:14:14"
        ],
        [
         "49",
         "MQ22-0000040",
         "23ac467e-3c13-48f0-af47-2603e20b6d56",
         "1",
         "2022-09-06 12:27:52"
        ]
       ],
       "shape": {
        "columns": 4,
        "rows": 946122
       }
      },
      "text/html": [
       "<div>\n",
       "<style scoped>\n",
       "    .dataframe tbody tr th:only-of-type {\n",
       "        vertical-align: middle;\n",
       "    }\n",
       "\n",
       "    .dataframe tbody tr th {\n",
       "        vertical-align: top;\n",
       "    }\n",
       "\n",
       "    .dataframe thead th {\n",
       "        text-align: right;\n",
       "    }\n",
       "</style>\n",
       "<table border=\"1\" class=\"dataframe\">\n",
       "  <thead>\n",
       "    <tr style=\"text-align: right;\">\n",
       "      <th></th>\n",
       "      <th>policy_name</th>\n",
       "      <th>call_id</th>\n",
       "      <th>contact_indicator</th>\n",
       "      <th>datetime_start</th>\n",
       "    </tr>\n",
       "  </thead>\n",
       "  <tbody>\n",
       "    <tr>\n",
       "      <th>0</th>\n",
       "      <td>MQ22-0000002</td>\n",
       "      <td>fa3ff83f-39ed-4e47-bf4b-08cc517a3a02</td>\n",
       "      <td>1</td>\n",
       "      <td>2022-08-31 06:07:16</td>\n",
       "    </tr>\n",
       "    <tr>\n",
       "      <th>1</th>\n",
       "      <td>MQ22-0000002</td>\n",
       "      <td>86f9ce30-dad1-4d94-8593-70eaf788ff78</td>\n",
       "      <td>1</td>\n",
       "      <td>2022-08-31 06:51:27</td>\n",
       "    </tr>\n",
       "    <tr>\n",
       "      <th>2</th>\n",
       "      <td>ML22-0000003</td>\n",
       "      <td>817c8493-27db-4e6b-8f03-bcbfcd51aa28</td>\n",
       "      <td>0</td>\n",
       "      <td>2022-08-31 10:23:12</td>\n",
       "    </tr>\n",
       "    <tr>\n",
       "      <th>3</th>\n",
       "      <td>ML22-0000003</td>\n",
       "      <td>e5af692f-1fcf-48ee-91c6-97ae7d8f9367</td>\n",
       "      <td>0</td>\n",
       "      <td>2022-08-31 10:24:18</td>\n",
       "    </tr>\n",
       "    <tr>\n",
       "      <th>4</th>\n",
       "      <td>ML22-0000014</td>\n",
       "      <td>d631ead4-a76e-46a7-8060-83b084a82ddb</td>\n",
       "      <td>1</td>\n",
       "      <td>2022-09-02 07:46:01</td>\n",
       "    </tr>\n",
       "    <tr>\n",
       "      <th>...</th>\n",
       "      <td>...</td>\n",
       "      <td>...</td>\n",
       "      <td>...</td>\n",
       "      <td>...</td>\n",
       "    </tr>\n",
       "    <tr>\n",
       "      <th>946117</th>\n",
       "      <td>ML25-0431179</td>\n",
       "      <td>42481716-dc74-4b65-92e7-c364d3640f91</td>\n",
       "      <td>1</td>\n",
       "      <td>2025-08-05 16:24:26</td>\n",
       "    </tr>\n",
       "    <tr>\n",
       "      <th>946118</th>\n",
       "      <td>MQ25-0428537</td>\n",
       "      <td>9485e68d-5ef3-472d-8ba8-c31cd2528adc</td>\n",
       "      <td>0</td>\n",
       "      <td>2025-08-05 16:39:34</td>\n",
       "    </tr>\n",
       "    <tr>\n",
       "      <th>946119</th>\n",
       "      <td>MQ25-0428177</td>\n",
       "      <td>2efe3b8c-e556-4a0e-9778-7bf32918429f</td>\n",
       "      <td>0</td>\n",
       "      <td>2025-08-05 16:46:09</td>\n",
       "    </tr>\n",
       "    <tr>\n",
       "      <th>946120</th>\n",
       "      <td>MQ25-0428177</td>\n",
       "      <td>45b640e9-e7d3-489b-8600-1293e6f898d5</td>\n",
       "      <td>0</td>\n",
       "      <td>2025-08-05 16:47:15</td>\n",
       "    </tr>\n",
       "    <tr>\n",
       "      <th>946121</th>\n",
       "      <td>MQ25-0428537</td>\n",
       "      <td>260d4376-1a7e-481a-bf8a-092eb3e89953</td>\n",
       "      <td>0</td>\n",
       "      <td>2025-08-05 17:06:03</td>\n",
       "    </tr>\n",
       "  </tbody>\n",
       "</table>\n",
       "<p>946122 rows × 4 columns</p>\n",
       "</div>"
      ],
      "text/plain": [
       "         policy_name                               call_id  contact_indicator  \\\n",
       "0       MQ22-0000002  fa3ff83f-39ed-4e47-bf4b-08cc517a3a02                  1   \n",
       "1       MQ22-0000002  86f9ce30-dad1-4d94-8593-70eaf788ff78                  1   \n",
       "2       ML22-0000003  817c8493-27db-4e6b-8f03-bcbfcd51aa28                  0   \n",
       "3       ML22-0000003  e5af692f-1fcf-48ee-91c6-97ae7d8f9367                  0   \n",
       "4       ML22-0000014  d631ead4-a76e-46a7-8060-83b084a82ddb                  1   \n",
       "...              ...                                   ...                ...   \n",
       "946117  ML25-0431179  42481716-dc74-4b65-92e7-c364d3640f91                  1   \n",
       "946118  MQ25-0428537  9485e68d-5ef3-472d-8ba8-c31cd2528adc                  0   \n",
       "946119  MQ25-0428177  2efe3b8c-e556-4a0e-9778-7bf32918429f                  0   \n",
       "946120  MQ25-0428177  45b640e9-e7d3-489b-8600-1293e6f898d5                  0   \n",
       "946121  MQ25-0428537  260d4376-1a7e-481a-bf8a-092eb3e89953                  0   \n",
       "\n",
       "             datetime_start  \n",
       "0       2022-08-31 06:07:16  \n",
       "1       2022-08-31 06:51:27  \n",
       "2       2022-08-31 10:23:12  \n",
       "3       2022-08-31 10:24:18  \n",
       "4       2022-09-02 07:46:01  \n",
       "...                     ...  \n",
       "946117  2025-08-05 16:24:26  \n",
       "946118  2025-08-05 16:39:34  \n",
       "946119  2025-08-05 16:46:09  \n",
       "946120  2025-08-05 16:47:15  \n",
       "946121  2025-08-05 17:06:03  \n",
       "\n",
       "[946122 rows x 4 columns]"
      ]
     },
     "execution_count": 36,
     "metadata": {},
     "output_type": "execute_result"
    }
   ],
   "source": [
    "sales_data"
   ]
  },
  {
   "cell_type": "markdown",
   "id": "05034e60",
   "metadata": {},
   "source": [
    "# Filtering data to relevant policies\n",
    "\n",
    "Relevant policies are policies that have been incepted. The rpt_datamodel_lapse has incepted policies only, hence filtering on policies within that dataset"
   ]
  },
  {
   "cell_type": "code",
   "execution_count": 66,
   "id": "5ed27cc2",
   "metadata": {},
   "outputs": [],
   "source": [
    "pol_names = list(lapse_data['policy_name'])\n",
    "sales_data = sales_data[sales_data['policy_name'].isin(pol_names)]\n",
    "pol_ids= list(sales_data['policy_id'])\n",
    "calls_data = calls_data[calls_data['policy_name'].isin(pol_names)]\n",
    "payment_data = payment_data[payment_data['policy_id'].isin(pol_ids)]\n",
    "policy_data = policy_data[policy_data['policy_name'].isin(pol_names)]"
   ]
  },
  {
   "cell_type": "code",
   "execution_count": 67,
   "id": "ae9b68e8",
   "metadata": {},
   "outputs": [],
   "source": [
    "#Make date column of data type datetime\n",
    "sales_data=do.dtype_datetime(sales_data)\n",
    "calls_data=do.dtype_datetime(calls_data)\n",
    "payment_data=do.dtype_datetime(payment_data)\n",
    "policy_data=do.dtype_datetime(policy_data)\n",
    "lapse_data=do.dtype_datetime(lapse_data)\n"
   ]
  },
  {
   "cell_type": "code",
   "execution_count": 41,
   "id": "96e1133e",
   "metadata": {},
   "outputs": [
    {
     "data": {
      "text/plain": [
       "(65364, 65364, 65364, 39544, 63981, 65364)"
      ]
     },
     "execution_count": 41,
     "metadata": {},
     "output_type": "execute_result"
    }
   ],
   "source": [
    "len(set(pol_names)),len(set(pol_ids)),sales_data['policy_id'].nunique(), calls_data['policy_name'].nunique(), payment_data['policy_id'].nunique(),policy_data['policy_name'].nunique()"
   ]
  },
  {
   "cell_type": "markdown",
   "id": "67c0d110",
   "metadata": {},
   "source": [
    "# Aggregating Calla data and Payments data"
   ]
  },
  {
   "cell_type": "markdown",
   "id": "5a4ee24f",
   "metadata": {},
   "source": [
    "## Calls data"
   ]
  },
  {
   "cell_type": "code",
   "execution_count": 68,
   "id": "b35f0b01",
   "metadata": {},
   "outputs": [
    {
     "data": {
      "application/vnd.microsoft.datawrangler.viewer.v0+json": {
       "columns": [
        {
         "name": "index",
         "rawType": "int64",
         "type": "integer"
        },
        {
         "name": "policy_name",
         "rawType": "object",
         "type": "string"
        },
        {
         "name": "call_id",
         "rawType": "object",
         "type": "string"
        },
        {
         "name": "contact_indicator",
         "rawType": "int64",
         "type": "integer"
        },
        {
         "name": "datetime_start",
         "rawType": "datetime64[ns]",
         "type": "datetime"
        }
       ],
       "ref": "c8de2fe8-7b92-440d-9b2f-8f0e86d1c303",
       "rows": [
        [
         "2",
         "ML22-0000003",
         "817c8493-27db-4e6b-8f03-bcbfcd51aa28",
         "0",
         "2022-08-31 10:23:12"
        ],
        [
         "3",
         "ML22-0000003",
         "e5af692f-1fcf-48ee-91c6-97ae7d8f9367",
         "0",
         "2022-08-31 10:24:18"
        ],
        [
         "4",
         "ML22-0000014",
         "d631ead4-a76e-46a7-8060-83b084a82ddb",
         "1",
         "2022-09-02 07:46:01"
        ],
        [
         "12",
         "ML22-0000005",
         "4d104dc3-ece8-4226-ac34-404d4af38a9f",
         "0",
         "2022-09-02 10:54:29"
        ],
        [
         "13",
         "ML22-0000005",
         "2375400c-833e-4cc2-90b1-95baa946c9c7",
         "0",
         "2022-09-02 12:21:04"
        ],
        [
         "14",
         "ML22-0000005",
         "892a766e-e3ee-4966-bd06-34fc728b1445",
         "0",
         "2022-09-02 13:58:33"
        ],
        [
         "18",
         "ML22-0000005",
         "302c00a7-8968-491d-8572-b7ee66a733af",
         "0",
         "2022-09-05 08:29:38"
        ],
        [
         "21",
         "ML22-0000014",
         "2c70de64-a530-4c1b-acb2-21ab1dab3560",
         "1",
         "2022-09-06 06:45:51"
        ],
        [
         "25",
         "ML22-0000016",
         "1add48aa-df00-4324-b40e-29995fa34c73",
         "1",
         "2022-09-06 07:44:42"
        ],
        [
         "33",
         "ML22-0000036",
         "84f98ca0-4b7f-4c2b-8f7f-9ea645604df2",
         "1",
         "2022-09-06 08:09:29"
        ],
        [
         "44",
         "ML22-0000173",
         "fe4d2339-f780-4817-a2b7-5ad735010ed5",
         "0",
         "2022-09-06 09:38:21"
        ],
        [
         "45",
         "ML22-0000036",
         "eefc448d-43b4-42e0-877a-42aefa129469",
         "0",
         "2022-09-06 10:29:32"
        ],
        [
         "46",
         "ML22-0000036",
         "c1907cc7-3463-422a-83c7-90860e69c12c",
         "0",
         "2022-09-06 10:39:09"
        ],
        [
         "47",
         "ML22-0000036",
         "dd1100d0-123a-47ee-a989-3e314c57a815",
         "0",
         "2022-09-06 10:47:27"
        ],
        [
         "57",
         "ML22-0000173",
         "21348c58-3e81-4a2c-8a2b-f72bb6fc960e",
         "0",
         "2022-09-06 13:01:08"
        ],
        [
         "63",
         "ML22-0000036",
         "2a026594-f385-4153-bca7-341fed41170c",
         "0",
         "2022-09-06 13:38:46"
        ],
        [
         "66",
         "ML22-0000173",
         "8c7f765d-92a4-4418-9d90-e4b8648b1f6d",
         "1",
         "2022-09-06 13:48:52"
        ],
        [
         "83",
         "ML22-0000036",
         "c9092aab-4004-4192-bb86-74a6750c0a4e",
         "0",
         "2022-09-06 16:16:27"
        ],
        [
         "90",
         "ML22-0000036",
         "40c32b76-9ed4-41da-adac-ebc30ea2296b",
         "1",
         "2022-09-07 07:01:43"
        ],
        [
         "91",
         "ML22-0000094",
         "3a0fd971-fd24-4267-96aa-8adfed57e204",
         "1",
         "2022-09-07 07:04:53"
        ],
        [
         "92",
         "ML22-0000094",
         "b90ae453-95b6-44f1-a3eb-93db9e4654f8",
         "1",
         "2022-09-07 07:21:07"
        ],
        [
         "93",
         "ML22-0000094",
         "e9337696-320a-41da-91f8-9c492857d093",
         "1",
         "2022-09-07 07:23:34"
        ],
        [
         "94",
         "ML22-0000094",
         "17098657-9259-46e6-9476-8ecff356ac1a",
         "1",
         "2022-09-07 07:24:34"
        ],
        [
         "97",
         "ML22-0000094",
         "553a0503-fa02-4925-a961-0d32290ecee3",
         "1",
         "2022-09-07 08:01:46"
        ],
        [
         "98",
         "ML22-0000094",
         "ed71fcee-1caf-492b-b255-bc23d4c50db1",
         "1",
         "2022-09-07 08:06:07"
        ],
        [
         "99",
         "ML22-0000094",
         "f38a2eb7-89e6-4596-afbd-e9cfbf46134c",
         "1",
         "2022-09-07 08:11:02"
        ],
        [
         "101",
         "ML22-0000094",
         "455faadc-20e5-4c0b-9afd-9c85f014b23f",
         "1",
         "2022-09-07 08:28:14"
        ],
        [
         "102",
         "ML22-0000094",
         "a4c7d0b3-809e-4fe5-815c-27c6c02d31ea",
         "1",
         "2022-09-07 08:31:26"
        ],
        [
         "105",
         "ML22-0000094",
         "313b8258-1362-4a1c-adaf-ca1033fe0864",
         "0",
         "2022-09-07 08:38:31"
        ],
        [
         "108",
         "ML22-0000094",
         "6331e4c2-c11e-4ad7-93df-a1463060c434",
         "0",
         "2022-09-07 09:04:59"
        ],
        [
         "113",
         "ML22-0000094",
         "dfa54185-5089-4aa5-ae53-72fe3b704186",
         "1",
         "2022-09-07 09:22:30"
        ],
        [
         "114",
         "ML22-0000094",
         "1151426a-b39c-4950-8fad-54ec1dc083fa",
         "1",
         "2022-09-07 09:40:41"
        ],
        [
         "115",
         "ML22-0000045",
         "716f0d86-5bb2-428f-b13c-c34b5cae6e99",
         "1",
         "2022-09-07 09:41:43"
        ],
        [
         "116",
         "ML22-0000094",
         "00971f75-63fc-4e1b-832f-928a282823e3",
         "1",
         "2022-09-07 09:57:01"
        ],
        [
         "120",
         "ML22-0000045",
         "02d7bd80-3279-4205-95e9-116c53e4dc23",
         "0",
         "2022-09-07 10:01:00"
        ],
        [
         "123",
         "ML22-0000094",
         "704020d3-94da-45ff-b158-05df55db0c7c",
         "1",
         "2022-09-07 10:12:03"
        ],
        [
         "128",
         "ML22-0000094",
         "0ac30855-7771-4a40-9e05-bb9ccf8795bc",
         "1",
         "2022-09-07 12:03:18"
        ],
        [
         "129",
         "ML22-0000045",
         "c57d59ae-b00a-4b4d-ae4a-80aa1e6231ee",
         "1",
         "2022-09-07 12:05:25"
        ],
        [
         "134",
         "ML22-0000045",
         "648f7709-c2a7-4019-9290-c73648f58bf6",
         "1",
         "2022-09-07 12:13:27"
        ],
        [
         "139",
         "ML22-0000054",
         "ca49ac19-d282-44fb-bd9e-a8fbaa7410c4",
         "1",
         "2022-09-07 13:29:48"
        ],
        [
         "141",
         "ML22-0000054",
         "acda055b-19c2-480d-9b30-ad8031b4cc86",
         "1",
         "2022-09-07 13:37:32"
        ],
        [
         "151",
         "ML22-0000065",
         "8eeb8a45-bfb8-4c12-8d70-e2ab8a3252a2",
         "0",
         "2022-09-07 15:16:21"
        ],
        [
         "152",
         "ML22-0000065",
         "3e07ea52-2a6a-4fb6-aca4-9ab22e3582af",
         "0",
         "2022-09-07 15:17:32"
        ],
        [
         "155",
         "ML22-0000094",
         "ef6453e6-ed30-4d05-bdfe-9158a78e3cd1",
         "0",
         "2022-09-07 15:26:39"
        ],
        [
         "162",
         "ML22-0000173",
         "c5f96bb4-1b51-463c-b927-fa03cefe1e8f",
         "0",
         "2022-09-07 16:01:18"
        ],
        [
         "171",
         "ML22-0000088",
         "0392f284-21cd-40b7-9b70-c6a80c5d9e31",
         "1",
         "2022-09-08 06:45:09"
        ],
        [
         "181",
         "ML22-0000085",
         "5851c276-b73f-4938-b2fd-c81208dd4cbc",
         "0",
         "2022-09-08 07:22:16"
        ],
        [
         "185",
         "ML22-0000065",
         "9728a108-d428-4f2c-ae0e-963c80d75b76",
         "0",
         "2022-09-08 08:08:51"
        ],
        [
         "186",
         "ML22-0000094",
         "b08a721e-d137-4676-b1ed-ab62d8b47cde",
         "1",
         "2022-09-08 08:18:10"
        ],
        [
         "191",
         "ML22-0000065",
         "5d412cfa-520c-4a5a-91a4-81f635fc52dd",
         "0",
         "2022-09-08 10:12:07"
        ]
       ],
       "shape": {
        "columns": 4,
        "rows": 338943
       }
      },
      "text/html": [
       "<div>\n",
       "<style scoped>\n",
       "    .dataframe tbody tr th:only-of-type {\n",
       "        vertical-align: middle;\n",
       "    }\n",
       "\n",
       "    .dataframe tbody tr th {\n",
       "        vertical-align: top;\n",
       "    }\n",
       "\n",
       "    .dataframe thead th {\n",
       "        text-align: right;\n",
       "    }\n",
       "</style>\n",
       "<table border=\"1\" class=\"dataframe\">\n",
       "  <thead>\n",
       "    <tr style=\"text-align: right;\">\n",
       "      <th></th>\n",
       "      <th>policy_name</th>\n",
       "      <th>call_id</th>\n",
       "      <th>contact_indicator</th>\n",
       "      <th>datetime_start</th>\n",
       "    </tr>\n",
       "  </thead>\n",
       "  <tbody>\n",
       "    <tr>\n",
       "      <th>2</th>\n",
       "      <td>ML22-0000003</td>\n",
       "      <td>817c8493-27db-4e6b-8f03-bcbfcd51aa28</td>\n",
       "      <td>0</td>\n",
       "      <td>2022-08-31 10:23:12</td>\n",
       "    </tr>\n",
       "    <tr>\n",
       "      <th>3</th>\n",
       "      <td>ML22-0000003</td>\n",
       "      <td>e5af692f-1fcf-48ee-91c6-97ae7d8f9367</td>\n",
       "      <td>0</td>\n",
       "      <td>2022-08-31 10:24:18</td>\n",
       "    </tr>\n",
       "    <tr>\n",
       "      <th>4</th>\n",
       "      <td>ML22-0000014</td>\n",
       "      <td>d631ead4-a76e-46a7-8060-83b084a82ddb</td>\n",
       "      <td>1</td>\n",
       "      <td>2022-09-02 07:46:01</td>\n",
       "    </tr>\n",
       "    <tr>\n",
       "      <th>12</th>\n",
       "      <td>ML22-0000005</td>\n",
       "      <td>4d104dc3-ece8-4226-ac34-404d4af38a9f</td>\n",
       "      <td>0</td>\n",
       "      <td>2022-09-02 10:54:29</td>\n",
       "    </tr>\n",
       "    <tr>\n",
       "      <th>13</th>\n",
       "      <td>ML22-0000005</td>\n",
       "      <td>2375400c-833e-4cc2-90b1-95baa946c9c7</td>\n",
       "      <td>0</td>\n",
       "      <td>2022-09-02 12:21:04</td>\n",
       "    </tr>\n",
       "    <tr>\n",
       "      <th>...</th>\n",
       "      <td>...</td>\n",
       "      <td>...</td>\n",
       "      <td>...</td>\n",
       "      <td>...</td>\n",
       "    </tr>\n",
       "    <tr>\n",
       "      <th>946031</th>\n",
       "      <td>MWL006970368</td>\n",
       "      <td>c583828b-baa7-4455-a092-ae5145445804</td>\n",
       "      <td>0</td>\n",
       "      <td>2025-08-05 15:03:04</td>\n",
       "    </tr>\n",
       "    <tr>\n",
       "      <th>946062</th>\n",
       "      <td>MWL008353846</td>\n",
       "      <td>14e6fa5f-1f4b-4c79-ab59-eb564a21a49a</td>\n",
       "      <td>0</td>\n",
       "      <td>2025-08-05 15:21:30</td>\n",
       "    </tr>\n",
       "    <tr>\n",
       "      <th>946075</th>\n",
       "      <td>ML24-0201111</td>\n",
       "      <td>72b23171-f6da-4216-975a-75401a70d289</td>\n",
       "      <td>1</td>\n",
       "      <td>2025-08-05 15:28:17</td>\n",
       "    </tr>\n",
       "    <tr>\n",
       "      <th>946098</th>\n",
       "      <td>MWL007577122</td>\n",
       "      <td>499c478a-4ceb-4aa5-a3eb-7126d7054b01</td>\n",
       "      <td>1</td>\n",
       "      <td>2025-08-05 15:46:24</td>\n",
       "    </tr>\n",
       "    <tr>\n",
       "      <th>946101</th>\n",
       "      <td>MWL007237748</td>\n",
       "      <td>b21b01ed-eb28-4852-8036-741d0de80f1b</td>\n",
       "      <td>1</td>\n",
       "      <td>2025-08-05 15:52:15</td>\n",
       "    </tr>\n",
       "  </tbody>\n",
       "</table>\n",
       "<p>338943 rows × 4 columns</p>\n",
       "</div>"
      ],
      "text/plain": [
       "         policy_name                               call_id  contact_indicator  \\\n",
       "2       ML22-0000003  817c8493-27db-4e6b-8f03-bcbfcd51aa28                  0   \n",
       "3       ML22-0000003  e5af692f-1fcf-48ee-91c6-97ae7d8f9367                  0   \n",
       "4       ML22-0000014  d631ead4-a76e-46a7-8060-83b084a82ddb                  1   \n",
       "12      ML22-0000005  4d104dc3-ece8-4226-ac34-404d4af38a9f                  0   \n",
       "13      ML22-0000005  2375400c-833e-4cc2-90b1-95baa946c9c7                  0   \n",
       "...              ...                                   ...                ...   \n",
       "946031  MWL006970368  c583828b-baa7-4455-a092-ae5145445804                  0   \n",
       "946062  MWL008353846  14e6fa5f-1f4b-4c79-ab59-eb564a21a49a                  0   \n",
       "946075  ML24-0201111  72b23171-f6da-4216-975a-75401a70d289                  1   \n",
       "946098  MWL007577122  499c478a-4ceb-4aa5-a3eb-7126d7054b01                  1   \n",
       "946101  MWL007237748  b21b01ed-eb28-4852-8036-741d0de80f1b                  1   \n",
       "\n",
       "            datetime_start  \n",
       "2      2022-08-31 10:23:12  \n",
       "3      2022-08-31 10:24:18  \n",
       "4      2022-09-02 07:46:01  \n",
       "12     2022-09-02 10:54:29  \n",
       "13     2022-09-02 12:21:04  \n",
       "...                    ...  \n",
       "946031 2025-08-05 15:03:04  \n",
       "946062 2025-08-05 15:21:30  \n",
       "946075 2025-08-05 15:28:17  \n",
       "946098 2025-08-05 15:46:24  \n",
       "946101 2025-08-05 15:52:15  \n",
       "\n",
       "[338943 rows x 4 columns]"
      ]
     },
     "execution_count": 68,
     "metadata": {},
     "output_type": "execute_result"
    }
   ],
   "source": [
    "calls_data"
   ]
  },
  {
   "cell_type": "code",
   "execution_count": 82,
   "id": "ab1996e1",
   "metadata": {},
   "outputs": [
    {
     "data": {
      "text/plain": [
       "{'df1 | df2': {'policy_name'}}"
      ]
     },
     "execution_count": 82,
     "metadata": {},
     "output_type": "execute_result"
    }
   ],
   "source": [
    "#Adding sales date to calls data to filter to calls made after sale\n",
    "calls_sale_date = multi_data_ops(file_list=[],df1=calls_data, df2=policy_data)\n",
    "calls_sale_date.col_intersect"
   ]
  },
  {
   "cell_type": "code",
   "execution_count": 83,
   "id": "df75365b",
   "metadata": {},
   "outputs": [
    {
     "data": {
      "application/vnd.microsoft.datawrangler.viewer.v0+json": {
       "columns": [
        {
         "name": "index",
         "rawType": "int64",
         "type": "integer"
        },
        {
         "name": "policy_name",
         "rawType": "object",
         "type": "string"
        },
        {
         "name": "call_id",
         "rawType": "object",
         "type": "string"
        },
        {
         "name": "contact_indicator",
         "rawType": "int64",
         "type": "integer"
        },
        {
         "name": "datetime_start",
         "rawType": "datetime64[ns]",
         "type": "datetime"
        },
        {
         "name": "sale_date",
         "rawType": "datetime64[ns]",
         "type": "datetime"
        }
       ],
       "ref": "316feae5-c98e-46f0-9463-bcaa88620830",
       "rows": [
        [
         "0",
         "ML22-0000003",
         "817c8493-27db-4e6b-8f03-bcbfcd51aa28",
         "0",
         "2022-08-31 10:23:12",
         "2022-08-31 00:00:00"
        ],
        [
         "1",
         "ML22-0000003",
         "e5af692f-1fcf-48ee-91c6-97ae7d8f9367",
         "0",
         "2022-08-31 10:24:18",
         "2022-08-31 00:00:00"
        ],
        [
         "2",
         "ML22-0000014",
         "d631ead4-a76e-46a7-8060-83b084a82ddb",
         "1",
         "2022-09-02 07:46:01",
         "2022-09-06 00:00:00"
        ],
        [
         "3",
         "ML22-0000005",
         "4d104dc3-ece8-4226-ac34-404d4af38a9f",
         "0",
         "2022-09-02 10:54:29",
         "2022-09-02 00:00:00"
        ],
        [
         "4",
         "ML22-0000005",
         "2375400c-833e-4cc2-90b1-95baa946c9c7",
         "0",
         "2022-09-02 12:21:04",
         "2022-09-02 00:00:00"
        ],
        [
         "5",
         "ML22-0000005",
         "892a766e-e3ee-4966-bd06-34fc728b1445",
         "0",
         "2022-09-02 13:58:33",
         "2022-09-02 00:00:00"
        ],
        [
         "6",
         "ML22-0000005",
         "302c00a7-8968-491d-8572-b7ee66a733af",
         "0",
         "2022-09-05 08:29:38",
         "2022-09-02 00:00:00"
        ],
        [
         "7",
         "ML22-0000014",
         "2c70de64-a530-4c1b-acb2-21ab1dab3560",
         "1",
         "2022-09-06 06:45:51",
         "2022-09-06 00:00:00"
        ],
        [
         "8",
         "ML22-0000016",
         "1add48aa-df00-4324-b40e-29995fa34c73",
         "1",
         "2022-09-06 07:44:42",
         "2022-09-06 00:00:00"
        ],
        [
         "9",
         "ML22-0000036",
         "84f98ca0-4b7f-4c2b-8f7f-9ea645604df2",
         "1",
         "2022-09-06 08:09:29",
         "2022-09-07 00:00:00"
        ],
        [
         "10",
         "ML22-0000173",
         "fe4d2339-f780-4817-a2b7-5ad735010ed5",
         "0",
         "2022-09-06 09:38:21",
         "2022-09-28 00:00:00"
        ],
        [
         "11",
         "ML22-0000036",
         "eefc448d-43b4-42e0-877a-42aefa129469",
         "0",
         "2022-09-06 10:29:32",
         "2022-09-07 00:00:00"
        ],
        [
         "12",
         "ML22-0000036",
         "c1907cc7-3463-422a-83c7-90860e69c12c",
         "0",
         "2022-09-06 10:39:09",
         "2022-09-07 00:00:00"
        ],
        [
         "13",
         "ML22-0000036",
         "dd1100d0-123a-47ee-a989-3e314c57a815",
         "0",
         "2022-09-06 10:47:27",
         "2022-09-07 00:00:00"
        ],
        [
         "14",
         "ML22-0000173",
         "21348c58-3e81-4a2c-8a2b-f72bb6fc960e",
         "0",
         "2022-09-06 13:01:08",
         "2022-09-28 00:00:00"
        ],
        [
         "15",
         "ML22-0000036",
         "2a026594-f385-4153-bca7-341fed41170c",
         "0",
         "2022-09-06 13:38:46",
         "2022-09-07 00:00:00"
        ],
        [
         "16",
         "ML22-0000173",
         "8c7f765d-92a4-4418-9d90-e4b8648b1f6d",
         "1",
         "2022-09-06 13:48:52",
         "2022-09-28 00:00:00"
        ],
        [
         "17",
         "ML22-0000036",
         "c9092aab-4004-4192-bb86-74a6750c0a4e",
         "0",
         "2022-09-06 16:16:27",
         "2022-09-07 00:00:00"
        ],
        [
         "18",
         "ML22-0000036",
         "40c32b76-9ed4-41da-adac-ebc30ea2296b",
         "1",
         "2022-09-07 07:01:43",
         "2022-09-07 00:00:00"
        ],
        [
         "19",
         "ML22-0000094",
         "3a0fd971-fd24-4267-96aa-8adfed57e204",
         "1",
         "2022-09-07 07:04:53",
         "2022-09-09 00:00:00"
        ],
        [
         "20",
         "ML22-0000094",
         "b90ae453-95b6-44f1-a3eb-93db9e4654f8",
         "1",
         "2022-09-07 07:21:07",
         "2022-09-09 00:00:00"
        ],
        [
         "21",
         "ML22-0000094",
         "e9337696-320a-41da-91f8-9c492857d093",
         "1",
         "2022-09-07 07:23:34",
         "2022-09-09 00:00:00"
        ],
        [
         "22",
         "ML22-0000094",
         "17098657-9259-46e6-9476-8ecff356ac1a",
         "1",
         "2022-09-07 07:24:34",
         "2022-09-09 00:00:00"
        ],
        [
         "23",
         "ML22-0000094",
         "553a0503-fa02-4925-a961-0d32290ecee3",
         "1",
         "2022-09-07 08:01:46",
         "2022-09-09 00:00:00"
        ],
        [
         "24",
         "ML22-0000094",
         "ed71fcee-1caf-492b-b255-bc23d4c50db1",
         "1",
         "2022-09-07 08:06:07",
         "2022-09-09 00:00:00"
        ],
        [
         "25",
         "ML22-0000094",
         "f38a2eb7-89e6-4596-afbd-e9cfbf46134c",
         "1",
         "2022-09-07 08:11:02",
         "2022-09-09 00:00:00"
        ],
        [
         "26",
         "ML22-0000094",
         "455faadc-20e5-4c0b-9afd-9c85f014b23f",
         "1",
         "2022-09-07 08:28:14",
         "2022-09-09 00:00:00"
        ],
        [
         "27",
         "ML22-0000094",
         "a4c7d0b3-809e-4fe5-815c-27c6c02d31ea",
         "1",
         "2022-09-07 08:31:26",
         "2022-09-09 00:00:00"
        ],
        [
         "28",
         "ML22-0000094",
         "313b8258-1362-4a1c-adaf-ca1033fe0864",
         "0",
         "2022-09-07 08:38:31",
         "2022-09-09 00:00:00"
        ],
        [
         "29",
         "ML22-0000094",
         "6331e4c2-c11e-4ad7-93df-a1463060c434",
         "0",
         "2022-09-07 09:04:59",
         "2022-09-09 00:00:00"
        ],
        [
         "30",
         "ML22-0000094",
         "dfa54185-5089-4aa5-ae53-72fe3b704186",
         "1",
         "2022-09-07 09:22:30",
         "2022-09-09 00:00:00"
        ],
        [
         "31",
         "ML22-0000094",
         "1151426a-b39c-4950-8fad-54ec1dc083fa",
         "1",
         "2022-09-07 09:40:41",
         "2022-09-09 00:00:00"
        ],
        [
         "32",
         "ML22-0000045",
         "716f0d86-5bb2-428f-b13c-c34b5cae6e99",
         "1",
         "2022-09-07 09:41:43",
         "2022-09-07 00:00:00"
        ],
        [
         "33",
         "ML22-0000094",
         "00971f75-63fc-4e1b-832f-928a282823e3",
         "1",
         "2022-09-07 09:57:01",
         "2022-09-09 00:00:00"
        ],
        [
         "34",
         "ML22-0000045",
         "02d7bd80-3279-4205-95e9-116c53e4dc23",
         "0",
         "2022-09-07 10:01:00",
         "2022-09-07 00:00:00"
        ],
        [
         "35",
         "ML22-0000094",
         "704020d3-94da-45ff-b158-05df55db0c7c",
         "1",
         "2022-09-07 10:12:03",
         "2022-09-09 00:00:00"
        ],
        [
         "36",
         "ML22-0000094",
         "0ac30855-7771-4a40-9e05-bb9ccf8795bc",
         "1",
         "2022-09-07 12:03:18",
         "2022-09-09 00:00:00"
        ],
        [
         "37",
         "ML22-0000045",
         "c57d59ae-b00a-4b4d-ae4a-80aa1e6231ee",
         "1",
         "2022-09-07 12:05:25",
         "2022-09-07 00:00:00"
        ],
        [
         "38",
         "ML22-0000045",
         "648f7709-c2a7-4019-9290-c73648f58bf6",
         "1",
         "2022-09-07 12:13:27",
         "2022-09-07 00:00:00"
        ],
        [
         "39",
         "ML22-0000054",
         "ca49ac19-d282-44fb-bd9e-a8fbaa7410c4",
         "1",
         "2022-09-07 13:29:48",
         "2022-09-07 00:00:00"
        ],
        [
         "40",
         "ML22-0000054",
         "acda055b-19c2-480d-9b30-ad8031b4cc86",
         "1",
         "2022-09-07 13:37:32",
         "2022-09-07 00:00:00"
        ],
        [
         "41",
         "ML22-0000065",
         "8eeb8a45-bfb8-4c12-8d70-e2ab8a3252a2",
         "0",
         "2022-09-07 15:16:21",
         "2022-09-08 00:00:00"
        ],
        [
         "42",
         "ML22-0000065",
         "3e07ea52-2a6a-4fb6-aca4-9ab22e3582af",
         "0",
         "2022-09-07 15:17:32",
         "2022-09-08 00:00:00"
        ],
        [
         "43",
         "ML22-0000094",
         "ef6453e6-ed30-4d05-bdfe-9158a78e3cd1",
         "0",
         "2022-09-07 15:26:39",
         "2022-09-09 00:00:00"
        ],
        [
         "44",
         "ML22-0000173",
         "c5f96bb4-1b51-463c-b927-fa03cefe1e8f",
         "0",
         "2022-09-07 16:01:18",
         "2022-09-28 00:00:00"
        ],
        [
         "45",
         "ML22-0000088",
         "0392f284-21cd-40b7-9b70-c6a80c5d9e31",
         "1",
         "2022-09-08 06:45:09",
         "2022-09-09 00:00:00"
        ],
        [
         "46",
         "ML22-0000085",
         "5851c276-b73f-4938-b2fd-c81208dd4cbc",
         "0",
         "2022-09-08 07:22:16",
         "2022-09-09 00:00:00"
        ],
        [
         "47",
         "ML22-0000065",
         "9728a108-d428-4f2c-ae0e-963c80d75b76",
         "0",
         "2022-09-08 08:08:51",
         "2022-09-08 00:00:00"
        ],
        [
         "48",
         "ML22-0000094",
         "b08a721e-d137-4676-b1ed-ab62d8b47cde",
         "1",
         "2022-09-08 08:18:10",
         "2022-09-09 00:00:00"
        ],
        [
         "49",
         "ML22-0000065",
         "5d412cfa-520c-4a5a-91a4-81f635fc52dd",
         "0",
         "2022-09-08 10:12:07",
         "2022-09-08 00:00:00"
        ]
       ],
       "shape": {
        "columns": 5,
        "rows": 338943
       }
      },
      "text/html": [
       "<div>\n",
       "<style scoped>\n",
       "    .dataframe tbody tr th:only-of-type {\n",
       "        vertical-align: middle;\n",
       "    }\n",
       "\n",
       "    .dataframe tbody tr th {\n",
       "        vertical-align: top;\n",
       "    }\n",
       "\n",
       "    .dataframe thead th {\n",
       "        text-align: right;\n",
       "    }\n",
       "</style>\n",
       "<table border=\"1\" class=\"dataframe\">\n",
       "  <thead>\n",
       "    <tr style=\"text-align: right;\">\n",
       "      <th></th>\n",
       "      <th>policy_name</th>\n",
       "      <th>call_id</th>\n",
       "      <th>contact_indicator</th>\n",
       "      <th>datetime_start</th>\n",
       "      <th>sale_date</th>\n",
       "    </tr>\n",
       "  </thead>\n",
       "  <tbody>\n",
       "    <tr>\n",
       "      <th>0</th>\n",
       "      <td>ML22-0000003</td>\n",
       "      <td>817c8493-27db-4e6b-8f03-bcbfcd51aa28</td>\n",
       "      <td>0</td>\n",
       "      <td>2022-08-31 10:23:12</td>\n",
       "      <td>2022-08-31</td>\n",
       "    </tr>\n",
       "    <tr>\n",
       "      <th>1</th>\n",
       "      <td>ML22-0000003</td>\n",
       "      <td>e5af692f-1fcf-48ee-91c6-97ae7d8f9367</td>\n",
       "      <td>0</td>\n",
       "      <td>2022-08-31 10:24:18</td>\n",
       "      <td>2022-08-31</td>\n",
       "    </tr>\n",
       "    <tr>\n",
       "      <th>2</th>\n",
       "      <td>ML22-0000014</td>\n",
       "      <td>d631ead4-a76e-46a7-8060-83b084a82ddb</td>\n",
       "      <td>1</td>\n",
       "      <td>2022-09-02 07:46:01</td>\n",
       "      <td>2022-09-06</td>\n",
       "    </tr>\n",
       "    <tr>\n",
       "      <th>3</th>\n",
       "      <td>ML22-0000005</td>\n",
       "      <td>4d104dc3-ece8-4226-ac34-404d4af38a9f</td>\n",
       "      <td>0</td>\n",
       "      <td>2022-09-02 10:54:29</td>\n",
       "      <td>2022-09-02</td>\n",
       "    </tr>\n",
       "    <tr>\n",
       "      <th>4</th>\n",
       "      <td>ML22-0000005</td>\n",
       "      <td>2375400c-833e-4cc2-90b1-95baa946c9c7</td>\n",
       "      <td>0</td>\n",
       "      <td>2022-09-02 12:21:04</td>\n",
       "      <td>2022-09-02</td>\n",
       "    </tr>\n",
       "    <tr>\n",
       "      <th>...</th>\n",
       "      <td>...</td>\n",
       "      <td>...</td>\n",
       "      <td>...</td>\n",
       "      <td>...</td>\n",
       "      <td>...</td>\n",
       "    </tr>\n",
       "    <tr>\n",
       "      <th>338938</th>\n",
       "      <td>MWL006970368</td>\n",
       "      <td>c583828b-baa7-4455-a092-ae5145445804</td>\n",
       "      <td>0</td>\n",
       "      <td>2025-08-05 15:03:04</td>\n",
       "      <td>2019-10-15</td>\n",
       "    </tr>\n",
       "    <tr>\n",
       "      <th>338939</th>\n",
       "      <td>MWL008353846</td>\n",
       "      <td>14e6fa5f-1f4b-4c79-ab59-eb564a21a49a</td>\n",
       "      <td>0</td>\n",
       "      <td>2025-08-05 15:21:30</td>\n",
       "      <td>2022-04-25</td>\n",
       "    </tr>\n",
       "    <tr>\n",
       "      <th>338940</th>\n",
       "      <td>ML24-0201111</td>\n",
       "      <td>72b23171-f6da-4216-975a-75401a70d289</td>\n",
       "      <td>1</td>\n",
       "      <td>2025-08-05 15:28:17</td>\n",
       "      <td>2024-04-26</td>\n",
       "    </tr>\n",
       "    <tr>\n",
       "      <th>338941</th>\n",
       "      <td>MWL007577122</td>\n",
       "      <td>499c478a-4ceb-4aa5-a3eb-7126d7054b01</td>\n",
       "      <td>1</td>\n",
       "      <td>2025-08-05 15:46:24</td>\n",
       "      <td>2021-02-02</td>\n",
       "    </tr>\n",
       "    <tr>\n",
       "      <th>338942</th>\n",
       "      <td>MWL007237748</td>\n",
       "      <td>b21b01ed-eb28-4852-8036-741d0de80f1b</td>\n",
       "      <td>1</td>\n",
       "      <td>2025-08-05 15:52:15</td>\n",
       "      <td>2020-03-10</td>\n",
       "    </tr>\n",
       "  </tbody>\n",
       "</table>\n",
       "<p>338943 rows × 5 columns</p>\n",
       "</div>"
      ],
      "text/plain": [
       "         policy_name                               call_id  contact_indicator  \\\n",
       "0       ML22-0000003  817c8493-27db-4e6b-8f03-bcbfcd51aa28                  0   \n",
       "1       ML22-0000003  e5af692f-1fcf-48ee-91c6-97ae7d8f9367                  0   \n",
       "2       ML22-0000014  d631ead4-a76e-46a7-8060-83b084a82ddb                  1   \n",
       "3       ML22-0000005  4d104dc3-ece8-4226-ac34-404d4af38a9f                  0   \n",
       "4       ML22-0000005  2375400c-833e-4cc2-90b1-95baa946c9c7                  0   \n",
       "...              ...                                   ...                ...   \n",
       "338938  MWL006970368  c583828b-baa7-4455-a092-ae5145445804                  0   \n",
       "338939  MWL008353846  14e6fa5f-1f4b-4c79-ab59-eb564a21a49a                  0   \n",
       "338940  ML24-0201111  72b23171-f6da-4216-975a-75401a70d289                  1   \n",
       "338941  MWL007577122  499c478a-4ceb-4aa5-a3eb-7126d7054b01                  1   \n",
       "338942  MWL007237748  b21b01ed-eb28-4852-8036-741d0de80f1b                  1   \n",
       "\n",
       "            datetime_start  sale_date  \n",
       "0      2022-08-31 10:23:12 2022-08-31  \n",
       "1      2022-08-31 10:24:18 2022-08-31  \n",
       "2      2022-09-02 07:46:01 2022-09-06  \n",
       "3      2022-09-02 10:54:29 2022-09-02  \n",
       "4      2022-09-02 12:21:04 2022-09-02  \n",
       "...                    ...        ...  \n",
       "338938 2025-08-05 15:03:04 2019-10-15  \n",
       "338939 2025-08-05 15:21:30 2022-04-25  \n",
       "338940 2025-08-05 15:28:17 2024-04-26  \n",
       "338941 2025-08-05 15:46:24 2021-02-02  \n",
       "338942 2025-08-05 15:52:15 2020-03-10  \n",
       "\n",
       "[338943 rows x 5 columns]"
      ]
     },
     "execution_count": 83,
     "metadata": {},
     "output_type": "execute_result"
    }
   ],
   "source": [
    "calls_sale_date.merged_df = calls_sale_date.merging(on='policy_name', df_left=calls_sale_date.df1, df_right=calls_sale_date.df2, how='left', col_right=['policy_name','sale_date'])\n",
    "calls_sale_date.merged_df"
   ]
  },
  {
   "cell_type": "code",
   "execution_count": 84,
   "id": "c5abed06",
   "metadata": {},
   "outputs": [],
   "source": [
    "#Selecting only call records after sale date\n",
    "calls_data = calls_sale_date.merged_df[calls_sale_date.merged_df['datetime_start'].dt.strftime('%Y-%m-%d')>calls_sale_date.merged_df['sale_date'].dt.strftime('%Y-%m-%d')]\n"
   ]
  },
  {
   "cell_type": "code",
   "execution_count": 85,
   "id": "ed9dba88",
   "metadata": {},
   "outputs": [
    {
     "data": {
      "application/vnd.microsoft.datawrangler.viewer.v0+json": {
       "columns": [
        {
         "name": "index",
         "rawType": "int64",
         "type": "integer"
        },
        {
         "name": "policy_name",
         "rawType": "object",
         "type": "string"
        },
        {
         "name": "call_id",
         "rawType": "object",
         "type": "string"
        },
        {
         "name": "contact_indicator",
         "rawType": "int64",
         "type": "integer"
        },
        {
         "name": "datetime_start",
         "rawType": "datetime64[ns]",
         "type": "datetime"
        },
        {
         "name": "sale_date",
         "rawType": "datetime64[ns]",
         "type": "datetime"
        }
       ],
       "ref": "11cdd9ae-999a-4313-b440-0d038809131f",
       "rows": [
        [
         "6",
         "ML22-0000005",
         "302c00a7-8968-491d-8572-b7ee66a733af",
         "0",
         "2022-09-05 08:29:38",
         "2022-09-02 00:00:00"
        ],
        [
         "270",
         "ML22-0000180",
         "be3c6b14-e50e-4b95-b3ef-9f6fadb40949",
         "0",
         "2022-09-21 14:59:24",
         "2022-09-16 00:00:00"
        ],
        [
         "274",
         "ML22-0000244",
         "c069d070-6a63-4f13-933c-fdd36e0a9cbf",
         "0",
         "2022-09-21 15:09:21",
         "2022-09-20 00:00:00"
        ],
        [
         "341",
         "ML22-0000098",
         "e1deeacb-d26e-4e11-ab97-a4141ea24a19",
         "0",
         "2022-09-26 07:15:42",
         "2022-09-09 00:00:00"
        ],
        [
         "345",
         "ML22-0000098",
         "2ce916e4-6407-4013-85c1-990026858291",
         "1",
         "2022-09-26 08:39:40",
         "2022-09-09 00:00:00"
        ],
        [
         "347",
         "ML22-0000180",
         "2c5ee275-0b26-4c8f-a65b-7978ba72de58",
         "1",
         "2022-09-26 08:53:34",
         "2022-09-16 00:00:00"
        ],
        [
         "393",
         "ML22-0000102",
         "a0f77c2b-e8ae-4dbd-8600-08b1d1d581b9",
         "1",
         "2022-09-28 10:46:20",
         "2022-09-12 00:00:00"
        ],
        [
         "461",
         "ML22-0000102",
         "b849a96f-1ea7-4b11-ab02-006a3d33ea69",
         "1",
         "2022-09-30 12:56:06",
         "2022-09-12 00:00:00"
        ],
        [
         "464",
         "ML22-0000259",
         "c153e7f9-f227-4ba1-a11f-0d85ed971305",
         "1",
         "2022-09-30 14:32:43",
         "2022-09-21 00:00:00"
        ],
        [
         "465",
         "ML22-0000275",
         "333ed6ce-4a46-4e47-86af-7dabb3c90669",
         "0",
         "2022-09-30 14:50:52",
         "2022-09-21 00:00:00"
        ],
        [
         "466",
         "ML22-0000239",
         "b9e075ba-6e98-4538-8f71-ed9d9b5d289e",
         "0",
         "2022-09-30 14:59:53",
         "2022-09-20 00:00:00"
        ],
        [
         "477",
         "ML22-0000253",
         "f4f7bdfc-8bc0-4d35-aa84-41621d2a526a",
         "1",
         "2022-10-03 06:23:53",
         "2022-09-20 00:00:00"
        ],
        [
         "524",
         "ML22-0000535",
         "158ec826-bb56-4dc2-8f71-ab6d7e5c4786",
         "1",
         "2022-10-04 15:50:17",
         "2022-09-29 00:00:00"
        ],
        [
         "525",
         "ML22-0000173",
         "71c329b4-e482-4485-bf59-c8d294845b97",
         "1",
         "2022-10-04 15:58:06",
         "2022-09-28 00:00:00"
        ],
        [
         "526",
         "ML22-0000296",
         "d406cade-5322-4dae-bbc5-47627fc0425a",
         "0",
         "2022-10-04 16:10:24",
         "2022-09-30 00:00:00"
        ],
        [
         "527",
         "ML22-0000296",
         "48325e6c-4858-4df0-953a-6d6f9074d84d",
         "0",
         "2022-10-04 16:10:34",
         "2022-09-30 00:00:00"
        ],
        [
         "528",
         "ML22-0000296",
         "58faca7e-e7a1-48d9-acca-90204cb4f9d3",
         "0",
         "2022-10-04 16:10:57",
         "2022-09-30 00:00:00"
        ],
        [
         "529",
         "ML22-0000296",
         "9fb5dce7-f718-4c35-bf55-3281853836c0",
         "0",
         "2022-10-04 16:11:04",
         "2022-09-30 00:00:00"
        ],
        [
         "530",
         "ML22-0000296",
         "52c4944a-e221-43c8-a5f9-b079d1743b41",
         "0",
         "2022-10-04 16:13:28",
         "2022-09-30 00:00:00"
        ],
        [
         "531",
         "ML22-0000182",
         "b44b80df-5fb2-4e55-ac79-7896556f5ed1",
         "0",
         "2022-10-04 16:15:53",
         "2022-09-15 00:00:00"
        ],
        [
         "532",
         "ML22-0000182",
         "3af0e4e4-093c-467e-8e9b-cc2ab4954623",
         "0",
         "2022-10-05 06:54:34",
         "2022-09-15 00:00:00"
        ],
        [
         "533",
         "ML22-0000296",
         "24cc774b-0856-4654-ab9b-cb7dc006bb13",
         "1",
         "2022-10-05 06:57:43",
         "2022-09-30 00:00:00"
        ],
        [
         "543",
         "ML22-0000182",
         "05525c4d-b6a2-4943-b4d8-1fb3311a4aa7",
         "0",
         "2022-10-05 09:49:14",
         "2022-09-15 00:00:00"
        ],
        [
         "552",
         "ML22-0000065",
         "b00e8cea-1faf-4dc5-b7f5-a0f2260c7f98",
         "1",
         "2022-10-05 12:45:12",
         "2022-09-08 00:00:00"
        ],
        [
         "578",
         "ML22-0000087",
         "47f9e4e1-58d4-4fae-8386-ced7ab84b0b7",
         "0",
         "2022-10-06 08:06:34",
         "2022-09-09 00:00:00"
        ],
        [
         "581",
         "ML22-0000365",
         "7afa82ca-8d00-404a-bd98-423dcb0f1b23",
         "0",
         "2022-10-06 08:24:20",
         "2022-09-23 00:00:00"
        ],
        [
         "582",
         "ML22-0000602",
         "c9aec678-03c5-4655-a4c0-c0bd56a8b0ff",
         "0",
         "2022-10-06 08:24:59",
         "2022-09-30 00:00:00"
        ],
        [
         "583",
         "ML22-0000381",
         "ff977e9f-6109-4e8b-a919-316cba4aa6b1",
         "1",
         "2022-10-06 08:25:33",
         "2022-09-26 00:00:00"
        ],
        [
         "584",
         "ML22-0000031",
         "5c560b47-830a-4b23-ad67-477f0c593092",
         "0",
         "2022-10-06 08:43:09",
         "2022-09-06 00:00:00"
        ],
        [
         "586",
         "ML22-0000182",
         "e59e434b-29cb-46e5-a413-5ccb6ab8a3d1",
         "0",
         "2022-10-06 09:02:37",
         "2022-09-15 00:00:00"
        ],
        [
         "592",
         "ML22-0000182",
         "063b8fdd-73df-4d79-9a1b-f7699c7ed398",
         "0",
         "2022-10-06 12:07:57",
         "2022-09-15 00:00:00"
        ],
        [
         "607",
         "ML22-0000087",
         "a4158836-a773-4b04-917f-a0ff650aeaef",
         "0",
         "2022-10-06 14:35:04",
         "2022-09-09 00:00:00"
        ],
        [
         "611",
         "ML22-0000602",
         "8cd1c9f6-42d9-46c8-bd55-aec693279763",
         "0",
         "2022-10-06 14:43:19",
         "2022-09-30 00:00:00"
        ],
        [
         "612",
         "ML22-0000365",
         "4836f8b7-16e4-4eac-b3e5-8391401ba9b9",
         "0",
         "2022-10-06 14:43:51",
         "2022-09-23 00:00:00"
        ],
        [
         "653",
         "ML22-0000296",
         "c2389fc2-1043-4e9a-8657-98e87d244693",
         "1",
         "2022-10-10 07:39:21",
         "2022-09-30 00:00:00"
        ],
        [
         "663",
         "ML22-0000275",
         "ef3e8f0a-6e25-44c6-a2b2-1e2f235af5bd",
         "0",
         "2022-10-10 09:38:46",
         "2022-09-21 00:00:00"
        ],
        [
         "669",
         "ML22-0000315",
         "291f6d22-251a-4a9b-b7d4-f970cffc8c03",
         "0",
         "2022-10-10 12:49:41",
         "2022-09-27 00:00:00"
        ],
        [
         "671",
         "ML22-0000182",
         "7b8b8786-be7f-4b0f-88df-b67f3f51c998",
         "0",
         "2022-10-10 15:00:05",
         "2022-09-15 00:00:00"
        ],
        [
         "672",
         "ML22-0000099",
         "574efc64-f3fc-4ece-b831-bec86751a652",
         "1",
         "2022-10-10 15:05:33",
         "2022-09-10 00:00:00"
        ],
        [
         "673",
         "ML22-0000087",
         "e348a681-b107-4af3-b916-f02d282812f7",
         "0",
         "2022-10-10 15:10:37",
         "2022-09-09 00:00:00"
        ],
        [
         "674",
         "ML22-0000153",
         "297d0d35-c3f7-4cc8-8c7c-99cafabcfa0b",
         "1",
         "2022-10-10 15:15:05",
         "2022-09-14 00:00:00"
        ],
        [
         "675",
         "ML22-0000602",
         "e0b742bc-2dcd-4551-90f0-97b29048d230",
         "0",
         "2022-10-10 15:18:31",
         "2022-09-30 00:00:00"
        ],
        [
         "676",
         "ML22-0000365",
         "ee5f492d-b066-46c8-9803-e26d26f126cb",
         "0",
         "2022-10-10 15:19:25",
         "2022-09-23 00:00:00"
        ],
        [
         "677",
         "ML22-0000073",
         "52661a23-b75d-4a50-8983-a10b8cfa7e10",
         "1",
         "2022-10-10 15:21:39",
         "2022-09-08 00:00:00"
        ],
        [
         "689",
         "ML22-0000315",
         "45329af7-98c6-45b5-8921-06d165275fef",
         "1",
         "2022-10-11 10:59:42",
         "2022-09-27 00:00:00"
        ],
        [
         "691",
         "ML22-0000315",
         "e6c05533-5f5c-4cc0-964d-6edbf0402505",
         "0",
         "2022-10-11 12:22:24",
         "2022-09-27 00:00:00"
        ],
        [
         "692",
         "ML22-0000505",
         "86160d0b-2de5-44d9-b8d6-1e3f27361eb2",
         "1",
         "2022-10-11 13:22:43",
         "2022-09-28 00:00:00"
        ],
        [
         "702",
         "ML22-0000315",
         "384fde78-1174-47b7-8e08-cf03b7abd34e",
         "0",
         "2022-10-11 15:48:55",
         "2022-09-27 00:00:00"
        ],
        [
         "703",
         "ML22-0000188",
         "5ae18307-ae92-43e3-a94e-c6477d501f29",
         "0",
         "2022-10-11 15:54:17",
         "2022-09-16 00:00:00"
        ],
        [
         "704",
         "ML22-0000188",
         "829f2a3d-1b99-4a0a-a8ca-94d61bcbbf23",
         "0",
         "2022-10-11 15:54:32",
         "2022-09-16 00:00:00"
        ]
       ],
       "shape": {
        "columns": 5,
        "rows": 257087
       }
      },
      "text/html": [
       "<div>\n",
       "<style scoped>\n",
       "    .dataframe tbody tr th:only-of-type {\n",
       "        vertical-align: middle;\n",
       "    }\n",
       "\n",
       "    .dataframe tbody tr th {\n",
       "        vertical-align: top;\n",
       "    }\n",
       "\n",
       "    .dataframe thead th {\n",
       "        text-align: right;\n",
       "    }\n",
       "</style>\n",
       "<table border=\"1\" class=\"dataframe\">\n",
       "  <thead>\n",
       "    <tr style=\"text-align: right;\">\n",
       "      <th></th>\n",
       "      <th>policy_name</th>\n",
       "      <th>call_id</th>\n",
       "      <th>contact_indicator</th>\n",
       "      <th>datetime_start</th>\n",
       "      <th>sale_date</th>\n",
       "    </tr>\n",
       "  </thead>\n",
       "  <tbody>\n",
       "    <tr>\n",
       "      <th>6</th>\n",
       "      <td>ML22-0000005</td>\n",
       "      <td>302c00a7-8968-491d-8572-b7ee66a733af</td>\n",
       "      <td>0</td>\n",
       "      <td>2022-09-05 08:29:38</td>\n",
       "      <td>2022-09-02</td>\n",
       "    </tr>\n",
       "    <tr>\n",
       "      <th>270</th>\n",
       "      <td>ML22-0000180</td>\n",
       "      <td>be3c6b14-e50e-4b95-b3ef-9f6fadb40949</td>\n",
       "      <td>0</td>\n",
       "      <td>2022-09-21 14:59:24</td>\n",
       "      <td>2022-09-16</td>\n",
       "    </tr>\n",
       "    <tr>\n",
       "      <th>274</th>\n",
       "      <td>ML22-0000244</td>\n",
       "      <td>c069d070-6a63-4f13-933c-fdd36e0a9cbf</td>\n",
       "      <td>0</td>\n",
       "      <td>2022-09-21 15:09:21</td>\n",
       "      <td>2022-09-20</td>\n",
       "    </tr>\n",
       "    <tr>\n",
       "      <th>341</th>\n",
       "      <td>ML22-0000098</td>\n",
       "      <td>e1deeacb-d26e-4e11-ab97-a4141ea24a19</td>\n",
       "      <td>0</td>\n",
       "      <td>2022-09-26 07:15:42</td>\n",
       "      <td>2022-09-09</td>\n",
       "    </tr>\n",
       "    <tr>\n",
       "      <th>345</th>\n",
       "      <td>ML22-0000098</td>\n",
       "      <td>2ce916e4-6407-4013-85c1-990026858291</td>\n",
       "      <td>1</td>\n",
       "      <td>2022-09-26 08:39:40</td>\n",
       "      <td>2022-09-09</td>\n",
       "    </tr>\n",
       "    <tr>\n",
       "      <th>...</th>\n",
       "      <td>...</td>\n",
       "      <td>...</td>\n",
       "      <td>...</td>\n",
       "      <td>...</td>\n",
       "      <td>...</td>\n",
       "    </tr>\n",
       "    <tr>\n",
       "      <th>338938</th>\n",
       "      <td>MWL006970368</td>\n",
       "      <td>c583828b-baa7-4455-a092-ae5145445804</td>\n",
       "      <td>0</td>\n",
       "      <td>2025-08-05 15:03:04</td>\n",
       "      <td>2019-10-15</td>\n",
       "    </tr>\n",
       "    <tr>\n",
       "      <th>338939</th>\n",
       "      <td>MWL008353846</td>\n",
       "      <td>14e6fa5f-1f4b-4c79-ab59-eb564a21a49a</td>\n",
       "      <td>0</td>\n",
       "      <td>2025-08-05 15:21:30</td>\n",
       "      <td>2022-04-25</td>\n",
       "    </tr>\n",
       "    <tr>\n",
       "      <th>338940</th>\n",
       "      <td>ML24-0201111</td>\n",
       "      <td>72b23171-f6da-4216-975a-75401a70d289</td>\n",
       "      <td>1</td>\n",
       "      <td>2025-08-05 15:28:17</td>\n",
       "      <td>2024-04-26</td>\n",
       "    </tr>\n",
       "    <tr>\n",
       "      <th>338941</th>\n",
       "      <td>MWL007577122</td>\n",
       "      <td>499c478a-4ceb-4aa5-a3eb-7126d7054b01</td>\n",
       "      <td>1</td>\n",
       "      <td>2025-08-05 15:46:24</td>\n",
       "      <td>2021-02-02</td>\n",
       "    </tr>\n",
       "    <tr>\n",
       "      <th>338942</th>\n",
       "      <td>MWL007237748</td>\n",
       "      <td>b21b01ed-eb28-4852-8036-741d0de80f1b</td>\n",
       "      <td>1</td>\n",
       "      <td>2025-08-05 15:52:15</td>\n",
       "      <td>2020-03-10</td>\n",
       "    </tr>\n",
       "  </tbody>\n",
       "</table>\n",
       "<p>257087 rows × 5 columns</p>\n",
       "</div>"
      ],
      "text/plain": [
       "         policy_name                               call_id  contact_indicator  \\\n",
       "6       ML22-0000005  302c00a7-8968-491d-8572-b7ee66a733af                  0   \n",
       "270     ML22-0000180  be3c6b14-e50e-4b95-b3ef-9f6fadb40949                  0   \n",
       "274     ML22-0000244  c069d070-6a63-4f13-933c-fdd36e0a9cbf                  0   \n",
       "341     ML22-0000098  e1deeacb-d26e-4e11-ab97-a4141ea24a19                  0   \n",
       "345     ML22-0000098  2ce916e4-6407-4013-85c1-990026858291                  1   \n",
       "...              ...                                   ...                ...   \n",
       "338938  MWL006970368  c583828b-baa7-4455-a092-ae5145445804                  0   \n",
       "338939  MWL008353846  14e6fa5f-1f4b-4c79-ab59-eb564a21a49a                  0   \n",
       "338940  ML24-0201111  72b23171-f6da-4216-975a-75401a70d289                  1   \n",
       "338941  MWL007577122  499c478a-4ceb-4aa5-a3eb-7126d7054b01                  1   \n",
       "338942  MWL007237748  b21b01ed-eb28-4852-8036-741d0de80f1b                  1   \n",
       "\n",
       "            datetime_start  sale_date  \n",
       "6      2022-09-05 08:29:38 2022-09-02  \n",
       "270    2022-09-21 14:59:24 2022-09-16  \n",
       "274    2022-09-21 15:09:21 2022-09-20  \n",
       "341    2022-09-26 07:15:42 2022-09-09  \n",
       "345    2022-09-26 08:39:40 2022-09-09  \n",
       "...                    ...        ...  \n",
       "338938 2025-08-05 15:03:04 2019-10-15  \n",
       "338939 2025-08-05 15:21:30 2022-04-25  \n",
       "338940 2025-08-05 15:28:17 2024-04-26  \n",
       "338941 2025-08-05 15:46:24 2021-02-02  \n",
       "338942 2025-08-05 15:52:15 2020-03-10  \n",
       "\n",
       "[257087 rows x 5 columns]"
      ]
     },
     "execution_count": 85,
     "metadata": {},
     "output_type": "execute_result"
    }
   ],
   "source": [
    "calls_data"
   ]
  },
  {
   "cell_type": "code",
   "execution_count": 86,
   "id": "2cfb7452",
   "metadata": {},
   "outputs": [],
   "source": [
    "calls = DataPreparation(df=calls_data)"
   ]
  },
  {
   "cell_type": "code",
   "execution_count": 87,
   "id": "b7998d3f",
   "metadata": {},
   "outputs": [
    {
     "data": {
      "application/vnd.microsoft.datawrangler.viewer.v0+json": {
       "columns": [
        {
         "name": "index",
         "rawType": "object",
         "type": "string"
        },
        {
         "name": "nulls",
         "rawType": "int64",
         "type": "integer"
        },
        {
         "name": "percentage nulls",
         "rawType": "float64",
         "type": "float"
        }
       ],
       "ref": "29cf7337-acf0-49ad-9d03-79e9f1ae8e0c",
       "rows": [
        [
         "policy_name",
         "0",
         "0.0"
        ],
        [
         "call_id",
         "0",
         "0.0"
        ],
        [
         "contact_indicator",
         "0",
         "0.0"
        ],
        [
         "datetime_start",
         "0",
         "0.0"
        ],
        [
         "sale_date",
         "0",
         "0.0"
        ]
       ],
       "shape": {
        "columns": 2,
        "rows": 5
       }
      },
      "text/html": [
       "<div>\n",
       "<style scoped>\n",
       "    .dataframe tbody tr th:only-of-type {\n",
       "        vertical-align: middle;\n",
       "    }\n",
       "\n",
       "    .dataframe tbody tr th {\n",
       "        vertical-align: top;\n",
       "    }\n",
       "\n",
       "    .dataframe thead th {\n",
       "        text-align: right;\n",
       "    }\n",
       "</style>\n",
       "<table border=\"1\" class=\"dataframe\">\n",
       "  <thead>\n",
       "    <tr style=\"text-align: right;\">\n",
       "      <th></th>\n",
       "      <th>nulls</th>\n",
       "      <th>percentage nulls</th>\n",
       "    </tr>\n",
       "  </thead>\n",
       "  <tbody>\n",
       "    <tr>\n",
       "      <th>policy_name</th>\n",
       "      <td>0</td>\n",
       "      <td>0.0</td>\n",
       "    </tr>\n",
       "    <tr>\n",
       "      <th>call_id</th>\n",
       "      <td>0</td>\n",
       "      <td>0.0</td>\n",
       "    </tr>\n",
       "    <tr>\n",
       "      <th>contact_indicator</th>\n",
       "      <td>0</td>\n",
       "      <td>0.0</td>\n",
       "    </tr>\n",
       "    <tr>\n",
       "      <th>datetime_start</th>\n",
       "      <td>0</td>\n",
       "      <td>0.0</td>\n",
       "    </tr>\n",
       "    <tr>\n",
       "      <th>sale_date</th>\n",
       "      <td>0</td>\n",
       "      <td>0.0</td>\n",
       "    </tr>\n",
       "  </tbody>\n",
       "</table>\n",
       "</div>"
      ],
      "text/plain": [
       "                   nulls  percentage nulls\n",
       "policy_name            0               0.0\n",
       "call_id                0               0.0\n",
       "contact_indicator      0               0.0\n",
       "datetime_start         0               0.0\n",
       "sale_date              0               0.0"
      ]
     },
     "execution_count": 87,
     "metadata": {},
     "output_type": "execute_result"
    }
   ],
   "source": [
    "calls.null_df"
   ]
  },
  {
   "cell_type": "code",
   "execution_count": 88,
   "id": "03620b77",
   "metadata": {},
   "outputs": [
    {
     "data": {
      "application/vnd.microsoft.datawrangler.viewer.v0+json": {
       "columns": [
        {
         "name": "index",
         "rawType": "object",
         "type": "string"
        },
        {
         "name": "no. of unique entries",
         "rawType": "int64",
         "type": "integer"
        }
       ],
       "ref": "192676a8-b9b7-443f-ad5e-ffeec5863b63",
       "rows": [
        [
         "policy_name",
         "35696"
        ],
        [
         "call_id",
         "257087"
        ],
        [
         "contact_indicator",
         "2"
        ],
        [
         "datetime_start",
         "253917"
        ],
        [
         "sale_date",
         "2881"
        ]
       ],
       "shape": {
        "columns": 1,
        "rows": 5
       }
      },
      "text/html": [
       "<div>\n",
       "<style scoped>\n",
       "    .dataframe tbody tr th:only-of-type {\n",
       "        vertical-align: middle;\n",
       "    }\n",
       "\n",
       "    .dataframe tbody tr th {\n",
       "        vertical-align: top;\n",
       "    }\n",
       "\n",
       "    .dataframe thead th {\n",
       "        text-align: right;\n",
       "    }\n",
       "</style>\n",
       "<table border=\"1\" class=\"dataframe\">\n",
       "  <thead>\n",
       "    <tr style=\"text-align: right;\">\n",
       "      <th></th>\n",
       "      <th>no. of unique entries</th>\n",
       "    </tr>\n",
       "  </thead>\n",
       "  <tbody>\n",
       "    <tr>\n",
       "      <th>policy_name</th>\n",
       "      <td>35696</td>\n",
       "    </tr>\n",
       "    <tr>\n",
       "      <th>call_id</th>\n",
       "      <td>257087</td>\n",
       "    </tr>\n",
       "    <tr>\n",
       "      <th>contact_indicator</th>\n",
       "      <td>2</td>\n",
       "    </tr>\n",
       "    <tr>\n",
       "      <th>datetime_start</th>\n",
       "      <td>253917</td>\n",
       "    </tr>\n",
       "    <tr>\n",
       "      <th>sale_date</th>\n",
       "      <td>2881</td>\n",
       "    </tr>\n",
       "  </tbody>\n",
       "</table>\n",
       "</div>"
      ],
      "text/plain": [
       "                   no. of unique entries\n",
       "policy_name                        35696\n",
       "call_id                           257087\n",
       "contact_indicator                      2\n",
       "datetime_start                    253917\n",
       "sale_date                           2881"
      ]
     },
     "execution_count": 88,
     "metadata": {},
     "output_type": "execute_result"
    }
   ],
   "source": [
    "calls.uniq_df"
   ]
  },
  {
   "cell_type": "code",
   "execution_count": 89,
   "id": "84e1b0e9",
   "metadata": {},
   "outputs": [],
   "source": [
    "call_reason_data = pd.DataFrame(pd.read_csv(path+\"call_reason.csv\"))\n",
    "call_ids = list(calls_data['call_id'])\n",
    "call_reason_data = call_reason_data[call_reason_data['call_id'].isin(call_ids)]"
   ]
  },
  {
   "cell_type": "code",
   "execution_count": null,
   "id": "6b09c03c",
   "metadata": {},
   "outputs": [
    {
     "data": {
      "text/plain": [
       "array(['completed', 'no_contact_post_sale', 'debit_date_changed',\n",
       "       'once_off_payment', 'policy_retained', 'unpaid_collect_again',\n",
       "       'duplicate', 'retentions_policy_cancelled', 'cover_reduced',\n",
       "       'policy_cancelled', 'no_changes_requested',\n",
       "       'unreachable_no_answer', 'requested_changes_completed',\n",
       "       'banking_details_changed', nan, 'testing', 'auto_close',\n",
       "       'unpaid_policy_reduced', 'second_debit_scheduled', 'sale',\n",
       "       'sysytem_duplicate', 'policy_reinstated', 'policy_disputed',\n",
       "       'double_debit_scheduled', 'converted',\n",
       "       'cannot_offer_cover_not_the_life_insured', 'no_sale_web_preferred',\n",
       "       'claim_accepted', 'not_interested_no_reason', 'qa_recaptured',\n",
       "       'not_interested_unreachable_after_initial_contact',\n",
       "       'not_interested_does_not_need_cover', 'unreachable_bulk_close',\n",
       "       'unconverted', 'claim', 'unreachable_voicemail_only',\n",
       "       'web_quote_declined', 'qa_risk_absorbed', 'alternative_payer',\n",
       "       'claim_repudiated', 'no_sale_quote_expired', 'free_cover',\n",
       "       'premium_holiday_added', 'cover_increased', 'commencement_moved',\n",
       "       'not_interested_in_a_will', 'unpaid_cancelled_policy',\n",
       "       'additional_lives_update',\n",
       "       'not_interested_competitors_already_covered', 'bmi_update',\n",
       "       'banking_details_update', 'beneficiary_update',\n",
       "       'product_explanation', 'occupation_update',\n",
       "       'sum_assured_disclosed', 'personal_details_update',\n",
       "       'confirm_acceptance', 'sent_to_retentions', 'reading_script',\n",
       "       'note_on_behalf_of_sales_agent', 'educational_level_update',\n",
       "       'unreachable_hung_up', 'income_brackets_update', 'claim_no_claim',\n",
       "       'cannot_offer_cover_age_too_old',\n",
       "       'no_sale_unreachable_after_initial_contact', 'documents_posted',\n",
       "       'web_quote_not_interested_after_follow_up',\n",
       "       'alcohol_intake_update', 'qa_no_risk',\n",
       "       'not_interested_irate_do_not_call', 'no_sale_price_affordability',\n",
       "       'claim_no_docs'], dtype=object)"
      ]
     },
     "execution_count": 92,
     "metadata": {},
     "output_type": "execute_result"
    }
   ],
   "source": [
    "call_reason_data['resolution_code'].unique()\n",
    "# related to cancellation resolution codes ['retentions_policy_cancelled','policy_cancelled','unpaid_cancelled_policy']"
   ]
  },
  {
   "cell_type": "code",
   "execution_count": null,
   "id": "0af5f7f7",
   "metadata": {},
   "outputs": [
    {
     "data": {
      "application/vnd.microsoft.datawrangler.viewer.v0+json": {
       "columns": [
        {
         "name": "index",
         "rawType": "int64",
         "type": "integer"
        },
        {
         "name": "policy_name",
         "rawType": "object",
         "type": "string"
        },
        {
         "name": "call_id",
         "rawType": "object",
         "type": "string"
        },
        {
         "name": "contact_indicator",
         "rawType": "int64",
         "type": "integer"
        },
        {
         "name": "datetime_start",
         "rawType": "object",
         "type": "string"
        },
        {
         "name": "resolution_code",
         "rawType": "object",
         "type": "unknown"
        },
        {
         "name": "code",
         "rawType": "object",
         "type": "unknown"
        }
       ],
       "ref": "f14b92ca-138b-4e7d-b4c8-d824d85cbfa7",
       "rows": [
        [
         "18",
         "ML22-0000005",
         "302c00a7-8968-491d-8572-b7ee66a733af",
         "0",
         "2022-09-05 08:29:38",
         "completed",
         "sale"
        ],
        [
         "1308",
         "ML22-0000180",
         "be3c6b14-e50e-4b95-b3ef-9f6fadb40949",
         "0",
         "2022-09-21 14:59:24",
         "completed",
         "sale"
        ],
        [
         "1319",
         "ML22-0000244",
         "c069d070-6a63-4f13-933c-fdd36e0a9cbf",
         "0",
         "2022-09-21 15:09:21",
         "completed",
         "sale"
        ],
        [
         "1782",
         "ML22-0000098",
         "e1deeacb-d26e-4e11-ab97-a4141ea24a19",
         "0",
         "2022-09-26 07:15:42",
         "completed",
         "sale"
        ],
        [
         "1819",
         "ML22-0000098",
         "2ce916e4-6407-4013-85c1-990026858291",
         "1",
         "2022-09-26 08:39:40",
         "completed",
         "sale"
        ],
        [
         "1822",
         "ML22-0000180",
         "2c5ee275-0b26-4c8f-a65b-7978ba72de58",
         "1",
         "2022-09-26 08:53:34",
         "completed",
         "sale"
        ],
        [
         "2328",
         "ML22-0000102",
         "a0f77c2b-e8ae-4dbd-8600-08b1d1d581b9",
         "1",
         "2022-09-28 10:46:20",
         "completed",
         "sale"
        ],
        [
         "2880",
         "ML22-0000102",
         "b849a96f-1ea7-4b11-ab02-006a3d33ea69",
         "1",
         "2022-09-30 12:56:06",
         "completed",
         "sale"
        ],
        [
         "2901",
         "ML22-0000259",
         "c153e7f9-f227-4ba1-a11f-0d85ed971305",
         "1",
         "2022-09-30 14:32:43",
         "completed",
         "sale"
        ],
        [
         "2905",
         "ML22-0000275",
         "333ed6ce-4a46-4e47-86af-7dabb3c90669",
         "0",
         "2022-09-30 14:50:52",
         "completed",
         "sale"
        ],
        [
         "2906",
         "ML22-0000239",
         "b9e075ba-6e98-4538-8f71-ed9d9b5d289e",
         "0",
         "2022-09-30 14:59:53",
         "completed",
         "sale"
        ],
        [
         "2937",
         "ML22-0000253",
         "f4f7bdfc-8bc0-4d35-aa84-41621d2a526a",
         "1",
         "2022-10-03 06:23:53",
         "completed",
         "sale"
        ],
        [
         "3478",
         "ML22-0000535",
         "158ec826-bb56-4dc2-8f71-ab6d7e5c4786",
         "1",
         "2022-10-04 15:50:17",
         "completed",
         "sale"
        ],
        [
         "3480",
         "ML22-0000173",
         "71c329b4-e482-4485-bf59-c8d294845b97",
         "1",
         "2022-10-04 15:58:06",
         "completed",
         "sale"
        ],
        [
         "3481",
         "ML22-0000296",
         "d406cade-5322-4dae-bbc5-47627fc0425a",
         "0",
         "2022-10-04 16:10:24",
         "completed",
         "sale"
        ],
        [
         "3482",
         "ML22-0000296",
         "48325e6c-4858-4df0-953a-6d6f9074d84d",
         "0",
         "2022-10-04 16:10:34",
         "completed",
         "sale"
        ],
        [
         "3483",
         "ML22-0000296",
         "58faca7e-e7a1-48d9-acca-90204cb4f9d3",
         "0",
         "2022-10-04 16:10:57",
         "completed",
         "sale"
        ],
        [
         "3484",
         "ML22-0000296",
         "9fb5dce7-f718-4c35-bf55-3281853836c0",
         "0",
         "2022-10-04 16:11:04",
         "completed",
         "sale"
        ],
        [
         "3485",
         "ML22-0000296",
         "52c4944a-e221-43c8-a5f9-b079d1743b41",
         "0",
         "2022-10-04 16:13:28",
         "completed",
         "sale"
        ],
        [
         "3486",
         "ML22-0000182",
         "b44b80df-5fb2-4e55-ac79-7896556f5ed1",
         "0",
         "2022-10-04 16:15:53",
         "completed",
         "sale"
        ],
        [
         "3509",
         "ML22-0000182",
         "3af0e4e4-093c-467e-8e9b-cc2ab4954623",
         "0",
         "2022-10-05 06:54:34",
         "completed",
         "sale"
        ],
        [
         "3510",
         "ML22-0000296",
         "24cc774b-0856-4654-ab9b-cb7dc006bb13",
         "1",
         "2022-10-05 06:57:43",
         "completed",
         "sale"
        ],
        [
         "3634",
         "ML22-0000182",
         "05525c4d-b6a2-4943-b4d8-1fb3311a4aa7",
         "0",
         "2022-10-05 09:49:14",
         "completed",
         "sale"
        ],
        [
         "3709",
         "ML22-0000065",
         "b00e8cea-1faf-4dc5-b7f5-a0f2260c7f98",
         "1",
         "2022-10-05 12:45:12",
         "completed",
         "sale"
        ],
        [
         "3895",
         "ML22-0000087",
         "47f9e4e1-58d4-4fae-8386-ced7ab84b0b7",
         "0",
         "2022-10-06 08:06:34",
         "no_contact_post_sale",
         "sale"
        ],
        [
         "3919",
         "ML22-0000365",
         "7afa82ca-8d00-404a-bd98-423dcb0f1b23",
         "0",
         "2022-10-06 08:24:20",
         "no_contact_post_sale",
         "sale"
        ],
        [
         "3922",
         "ML22-0000602",
         "c9aec678-03c5-4655-a4c0-c0bd56a8b0ff",
         "0",
         "2022-10-06 08:24:59",
         "no_contact_post_sale",
         "sale"
        ],
        [
         "3923",
         "ML22-0000381",
         "ff977e9f-6109-4e8b-a919-316cba4aa6b1",
         "1",
         "2022-10-06 08:25:33",
         "debit_date_changed",
         "update"
        ],
        [
         "3943",
         "ML22-0000031",
         "5c560b47-830a-4b23-ad67-477f0c593092",
         "0",
         "2022-10-06 08:43:09",
         "completed",
         "sale"
        ],
        [
         "3966",
         "ML22-0000182",
         "e59e434b-29cb-46e5-a413-5ccb6ab8a3d1",
         "0",
         "2022-10-06 09:02:37",
         "completed",
         "sale"
        ],
        [
         "4061",
         "ML22-0000182",
         "063b8fdd-73df-4d79-9a1b-f7699c7ed398",
         "0",
         "2022-10-06 12:07:57",
         "completed",
         "sale"
        ],
        [
         "4136",
         "ML22-0000087",
         "a4158836-a773-4b04-917f-a0ff650aeaef",
         "0",
         "2022-10-06 14:35:04",
         "no_contact_post_sale",
         "sale"
        ],
        [
         "4149",
         "ML22-0000602",
         "8cd1c9f6-42d9-46c8-bd55-aec693279763",
         "0",
         "2022-10-06 14:43:19",
         "no_contact_post_sale",
         "sale"
        ],
        [
         "4150",
         "ML22-0000365",
         "4836f8b7-16e4-4eac-b3e5-8391401ba9b9",
         "0",
         "2022-10-06 14:43:51",
         "no_contact_post_sale",
         "sale"
        ],
        [
         "4687",
         "ML22-0000296",
         "c2389fc2-1043-4e9a-8657-98e87d244693",
         "1",
         "2022-10-10 07:39:21",
         "completed",
         "sale"
        ],
        [
         "4779",
         "ML22-0000275",
         "ef3e8f0a-6e25-44c6-a2b2-1e2f235af5bd",
         "0",
         "2022-10-10 09:38:46",
         "completed",
         "sale"
        ],
        [
         "4862",
         "ML22-0000315",
         "291f6d22-251a-4a9b-b7d4-f970cffc8c03",
         "0",
         "2022-10-10 12:49:41",
         "completed",
         "sale"
        ],
        [
         "4937",
         "ML22-0000182",
         "7b8b8786-be7f-4b0f-88df-b67f3f51c998",
         "0",
         "2022-10-10 15:00:05",
         "completed",
         "sale"
        ],
        [
         "4941",
         "ML22-0000099",
         "574efc64-f3fc-4ece-b831-bec86751a652",
         "1",
         "2022-10-10 15:05:33",
         "completed",
         "sale"
        ],
        [
         "4945",
         "ML22-0000087",
         "e348a681-b107-4af3-b916-f02d282812f7",
         "0",
         "2022-10-10 15:10:37",
         "no_contact_post_sale",
         "sale"
        ],
        [
         "4954",
         "ML22-0000153",
         "297d0d35-c3f7-4cc8-8c7c-99cafabcfa0b",
         "1",
         "2022-10-10 15:15:05",
         "completed",
         "sale"
        ],
        [
         "4957",
         "ML22-0000602",
         "e0b742bc-2dcd-4551-90f0-97b29048d230",
         "0",
         "2022-10-10 15:18:31",
         "no_contact_post_sale",
         "sale"
        ],
        [
         "4958",
         "ML22-0000365",
         "ee5f492d-b066-46c8-9803-e26d26f126cb",
         "0",
         "2022-10-10 15:19:25",
         "no_contact_post_sale",
         "sale"
        ],
        [
         "4961",
         "ML22-0000073",
         "52661a23-b75d-4a50-8983-a10b8cfa7e10",
         "1",
         "2022-10-10 15:21:39",
         "once_off_payment",
         "payment"
        ],
        [
         "5152",
         "ML22-0000315",
         "45329af7-98c6-45b5-8921-06d165275fef",
         "1",
         "2022-10-11 10:59:42",
         "completed",
         "sale"
        ],
        [
         "5172",
         "ML22-0000315",
         "e6c05533-5f5c-4cc0-964d-6edbf0402505",
         "0",
         "2022-10-11 12:22:24",
         "completed",
         "sale"
        ],
        [
         "5213",
         "ML22-0000505",
         "86160d0b-2de5-44d9-b8d6-1e3f27361eb2",
         "1",
         "2022-10-11 13:22:43",
         "completed",
         "sale"
        ],
        [
         "5315",
         "ML22-0000315",
         "384fde78-1174-47b7-8e08-cf03b7abd34e",
         "0",
         "2022-10-11 15:48:55",
         "completed",
         "sale"
        ],
        [
         "5321",
         "ML22-0000188",
         "5ae18307-ae92-43e3-a94e-c6477d501f29",
         "0",
         "2022-10-11 15:54:17",
         "completed",
         "sale"
        ],
        [
         "5322",
         "ML22-0000188",
         "829f2a3d-1b99-4a0a-a8ca-94d61bcbbf23",
         "0",
         "2022-10-11 15:54:32",
         "completed",
         "sale"
        ]
       ],
       "shape": {
        "columns": 6,
        "rows": 257085
       }
      },
      "text/html": [
       "<div>\n",
       "<style scoped>\n",
       "    .dataframe tbody tr th:only-of-type {\n",
       "        vertical-align: middle;\n",
       "    }\n",
       "\n",
       "    .dataframe tbody tr th {\n",
       "        vertical-align: top;\n",
       "    }\n",
       "\n",
       "    .dataframe thead th {\n",
       "        text-align: right;\n",
       "    }\n",
       "</style>\n",
       "<table border=\"1\" class=\"dataframe\">\n",
       "  <thead>\n",
       "    <tr style=\"text-align: right;\">\n",
       "      <th></th>\n",
       "      <th>policy_name</th>\n",
       "      <th>call_id</th>\n",
       "      <th>contact_indicator</th>\n",
       "      <th>datetime_start</th>\n",
       "      <th>resolution_code</th>\n",
       "      <th>code</th>\n",
       "    </tr>\n",
       "  </thead>\n",
       "  <tbody>\n",
       "    <tr>\n",
       "      <th>18</th>\n",
       "      <td>ML22-0000005</td>\n",
       "      <td>302c00a7-8968-491d-8572-b7ee66a733af</td>\n",
       "      <td>0</td>\n",
       "      <td>2022-09-05 08:29:38</td>\n",
       "      <td>completed</td>\n",
       "      <td>sale</td>\n",
       "    </tr>\n",
       "    <tr>\n",
       "      <th>1308</th>\n",
       "      <td>ML22-0000180</td>\n",
       "      <td>be3c6b14-e50e-4b95-b3ef-9f6fadb40949</td>\n",
       "      <td>0</td>\n",
       "      <td>2022-09-21 14:59:24</td>\n",
       "      <td>completed</td>\n",
       "      <td>sale</td>\n",
       "    </tr>\n",
       "    <tr>\n",
       "      <th>1319</th>\n",
       "      <td>ML22-0000244</td>\n",
       "      <td>c069d070-6a63-4f13-933c-fdd36e0a9cbf</td>\n",
       "      <td>0</td>\n",
       "      <td>2022-09-21 15:09:21</td>\n",
       "      <td>completed</td>\n",
       "      <td>sale</td>\n",
       "    </tr>\n",
       "    <tr>\n",
       "      <th>1782</th>\n",
       "      <td>ML22-0000098</td>\n",
       "      <td>e1deeacb-d26e-4e11-ab97-a4141ea24a19</td>\n",
       "      <td>0</td>\n",
       "      <td>2022-09-26 07:15:42</td>\n",
       "      <td>completed</td>\n",
       "      <td>sale</td>\n",
       "    </tr>\n",
       "    <tr>\n",
       "      <th>1819</th>\n",
       "      <td>ML22-0000098</td>\n",
       "      <td>2ce916e4-6407-4013-85c1-990026858291</td>\n",
       "      <td>1</td>\n",
       "      <td>2022-09-26 08:39:40</td>\n",
       "      <td>completed</td>\n",
       "      <td>sale</td>\n",
       "    </tr>\n",
       "    <tr>\n",
       "      <th>...</th>\n",
       "      <td>...</td>\n",
       "      <td>...</td>\n",
       "      <td>...</td>\n",
       "      <td>...</td>\n",
       "      <td>...</td>\n",
       "      <td>...</td>\n",
       "    </tr>\n",
       "    <tr>\n",
       "      <th>946327</th>\n",
       "      <td>MWL006970368</td>\n",
       "      <td>c583828b-baa7-4455-a092-ae5145445804</td>\n",
       "      <td>0</td>\n",
       "      <td>2025-08-05 15:03:04</td>\n",
       "      <td>completed</td>\n",
       "      <td>sale</td>\n",
       "    </tr>\n",
       "    <tr>\n",
       "      <th>946364</th>\n",
       "      <td>MWL008353846</td>\n",
       "      <td>14e6fa5f-1f4b-4c79-ab59-eb564a21a49a</td>\n",
       "      <td>0</td>\n",
       "      <td>2025-08-05 15:21:30</td>\n",
       "      <td>completed</td>\n",
       "      <td>sale</td>\n",
       "    </tr>\n",
       "    <tr>\n",
       "      <th>946377</th>\n",
       "      <td>ML24-0201111</td>\n",
       "      <td>72b23171-f6da-4216-975a-75401a70d289</td>\n",
       "      <td>1</td>\n",
       "      <td>2025-08-05 15:28:17</td>\n",
       "      <td>completed</td>\n",
       "      <td>sale</td>\n",
       "    </tr>\n",
       "    <tr>\n",
       "      <th>946401</th>\n",
       "      <td>MWL007577122</td>\n",
       "      <td>499c478a-4ceb-4aa5-a3eb-7126d7054b01</td>\n",
       "      <td>1</td>\n",
       "      <td>2025-08-05 15:46:24</td>\n",
       "      <td>completed</td>\n",
       "      <td>sale</td>\n",
       "    </tr>\n",
       "    <tr>\n",
       "      <th>946404</th>\n",
       "      <td>MWL007237748</td>\n",
       "      <td>b21b01ed-eb28-4852-8036-741d0de80f1b</td>\n",
       "      <td>1</td>\n",
       "      <td>2025-08-05 15:52:15</td>\n",
       "      <td>completed</td>\n",
       "      <td>sale</td>\n",
       "    </tr>\n",
       "  </tbody>\n",
       "</table>\n",
       "<p>257085 rows × 6 columns</p>\n",
       "</div>"
      ],
      "text/plain": [
       "         policy_name                               call_id  contact_indicator  \\\n",
       "18      ML22-0000005  302c00a7-8968-491d-8572-b7ee66a733af                  0   \n",
       "1308    ML22-0000180  be3c6b14-e50e-4b95-b3ef-9f6fadb40949                  0   \n",
       "1319    ML22-0000244  c069d070-6a63-4f13-933c-fdd36e0a9cbf                  0   \n",
       "1782    ML22-0000098  e1deeacb-d26e-4e11-ab97-a4141ea24a19                  0   \n",
       "1819    ML22-0000098  2ce916e4-6407-4013-85c1-990026858291                  1   \n",
       "...              ...                                   ...                ...   \n",
       "946327  MWL006970368  c583828b-baa7-4455-a092-ae5145445804                  0   \n",
       "946364  MWL008353846  14e6fa5f-1f4b-4c79-ab59-eb564a21a49a                  0   \n",
       "946377  ML24-0201111  72b23171-f6da-4216-975a-75401a70d289                  1   \n",
       "946401  MWL007577122  499c478a-4ceb-4aa5-a3eb-7126d7054b01                  1   \n",
       "946404  MWL007237748  b21b01ed-eb28-4852-8036-741d0de80f1b                  1   \n",
       "\n",
       "             datetime_start resolution_code  code  \n",
       "18      2022-09-05 08:29:38       completed  sale  \n",
       "1308    2022-09-21 14:59:24       completed  sale  \n",
       "1319    2022-09-21 15:09:21       completed  sale  \n",
       "1782    2022-09-26 07:15:42       completed  sale  \n",
       "1819    2022-09-26 08:39:40       completed  sale  \n",
       "...                     ...             ...   ...  \n",
       "946327  2025-08-05 15:03:04       completed  sale  \n",
       "946364  2025-08-05 15:21:30       completed  sale  \n",
       "946377  2025-08-05 15:28:17       completed  sale  \n",
       "946401  2025-08-05 15:46:24       completed  sale  \n",
       "946404  2025-08-05 15:52:15       completed  sale  \n",
       "\n",
       "[257085 rows x 6 columns]"
      ]
     },
     "execution_count": 94,
     "metadata": {},
     "output_type": "execute_result"
    }
   ],
   "source": [
    "# creating buckets for resolution code to hot-one encode it and not have too many columns\n",
    "\n",
    "def res_code_categories(code):\n",
    "    if code in ['debit_date_changed', 'cover_reduced','requested_changes_completed','banking_details_changed','alternative_payer','cover_increased','commencement_moved',\n",
    "                'additional_lives_update','bmi_update','banking_details_update', 'beneficiary_update','occupation_update','personal_details_update',\n",
    "                 'educational_level_update','income_brackets_update','alcohol_intake_update']:\n",
    "        return \"update\"\n",
    "    elif code in ['claim_no_docs','claim_no_claim','claim_repudiated', 'claim','claim_accepted']:\n",
    "        return \"claims\"\n",
    "    elif code in['qa_no_risk','qa_risk_absorbed',  'qa_recaptured']:\n",
    "        return \"QA\"\n",
    "    elif code in ['sent_to_retentions', 'free_cover','premium_holiday_added','unpaid_policy_reduced', 'second_debit_scheduled','once_off_payment', 'policy_retained', 'unpaid_collect_again',\n",
    "                  'policy_reinstated', 'policy_disputed','double_debit_scheduled']:\n",
    "        return \"payment\"\n",
    "    elif code in ['completed', 'no_contact_post_sale','product_explanation', 'sum_assured_disclosed', 'confirm_acceptance','converted', ]:\n",
    "        return \"sale\"\n",
    "    elif code in ['duplicate', 'no_changes_requested','unreachable_no_answer', 'testing', 'auto_close', 'sale','sysytem_duplicate', 'cannot_offer_cover_not_the_life_insured', 'no_sale_web_preferred',\n",
    "       'not_interested_no_reason','not_interested_unreachable_after_initial_contact','not_interested_does_not_need_cover', 'unreachable_bulk_close',\n",
    "       'unconverted',  'unreachable_voicemail_only','web_quote_declined', 'no_sale_quote_expired',  'not_interested_in_a_will','not_interested_competitors_already_covered', \n",
    "       'reading_script','note_on_behalf_of_sales_agent','unreachable_hung_up',  'cannot_offer_cover_age_too_old','no_sale_unreachable_after_initial_contact', 'documents_posted',\n",
    "       'web_quote_not_interested_after_follow_up', 'not_interested_irate_do_not_call', 'no_sale_price_affordability']:\n",
    "        return \"other\"\n",
    "    else:\n",
    "        return np.nan\n",
    "    \n",
    "call_reason_data['res_code']= call_reason_data['resolution_code'].apply(res_code_categories)\n",
    "call_reason_data\n"
   ]
  },
  {
   "cell_type": "code",
   "execution_count": null,
   "id": "71c65141",
   "metadata": {},
   "outputs": [],
   "source": [
    "#!!!!!!!!!!!!!!!!!!!!!!!!!!!!!!!!!!!!!!!!!!!!!!!!!!!!!!!!!!!!!!!!!!!!!\n",
    "# NOTE: calls data might introduct target leakage due to calls being made to policyholders when payments are not made or when cancellation is requested.\n",
    "#!!!!!!!!!!!!!!!!!!!!!!!!!!!!!!!!!!!!!!!!!!!!!!!!!!!!!!!!!!!!!!!!!!!!!!!!!!!!\n",
    "\n",
    "agg_dict={'# calls': pd.NamedAgg(column='call_id', aggfunc=pd.Series.nunique),\n",
    "          '# calls contacted': pd.NamedAgg(column='contact_indicator', aggfunc='sum')\n",
    "          }\n",
    "\n",
    "calls.aggregation(groupby_cols=['policy_name'],cat_cols=['res_code'] ,agg_dict_not_cat_cols=agg_dict)\n",
    "calls.agg_df"
   ]
  },
  {
   "cell_type": "markdown",
   "id": "d198e9b6",
   "metadata": {},
   "source": [
    "## Payments data"
   ]
  },
  {
   "cell_type": "code",
   "execution_count": null,
   "id": "9a18768f",
   "metadata": {},
   "outputs": [],
   "source": []
  },
  {
   "cell_type": "code",
   "execution_count": 6,
   "id": "f6df280d",
   "metadata": {},
   "outputs": [],
   "source": [
    "data = multi_data_ops(file_list=[],df1=calls_data, df2=sales_data,df3=policy_data,df4=payment_data)"
   ]
  },
  {
   "cell_type": "code",
   "execution_count": 8,
   "id": "2554f825",
   "metadata": {},
   "outputs": [
    {
     "data": {
      "text/plain": [
       "{'df1 | df2': set(),\n",
       " 'df1 | df3': {'policy_name'},\n",
       " 'df1 | df4': set(),\n",
       " 'df2 | df3': {'campaign_name', 'policy_id'},\n",
       " 'df2 | df4': {'policy_id', 'sales_channel'},\n",
       " 'df3 | df4': {'anniversary_due',\n",
       "  'cancellation_effective_date',\n",
       "  'cover_start_date',\n",
       "  'cover_start_date_original',\n",
       "  'payment_type',\n",
       "  'policy_id'}}"
      ]
     },
     "execution_count": 8,
     "metadata": {},
     "output_type": "execute_result"
    }
   ],
   "source": [
    "data.col_intersect"
   ]
  },
  {
   "cell_type": "markdown",
   "id": "4decbe04",
   "metadata": {},
   "source": [
    "# Aggregating calls data"
   ]
  },
  {
   "cell_type": "code",
   "execution_count": 20,
   "id": "a0df0be2",
   "metadata": {},
   "outputs": [],
   "source": [
    "df = pd.DataFrame({'id':['a','a','a','b','b','c','c','c','c','c'],'A':[1,1,1,2,2,3,3,3,3,3],'B':[0,0,1,1,3,1,2,3,4,5]})"
   ]
  },
  {
   "cell_type": "code",
   "execution_count": 22,
   "id": "f82975e9",
   "metadata": {},
   "outputs": [
    {
     "data": {
      "application/vnd.microsoft.datawrangler.viewer.v0+json": {
       "columns": [
        {
         "name": "index",
         "rawType": "int64",
         "type": "integer"
        },
        {
         "name": "id",
         "rawType": "object",
         "type": "string"
        },
        {
         "name": "A",
         "rawType": "int64",
         "type": "integer"
        },
        {
         "name": "B",
         "rawType": "int64",
         "type": "integer"
        }
       ],
       "ref": "60098edd-d428-49f0-a979-a8987554177d",
       "rows": [
        [
         "4",
         "b",
         "2",
         "3"
        ],
        [
         "8",
         "c",
         "3",
         "4"
        ],
        [
         "9",
         "c",
         "3",
         "5"
        ]
       ],
       "shape": {
        "columns": 3,
        "rows": 3
       }
      },
      "text/html": [
       "<div>\n",
       "<style scoped>\n",
       "    .dataframe tbody tr th:only-of-type {\n",
       "        vertical-align: middle;\n",
       "    }\n",
       "\n",
       "    .dataframe tbody tr th {\n",
       "        vertical-align: top;\n",
       "    }\n",
       "\n",
       "    .dataframe thead th {\n",
       "        text-align: right;\n",
       "    }\n",
       "</style>\n",
       "<table border=\"1\" class=\"dataframe\">\n",
       "  <thead>\n",
       "    <tr style=\"text-align: right;\">\n",
       "      <th></th>\n",
       "      <th>id</th>\n",
       "      <th>A</th>\n",
       "      <th>B</th>\n",
       "    </tr>\n",
       "  </thead>\n",
       "  <tbody>\n",
       "    <tr>\n",
       "      <th>4</th>\n",
       "      <td>b</td>\n",
       "      <td>2</td>\n",
       "      <td>3</td>\n",
       "    </tr>\n",
       "    <tr>\n",
       "      <th>8</th>\n",
       "      <td>c</td>\n",
       "      <td>3</td>\n",
       "      <td>4</td>\n",
       "    </tr>\n",
       "    <tr>\n",
       "      <th>9</th>\n",
       "      <td>c</td>\n",
       "      <td>3</td>\n",
       "      <td>5</td>\n",
       "    </tr>\n",
       "  </tbody>\n",
       "</table>\n",
       "</div>"
      ],
      "text/plain": [
       "  id  A  B\n",
       "4  b  2  3\n",
       "8  c  3  4\n",
       "9  c  3  5"
      ]
     },
     "execution_count": 22,
     "metadata": {},
     "output_type": "execute_result"
    }
   ],
   "source": [
    "df[df['B']>df['A']]"
   ]
  },
  {
   "cell_type": "code",
   "execution_count": null,
   "id": "2f5667d0",
   "metadata": {},
   "outputs": [],
   "source": [
    "#got to merge first to get cover_start date in the calls_data!!!!!!!!!!!!!!!!!!!!!!!!!!!!!!!!!!!!!!!!!\n",
    "#data[calls_data['datetime_start']>policy_data['cover_start_date']]"
   ]
  },
  {
   "cell_type": "code",
   "execution_count": null,
   "id": "ca258ca5",
   "metadata": {},
   "outputs": [],
   "source": [
    "calls = DataPreparation(df=calls_data[calls_data['policy_name'].isin(pol_names)])"
   ]
  },
  {
   "cell_type": "code",
   "execution_count": 10,
   "id": "9925265f",
   "metadata": {},
   "outputs": [
    {
     "data": {
      "application/vnd.microsoft.datawrangler.viewer.v0+json": {
       "columns": [
        {
         "name": "index",
         "rawType": "object",
         "type": "string"
        },
        {
         "name": "nulls",
         "rawType": "int64",
         "type": "integer"
        },
        {
         "name": "percentage nulls",
         "rawType": "float64",
         "type": "float"
        }
       ],
       "ref": "dab8be09-29cd-4197-b784-8e97966d5c83",
       "rows": [
        [
         "policy_name",
         "0",
         "0.0"
        ],
        [
         "call_id",
         "0",
         "0.0"
        ],
        [
         "contact_indicator",
         "0",
         "0.0"
        ],
        [
         "datetime_start",
         "0",
         "0.0"
        ]
       ],
       "shape": {
        "columns": 2,
        "rows": 4
       }
      },
      "text/html": [
       "<div>\n",
       "<style scoped>\n",
       "    .dataframe tbody tr th:only-of-type {\n",
       "        vertical-align: middle;\n",
       "    }\n",
       "\n",
       "    .dataframe tbody tr th {\n",
       "        vertical-align: top;\n",
       "    }\n",
       "\n",
       "    .dataframe thead th {\n",
       "        text-align: right;\n",
       "    }\n",
       "</style>\n",
       "<table border=\"1\" class=\"dataframe\">\n",
       "  <thead>\n",
       "    <tr style=\"text-align: right;\">\n",
       "      <th></th>\n",
       "      <th>nulls</th>\n",
       "      <th>percentage nulls</th>\n",
       "    </tr>\n",
       "  </thead>\n",
       "  <tbody>\n",
       "    <tr>\n",
       "      <th>policy_name</th>\n",
       "      <td>0</td>\n",
       "      <td>0.0</td>\n",
       "    </tr>\n",
       "    <tr>\n",
       "      <th>call_id</th>\n",
       "      <td>0</td>\n",
       "      <td>0.0</td>\n",
       "    </tr>\n",
       "    <tr>\n",
       "      <th>contact_indicator</th>\n",
       "      <td>0</td>\n",
       "      <td>0.0</td>\n",
       "    </tr>\n",
       "    <tr>\n",
       "      <th>datetime_start</th>\n",
       "      <td>0</td>\n",
       "      <td>0.0</td>\n",
       "    </tr>\n",
       "  </tbody>\n",
       "</table>\n",
       "</div>"
      ],
      "text/plain": [
       "                   nulls  percentage nulls\n",
       "policy_name            0               0.0\n",
       "call_id                0               0.0\n",
       "contact_indicator      0               0.0\n",
       "datetime_start         0               0.0"
      ]
     },
     "execution_count": 10,
     "metadata": {},
     "output_type": "execute_result"
    }
   ],
   "source": [
    "calls.null_df"
   ]
  },
  {
   "cell_type": "code",
   "execution_count": 11,
   "id": "09d585ad",
   "metadata": {},
   "outputs": [
    {
     "data": {
      "application/vnd.microsoft.datawrangler.viewer.v0+json": {
       "columns": [
        {
         "name": "index",
         "rawType": "object",
         "type": "string"
        },
        {
         "name": "no. of unique entries",
         "rawType": "int64",
         "type": "integer"
        }
       ],
       "ref": "7e195cdc-c71b-4436-9bb8-71e61f2bb1e2",
       "rows": [
        [
         "policy_name",
         "110054"
        ],
        [
         "call_id",
         "946122"
        ],
        [
         "contact_indicator",
         "2"
        ],
        [
         "datetime_start",
         "923125"
        ]
       ],
       "shape": {
        "columns": 1,
        "rows": 4
       }
      },
      "text/html": [
       "<div>\n",
       "<style scoped>\n",
       "    .dataframe tbody tr th:only-of-type {\n",
       "        vertical-align: middle;\n",
       "    }\n",
       "\n",
       "    .dataframe tbody tr th {\n",
       "        vertical-align: top;\n",
       "    }\n",
       "\n",
       "    .dataframe thead th {\n",
       "        text-align: right;\n",
       "    }\n",
       "</style>\n",
       "<table border=\"1\" class=\"dataframe\">\n",
       "  <thead>\n",
       "    <tr style=\"text-align: right;\">\n",
       "      <th></th>\n",
       "      <th>no. of unique entries</th>\n",
       "    </tr>\n",
       "  </thead>\n",
       "  <tbody>\n",
       "    <tr>\n",
       "      <th>policy_name</th>\n",
       "      <td>110054</td>\n",
       "    </tr>\n",
       "    <tr>\n",
       "      <th>call_id</th>\n",
       "      <td>946122</td>\n",
       "    </tr>\n",
       "    <tr>\n",
       "      <th>contact_indicator</th>\n",
       "      <td>2</td>\n",
       "    </tr>\n",
       "    <tr>\n",
       "      <th>datetime_start</th>\n",
       "      <td>923125</td>\n",
       "    </tr>\n",
       "  </tbody>\n",
       "</table>\n",
       "</div>"
      ],
      "text/plain": [
       "                   no. of unique entries\n",
       "policy_name                       110054\n",
       "call_id                           946122\n",
       "contact_indicator                      2\n",
       "datetime_start                    923125"
      ]
     },
     "execution_count": 11,
     "metadata": {},
     "output_type": "execute_result"
    }
   ],
   "source": [
    "calls.uniq_df"
   ]
  }
 ],
 "metadata": {
  "kernelspec": {
   "display_name": "Python 3",
   "language": "python",
   "name": "python3"
  },
  "language_info": {
   "codemirror_mode": {
    "name": "ipython",
    "version": 3
   },
   "file_extension": ".py",
   "mimetype": "text/x-python",
   "name": "python",
   "nbconvert_exporter": "python",
   "pygments_lexer": "ipython3",
   "version": "3.12.6"
  }
 },
 "nbformat": 4,
 "nbformat_minor": 5
}
