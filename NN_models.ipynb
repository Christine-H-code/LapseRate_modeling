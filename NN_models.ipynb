{
 "cells": [
  {
   "cell_type": "markdown",
   "id": "66e98e93",
   "metadata": {},
   "source": [
    "# imports"
   ]
  },
  {
   "cell_type": "code",
   "execution_count": 1,
   "id": "4820c26a",
   "metadata": {},
   "outputs": [],
   "source": [
    "import sys\n",
    "sys.path.append(\"C:/Users/E1005279/OneDrive - Sanlam Life Insurance Limited/MWL/MWLrepo/MiWayLife2/Data_Analysis_Package\")\n",
    "from data_preparation import DataPreparation, Analysis, multi_data_ops\n",
    "import data_operations as do\n",
    "\n",
    "import pandas as pd\n",
    "import matplotlib.pyplot as plt\n",
    "import seaborn as sns\n",
    "import numpy as np\n",
    "from datetime import datetime\n",
    "\n",
    "import data_transforations as data_tr\n",
    "\n",
    "path=\"C:/Users/E1005279/OneDrive - Sanlam Life Insurance Limited/MWL/Lapse Rate Projections/Data/Data2/\"\n",
    "## Models\n",
    "from sklearn.linear_model import Lasso\n",
    "from sklearn.model_selection import RandomizedSearchCV, train_test_split\n",
    "from scipy.stats import randint\n",
    "from sklearn.model_selection import GridSearchCV, KFold\n",
    "from scipy.stats import loguniform\n",
    "\n",
    "from sklearn.ensemble import RandomForestClassifier,GradientBoostingClassifier\n",
    "\n",
    "from sklearn.svm import SVC\n",
    "\n",
    "from sklearn.neural_network import MLPClassifier\n",
    "\n",
    "\n",
    "\n",
    "\n",
    "## Scoring\n",
    "from sklearn.model_selection import cross_val_score\n",
    "from sklearn.metrics import fbeta_score, make_scorer\n",
    "\n",
    "from sklearn.metrics import accuracy_score, confusion_matrix, ConfusionMatrixDisplay\n",
    "### Functions\n",
    "def lead_prov_grouping(prov):\n",
    "    if prov in ['Recycled Freemium', 'SPL-Freemium', 'Sold Freemium','Quoted Freemium', 'ABBY Freemium', 'Freemium','CellC-Freemium']:\n",
    "        return 'Freemium'\n",
    "    elif prov in ['LeadWarming', 'LeadWarming TN ', 'Lead Warming']:\n",
    "        return 'LeadWarming'\n",
    "    elif prov in ['BLDS 101', 'BLDS']:\n",
    "        return 'BLDS'\n",
    "    elif prov in ['SD Phone Leads','MWL Phone Leads', 'iTalk External Call Center']:\n",
    "        return 'Phone leads'\n",
    "    elif prov in ['Sanlam Direct Cape Referral', 'SDC-Referral', 'MWL Referrals']:\n",
    "        return 'Refferals'\n",
    "    elif prov in ['Website',  'Bing', 'SD Web','MWL Web', 'Sanlam Digital','GoogleDisplay','GoogleSearch']:\n",
    "        return 'Web'\n",
    "    elif prov in ['MiWayLife', 'Sure_Strat_MWL','Existing Client','Reach_Republic_MWL', 'Newsletter']:\n",
    "        return 'MWL'\n",
    "    elif prov in ['Lead-D365-Production', 'Sanlam-Lead-D365-Production']:\n",
    "        return 'D365'\n",
    "    elif prov in ['Recycled','Facebook', 'Reinstatement', 'Vicidial','Wills', 'Affiliate', 'Sanlam Direct Cape', 'LiveLeads','SEO',\n",
    "       'Competitions', 'SDC HIV','Olico']:\n",
    "        return 'Other'\n",
    "    else:\n",
    "        return 'Other'\n",
    "\n"
   ]
  },
  {
   "cell_type": "code",
   "execution_count": 2,
   "id": "3a4e4838",
   "metadata": {},
   "outputs": [],
   "source": [
    "def data_prep(data,target,features=[],filter=None,column_excl = ['1month_lapse', '3month_lapse', '6month_lapse', 'ann_lapse', 'lapse_flag', 'policy_name','lead_provider_name','campaign_name','occupation']):\n",
    "\n",
    "    if filter is not None:\n",
    "        data = data[data[filter].notnull()].copy()\n",
    "    # impute missing values\n",
    "    # impute missing values\n",
    "    df=DataPreparation(df=data)\n",
    "    imp_dict={'optionality': 'mode',\n",
    "              'occupation':'none'}\n",
    "    df.imputating_nulls(imp_dict=imp_dict)\n",
    "    data=df.imputed_df.copy()\n",
    "    #grouping lead-provider_name\n",
    "    data['lead_provider_groups']= data['lead_provider_name'].apply(lead_prov_grouping)\n",
    "    data=pd.get_dummies(data,columns=['education', 'gender', 'smoker_status',\n",
    "       'sold_socio_economic_class', 'occupation_class',\n",
    "       'lead_provider_groups', 'lead_type', 'sales_channel','hiv_group', 'securitygroup_id', 'age_band',\n",
    "       'income_band', 'last_benefit_amount_band', 'cover_amount_full_band',\n",
    "       'total_funeral_premium_band', 'original_premium_band','underwriting_outcome'], dtype=int)\n",
    "    if features == []:\n",
    "        cols=set(data.columns)\n",
    "        features=list(cols.difference(column_excl))\n",
    "         \n",
    "    X = data[features].copy()\n",
    "    Y = data[target].astype(int).copy()\n",
    "    # Train Test Split\n",
    "    X_train, X_test, y_train, y_test = train_test_split(X, Y, test_size=0.20, random_state=42, stratify=Y)\n",
    "\n",
    "    return X_train, X_test, y_train, y_test\n"
   ]
  },
  {
   "cell_type": "code",
   "execution_count": 3,
   "id": "99b87f14",
   "metadata": {},
   "outputs": [],
   "source": [
    "# imports\n",
    "import sys\n",
    "sys.path.append(\"C:/Users/E1005279/OneDrive - Sanlam Life Insurance Limited/MWL/MWLrepo/MiWayLife2/Data_Analysis_Package\")\n",
    "from data_preparation import DataPreparation, Analysis, multi_data_ops\n",
    "import data_operations as do\n",
    "\n",
    "import pandas as pd\n",
    "import matplotlib.pyplot as plt\n",
    "import seaborn as sns\n",
    "import numpy as np\n",
    "from datetime import datetime\n",
    "\n",
    "import data_transforations as data_tr\n",
    "\n",
    "path=\"C:/Users/E1005279/OneDrive - Sanlam Life Insurance Limited/MWL/Lapse Rate Projections/Data/Data2/\"\n",
    "## Models\n",
    "from sklearn.linear_model import Lasso\n",
    "from sklearn.model_selection import RandomizedSearchCV, train_test_split\n",
    "from scipy.stats import randint\n",
    "from sklearn.model_selection import GridSearchCV, KFold\n",
    "from scipy.stats import loguniform\n",
    "\n",
    "from sklearn.ensemble import RandomForestClassifier,GradientBoostingClassifier\n",
    "\n",
    "from sklearn.svm import SVC\n",
    "\n",
    "from sklearn.neural_network import MLPClassifier\n",
    "\n",
    "\n",
    "\n",
    "\n",
    "## Scoring\n",
    "from sklearn.model_selection import cross_val_score\n",
    "from sklearn.metrics import fbeta_score, make_scorer\n",
    "\n",
    "from sklearn.metrics import accuracy_score, confusion_matrix, ConfusionMatrixDisplay\n",
    "\n",
    "def lead_prov_grouping(prov):\n",
    "    if prov in ['Recycled Freemium', 'SPL-Freemium', 'Sold Freemium','Quoted Freemium', 'ABBY Freemium', 'Freemium','CellC-Freemium']:\n",
    "        return 'Freemium'\n",
    "    elif prov in ['LeadWarming', 'LeadWarming TN ', 'Lead Warming']:\n",
    "        return 'LeadWarming'\n",
    "    elif prov in ['BLDS 101', 'BLDS']:\n",
    "        return 'BLDS'\n",
    "    elif prov in ['SD Phone Leads','MWL Phone Leads', 'iTalk External Call Center']:\n",
    "        return 'Phone leads'\n",
    "    elif prov in ['Sanlam Direct Cape Referral', 'SDC-Referral', 'MWL Referrals']:\n",
    "        return 'Refferals'\n",
    "    elif prov in ['Website',  'Bing', 'SD Web','MWL Web', 'Sanlam Digital','GoogleDisplay','GoogleSearch']:\n",
    "        return 'Web'\n",
    "    elif prov in ['MiWayLife', 'Sure_Strat_MWL','Existing Client','Reach_Republic_MWL', 'Newsletter']:\n",
    "        return 'MWL'\n",
    "    elif prov in ['Lead-D365-Production', 'Sanlam-Lead-D365-Production']:\n",
    "        return 'D365'\n",
    "    elif prov in ['Recycled','Facebook', 'Reinstatement', 'Vicidial','Wills', 'Affiliate', 'Sanlam Direct Cape', 'LiveLeads','SEO',\n",
    "       'Competitions', 'SDC HIV','Olico']:\n",
    "        return 'Other'\n",
    "    else:\n",
    "        return 'Other'\n",
    "\n",
    "def data_prep(data,target,features=[],filter=None,column_excl = ['1month_lapse', '3month_lapse', '6month_lapse', 'ann_lapse', 'lapse_flag', 'policy_name','lead_provider_name','campaign_name','occupation']):\n",
    "\n",
    "    if filter is not None:\n",
    "        data = data[data[filter].notnull()].copy()\n",
    "    # impute missing values\n",
    "    # impute missing values\n",
    "    df=DataPreparation(df=data)\n",
    "    imp_dict={'optionality': 'mode',\n",
    "              'occupation':'none'}\n",
    "    df.imputating_nulls(imp_dict=imp_dict)\n",
    "    data=df.imputed_df.copy()\n",
    "    #grouping lead-provider_name\n",
    "    data['lead_provider_groups']= data['lead_provider_name'].apply(lead_prov_grouping)\n",
    "    data=pd.get_dummies(data,columns=['education', 'gender', 'smoker_status',\n",
    "       'sold_socio_economic_class', 'occupation_class',\n",
    "       'lead_provider_groups', 'lead_type', 'sales_channel','hiv_group', 'securitygroup_id', 'age_band',\n",
    "       'income_band', 'last_benefit_amount_band', 'cover_amount_full_band',\n",
    "       'total_funeral_premium_band', 'original_premium_band','underwriting_outcome'], dtype=int)\n",
    "    if features == []:\n",
    "        cols=set(data.columns)\n",
    "        features=list(cols.difference(column_excl))\n",
    "         \n",
    "    X = data[features].copy()\n",
    "    Y = data[target].astype(int).copy()\n",
    "    # Train Test Split\n",
    "    X_train, X_test, y_train, y_test = train_test_split(X, Y, test_size=0.20, random_state=42, stratify=Y)\n",
    "\n",
    "    return X_train, X_test, y_train, y_test\n",
    "\n",
    "\n",
    "\n"
   ]
  },
  {
   "cell_type": "markdown",
   "id": "b06016da",
   "metadata": {},
   "source": [
    "# data"
   ]
  },
  {
   "cell_type": "code",
   "execution_count": 4,
   "id": "3219bac4",
   "metadata": {},
   "outputs": [],
   "source": [
    "imp_features=[]\n",
    "target='lapse_flag'\n",
    "#filter='ann_lapse'\n",
    "data=pd.DataFrame(pd.read_csv(path+\"inception_data_eco_v3.csv\"))\n",
    "data=data.drop(columns=['Unnamed: 0'])\n",
    "\n",
    "from sklearn.preprocessing import StandardScaler\n",
    "scale = StandardScaler()\n",
    "data_s=data.copy()\n",
    "data_s[[ 'eml','pml', 'benefits_count', 'funeral_count', 'duration_policy_start_delay', '# calls',\n",
    "       '# calls contacted', 'res_code_QA_sum', 'res_code_claims_sum','res_code_no interest_sum', 'res_code_other_sum',\n",
    "       'res_code_payment_sum', 'res_code_quote_sum', 'res_code_sale_sum','res_code_update_sum', 'inflation', 'unemployment rate']] = scale.fit_transform(data_s[[ 'eml','pml', 'benefits_count', 'funeral_count', 'duration_policy_start_delay', '# calls',\n",
    "       '# calls contacted', 'res_code_QA_sum', 'res_code_claims_sum','res_code_no interest_sum', 'res_code_other_sum',\n",
    "       'res_code_payment_sum', 'res_code_quote_sum', 'res_code_sale_sum','res_code_update_sum', 'inflation', 'unemployment rate']])\n",
    "X_train,x_test, Y_train, y_test = data_prep(data_s,target)"
   ]
  },
  {
   "cell_type": "markdown",
   "id": "c14d49d7",
   "metadata": {},
   "source": [
    "# modeling"
   ]
  },
  {
   "cell_type": "code",
   "execution_count": 5,
   "id": "26977bb6",
   "metadata": {},
   "outputs": [],
   "source": [
    "from sklearn.neural_network import MLPClassifier\n",
    "\n",
    "from scipy.stats import loguniform"
   ]
  },
  {
   "cell_type": "code",
   "execution_count": 6,
   "id": "5d8e19ec",
   "metadata": {},
   "outputs": [
    {
     "name": "stdout",
     "output_type": "stream",
     "text": [
      "best score 0.6113200313627718\n",
      " best eatimator MLPClassifier(alpha=7.309539835912905e-05, hidden_layer_sizes=(29,),\n",
      "              max_iter=1000)\n",
      " best params {'alpha': 7.309539835912905e-05, 'hidden_layer_sizes': (29,), 'max_iter': 1000, 'solver': 'adam'}\n",
      " \n"
     ]
    }
   ],
   "source": [
    "\n",
    "b=2 #ratio of recall to precision\n",
    "#getting best params\n",
    "param_dist = {'solver': ['adam'],\n",
    "              'alpha': loguniform(1e-5,1e-3), #loguniform(1e-5, 1e-3)\n",
    "              'hidden_layer_sizes': [(29,), (28,),(27,),(26,)],'max_iter':[1000]}\n",
    "\n",
    "\n",
    "mlp = MLPClassifier()\n",
    "\n",
    "# Use random search to find the best hyperparameters\n",
    "fbeta_scorer = make_scorer(fbeta_score, beta=b)\n",
    "rand_search = RandomizedSearchCV(mlp, \n",
    "                                 param_distributions = param_dist, \n",
    "                                 n_iter=20, \n",
    "                                 cv=5,\n",
    "                                 scoring='recall', random_state=42)\n",
    "\n",
    "# Fit the random search object to the data\n",
    "rand_search.fit(X_train, Y_train)\n",
    "print(f'best score {rand_search.best_score_}\\n best eatimator {rand_search.best_estimator_}\\n best params {rand_search.best_params_}\\n ')"
   ]
  },
  {
   "cell_type": "code",
   "execution_count": 13,
   "id": "8edb6cd3",
   "metadata": {},
   "outputs": [
    {
     "name": "stdout",
     "output_type": "stream",
     "text": [
      "recall score [0.58344031 0.6084724  0.58408216 0.63648041 0.59473346]\n",
      " precision score [0.68089888 0.64184157 0.65989848 0.62801014 0.65673759]\n",
      " f beta score [0.60063433 0.61486574 0.59781895 0.63476813 0.60617963]\n"
     ]
    }
   ],
   "source": [
    "solver='adam'\n",
    "alpha=rand_search.best_params_['alpha']\n",
    "hidden_layer_sizes=rand_search.best_params_['hidden_layer_sizes']\n",
    "b=2\n",
    "\n",
    "mlpc = MLPClassifier(solver=solver, alpha=alpha,max_iter=1000,\n",
    "                    hidden_layer_sizes=hidden_layer_sizes, random_state=42)\n",
    "recall = cross_val_score(mlpc, X_train, Y_train, cv=5, scoring='recall')\n",
    "precision = cross_val_score(mlpc,X_train, Y_train, cv=5, scoring='precision')\n",
    "fbeta_scorer = make_scorer(fbeta_score, beta=b) \n",
    "fb = cross_val_score(mlpc,X_train, Y_train, cv=5, scoring=fbeta_scorer)\n",
    "\n",
    "print(f'recall score {recall}\\n precision score {precision}\\n f beta score {fb}')"
   ]
  },
  {
   "cell_type": "code",
   "execution_count": 14,
   "id": "f244c788",
   "metadata": {},
   "outputs": [
    {
     "data": {
      "text/plain": [
       "<sklearn.metrics._plot.confusion_matrix.ConfusionMatrixDisplay at 0x1dc783bf590>"
      ]
     },
     "execution_count": 14,
     "metadata": {},
     "output_type": "execute_result"
    },
    {
     "data": {
      "image/png": "[encoded data removed]",
      "text/plain": [
       "<Figure size 640x480 with 2 Axes>"
      ]
     },
     "metadata": {},
     "output_type": "display_data"
    }
   ],
   "source": [
    "mlpc.fit(X_train.copy(),Y_train.copy())\n",
    "y_pred = mlpc.predict(x_test)\n",
    "conf_matrix = confusion_matrix(y_test, y_pred)\n",
    "ConfusionMatrixDisplay(confusion_matrix=conf_matrix).plot()"
   ]
  }
 ],
 "metadata": {
  "kernelspec": {
   "display_name": "Python 3",
   "language": "python",
   "name": "python3"
  },
  "language_info": {
   "codemirror_mode": {
    "name": "ipython",
    "version": 3
   },
   "file_extension": ".py",
   "mimetype": "text/x-python",
   "name": "python",
   "nbconvert_exporter": "python",
   "pygments_lexer": "ipython3",
   "version": "3.12.6"
  }
 },
 "nbformat": 4,
 "nbformat_minor": 5
}
