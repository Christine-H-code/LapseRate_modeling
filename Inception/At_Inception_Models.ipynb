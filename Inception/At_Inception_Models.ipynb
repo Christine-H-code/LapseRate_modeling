{
 "cells": [
  {
   "cell_type": "markdown",
   "id": "2533c391",
   "metadata": {},
   "source": [
    "# imports"
   ]
  },
  {
   "cell_type": "code",
   "execution_count": 2,
   "id": "9447f512",
   "metadata": {},
   "outputs": [],
   "source": [
    "import sys\n",
    "sys.path.append(\"C:/Users/E1005279/OneDrive - Sanlam Life Insurance Limited/MWL/MWLrepo/MiWayLife2/Data_Analysis_Package\")\n",
    "from data_preparation import DataPreparation, Analysis, multi_data_ops\n",
    "import data_operations as do\n",
    "\n",
    "import pandas as pd\n",
    "import matplotlib.pyplot as plt\n",
    "import seaborn as sns\n",
    "import numpy as np\n",
    "from datetime import datetime\n",
    "import math\n",
    "import matplotlib.gridspec as gridspec\n",
    "\n",
    "from imblearn.over_sampling import SMOTE\n",
    "from sklearn.preprocessing import StandardScaler\n",
    "\n",
    "import joblib"
   ]
  },
  {
   "cell_type": "markdown",
   "id": "66010a63",
   "metadata": {},
   "source": [
    "## Models"
   ]
  },
  {
   "cell_type": "code",
   "execution_count": 3,
   "id": "36782f98",
   "metadata": {},
   "outputs": [],
   "source": [
    "from sklearn.linear_model import Lasso\n",
    "from sklearn.model_selection import RandomizedSearchCV, train_test_split\n",
    "from scipy.stats import randint\n",
    "from sklearn.model_selection import GridSearchCV, KFold\n",
    "from scipy.stats import loguniform\n",
    "\n",
    "from sklearn.ensemble import RandomForestClassifier,GradientBoostingClassifier\n",
    "\n",
    "from sklearn.svm import SVC\n",
    "\n",
    "from sklearn.neural_network import MLPClassifier\n",
    "\n",
    "from imblearn.ensemble import BalancedRandomForestClassifier\n",
    "\n",
    "from xgboost import XGBClassifier\n",
    "from sklearn.utils import compute_sample_weight\n",
    "\n"
   ]
  },
  {
   "cell_type": "markdown",
   "id": "da62dbd8",
   "metadata": {},
   "source": [
    "## Scoring"
   ]
  },
  {
   "cell_type": "code",
   "execution_count": 4,
   "id": "a91159aa",
   "metadata": {},
   "outputs": [],
   "source": [
    "from sklearn.model_selection import cross_val_score\n",
    "from sklearn.metrics import fbeta_score, make_scorer\n",
    "\n",
    "from sklearn.metrics import accuracy_score, confusion_matrix, ConfusionMatrixDisplay"
   ]
  },
  {
   "cell_type": "markdown",
   "id": "565739a3",
   "metadata": {},
   "source": [
    "## Functions"
   ]
  },
  {
   "cell_type": "code",
   "execution_count": 5,
   "id": "98078a84",
   "metadata": {},
   "outputs": [],
   "source": [
    "#grouping lead_provider_name into less granular categories\n",
    "def lead_prov_grouping(prov):\n",
    "    if prov in ['Recycled Freemium', 'SPL-Freemium', 'Sold Freemium','Quoted Freemium', 'ABBY Freemium', 'Freemium','CellC-Freemium']:\n",
    "        return 'Freemium'\n",
    "    elif prov in ['LeadWarming', 'LeadWarming TN ', 'Lead Warming']:\n",
    "        return 'LeadWarming'\n",
    "    elif prov in ['BLDS 101', 'BLDS']:\n",
    "        return 'BLDS'\n",
    "    elif prov in ['SD Phone Leads','MWL Phone Leads', 'iTalk External Call Center']:\n",
    "        return 'Phone leads'\n",
    "    elif prov in ['Sanlam Direct Cape Referral', 'SDC-Referral', 'MWL Referrals']:\n",
    "        return 'Refferals'\n",
    "    elif prov in ['Website',  'Bing', 'SD Web','MWL Web', 'Sanlam Digital','GoogleDisplay','GoogleSearch']:\n",
    "        return 'Web'\n",
    "    elif prov in ['MiWayLife', 'Sure_Strat_MWL','Existing Client','Reach_Republic_MWL', 'Newsletter']:\n",
    "        return 'MWL'\n",
    "    elif prov in ['Lead-D365-Production', 'Sanlam-Lead-D365-Production']:\n",
    "        return 'D365'\n",
    "    elif prov in ['Recycled','Facebook', 'Reinstatement', 'Vicidial','Wills', 'Affiliate', 'Sanlam Direct Cape', 'LiveLeads','SEO',\n",
    "       'Competitions', 'SDC HIV','Olico']:\n",
    "        return 'Other'\n",
    "    else:\n",
    "        return 'Other'\n"
   ]
  },
  {
   "cell_type": "code",
   "execution_count": 6,
   "id": "4405a8ff",
   "metadata": {},
   "outputs": [],
   "source": [
    "def data_prep_train(data,target,features=[],filter=None,column_excl = ['3month_lapse', '6month_lapse', 'ann_lapse','1yr_lapse','2yr_lapse', 'lapse_flag', 'policy_name'],cat_cols=['education', 'gender', 'smoker_status',\n",
    "       'sold_socio_economic_class', 'occupation_class',\n",
    "       'lead_provider_groups', 'lead_type', 'sales_channel','hiv_group', 'securitygroup_id', 'age_band',\n",
    "       'income_band', 'last_benefit_amount_band', 'cover_amount_full_band',\n",
    "       'total_funeral_premium_band', 'original_premium_band','underwriting_outcome'],imp_dict={'optionality': 'mode','cover_amount_full':'mean'}):\n",
    "\n",
    "    if filter is not None:\n",
    "        data = data[data[filter].notnull()].copy() \n",
    "                #for annual lapse, only policies older than 11 months have a flag, \n",
    "                        #thus excluding missing values for anniversary lapse flag excludes the policies younger than 11 months\n",
    "\n",
    "    #imputing nulls\n",
    "    df=DataPreparation(df=data)\n",
    "    df.imputating_nulls(imp_dict=imp_dict)\n",
    "    data=df.imputed_df.copy()\n",
    "\n",
    "    #grouping lead-provider_name\n",
    "    data['lead_provider_groups']= data['lead_provider_name'].apply(lead_prov_grouping)\n",
    "    data.drop(columns=['lead_provider_name'],inplace=True)\n",
    "    cat_cols.append('lead_provider_groups')\n",
    "\n",
    "    #hot-one encoding categorical features\n",
    "    data=pd.get_dummies(data,columns=cat_cols, dtype=int)\n",
    "    if features == []:\n",
    "        cols=set(data.columns)\n",
    "        features=list(cols.difference(column_excl))\n",
    "\n",
    "    #split data and target     \n",
    "    X = data[features].copy()\n",
    "    Y = data[target].astype(int).copy()\n",
    "    \n",
    "    # Train Test Split\n",
    "    X_train, X_test, Y_train, y_test = train_test_split(X, Y, test_size=0.20, random_state=42, stratify=Y)\n",
    "\n",
    "    return X_train, X_test, Y_train, y_test\n"
   ]
  },
  {
   "cell_type": "code",
   "execution_count": 7,
   "id": "48474384",
   "metadata": {},
   "outputs": [],
   "source": [
    "def data_prep_score(data,model_features: set,cat_cols=['education', 'gender', 'smoker_status',\n",
    "       'sold_socio_economic_class', 'occupation_class',\n",
    "       'lead_provider_groups', 'lead_type', 'sales_channel','hiv_group', 'securitygroup_id', 'age_band',\n",
    "       'income_band', 'last_benefit_amount_band', 'cover_amount_full_band',\n",
    "       'total_funeral_premium_band', 'original_premium_band','underwriting_outcome'],imp_dict={'optionality': 'mode','cover_amount_full':'mean'}):\n",
    "\n",
    "    #imputing nulls\n",
    "    df=DataPreparation(df=data)\n",
    "    df.imputating_nulls(imp_dict=imp_dict)\n",
    "    data=df.imputed_df.copy()\n",
    "\n",
    "    #grouping lead-provider_name\n",
    "    data['lead_provider_groups']= data['lead_provider_name'].apply(lead_prov_grouping)\n",
    "    data.drop(columns=['lead_provider_name'],inplace=True)\n",
    "    cat_cols.append('lead_provider_groups')\n",
    "\n",
    "    #hot-one encoding categorical features\n",
    "    data=pd.get_dummies(data,columns=cat_cols, dtype=int)\n",
    "\n",
    "    add_features=list(model_features.difference(set(data.columns)))\n",
    "    for feat in add_features:\n",
    "        data[feat] = 0\n",
    "\n",
    "    return data"
   ]
  },
  {
   "cell_type": "code",
   "execution_count": 8,
   "id": "916d4b41",
   "metadata": {},
   "outputs": [],
   "source": [
    "#custom score for models\n",
    "from sklearn.metrics import make_scorer\n",
    "def my_custom_accuracy(y_true, y_pred):\n",
    "    w=2\n",
    "    cm = confusion_matrix(y_true, y_pred)\n",
    "    true_0 =(cm[0][0]/(cm[0][0]+cm[0][1]))\n",
    "    true_1= w*(cm[1][1]/(cm[1][1]+cm[1][0]))\n",
    "\n",
    "    return (true_0+true_1)/(1+w)\n",
    "custom_scorer = make_scorer(my_custom_accuracy, greater_is_better=True)"
   ]
  },
  {
   "cell_type": "markdown",
   "id": "ca5e320a",
   "metadata": {},
   "source": [
    "## Plot functions"
   ]
  },
  {
   "cell_type": "code",
   "execution_count": 9,
   "id": "5aa148cc",
   "metadata": {},
   "outputs": [],
   "source": [
    "#functions for plotting continous features\n",
    "def plot_histogram_boxplot_kde(data, title=\"Data Distribution\", x_label=\"Value\"):\n",
    "    \"\"\"\n",
    "    Generates a combined plot showing a histogram with KDE, a box plot,\n",
    "    and summary statistics.\n",
    "\n",
    "    Args:\n",
    "        data (array-like): A list, numpy array, or pandas Series of numerical data.\n",
    "        title (str, optional): The main title for the plot. Defaults to \"Data Distribution\".\n",
    "        x_label (str, optional): The label for the x-axis. Defaults to \"Value\".\n",
    "    \"\"\"\n",
    "    # Convert data to a pandas Series to easily handle potential NaNs and calculations\n",
    "    if not isinstance(data, pd.Series):\n",
    "        data = pd.Series(data)\n",
    "\n",
    "    # Drop NaN values to avoid errors in plotting and calculations\n",
    "    print('Number of NaN values to be dropped: ',data.isnull().sum())\n",
    "    data = data.dropna()\n",
    "\n",
    "    if data.empty:\n",
    "        print(\"Warning: Input data is empty or contains only NaN values. Cannot generate plot.\")\n",
    "        return\n",
    "\n",
    "    # --- Calculate Statistics ---\n",
    "    mean_val = data.mean()\n",
    "    median_val = data.median()\n",
    "    std_dev = data.std()\n",
    "    q1 = data.quantile(0.25)\n",
    "    q3 = data.quantile(0.75)\n",
    "    iqr = q3 - q1\n",
    "    count = len(data)\n",
    "\n",
    "    # Format statistics for display\n",
    "    stats_text = (\n",
    "        f\"Statistics:\\n\"\n",
    "        f\"-----------\\n\"\n",
    "        f\"Count: {count}\\n\"\n",
    "        f\"Mean: {mean_val:.2f}\\n\"\n",
    "        f\"Median: {median_val:.2f}\\n\"\n",
    "        f\"Std Dev: {std_dev:.2f}\\n\"\n",
    "        f\"Q1: {q1:.2f}\\n\"\n",
    "        f\"Q3: {q3:.2f}\\n\"\n",
    "        f\"IQR: {iqr:.2f}\"\n",
    "    )\n",
    "\n",
    "    # --- Set up the plot layout ---\n",
    "    # Create a figure\n",
    "    fig = plt.figure(figsize=(10, 6))\n",
    "    # Define the grid layout: 2 rows, 2 columns.\n",
    "    # Top row for box plot, bottom row for histogram.\n",
    "    # Right column for text.\n",
    "    # Adjust width/height ratios for better spacing.\n",
    "    gs = gridspec.GridSpec(2, 2, width_ratios=[4, 1], height_ratios=[1, 4],\n",
    "                           figure=fig, wspace=0.1, hspace=0.05) # Reduced space\n",
    "\n",
    "    # Create axes for each part of the plot\n",
    "    ax_hist = fig.add_subplot(gs[1, 0])        # Histogram/KDE at bottom-left\n",
    "    ax_box = fig.add_subplot(gs[0, 0], sharex=ax_hist) # Box plot at top-left, sharing x-axis\n",
    "    ax_text = fig.add_subplot(gs[:, 1])        # Text box spanning both rows on the right\n",
    "\n",
    "    # --- Plot the data ---\n",
    "    # 1. Histogram and KDE plot (using seaborn for convenience)\n",
    "    #    'bins=\"auto\"' lets seaborn/numpy choose a suitable number of bins.\n",
    "    #    'kde=True' adds the Kernel Density Estimate.\n",
    "    sns.histplot(data, bins=\"auto\", kde=True, ax=ax_hist, stat='density')\n",
    "    ax_hist.set_xlabel(x_label)\n",
    "    ax_hist.set_ylabel(\"Density\")\n",
    "\n",
    "    # Add vertical lines for mean and median\n",
    "    ax_hist.axvline(mean_val, color='red', linestyle='--', linewidth=1.5, label=f'Mean ({mean_val:.2f})')\n",
    "    ax_hist.axvline(median_val, color='green', linestyle=':', linewidth=1.5, label=f'Median ({median_val:.2f})')\n",
    "    ax_hist.legend(loc='upper right') # Add legend to histogram plot\n",
    "\n",
    "    # 2. Box plot\n",
    "    #    Use seaborn's boxplot for consistency.\n",
    "    #    'orient='h'' makes it horizontal.\n",
    "    sns.boxplot(x=data, ax=ax_box, orient='h', color='lightblue')\n",
    "    ax_box.set_xlabel('') # Remove x-label as it's shared with histogram\n",
    "    # Remove y-ticks and labels from boxplot for cleaner look\n",
    "    ax_box.set_yticks([])\n",
    "    ax_box.set_ylabel('') # Remove y-label\n",
    "\n",
    "    # Remove ticks and labels from the top x-axis of the box plot\n",
    "    plt.setp(ax_box.get_xticklabels(), visible=False)\n",
    "    ax_box.tick_params(axis='x', which='both', bottom=False) # Remove ticks\n",
    "\n",
    "    # 3. Statistics Text Box\n",
    "    ax_text.axis('off') # Turn off the axis lines and ticks\n",
    "    # Place the text in the center of the text axes\n",
    "    ax_text.text(0.05, 0.5, stats_text, transform=ax_text.transAxes,\n",
    "                 fontsize=10, verticalalignment='center',\n",
    "                 bbox=dict(boxstyle='round,pad=0.5', fc='aliceblue', alpha=0.5))\n",
    "\n",
    "    # --- Final Touches ---\n",
    "    fig.suptitle(title, fontsize=16) # Add overall title\n",
    "    # Adjust layout to prevent labels/titles overlapping\n",
    "    # plt.tight_layout(rect=[0, 0, 1, 0.96]) # Adjust rect to make space for suptitle\n",
    "    fig.subplots_adjust(top=0.92) # Adjust top margin for suptitle\n",
    "\n",
    "#--------------------------------------------------------------------------------------------------------------------------------------------\n",
    "\n",
    "# --- Helper function to plot distribution for a single category ---\n",
    "# This adapts the logic from the previous function to draw on specific axes\n",
    "def _plot_single_distribution(data, fig, ax,title=\"Distribution\", x_label=\"Value\"):\n",
    "    \"\"\"\n",
    "    Helper function to draw histogram, KDE, box plot, and stats on a given Axes object\n",
    "    by creating a nested GridSpec.\n",
    "\n",
    "    Args:\n",
    "        data (pd.Series): Numerical data for a single category (NaNs already handled).\n",
    "        fig (matplotlib.figure.Figure): The main figure object.\n",
    "        ax (matplotlib.axes.Axes): The main Axes object (from the outer grid)\n",
    "                                   to draw this category's plot within.\n",
    "        title (str): Title for this specific subplot.\n",
    "        x_label (str): Label for the x-axis.\n",
    "    \"\"\"\n",
    "\n",
    "    \n",
    "  \n",
    "    # Get the SubplotSpec from the parent Axes object\n",
    "    ss = ax.get_subplotspec()\n",
    "    # Turn off the axis frame/ticks for the original 'ax' as its space will be managed by the nested GridSpec\n",
    "    ax.axis('off')\n",
    "\n",
    "    if data.empty:\n",
    "        # If data is empty, add text to the original Axes location\n",
    "        ax.text(0.5, 0.5, \"No data for this category\",\n",
    "                horizontalalignment='center', verticalalignment='center',\n",
    "                transform=ax.transAxes, fontsize=10, color='grey')\n",
    "        ax.set_title(title, fontsize=10) # Set title on the original Axes\n",
    "        return\n",
    "\n",
    "    # --- Calculate Statistics ---\n",
    "    mean_val = data.mean()\n",
    "    median_val = data.median()\n",
    "    std_dev = data.std()\n",
    "    q1 = data.quantile(0.25)\n",
    "    q3 = data.quantile(0.75)\n",
    "    iqr = q3 - q1\n",
    "    count = len(data)\n",
    "\n",
    "    # Format statistics\n",
    "    stats_text = (\n",
    "        f\"N: {count}\\n\"\n",
    "        f\"Mean: {mean_val:.2f}\\n\"\n",
    "        f\"Median: {median_val:.2f}\\n\"\n",
    "        f\"StdDev: {std_dev:.2f}\\n\"\n",
    "        f\"Q1: {q1:.2f}\\n\"\n",
    "        f\"Q3: {q3:.2f}\\n\"\n",
    "        f\"IQR: {iqr:.2f}\"\n",
    "    )\n",
    "\n",
    "    # --- Create inset axes within the main 'ax' space using its SubplotSpec ---\n",
    "    gs_inset = gridspec.GridSpecFromSubplotSpec(2, 2, subplot_spec=ss, # Use the SubplotSpec here\n",
    "                                                width_ratios=[4, 1], height_ratios=[1, 4],\n",
    "                                                wspace=0.05, hspace=0.05)\n",
    "\n",
    "    # Create the actual Axes using the main figure and the nested GridSpec indices\n",
    "    ax_hist = fig.add_subplot(gs_inset[1, 0]) # Histogram at bottom-left\n",
    "    ax_box = fig.add_subplot(gs_inset[0, 0], sharex=ax_hist) # Box plot at top-left\n",
    "    ax_text = fig.add_subplot(gs_inset[:, 1]) # Text box on the right\n",
    "\n",
    "    # --- Plot the data ---\n",
    "    # 1. Histogram and KDE\n",
    "    sns.histplot(data, bins=\"auto\", kde=True, ax=ax_hist, stat='density')\n",
    "    ax_hist.set_xlabel(x_label, fontsize=9) # Slightly smaller font for subplot labels\n",
    "    ax_hist.set_ylabel(\"Density\", fontsize=9)\n",
    "    ax_hist.tick_params(axis='both', which='major', labelsize=8) # Smaller tick labels\n",
    "\n",
    "    # Add vertical lines for mean and median\n",
    "    ax_hist.axvline(mean_val, color='red', linestyle='--', linewidth=1, label=f'Mean ({mean_val:.2f})')\n",
    "    ax_hist.axvline(median_val, color='green', linestyle=':', linewidth=1, label=f'Median ({median_val:.2f})')\n",
    "    ax_hist.legend(fontsize='x-small', loc='upper right') # Smaller legend\n",
    "\n",
    "    # 2. Box plot\n",
    "    sns.boxplot(x=data, ax=ax_box, orient='h', color='lightblue')\n",
    "    ax_box.set_xlabel('')\n",
    "    ax_box.set_yticks([])\n",
    "    ax_box.set_ylabel('')\n",
    "    plt.setp(ax_box.get_xticklabels(), visible=False)\n",
    "    ax_box.tick_params(axis='x', which='both', bottom=False)\n",
    "\n",
    "    # 3. Statistics Text Box\n",
    "    ax_text.axis('off')\n",
    "    ax_text.text(0.05, 0.5, stats_text, transform=ax_text.transAxes,\n",
    "                 fontsize=8, verticalalignment='center',\n",
    "                 bbox=dict(boxstyle='round,pad=0.3', fc='aliceblue', alpha=0.5))\n",
    "\n",
    "    # Set the title for the specific subplot (category) on the original Axes container\n",
    "    ax.set_title(title, fontsize=10)\n",
    "\n",
    "#--------------------------------------------------------------------------------------------------------------------------------------------------\n",
    "\n",
    "# --- Main function to create the grid plot ---\n",
    "def plot_grouped_distributions(df, value_col, category_col='none',cat_list = [], main_title=\"Grouped Distributions\"):\n",
    "    \"\"\"\n",
    "    Generates a grid of distribution plots (hist, KDE, boxplot, stats)\n",
    "    for numerical data grouped by a categorical column.\n",
    "\n",
    "    Args:\n",
    "        df (pd.DataFrame): The input DataFrame.\n",
    "        value_col (str): The name of the column with numerical data.\n",
    "        category_col (str): The name of the column with categorical data.\n",
    "        main_title (str, optional): The main title for the entire figure.\n",
    "                                    Defaults to \"Grouped Distributions\".\n",
    "    \"\"\"\n",
    "\n",
    "    if category_col == 'none':\n",
    "        \n",
    "        plot_histogram_boxplot_kde(df[value_col], title=f\"Distribution of {value_col}\", x_label=value_col)\n",
    "\n",
    "    else:\n",
    "\n",
    "        # Check if columns exist\n",
    "        if value_col not in df.columns:\n",
    "            print(f\"Error: Value column '{value_col}' not found in DataFrame.\")\n",
    "            return\n",
    "        if category_col not in df.columns:\n",
    "            print(f\"Error: Category column '{category_col}' not found in DataFrame.\")\n",
    "            return\n",
    "\n",
    "        if len(cat_list) != 0:\n",
    "            df = df[df[category_col].isin(cat_list)].copy()\n",
    "\n",
    "        # Get unique categories and handle potential NaNs in category column\n",
    "        # Sort categories for consistent plot order\n",
    "        categories = sorted(df[category_col].dropna().unique())\n",
    "        n_categories = len(categories)\n",
    "\n",
    "        if n_categories == 0:\n",
    "            print(f\"Warning: No valid categories found in column '{category_col}'. Cannot generate plot.\")\n",
    "            return\n",
    "\n",
    "        # --- Determine grid layout ---\n",
    "        # Aim for a layout that's roughly square\n",
    "        ncols = math.ceil(math.sqrt(n_categories))\n",
    "        nrows = math.ceil(n_categories / ncols)\n",
    "\n",
    "        # --- Create figure and subplots ---\n",
    "        # Adjust figsize based on grid size for better readability\n",
    "        # Increased base size slightly for better spacing within subplots\n",
    "        fig_width = ncols * 5.5\n",
    "        fig_height = nrows * 4.5\n",
    "        fig, axes = plt.subplots(nrows, ncols, figsize=(fig_width, fig_height), squeeze=False)\n",
    "\n",
    "        # Flatten axes array for easy iteration\n",
    "        axes_flat = axes.flatten()\n",
    "\n",
    "        # --- Plot data for each category ---\n",
    "        for i, category in enumerate(categories):\n",
    "            ax = axes_flat[i]\n",
    "            # Filter data for the current category, dropping NaNs in the value column\n",
    "            category_data = df[df[category_col] == category][value_col].dropna()\n",
    "\n",
    "            # Call the helper function to plot on the current axes\n",
    "            # Pass the main 'fig' object as well\n",
    "            _plot_single_distribution(category_data, fig, ax, # Pass fig and ax\n",
    "                                      title=f\"{category}\", # Simpler title, category name only\n",
    "                                      x_label=value_col)\n",
    "\n",
    "        # --- Clean up unused subplots ---\n",
    "        for i in range(n_categories, len(axes_flat)):\n",
    "            axes_flat[i].axis('off') # Hide unused axes\n",
    "\n",
    "        # --- Final Touches ---\n",
    "        # Add a more descriptive main title including column names\n",
    "        full_main_title = f\"{main_title}: {value_col} by {category_col}\"\n",
    "        fig.suptitle(full_main_title, fontsize=16, y=1.0) # Adjust title position slightly\n",
    "        # Use tight_layout first, then adjust spacing if needed\n",
    "        plt.tight_layout(rect=[0, 0.03, 1, 0.97]) # Adjust rect to prevent overlap and make space for title/labels\n",
    "        # plt.subplots_adjust(top=0.92, hspace=0.4, wspace=0.3) # Fine-tune spacing if tight_layout isn't enough\n",
    "\n",
    "    plt.show()"
   ]
  },
  {
   "cell_type": "code",
   "execution_count": 10,
   "id": "8e17abec",
   "metadata": {},
   "outputs": [],
   "source": [
    "#bar comparison\n",
    "def bar_comp(df,category, split):\n",
    "    \n",
    "    props=df.groupby(split)[category].value_counts(normalize=True).rename('proportion').reset_index()\n",
    "\n",
    "    plt.figure(figsize=(10,6))\n",
    "    sns.barplot(\n",
    "        data=props,\n",
    "        x=category,\n",
    "        y='proportion',\n",
    "        hue=split,\n",
    "        palette='viridis')  \n",
    "    \n",
    "    # Set the title and labels for clarity.\n",
    "    plt.title(f'Proportion of {category} by {split}', fontsize=16)\n",
    "    plt.xlabel(category, fontsize=12)\n",
    "    plt.ylabel('Proportion', fontsize=12)\n",
    "    plt.xticks(rotation=45) # Rotate x-axis labels for better readability\n",
    "    plt.legend(title=split)\n",
    "\n",
    "    # Add annotations to the bars to show the exact proportion.\n",
    "    for p in plt.gca().patches:\n",
    "        plt.gca().annotate(f'{p.get_height():.2f}',\n",
    "                           (p.get_x() + p.get_width() / 2., p.get_height()),\n",
    "                           ha='center', va='center',\n",
    "                           fontsize=10, color='black',\n",
    "                           xytext=(0, 5),\n",
    "                           textcoords='offset points')\n",
    "\n",
    "    plt.tight_layout() # Adjust layout to make room for the labels.\n",
    "    plt.show()\n",
    "\n",
    "\n",
    "\n"
   ]
  },
  {
   "cell_type": "markdown",
   "id": "477814bf",
   "metadata": {},
   "source": [
    "# Training models"
   ]
  },
  {
   "cell_type": "markdown",
   "id": "63be579a",
   "metadata": {},
   "source": [
    "## Load data"
   ]
  },
  {
   "cell_type": "code",
   "execution_count": 74,
   "id": "5ed76cc6",
   "metadata": {},
   "outputs": [],
   "source": [
    "path=\"C:/Users/E1005279/OneDrive - Sanlam Life Insurance Limited/MWL/Lapse Rate Projections/Data/AtIncept-2025/\"\n",
    "data=pd.DataFrame(pd.read_csv(path+\"at_incpt_data.csv\"))\n",
    "data=data.drop(columns=['Unnamed: 0'])\n",
    "\n",
    "ext_date = datetime(2024,8,1) #date a year before the data was extracted \n"
   ]
  },
  {
   "cell_type": "code",
   "execution_count": 75,
   "id": "b94a1e4b",
   "metadata": {},
   "outputs": [],
   "source": [
    "data['sale_date'] = pd.to_datetime(data['sale_date'])\n",
    "data = data[data['sale_date']< ext_date]\n",
    "\n",
    "\n",
    "data['duration'] = (ext_date-data['sale_date']).dt.days//30\n"
   ]
  },
  {
   "cell_type": "code",
   "execution_count": 76,
   "id": "c04fbe0c",
   "metadata": {},
   "outputs": [
    {
     "data": {
      "application/vnd.microsoft.datawrangler.viewer.v0+json": {
       "columns": [
        {
         "name": "index",
         "rawType": "object",
         "type": "string"
        },
        {
         "name": "nulls",
         "rawType": "int64",
         "type": "integer"
        },
        {
         "name": "percentage nulls",
         "rawType": "float64",
         "type": "float"
        }
       ],
       "ref": "0bb1a857-d48a-4c93-b399-53ab9408b765",
       "rows": [
        [
         "policy_name",
         "0",
         "0.0"
        ],
        [
         "age",
         "0",
         "0.0"
        ],
        [
         "education",
         "0",
         "0.0"
        ],
        [
         "gender",
         "0",
         "0.0"
        ],
        [
         "income",
         "0",
         "0.0"
        ],
        [
         "smoker_status",
         "0",
         "0.0"
        ],
        [
         "sold_socio_economic_class",
         "0",
         "0.0"
        ],
        [
         "occupation_class",
         "0",
         "0.0"
        ],
        [
         "lead_provider_name",
         "0",
         "0.0"
        ],
        [
         "lead_type",
         "0",
         "0.0"
        ],
        [
         "sales_channel",
         "0",
         "0.0"
        ],
        [
         "sale_date",
         "0",
         "0.0"
        ],
        [
         "underwriting_outcome",
         "0",
         "0.0"
        ],
        [
         "optionality",
         "5",
         "0.03009691205682297"
        ],
        [
         "hiv_test_required",
         "0",
         "0.0"
        ],
        [
         "eml",
         "0",
         "0.0"
        ],
        [
         "pml",
         "0",
         "0.0"
        ],
        [
         "securitygroup_id",
         "0",
         "0.0"
        ],
        [
         "benefits_count",
         "0",
         "0.0"
        ],
        [
         "last_benefit_amount",
         "0",
         "0.0"
        ],
        [
         "cover_amount_full",
         "23",
         "0.13844579546138566"
        ],
        [
         "total_funeral_premium",
         "0",
         "0.0"
        ],
        [
         "funeral_count",
         "0",
         "0.0"
        ],
        [
         "original_premium",
         "0",
         "0.0"
        ],
        [
         "duration_policy_start_delay",
         "0",
         "0.0"
        ],
        [
         "# calls",
         "0",
         "0.0"
        ],
        [
         "# calls contacted",
         "0",
         "0.0"
        ],
        [
         "res_code_QA_sum",
         "0",
         "0.0"
        ],
        [
         "res_code_claims_sum",
         "0",
         "0.0"
        ],
        [
         "res_code_no interest_sum",
         "0",
         "0.0"
        ],
        [
         "res_code_other_sum",
         "0",
         "0.0"
        ],
        [
         "res_code_payment_sum",
         "0",
         "0.0"
        ],
        [
         "res_code_quote_sum",
         "0",
         "0.0"
        ],
        [
         "res_code_sale_sum",
         "0",
         "0.0"
        ],
        [
         "res_code_update_sum",
         "0",
         "0.0"
        ],
        [
         "lapse_flag",
         "0",
         "0.0"
        ],
        [
         "inflation",
         "0",
         "0.0"
        ],
        [
         "unemployment rate",
         "0",
         "0.0"
        ],
        [
         "3month_lapse",
         "0",
         "0.0"
        ],
        [
         "6month_lapse",
         "0",
         "0.0"
        ],
        [
         "1yr_lapse",
         "0",
         "0.0"
        ],
        [
         "ann_lapse",
         "6676",
         "40.18539697827003"
        ],
        [
         "2yr_lapse",
         "0",
         "0.0"
        ],
        [
         "age_band",
         "0",
         "0.0"
        ],
        [
         "income_band",
         "0",
         "0.0"
        ],
        [
         "last_benefit_amount_band",
         "0",
         "0.0"
        ],
        [
         "cover_amount_full_band",
         "0",
         "0.0"
        ],
        [
         "total_funeral_premium_band",
         "0",
         "0.0"
        ],
        [
         "original_premium_band",
         "0",
         "0.0"
        ],
        [
         "duration",
         "0",
         "0.0"
        ]
       ],
       "shape": {
        "columns": 2,
        "rows": 50
       }
      },
      "text/html": [
       "<div>\n",
       "<style scoped>\n",
       "    .dataframe tbody tr th:only-of-type {\n",
       "        vertical-align: middle;\n",
       "    }\n",
       "\n",
       "    .dataframe tbody tr th {\n",
       "        vertical-align: top;\n",
       "    }\n",
       "\n",
       "    .dataframe thead th {\n",
       "        text-align: right;\n",
       "    }\n",
       "</style>\n",
       "<table border=\"1\" class=\"dataframe\">\n",
       "  <thead>\n",
       "    <tr style=\"text-align: right;\">\n",
       "      <th></th>\n",
       "      <th>nulls</th>\n",
       "      <th>percentage nulls</th>\n",
       "    </tr>\n",
       "  </thead>\n",
       "  <tbody>\n",
       "    <tr>\n",
       "      <th>policy_name</th>\n",
       "      <td>0</td>\n",
       "      <td>0.000000</td>\n",
       "    </tr>\n",
       "    <tr>\n",
       "      <th>age</th>\n",
       "      <td>0</td>\n",
       "      <td>0.000000</td>\n",
       "    </tr>\n",
       "    <tr>\n",
       "      <th>education</th>\n",
       "      <td>0</td>\n",
       "      <td>0.000000</td>\n",
       "    </tr>\n",
       "    <tr>\n",
       "      <th>gender</th>\n",
       "      <td>0</td>\n",
       "      <td>0.000000</td>\n",
       "    </tr>\n",
       "    <tr>\n",
       "      <th>income</th>\n",
       "      <td>0</td>\n",
       "      <td>0.000000</td>\n",
       "    </tr>\n",
       "    <tr>\n",
       "      <th>smoker_status</th>\n",
       "      <td>0</td>\n",
       "      <td>0.000000</td>\n",
       "    </tr>\n",
       "    <tr>\n",
       "      <th>sold_socio_economic_class</th>\n",
       "      <td>0</td>\n",
       "      <td>0.000000</td>\n",
       "    </tr>\n",
       "    <tr>\n",
       "      <th>occupation_class</th>\n",
       "      <td>0</td>\n",
       "      <td>0.000000</td>\n",
       "    </tr>\n",
       "    <tr>\n",
       "      <th>lead_provider_name</th>\n",
       "      <td>0</td>\n",
       "      <td>0.000000</td>\n",
       "    </tr>\n",
       "    <tr>\n",
       "      <th>lead_type</th>\n",
       "      <td>0</td>\n",
       "      <td>0.000000</td>\n",
       "    </tr>\n",
       "    <tr>\n",
       "      <th>sales_channel</th>\n",
       "      <td>0</td>\n",
       "      <td>0.000000</td>\n",
       "    </tr>\n",
       "    <tr>\n",
       "      <th>sale_date</th>\n",
       "      <td>0</td>\n",
       "      <td>0.000000</td>\n",
       "    </tr>\n",
       "    <tr>\n",
       "      <th>underwriting_outcome</th>\n",
       "      <td>0</td>\n",
       "      <td>0.000000</td>\n",
       "    </tr>\n",
       "    <tr>\n",
       "      <th>optionality</th>\n",
       "      <td>5</td>\n",
       "      <td>0.030097</td>\n",
       "    </tr>\n",
       "    <tr>\n",
       "      <th>hiv_test_required</th>\n",
       "      <td>0</td>\n",
       "      <td>0.000000</td>\n",
       "    </tr>\n",
       "    <tr>\n",
       "      <th>eml</th>\n",
       "      <td>0</td>\n",
       "      <td>0.000000</td>\n",
       "    </tr>\n",
       "    <tr>\n",
       "      <th>pml</th>\n",
       "      <td>0</td>\n",
       "      <td>0.000000</td>\n",
       "    </tr>\n",
       "    <tr>\n",
       "      <th>securitygroup_id</th>\n",
       "      <td>0</td>\n",
       "      <td>0.000000</td>\n",
       "    </tr>\n",
       "    <tr>\n",
       "      <th>benefits_count</th>\n",
       "      <td>0</td>\n",
       "      <td>0.000000</td>\n",
       "    </tr>\n",
       "    <tr>\n",
       "      <th>last_benefit_amount</th>\n",
       "      <td>0</td>\n",
       "      <td>0.000000</td>\n",
       "    </tr>\n",
       "    <tr>\n",
       "      <th>cover_amount_full</th>\n",
       "      <td>23</td>\n",
       "      <td>0.138446</td>\n",
       "    </tr>\n",
       "    <tr>\n",
       "      <th>total_funeral_premium</th>\n",
       "      <td>0</td>\n",
       "      <td>0.000000</td>\n",
       "    </tr>\n",
       "    <tr>\n",
       "      <th>funeral_count</th>\n",
       "      <td>0</td>\n",
       "      <td>0.000000</td>\n",
       "    </tr>\n",
       "    <tr>\n",
       "      <th>original_premium</th>\n",
       "      <td>0</td>\n",
       "      <td>0.000000</td>\n",
       "    </tr>\n",
       "    <tr>\n",
       "      <th>duration_policy_start_delay</th>\n",
       "      <td>0</td>\n",
       "      <td>0.000000</td>\n",
       "    </tr>\n",
       "    <tr>\n",
       "      <th># calls</th>\n",
       "      <td>0</td>\n",
       "      <td>0.000000</td>\n",
       "    </tr>\n",
       "    <tr>\n",
       "      <th># calls contacted</th>\n",
       "      <td>0</td>\n",
       "      <td>0.000000</td>\n",
       "    </tr>\n",
       "    <tr>\n",
       "      <th>res_code_QA_sum</th>\n",
       "      <td>0</td>\n",
       "      <td>0.000000</td>\n",
       "    </tr>\n",
       "    <tr>\n",
       "      <th>res_code_claims_sum</th>\n",
       "      <td>0</td>\n",
       "      <td>0.000000</td>\n",
       "    </tr>\n",
       "    <tr>\n",
       "      <th>res_code_no interest_sum</th>\n",
       "      <td>0</td>\n",
       "      <td>0.000000</td>\n",
       "    </tr>\n",
       "    <tr>\n",
       "      <th>res_code_other_sum</th>\n",
       "      <td>0</td>\n",
       "      <td>0.000000</td>\n",
       "    </tr>\n",
       "    <tr>\n",
       "      <th>res_code_payment_sum</th>\n",
       "      <td>0</td>\n",
       "      <td>0.000000</td>\n",
       "    </tr>\n",
       "    <tr>\n",
       "      <th>res_code_quote_sum</th>\n",
       "      <td>0</td>\n",
       "      <td>0.000000</td>\n",
       "    </tr>\n",
       "    <tr>\n",
       "      <th>res_code_sale_sum</th>\n",
       "      <td>0</td>\n",
       "      <td>0.000000</td>\n",
       "    </tr>\n",
       "    <tr>\n",
       "      <th>res_code_update_sum</th>\n",
       "      <td>0</td>\n",
       "      <td>0.000000</td>\n",
       "    </tr>\n",
       "    <tr>\n",
       "      <th>lapse_flag</th>\n",
       "      <td>0</td>\n",
       "      <td>0.000000</td>\n",
       "    </tr>\n",
       "    <tr>\n",
       "      <th>inflation</th>\n",
       "      <td>0</td>\n",
       "      <td>0.000000</td>\n",
       "    </tr>\n",
       "    <tr>\n",
       "      <th>unemployment rate</th>\n",
       "      <td>0</td>\n",
       "      <td>0.000000</td>\n",
       "    </tr>\n",
       "    <tr>\n",
       "      <th>3month_lapse</th>\n",
       "      <td>0</td>\n",
       "      <td>0.000000</td>\n",
       "    </tr>\n",
       "    <tr>\n",
       "      <th>6month_lapse</th>\n",
       "      <td>0</td>\n",
       "      <td>0.000000</td>\n",
       "    </tr>\n",
       "    <tr>\n",
       "      <th>1yr_lapse</th>\n",
       "      <td>0</td>\n",
       "      <td>0.000000</td>\n",
       "    </tr>\n",
       "    <tr>\n",
       "      <th>ann_lapse</th>\n",
       "      <td>6676</td>\n",
       "      <td>40.185397</td>\n",
       "    </tr>\n",
       "    <tr>\n",
       "      <th>2yr_lapse</th>\n",
       "      <td>0</td>\n",
       "      <td>0.000000</td>\n",
       "    </tr>\n",
       "    <tr>\n",
       "      <th>age_band</th>\n",
       "      <td>0</td>\n",
       "      <td>0.000000</td>\n",
       "    </tr>\n",
       "    <tr>\n",
       "      <th>income_band</th>\n",
       "      <td>0</td>\n",
       "      <td>0.000000</td>\n",
       "    </tr>\n",
       "    <tr>\n",
       "      <th>last_benefit_amount_band</th>\n",
       "      <td>0</td>\n",
       "      <td>0.000000</td>\n",
       "    </tr>\n",
       "    <tr>\n",
       "      <th>cover_amount_full_band</th>\n",
       "      <td>0</td>\n",
       "      <td>0.000000</td>\n",
       "    </tr>\n",
       "    <tr>\n",
       "      <th>total_funeral_premium_band</th>\n",
       "      <td>0</td>\n",
       "      <td>0.000000</td>\n",
       "    </tr>\n",
       "    <tr>\n",
       "      <th>original_premium_band</th>\n",
       "      <td>0</td>\n",
       "      <td>0.000000</td>\n",
       "    </tr>\n",
       "    <tr>\n",
       "      <th>duration</th>\n",
       "      <td>0</td>\n",
       "      <td>0.000000</td>\n",
       "    </tr>\n",
       "  </tbody>\n",
       "</table>\n",
       "</div>"
      ],
      "text/plain": [
       "                             nulls  percentage nulls\n",
       "policy_name                      0          0.000000\n",
       "age                              0          0.000000\n",
       "education                        0          0.000000\n",
       "gender                           0          0.000000\n",
       "income                           0          0.000000\n",
       "smoker_status                    0          0.000000\n",
       "sold_socio_economic_class        0          0.000000\n",
       "occupation_class                 0          0.000000\n",
       "lead_provider_name               0          0.000000\n",
       "lead_type                        0          0.000000\n",
       "sales_channel                    0          0.000000\n",
       "sale_date                        0          0.000000\n",
       "underwriting_outcome             0          0.000000\n",
       "optionality                      5          0.030097\n",
       "hiv_test_required                0          0.000000\n",
       "eml                              0          0.000000\n",
       "pml                              0          0.000000\n",
       "securitygroup_id                 0          0.000000\n",
       "benefits_count                   0          0.000000\n",
       "last_benefit_amount              0          0.000000\n",
       "cover_amount_full               23          0.138446\n",
       "total_funeral_premium            0          0.000000\n",
       "funeral_count                    0          0.000000\n",
       "original_premium                 0          0.000000\n",
       "duration_policy_start_delay      0          0.000000\n",
       "# calls                          0          0.000000\n",
       "# calls contacted                0          0.000000\n",
       "res_code_QA_sum                  0          0.000000\n",
       "res_code_claims_sum              0          0.000000\n",
       "res_code_no interest_sum         0          0.000000\n",
       "res_code_other_sum               0          0.000000\n",
       "res_code_payment_sum             0          0.000000\n",
       "res_code_quote_sum               0          0.000000\n",
       "res_code_sale_sum                0          0.000000\n",
       "res_code_update_sum              0          0.000000\n",
       "lapse_flag                       0          0.000000\n",
       "inflation                        0          0.000000\n",
       "unemployment rate                0          0.000000\n",
       "3month_lapse                     0          0.000000\n",
       "6month_lapse                     0          0.000000\n",
       "1yr_lapse                        0          0.000000\n",
       "ann_lapse                     6676         40.185397\n",
       "2yr_lapse                        0          0.000000\n",
       "age_band                         0          0.000000\n",
       "income_band                      0          0.000000\n",
       "last_benefit_amount_band         0          0.000000\n",
       "cover_amount_full_band           0          0.000000\n",
       "total_funeral_premium_band       0          0.000000\n",
       "original_premium_band            0          0.000000\n",
       "duration                         0          0.000000"
      ]
     },
     "metadata": {},
     "output_type": "display_data"
    }
   ],
   "source": [
    "data_info=DataPreparation(df=data)\n",
    "display(data_info.null_df)\n",
    "#_______________________________________________________________________________________________________________\n",
    "\n",
    "#scaling numerical, countinous features\n",
    "scale = StandardScaler()\n",
    "column_scale=[ 'age',  'income',  'eml','pml',  'benefits_count',\n",
    "       'last_benefit_amount', 'cover_amount_full', 'total_funeral_premium',\n",
    "       'funeral_count', 'original_premium', 'duration_policy_start_delay',\n",
    "       '# calls', '# calls contacted', 'res_code_QA_sum',\n",
    "       'res_code_claims_sum', 'res_code_no interest_sum', 'res_code_other_sum',\n",
    "       'res_code_payment_sum', 'res_code_quote_sum', 'res_code_sale_sum',\n",
    "       'res_code_update_sum','inflation', 'unemployment rate']\n",
    "data[column_scale] = scale.fit_transform(data[column_scale])\n"
   ]
  },
  {
   "cell_type": "code",
   "execution_count": 77,
   "id": "2babbb27",
   "metadata": {},
   "outputs": [],
   "source": [
    "#dropping unimportant features\n",
    "data.drop(columns=['underwriting_outcome','securitygroup_id','sales_channel',\n",
    " 'age', 'income_band', 'last_benefit_amount_band', 'cover_amount_full_band',\n",
    "       'total_funeral_premium_band', 'original_premium'],inplace=True)\n",
    "\n",
    "#columns to be hot-one encoded\n",
    "categorical_cols=['education', 'gender', 'smoker_status',\n",
    "       'sold_socio_economic_class', 'occupation_class',\n",
    "       'lead_type', 'optionality', 'hiv_test_required', 'age_band',\n",
    "        'original_premium_band']\n",
    "\n"
   ]
  },
  {
   "cell_type": "code",
   "execution_count": 78,
   "id": "68b2c092",
   "metadata": {},
   "outputs": [],
   "source": [
    "#columns with nulls to be imputed and the method of imputation\n",
    "impt_dict={'optionality': 'mode','cover_amount_full':'mean'}\n"
   ]
  },
  {
   "cell_type": "code",
   "execution_count": 79,
   "id": "bb2551bf",
   "metadata": {},
   "outputs": [],
   "source": [
    "data_3m = data[data['duration']>3].copy()\n",
    "data_3m.drop(columns=['sale_date','duration'],inplace=True)\n",
    "\n",
    "data_6m = data[data['duration']>6].copy()\n",
    "data_6m.drop(columns=['sale_date','duration'],inplace=True)\n",
    "\n",
    "data_1y = data[data['duration']>12].copy()\n",
    "data_1y.drop(columns=['sale_date','duration'],inplace=True)\n",
    "\n",
    "data_l = data[data['duration']>13].copy()\n",
    "data_l.drop(columns=['sale_date','duration'],inplace=True)\n",
    "\n",
    "data.drop(columns=['sale_date','duration'],inplace=True)"
   ]
  },
  {
   "cell_type": "markdown",
   "id": "fd539811",
   "metadata": {},
   "source": [
    "## Lapses within 3 Months\n",
    "\n",
    "XGBoost classification model with SMOTE resampling"
   ]
  },
  {
   "cell_type": "markdown",
   "id": "8717fa76",
   "metadata": {},
   "source": [
    "### Training"
   ]
  },
  {
   "cell_type": "code",
   "execution_count": 338,
   "id": "596d5e1a",
   "metadata": {},
   "outputs": [
    {
     "name": "stdout",
     "output_type": "stream",
     "text": [
      "target ratios:  21.28944152950478\n",
      "smote resampling target ratio:  28.571428571428573\n"
     ]
    }
   ],
   "source": [
    "target='3month_lapse'\n",
    "print('target ratios: ',data_3m[target].sum()*100/data_3m[target].count())\n",
    "\n",
    "\n",
    "\n",
    "\n",
    "#split data into training and test sets\n",
    "X_train,x_test, Y_train, y_test = data_prep_train(data_3m,target,column_excl =['policy_name','lapse_flag', \n",
    "       '3month_lapse', '6month_lapse', '1yr_lapse', '2yr_lapse', 'ann_lapse'],cat_cols=categorical_cols,imp_dict=impt_dict)\n",
    "\n",
    "\n",
    "#apply SMOTE resampling\n",
    "sm = SMOTE(sampling_strategy=0.4,random_state=42)\n",
    "X_smote, Y_smote = sm.fit_resample(X_train.copy(), Y_train.copy())\n",
    "print('smote resampling target ratio: ',Y_smote.sum()*100/Y_smote.count())"
   ]
  },
  {
   "cell_type": "code",
   "execution_count": 207,
   "id": "aabccee1",
   "metadata": {},
   "outputs": [],
   "source": [
    "X_train_n=X_train.copy()#X_smote.copy()\n",
    "Y_train_n=Y_train.copy()#Y_smote.copy()\n",
    "b=1\n",
    "fbeta_scorer = make_scorer(fbeta_score, beta=b)\n",
    "scorer=fbeta_scorer\n",
    "\n",
    "#getting best params\n",
    "param_dist = {'n_estimators': randint(50,300),\n",
    "              'min_samples_leaf': randint(700,2000),\n",
    "              'learning_rate': randint(0,3),\n",
    "              'max_depth': randint(3,5)}\n",
    "\n",
    "# Create a XG-Boost classifier\n",
    "xgb = GradientBoostingClassifier()\n",
    "\n",
    "# Use random search to find the best hyperparameters\n",
    "rand_search = RandomizedSearchCV(xgb, \n",
    "                                 param_distributions = param_dist, \n",
    "                                 n_iter=30, \n",
    "                                 cv=5,\n",
    "                                 scoring=scorer,random_state=42)\n",
    "\n",
    "# Fit the random search object to the data\n",
    "rand_search.fit(X_train_n, Y_train_n)\n",
    "\n",
    "n_estimators=rand_search.best_params_['n_estimators']\n",
    "learning_rate = rand_search.best_params_['learning_rate']\n",
    "max_depth = rand_search.best_params_['max_depth']\n",
    "min_samples_leaf=rand_search.best_params_['min_samples_leaf']\n",
    "\n",
    "xgbc = GradientBoostingClassifier(n_estimators = n_estimators,learning_rate=learning_rate,max_depth=max_depth, min_samples_leaf=min_samples_leaf, random_state=42)\n"
   ]
  },
  {
   "cell_type": "code",
   "execution_count": 208,
   "id": "62bb9fe4",
   "metadata": {},
   "outputs": [
    {
     "data": {
      "text/plain": [
       "<sklearn.metrics._plot.confusion_matrix.ConfusionMatrixDisplay at 0x1e80880f4d0>"
      ]
     },
     "execution_count": 208,
     "metadata": {},
     "output_type": "execute_result"
    },
    {
     "data": {
      "image/png": "[encoded data removed]",
      "text/plain": [
       "<Figure size 640x480 with 2 Axes>"
      ]
     },
     "metadata": {},
     "output_type": "display_data"
    }
   ],
   "source": [
    "xgbc.fit(X_train_n.copy(),Y_train_n.copy())\n",
    "y_pred = xgbc.predict(x_test)\n",
    "conf_matrix = confusion_matrix(y_test, y_pred)\n",
    "ConfusionMatrixDisplay(confusion_matrix=conf_matrix).plot()"
   ]
  },
  {
   "cell_type": "code",
   "execution_count": 209,
   "id": "a34d6d13",
   "metadata": {},
   "outputs": [
    {
     "data": {
      "text/plain": [
       "['3month_lapse_model.joblib']"
      ]
     },
     "execution_count": 209,
     "metadata": {},
     "output_type": "execute_result"
    }
   ],
   "source": [
    "joblib.dump(xgbc, '3month_lapse_model.joblib')"
   ]
  },
  {
   "cell_type": "markdown",
   "id": "a8147fc2",
   "metadata": {},
   "source": [
    "## Lapses within 6 months\n",
    "\n",
    "XGBoost classifier"
   ]
  },
  {
   "cell_type": "markdown",
   "id": "ffe7891b",
   "metadata": {},
   "source": [
    "### Training"
   ]
  },
  {
   "cell_type": "code",
   "execution_count": 210,
   "id": "4b8027bb",
   "metadata": {},
   "outputs": [
    {
     "name": "stdout",
     "output_type": "stream",
     "text": [
      "target ratios:  30.976543004491766\n"
     ]
    }
   ],
   "source": [
    "target='6month_lapse'\n",
    "print('target ratios: ',data_6m[target].sum()*100/data_6m[target].count())\n",
    "\n",
    "\n",
    "\n",
    "\n",
    "#split data into training and test sets\n",
    "X_train,x_test, Y_train, y_test = data_prep_train(data_6m,target,column_excl =['policy_name','lapse_flag', \n",
    "       '3month_lapse', '6month_lapse', '1yr_lapse', '2yr_lapse', 'ann_lapse'],cat_cols=categorical_cols,imp_dict=impt_dict)\n",
    "\n"
   ]
  },
  {
   "cell_type": "code",
   "execution_count": 211,
   "id": "515155af",
   "metadata": {},
   "outputs": [],
   "source": [
    "X_train_n=X_train.copy()\n",
    "Y_train_n=Y_train.copy()\n",
    "\n",
    "b=1\n",
    "fbeta_scorer = make_scorer(fbeta_score, beta=b)\n",
    "scorer=fbeta_scorer\n",
    "#getting best params\n",
    "param_dist = {'n_estimators': randint(50,300),\n",
    "              'min_samples_leaf': randint(700,2000),\n",
    "              'learning_rate': randint(0,3),\n",
    "              'max_depth': randint(3,5)}\n",
    "\n",
    "# Create a XG-Boost classifier\n",
    "xgb = GradientBoostingClassifier()\n",
    "\n",
    "# Use random search to find the best hyperparameters\n",
    "rand_search = RandomizedSearchCV(xgb, \n",
    "                                 param_distributions = param_dist, \n",
    "                                 n_iter=30, \n",
    "                                 cv=5,\n",
    "                                 scoring=scorer,random_state=42)\n",
    "\n",
    "# Fit the random search object to the data\n",
    "rand_search.fit(X_train_n, Y_train_n)\n",
    "\n",
    "n_estimators=rand_search.best_params_['n_estimators']\n",
    "learning_rate = rand_search.best_params_['learning_rate']\n",
    "max_depth = rand_search.best_params_['max_depth']\n",
    "min_samples_leaf=rand_search.best_params_['min_samples_leaf']\n",
    " #{'learning_rate': 1, 'max_depth': 4, 'min_samples_leaf': 1385, 'n_estimators': 241} 0.6381045715849234 for b=2 and recall\n",
    "\n",
    "xgbc = GradientBoostingClassifier(n_estimators = n_estimators,learning_rate=learning_rate,max_depth=max_depth, min_samples_leaf=min_samples_leaf, random_state=42)\n"
   ]
  },
  {
   "cell_type": "code",
   "execution_count": 212,
   "id": "8755304a",
   "metadata": {},
   "outputs": [
    {
     "data": {
      "text/plain": [
       "<sklearn.metrics._plot.confusion_matrix.ConfusionMatrixDisplay at 0x1e808850cb0>"
      ]
     },
     "execution_count": 212,
     "metadata": {},
     "output_type": "execute_result"
    },
    {
     "data": {
      "image/png": "[encoded data removed]",
      "text/plain": [
       "<Figure size 640x480 with 2 Axes>"
      ]
     },
     "metadata": {},
     "output_type": "display_data"
    }
   ],
   "source": [
    "xgbc.fit(X_train_n.copy(),Y_train_n.copy())\n",
    "y_pred = xgbc.predict(x_test)\n",
    "conf_matrix = confusion_matrix(y_test, y_pred)\n",
    "ConfusionMatrixDisplay(confusion_matrix=conf_matrix).plot()"
   ]
  },
  {
   "cell_type": "code",
   "execution_count": 213,
   "id": "cfcf4fd9",
   "metadata": {},
   "outputs": [
    {
     "data": {
      "text/plain": [
       "['6month_lapse_model.joblib']"
      ]
     },
     "execution_count": 213,
     "metadata": {},
     "output_type": "execute_result"
    }
   ],
   "source": [
    "joblib.dump(xgbc, '6month_lapse_model.joblib')"
   ]
  },
  {
   "cell_type": "markdown",
   "id": "e6d825c1",
   "metadata": {},
   "source": [
    "## Lapses within 1 year\n",
    "\n",
    "XGBoost classifier"
   ]
  },
  {
   "cell_type": "markdown",
   "id": "9bb002d6",
   "metadata": {},
   "source": [
    "### Training"
   ]
  },
  {
   "cell_type": "code",
   "execution_count": 214,
   "id": "e06c553c",
   "metadata": {},
   "outputs": [
    {
     "name": "stdout",
     "output_type": "stream",
     "text": [
      "target ratios:  47.7592992255935\n"
     ]
    }
   ],
   "source": [
    "target='1yr_lapse'\n",
    "print('target ratios: ',data_1y[target].sum()*100/data_1y[target].count())\n",
    "\n",
    "\n",
    "#split data into training and test sets\n",
    "X_train,x_test, Y_train, y_test = data_prep_train(data_1y,target,column_excl =['policy_name','lapse_flag', \n",
    "       '3month_lapse', '6month_lapse', '1yr_lapse', '2yr_lapse', 'ann_lapse'],cat_cols=categorical_cols,imp_dict=impt_dict)\n",
    "\n",
    "\n"
   ]
  },
  {
   "cell_type": "code",
   "execution_count": 215,
   "id": "68f24055",
   "metadata": {},
   "outputs": [],
   "source": [
    "X_train_n=X_train.copy()\n",
    "Y_train_n=Y_train.copy()\n",
    "\n",
    "b=1\n",
    "fbeta_scorer = make_scorer(fbeta_score, beta=b)\n",
    "scorer=fbeta_scorer\n",
    "#getting best params\n",
    "param_dist = {'n_estimators': randint(50,300),\n",
    "              'min_samples_leaf': randint(700,2000),\n",
    "              'learning_rate': randint(0,3),\n",
    "              'max_depth': randint(3,5)}\n",
    "\n",
    "# Create a XG-Boost classifier\n",
    "xgb = GradientBoostingClassifier()\n",
    "\n",
    "# Use random search to find the best hyperparameters\n",
    "rand_search = RandomizedSearchCV(xgb, \n",
    "                                 param_distributions = param_dist, \n",
    "                                 n_iter=30, \n",
    "                                 cv=5,\n",
    "                                 scoring=scorer,random_state=42)\n",
    "\n",
    "# Fit the random search object to the data\n",
    "rand_search.fit(X_train_n, Y_train_n)\n",
    "\n",
    "n_estimators=rand_search.best_params_['n_estimators']\n",
    "learning_rate = rand_search.best_params_['learning_rate']\n",
    "max_depth = rand_search.best_params_['max_depth']\n",
    "min_samples_leaf=rand_search.best_params_['min_samples_leaf']\n",
    " #{'learning_rate': 1, 'max_depth': 4, 'min_samples_leaf': 1385, 'n_estimators': 241} 0.6381045715849234 for b=2 and recall\n",
    "\n",
    "xgbc = GradientBoostingClassifier(n_estimators = n_estimators,learning_rate=learning_rate,max_depth=max_depth, min_samples_leaf=min_samples_leaf, random_state=42)\n"
   ]
  },
  {
   "cell_type": "code",
   "execution_count": 216,
   "id": "0e5bf7bd",
   "metadata": {},
   "outputs": [
    {
     "data": {
      "text/plain": [
       "<sklearn.metrics._plot.confusion_matrix.ConfusionMatrixDisplay at 0x1e8025c2d20>"
      ]
     },
     "execution_count": 216,
     "metadata": {},
     "output_type": "execute_result"
    },
    {
     "data": {
      "image/png": "[encoded data removed]",
      "text/plain": [
       "<Figure size 640x480 with 2 Axes>"
      ]
     },
     "metadata": {},
     "output_type": "display_data"
    }
   ],
   "source": [
    "xgbc.fit(X_train_n.copy(),Y_train_n.copy())\n",
    "y_pred = xgbc.predict(x_test)\n",
    "conf_matrix = confusion_matrix(y_test, y_pred)\n",
    "ConfusionMatrixDisplay(confusion_matrix=conf_matrix).plot()"
   ]
  },
  {
   "cell_type": "code",
   "execution_count": 217,
   "id": "6218c613",
   "metadata": {},
   "outputs": [
    {
     "data": {
      "text/plain": [
       "['1year_lapse_model.joblib']"
      ]
     },
     "execution_count": 217,
     "metadata": {},
     "output_type": "execute_result"
    }
   ],
   "source": [
    "joblib.dump(xgbc, '1year_lapse_model.joblib')"
   ]
  },
  {
   "cell_type": "markdown",
   "id": "255cfd5f",
   "metadata": {},
   "source": [
    "## Lapse \n",
    "XGBoost classifier model"
   ]
  },
  {
   "cell_type": "markdown",
   "id": "27c0c936",
   "metadata": {},
   "source": [
    "### Training"
   ]
  },
  {
   "cell_type": "code",
   "execution_count": null,
   "id": "8f39de34",
   "metadata": {},
   "outputs": [
    {
     "name": "stdout",
     "output_type": "stream",
     "text": [
      "target ratios:  50.490579666526216\n"
     ]
    }
   ],
   "source": [
    "target='lapse_flag'\n",
    "print('target ratios: ',data_l[target].sum()*100/data_l[target].count())\n",
    "\n",
    "\n",
    "#split data into training and test sets\n",
    "X_train,x_test, Y_train, y_test = data_prep_train(data_l,target,column_excl =['policy_name','lapse_flag', \n",
    "       '3month_lapse', '6month_lapse', '1yr_lapse', '2yr_lapse', 'ann_lapse'],cat_cols=categorical_cols,imp_dict=impt_dict)\n",
    "\n",
    "\n"
   ]
  },
  {
   "cell_type": "code",
   "execution_count": 81,
   "id": "403a83b0",
   "metadata": {},
   "outputs": [],
   "source": [
    "X_train_n=X_train.copy()\n",
    "Y_train_n=Y_train.copy()\n",
    "b=1\n",
    "fbeta_scorer = make_scorer(fbeta_score, beta=b)\n",
    "scorer=fbeta_scorer\n",
    "#getting best params\n",
    "param_dist = {'n_estimators': randint(50,300),\n",
    "              'min_samples_leaf': randint(700,2000),\n",
    "              'learning_rate': randint(0,3),\n",
    "              'max_depth': randint(3,5)}\n",
    "\n",
    "# Create a XG-Boost classifier\n",
    "xgb = GradientBoostingClassifier()\n",
    "\n",
    "# Use random search to find the best hyperparameters\n",
    "\n",
    "rand_search = RandomizedSearchCV(xgb, \n",
    "                                 param_distributions = param_dist, \n",
    "                                 n_iter=30, \n",
    "                                 cv=5,\n",
    "                                 scoring=scorer,random_state=42)\n",
    "\n",
    "# Fit the random search object to the data\n",
    "rand_search.fit(X_train_n, Y_train_n)\n",
    "\n",
    "n_estimators=rand_search.best_params_['n_estimators']\n",
    "learning_rate = rand_search.best_params_['learning_rate']\n",
    "max_depth = rand_search.best_params_['max_depth']\n",
    "min_samples_leaf=rand_search.best_params_['min_samples_leaf']\n",
    " #{'learning_rate': 1, 'max_depth': 4, 'min_samples_leaf': 1385, 'n_estimators': 241} 0.6381045715849234 for b=2 and recall\n",
    "\n",
    "xgbc = GradientBoostingClassifier(n_estimators = n_estimators,learning_rate=learning_rate,max_depth=max_depth, min_samples_leaf=min_samples_leaf, random_state=42)\n"
   ]
  },
  {
   "cell_type": "code",
   "execution_count": 82,
   "id": "2ff056a4",
   "metadata": {},
   "outputs": [
    {
     "data": {
      "text/plain": [
       "<sklearn.metrics._plot.confusion_matrix.ConfusionMatrixDisplay at 0x192cfa6c6e0>"
      ]
     },
     "execution_count": 82,
     "metadata": {},
     "output_type": "execute_result"
    },
    {
     "data": {
      "image/png": "[encoded data removed]",
      "text/plain": [
       "<Figure size 640x480 with 2 Axes>"
      ]
     },
     "metadata": {},
     "output_type": "display_data"
    }
   ],
   "source": [
    "xgbc.fit(X_train_n.copy(),Y_train_n.copy())\n",
    "y_pred = xgbc.predict(x_test)\n",
    "conf_matrix = confusion_matrix(y_test, y_pred)\n",
    "ConfusionMatrixDisplay(confusion_matrix=conf_matrix).plot()"
   ]
  },
  {
   "cell_type": "code",
   "execution_count": 83,
   "id": "fcd548f1",
   "metadata": {},
   "outputs": [
    {
     "data": {
      "text/plain": [
       "['lapse_model.joblib']"
      ]
     },
     "execution_count": 83,
     "metadata": {},
     "output_type": "execute_result"
    }
   ],
   "source": [
    "joblib.dump(xgbc, 'lapse_model.joblib')"
   ]
  },
  {
   "cell_type": "markdown",
   "id": "b31d75b2",
   "metadata": {},
   "source": [
    "## Anniversary lapses\n",
    "\n",
    "XGBoost classifier model with SMOTE resampled data"
   ]
  },
  {
   "cell_type": "markdown",
   "id": "2271fbaf",
   "metadata": {},
   "source": [
    "### Training"
   ]
  },
  {
   "cell_type": "code",
   "execution_count": 230,
   "id": "023be39a",
   "metadata": {},
   "outputs": [
    {
     "name": "stdout",
     "output_type": "stream",
     "text": [
      "target ratios:  15.115225923316897\n",
      "target ratios:  15.121398918102907\n",
      "smote resampling target ratio:  28.56537850714664\n"
     ]
    }
   ],
   "source": [
    "target='ann_lapse'\n",
    "print('target ratios: ',data[target].sum()*100/data[target].count())\n",
    "\n",
    "\n",
    "#split data into training and test sets\n",
    "X_train,x_test, Y_train, y_test = data_prep_train(data,target,column_excl =['policy_name','lapse_flag', \n",
    "       '3month_lapse', '6month_lapse', '1yr_lapse', '2yr_lapse','ann_lapse'],cat_cols=categorical_cols,filter='ann_lapse',imp_dict=impt_dict)\n",
    "print('target ratios: ',Y_train.sum()*100/Y_train.count())\n",
    "\n",
    "#apply SMOTE resampling\n",
    "sm = SMOTE(sampling_strategy=0.4,random_state=42)\n",
    "X_smote, Y_smote = sm.fit_resample(X_train.copy(), Y_train.copy())\n",
    "print('smote resampling target ratio: ',Y_smote.sum()*100/Y_smote.count())\n"
   ]
  },
  {
   "cell_type": "code",
   "execution_count": 231,
   "id": "8e2f86d7",
   "metadata": {},
   "outputs": [
    {
     "name": "stdout",
     "output_type": "stream",
     "text": [
      "{'learning_rate': 1, 'max_depth': 4, 'min_samples_leaf': 861, 'n_estimators': 251}\n"
     ]
    }
   ],
   "source": [
    "X_train_n=X_train.copy()#X_smote.copy()\n",
    "Y_train_n=Y_train.copy()#Y_smote.copy()\n",
    "b=1\n",
    "fbeta_scorer = make_scorer(fbeta_score, beta=b)\n",
    "scorer=fbeta_scorer\n",
    "#getting best params\n",
    "param_dist = {'n_estimators': randint(50,300),\n",
    "              'min_samples_leaf': randint(700,2000),\n",
    "              'learning_rate': randint(0,3),\n",
    "              'max_depth': randint(3,5)}\n",
    "\n",
    "# Create a XG-Boost classifier\n",
    "xgb = GradientBoostingClassifier()\n",
    "\n",
    "# Use random search to find the best hyperparameters\n",
    "\n",
    "rand_search = RandomizedSearchCV(xgb, \n",
    "                                 param_distributions = param_dist, \n",
    "                                 n_iter=30, \n",
    "                                 cv=5,\n",
    "                                 scoring=scorer,random_state=42)\n",
    "\n",
    "# Fit the random search object to the data\n",
    "rand_search.fit(X_train_n, Y_train_n)\n",
    "\n",
    "n_estimators=rand_search.best_params_['n_estimators']\n",
    "learning_rate = rand_search.best_params_['learning_rate']\n",
    "max_depth = rand_search.best_params_['max_depth']\n",
    "min_samples_leaf=rand_search.best_params_['min_samples_leaf']\n",
    "print(rand_search.best_params_)\n",
    "\n",
    "xgbc = GradientBoostingClassifier(n_estimators = n_estimators,learning_rate=learning_rate,max_depth=max_depth, min_samples_leaf=min_samples_leaf, random_state=42)"
   ]
  },
  {
   "cell_type": "code",
   "execution_count": 232,
   "id": "a0e093de",
   "metadata": {},
   "outputs": [
    {
     "name": "stdout",
     "output_type": "stream",
     "text": [
      "{'learning_rate': 1, 'max_depth': 4, 'min_samples_leaf': 861, 'n_estimators': 251}\n"
     ]
    }
   ],
   "source": [
    "print(rand_search.best_params_)"
   ]
  },
  {
   "cell_type": "code",
   "execution_count": 233,
   "id": "cf8c8811",
   "metadata": {},
   "outputs": [
    {
     "data": {
      "text/plain": [
       "<sklearn.metrics._plot.confusion_matrix.ConfusionMatrixDisplay at 0x1e80796dd30>"
      ]
     },
     "execution_count": 233,
     "metadata": {},
     "output_type": "execute_result"
    },
    {
     "data": {
      "image/png": "[encoded data removed]",
      "text/plain": [
       "<Figure size 640x480 with 2 Axes>"
      ]
     },
     "metadata": {},
     "output_type": "display_data"
    }
   ],
   "source": [
    "xgbc.fit(X_train_n.copy(),Y_train_n.copy())\n",
    "y_pred = xgbc.predict(x_test)\n",
    "conf_matrix = confusion_matrix(y_test, y_pred)\n",
    "ConfusionMatrixDisplay(confusion_matrix=conf_matrix).plot()"
   ]
  },
  {
   "cell_type": "code",
   "execution_count": 234,
   "id": "d56d8390",
   "metadata": {},
   "outputs": [
    {
     "data": {
      "text/plain": [
       "['ann_lapse_model.joblib']"
      ]
     },
     "execution_count": 234,
     "metadata": {},
     "output_type": "execute_result"
    }
   ],
   "source": [
    "joblib.dump(xgbc, 'ann_lapse_model.joblib')"
   ]
  },
  {
   "cell_type": "markdown",
   "id": "edd332e8",
   "metadata": {},
   "source": [
    "# Scoring data"
   ]
  },
  {
   "cell_type": "markdown",
   "id": "e1981709",
   "metadata": {},
   "source": [
    "## Load data"
   ]
  },
  {
   "cell_type": "code",
   "execution_count": 84,
   "id": "08e2d380",
   "metadata": {},
   "outputs": [],
   "source": [
    "\n",
    "path=\"C:/Users/E1005279/OneDrive - Sanlam Life Insurance Limited/MWL/Lapse Rate Projections/Data/AtIncept-2025/\"\n",
    "data_score=pd.DataFrame(pd.read_csv(path+\"at_incpt_score_data.csv\"))\n",
    "data_score.drop(columns=['Unnamed: 0'],inplace=True)\n"
   ]
  },
  {
   "cell_type": "code",
   "execution_count": 91,
   "id": "16a07dd5",
   "metadata": {},
   "outputs": [],
   "source": [
    "new_data = x_test.copy()\n",
    "duplicated_cols = new_data.columns.duplicated()\n",
    "new_data = new_data.loc[:, ~duplicated_cols]\n",
    "pol_names = pd.DataFrame({'index':data.index,'policy_name':data['policy_name']})\n",
    "new_data['index']=new_data.index\n",
    "new_data = pd.merge(new_data,pol_names,on='index',how='left')\n",
    "new_data.drop(columns=['index'],inplace=True)\n",
    "\n",
    "model_file='Models/3month_lapse_model.joblib'#'Models/3month_lapse_model.joblib'\n",
    "m3_model = joblib.load(model_file)\n",
    "add_features=list(set(m3_model.feature_names_in_).difference(set(new_data.columns)))\n",
    "for feat in add_features:\n",
    "    new_data[feat] = 0"
   ]
  },
  {
   "cell_type": "code",
   "execution_count": 85,
   "id": "2257b270",
   "metadata": {},
   "outputs": [
    {
     "data": {
      "application/vnd.microsoft.datawrangler.viewer.v0+json": {
       "columns": [
        {
         "name": "index",
         "rawType": "object",
         "type": "string"
        },
        {
         "name": "nulls",
         "rawType": "int64",
         "type": "integer"
        },
        {
         "name": "percentage nulls",
         "rawType": "float64",
         "type": "float"
        }
       ],
       "ref": "fb4aa7fd-4ddb-475b-a2ce-013a3f77a886",
       "rows": [
        [
         "policy_name",
         "0",
         "0.0"
        ],
        [
         "age",
         "0",
         "0.0"
        ],
        [
         "education",
         "0",
         "0.0"
        ],
        [
         "gender",
         "0",
         "0.0"
        ],
        [
         "income",
         "0",
         "0.0"
        ],
        [
         "smoker_status",
         "0",
         "0.0"
        ],
        [
         "sold_socio_economic_class",
         "0",
         "0.0"
        ],
        [
         "occupation_class",
         "0",
         "0.0"
        ],
        [
         "lead_provider_name",
         "0",
         "0.0"
        ],
        [
         "lead_type",
         "0",
         "0.0"
        ],
        [
         "sales_channel",
         "0",
         "0.0"
        ],
        [
         "underwriting_outcome",
         "0",
         "0.0"
        ],
        [
         "optionality",
         "20",
         "0.34946706272933775"
        ],
        [
         "hiv_test_required",
         "0",
         "0.0"
        ],
        [
         "eml",
         "0",
         "0.0"
        ],
        [
         "pml",
         "0",
         "0.0"
        ],
        [
         "securitygroup_id",
         "0",
         "0.0"
        ],
        [
         "benefits_count",
         "0",
         "0.0"
        ],
        [
         "last_benefit_amount",
         "0",
         "0.0"
        ],
        [
         "cover_amount_full",
         "0",
         "0.0"
        ],
        [
         "total_funeral_premium",
         "0",
         "0.0"
        ],
        [
         "funeral_count",
         "0",
         "0.0"
        ],
        [
         "original_premium",
         "0",
         "0.0"
        ],
        [
         "duration_policy_start_delay",
         "0",
         "0.0"
        ],
        [
         "# calls",
         "0",
         "0.0"
        ],
        [
         "# calls contacted",
         "0",
         "0.0"
        ],
        [
         "res_code_QA_sum",
         "0",
         "0.0"
        ],
        [
         "res_code_claims_sum",
         "0",
         "0.0"
        ],
        [
         "res_code_no interest_sum",
         "0",
         "0.0"
        ],
        [
         "res_code_other_sum",
         "0",
         "0.0"
        ],
        [
         "res_code_payment_sum",
         "0",
         "0.0"
        ],
        [
         "res_code_quote_sum",
         "0",
         "0.0"
        ],
        [
         "res_code_sale_sum",
         "0",
         "0.0"
        ],
        [
         "res_code_update_sum",
         "0",
         "0.0"
        ],
        [
         "lapse_flag",
         "0",
         "0.0"
        ],
        [
         "inflation",
         "0",
         "0.0"
        ],
        [
         "unemployment rate",
         "0",
         "0.0"
        ],
        [
         "3month_lapse",
         "0",
         "0.0"
        ],
        [
         "6month_lapse",
         "0",
         "0.0"
        ],
        [
         "1yr_lapse",
         "0",
         "0.0"
        ],
        [
         "ann_lapse",
         "5721",
         "99.96505329372707"
        ],
        [
         "2yr_lapse",
         "0",
         "0.0"
        ],
        [
         "age_band",
         "0",
         "0.0"
        ],
        [
         "income_band",
         "0",
         "0.0"
        ],
        [
         "last_benefit_amount_band",
         "0",
         "0.0"
        ],
        [
         "cover_amount_full_band",
         "0",
         "0.0"
        ],
        [
         "total_funeral_premium_band",
         "0",
         "0.0"
        ],
        [
         "original_premium_band",
         "0",
         "0.0"
        ],
        [
         "score_data",
         "0",
         "0.0"
        ]
       ],
       "shape": {
        "columns": 2,
        "rows": 49
       }
      },
      "text/html": [
       "<div>\n",
       "<style scoped>\n",
       "    .dataframe tbody tr th:only-of-type {\n",
       "        vertical-align: middle;\n",
       "    }\n",
       "\n",
       "    .dataframe tbody tr th {\n",
       "        vertical-align: top;\n",
       "    }\n",
       "\n",
       "    .dataframe thead th {\n",
       "        text-align: right;\n",
       "    }\n",
       "</style>\n",
       "<table border=\"1\" class=\"dataframe\">\n",
       "  <thead>\n",
       "    <tr style=\"text-align: right;\">\n",
       "      <th></th>\n",
       "      <th>nulls</th>\n",
       "      <th>percentage nulls</th>\n",
       "    </tr>\n",
       "  </thead>\n",
       "  <tbody>\n",
       "    <tr>\n",
       "      <th>policy_name</th>\n",
       "      <td>0</td>\n",
       "      <td>0.000000</td>\n",
       "    </tr>\n",
       "    <tr>\n",
       "      <th>age</th>\n",
       "      <td>0</td>\n",
       "      <td>0.000000</td>\n",
       "    </tr>\n",
       "    <tr>\n",
       "      <th>education</th>\n",
       "      <td>0</td>\n",
       "      <td>0.000000</td>\n",
       "    </tr>\n",
       "    <tr>\n",
       "      <th>gender</th>\n",
       "      <td>0</td>\n",
       "      <td>0.000000</td>\n",
       "    </tr>\n",
       "    <tr>\n",
       "      <th>income</th>\n",
       "      <td>0</td>\n",
       "      <td>0.000000</td>\n",
       "    </tr>\n",
       "    <tr>\n",
       "      <th>smoker_status</th>\n",
       "      <td>0</td>\n",
       "      <td>0.000000</td>\n",
       "    </tr>\n",
       "    <tr>\n",
       "      <th>sold_socio_economic_class</th>\n",
       "      <td>0</td>\n",
       "      <td>0.000000</td>\n",
       "    </tr>\n",
       "    <tr>\n",
       "      <th>occupation_class</th>\n",
       "      <td>0</td>\n",
       "      <td>0.000000</td>\n",
       "    </tr>\n",
       "    <tr>\n",
       "      <th>lead_provider_name</th>\n",
       "      <td>0</td>\n",
       "      <td>0.000000</td>\n",
       "    </tr>\n",
       "    <tr>\n",
       "      <th>lead_type</th>\n",
       "      <td>0</td>\n",
       "      <td>0.000000</td>\n",
       "    </tr>\n",
       "    <tr>\n",
       "      <th>sales_channel</th>\n",
       "      <td>0</td>\n",
       "      <td>0.000000</td>\n",
       "    </tr>\n",
       "    <tr>\n",
       "      <th>underwriting_outcome</th>\n",
       "      <td>0</td>\n",
       "      <td>0.000000</td>\n",
       "    </tr>\n",
       "    <tr>\n",
       "      <th>optionality</th>\n",
       "      <td>20</td>\n",
       "      <td>0.349467</td>\n",
       "    </tr>\n",
       "    <tr>\n",
       "      <th>hiv_test_required</th>\n",
       "      <td>0</td>\n",
       "      <td>0.000000</td>\n",
       "    </tr>\n",
       "    <tr>\n",
       "      <th>eml</th>\n",
       "      <td>0</td>\n",
       "      <td>0.000000</td>\n",
       "    </tr>\n",
       "    <tr>\n",
       "      <th>pml</th>\n",
       "      <td>0</td>\n",
       "      <td>0.000000</td>\n",
       "    </tr>\n",
       "    <tr>\n",
       "      <th>securitygroup_id</th>\n",
       "      <td>0</td>\n",
       "      <td>0.000000</td>\n",
       "    </tr>\n",
       "    <tr>\n",
       "      <th>benefits_count</th>\n",
       "      <td>0</td>\n",
       "      <td>0.000000</td>\n",
       "    </tr>\n",
       "    <tr>\n",
       "      <th>last_benefit_amount</th>\n",
       "      <td>0</td>\n",
       "      <td>0.000000</td>\n",
       "    </tr>\n",
       "    <tr>\n",
       "      <th>cover_amount_full</th>\n",
       "      <td>0</td>\n",
       "      <td>0.000000</td>\n",
       "    </tr>\n",
       "    <tr>\n",
       "      <th>total_funeral_premium</th>\n",
       "      <td>0</td>\n",
       "      <td>0.000000</td>\n",
       "    </tr>\n",
       "    <tr>\n",
       "      <th>funeral_count</th>\n",
       "      <td>0</td>\n",
       "      <td>0.000000</td>\n",
       "    </tr>\n",
       "    <tr>\n",
       "      <th>original_premium</th>\n",
       "      <td>0</td>\n",
       "      <td>0.000000</td>\n",
       "    </tr>\n",
       "    <tr>\n",
       "      <th>duration_policy_start_delay</th>\n",
       "      <td>0</td>\n",
       "      <td>0.000000</td>\n",
       "    </tr>\n",
       "    <tr>\n",
       "      <th># calls</th>\n",
       "      <td>0</td>\n",
       "      <td>0.000000</td>\n",
       "    </tr>\n",
       "    <tr>\n",
       "      <th># calls contacted</th>\n",
       "      <td>0</td>\n",
       "      <td>0.000000</td>\n",
       "    </tr>\n",
       "    <tr>\n",
       "      <th>res_code_QA_sum</th>\n",
       "      <td>0</td>\n",
       "      <td>0.000000</td>\n",
       "    </tr>\n",
       "    <tr>\n",
       "      <th>res_code_claims_sum</th>\n",
       "      <td>0</td>\n",
       "      <td>0.000000</td>\n",
       "    </tr>\n",
       "    <tr>\n",
       "      <th>res_code_no interest_sum</th>\n",
       "      <td>0</td>\n",
       "      <td>0.000000</td>\n",
       "    </tr>\n",
       "    <tr>\n",
       "      <th>res_code_other_sum</th>\n",
       "      <td>0</td>\n",
       "      <td>0.000000</td>\n",
       "    </tr>\n",
       "    <tr>\n",
       "      <th>res_code_payment_sum</th>\n",
       "      <td>0</td>\n",
       "      <td>0.000000</td>\n",
       "    </tr>\n",
       "    <tr>\n",
       "      <th>res_code_quote_sum</th>\n",
       "      <td>0</td>\n",
       "      <td>0.000000</td>\n",
       "    </tr>\n",
       "    <tr>\n",
       "      <th>res_code_sale_sum</th>\n",
       "      <td>0</td>\n",
       "      <td>0.000000</td>\n",
       "    </tr>\n",
       "    <tr>\n",
       "      <th>res_code_update_sum</th>\n",
       "      <td>0</td>\n",
       "      <td>0.000000</td>\n",
       "    </tr>\n",
       "    <tr>\n",
       "      <th>lapse_flag</th>\n",
       "      <td>0</td>\n",
       "      <td>0.000000</td>\n",
       "    </tr>\n",
       "    <tr>\n",
       "      <th>inflation</th>\n",
       "      <td>0</td>\n",
       "      <td>0.000000</td>\n",
       "    </tr>\n",
       "    <tr>\n",
       "      <th>unemployment rate</th>\n",
       "      <td>0</td>\n",
       "      <td>0.000000</td>\n",
       "    </tr>\n",
       "    <tr>\n",
       "      <th>3month_lapse</th>\n",
       "      <td>0</td>\n",
       "      <td>0.000000</td>\n",
       "    </tr>\n",
       "    <tr>\n",
       "      <th>6month_lapse</th>\n",
       "      <td>0</td>\n",
       "      <td>0.000000</td>\n",
       "    </tr>\n",
       "    <tr>\n",
       "      <th>1yr_lapse</th>\n",
       "      <td>0</td>\n",
       "      <td>0.000000</td>\n",
       "    </tr>\n",
       "    <tr>\n",
       "      <th>ann_lapse</th>\n",
       "      <td>5721</td>\n",
       "      <td>99.965053</td>\n",
       "    </tr>\n",
       "    <tr>\n",
       "      <th>2yr_lapse</th>\n",
       "      <td>0</td>\n",
       "      <td>0.000000</td>\n",
       "    </tr>\n",
       "    <tr>\n",
       "      <th>age_band</th>\n",
       "      <td>0</td>\n",
       "      <td>0.000000</td>\n",
       "    </tr>\n",
       "    <tr>\n",
       "      <th>income_band</th>\n",
       "      <td>0</td>\n",
       "      <td>0.000000</td>\n",
       "    </tr>\n",
       "    <tr>\n",
       "      <th>last_benefit_amount_band</th>\n",
       "      <td>0</td>\n",
       "      <td>0.000000</td>\n",
       "    </tr>\n",
       "    <tr>\n",
       "      <th>cover_amount_full_band</th>\n",
       "      <td>0</td>\n",
       "      <td>0.000000</td>\n",
       "    </tr>\n",
       "    <tr>\n",
       "      <th>total_funeral_premium_band</th>\n",
       "      <td>0</td>\n",
       "      <td>0.000000</td>\n",
       "    </tr>\n",
       "    <tr>\n",
       "      <th>original_premium_band</th>\n",
       "      <td>0</td>\n",
       "      <td>0.000000</td>\n",
       "    </tr>\n",
       "    <tr>\n",
       "      <th>score_data</th>\n",
       "      <td>0</td>\n",
       "      <td>0.000000</td>\n",
       "    </tr>\n",
       "  </tbody>\n",
       "</table>\n",
       "</div>"
      ],
      "text/plain": [
       "                             nulls  percentage nulls\n",
       "policy_name                      0          0.000000\n",
       "age                              0          0.000000\n",
       "education                        0          0.000000\n",
       "gender                           0          0.000000\n",
       "income                           0          0.000000\n",
       "smoker_status                    0          0.000000\n",
       "sold_socio_economic_class        0          0.000000\n",
       "occupation_class                 0          0.000000\n",
       "lead_provider_name               0          0.000000\n",
       "lead_type                        0          0.000000\n",
       "sales_channel                    0          0.000000\n",
       "underwriting_outcome             0          0.000000\n",
       "optionality                     20          0.349467\n",
       "hiv_test_required                0          0.000000\n",
       "eml                              0          0.000000\n",
       "pml                              0          0.000000\n",
       "securitygroup_id                 0          0.000000\n",
       "benefits_count                   0          0.000000\n",
       "last_benefit_amount              0          0.000000\n",
       "cover_amount_full                0          0.000000\n",
       "total_funeral_premium            0          0.000000\n",
       "funeral_count                    0          0.000000\n",
       "original_premium                 0          0.000000\n",
       "duration_policy_start_delay      0          0.000000\n",
       "# calls                          0          0.000000\n",
       "# calls contacted                0          0.000000\n",
       "res_code_QA_sum                  0          0.000000\n",
       "res_code_claims_sum              0          0.000000\n",
       "res_code_no interest_sum         0          0.000000\n",
       "res_code_other_sum               0          0.000000\n",
       "res_code_payment_sum             0          0.000000\n",
       "res_code_quote_sum               0          0.000000\n",
       "res_code_sale_sum                0          0.000000\n",
       "res_code_update_sum              0          0.000000\n",
       "lapse_flag                       0          0.000000\n",
       "inflation                        0          0.000000\n",
       "unemployment rate                0          0.000000\n",
       "3month_lapse                     0          0.000000\n",
       "6month_lapse                     0          0.000000\n",
       "1yr_lapse                        0          0.000000\n",
       "ann_lapse                     5721         99.965053\n",
       "2yr_lapse                        0          0.000000\n",
       "age_band                         0          0.000000\n",
       "income_band                      0          0.000000\n",
       "last_benefit_amount_band         0          0.000000\n",
       "cover_amount_full_band           0          0.000000\n",
       "total_funeral_premium_band       0          0.000000\n",
       "original_premium_band            0          0.000000\n",
       "score_data                       0          0.000000"
      ]
     },
     "metadata": {},
     "output_type": "display_data"
    }
   ],
   "source": [
    "data_info=DataPreparation(df=data_score)\n",
    "display(data_info.null_df)\n",
    "#_______________________________________________________________________________________________________________\n",
    "\n",
    "#scaling numerical, countinous features\n",
    "scale = StandardScaler()\n",
    "column_scale=[ 'age',  'income',  'eml','pml',  'benefits_count',\n",
    "       'last_benefit_amount', 'cover_amount_full', 'total_funeral_premium',\n",
    "       'funeral_count', 'original_premium', 'duration_policy_start_delay',\n",
    "       '# calls', '# calls contacted', 'res_code_QA_sum',\n",
    "       'res_code_claims_sum', 'res_code_no interest_sum', 'res_code_other_sum',\n",
    "       'res_code_payment_sum', 'res_code_quote_sum', 'res_code_sale_sum',\n",
    "       'res_code_update_sum','inflation', 'unemployment rate']\n",
    "data_score[column_scale] = scale.fit_transform(data_score[column_scale])\n"
   ]
  },
  {
   "cell_type": "code",
   "execution_count": 86,
   "id": "e4f0e5e2",
   "metadata": {},
   "outputs": [],
   "source": [
    "#dropping unimportant features\n",
    "data_score.drop(columns=['underwriting_outcome','securitygroup_id','sales_channel',\n",
    " 'age', 'income_band', 'last_benefit_amount_band', 'cover_amount_full_band',\n",
    "       'total_funeral_premium_band', 'original_premium'],inplace=True)\n",
    "\n",
    "#columns to be hot-one encoded\n",
    "categorical_cols=['education', 'gender', 'smoker_status',\n",
    "       'sold_socio_economic_class', 'occupation_class',\n",
    "       'lead_type', 'optionality', 'hiv_test_required', 'age_band',\n",
    "        'original_premium_band']\n",
    "\n"
   ]
  },
  {
   "cell_type": "code",
   "execution_count": 87,
   "id": "ec8f509d",
   "metadata": {},
   "outputs": [],
   "source": [
    "#columns with nulls to be imputed and the method of imputation\n",
    "impt_dict={'optionality': 'mode','cover_amount_full':'mean'}"
   ]
  },
  {
   "cell_type": "markdown",
   "id": "6f5110c4",
   "metadata": {},
   "source": [
    "## Scoring"
   ]
  },
  {
   "cell_type": "code",
   "execution_count": 92,
   "id": "933bc82c",
   "metadata": {},
   "outputs": [],
   "source": [
    "## Model for scoring\n",
    "model_file='Models/3month_lapse_model.joblib'\n",
    "m3_model = joblib.load(model_file)\n",
    "#new_data = data_prep_score(data_score,model_features=set(m3_model.feature_names_in_),cat_cols=categorical_cols,imp_dict=impt_dict)\n",
    "score_data = new_data.loc[:, list(m3_model.feature_names_in_)].copy()\n",
    "m3_prediction = m3_model.predict(score_data)\n",
    "m3_prob = m3_model.predict_proba(score_data)\n",
    "\n",
    "model_file='Models/6month_lapse_model.joblib'\n",
    "m6_model = joblib.load(model_file)\n",
    "score_data = new_data.loc[:, list(m6_model.feature_names_in_)].copy()\n",
    "m6_prediction = m6_model.predict(score_data)\n",
    "m6_prob = m6_model.predict_proba(score_data)\n",
    "\n",
    "model_file='Models/1year_lapse_model.joblib'\n",
    "y1_model = joblib.load(model_file)\n",
    "score_data = new_data.loc[:, list(y1_model.feature_names_in_)].copy()\n",
    "y1_prediction = y1_model.predict(score_data)\n",
    "y1_prob = y1_model.predict_proba(score_data)\n",
    "\n",
    "model_file='lapse_model.joblib'#'Models/lapse_model.joblib'\n",
    "lapse_model = joblib.load(model_file)\n",
    "score_data = new_data.loc[:, list(lapse_model.feature_names_in_)].copy()\n",
    "lapse_prediction = lapse_model.predict(score_data)\n",
    "lapse_prob = lapse_model.predict_proba(score_data)\n",
    "\n",
    "model_file='Models/ann_lapse_model.joblib'\n",
    "ann_lapse_model = joblib.load(model_file)\n",
    "score_data = new_data.loc[:, list(ann_lapse_model.feature_names_in_)].copy()\n",
    "ann_prediction = ann_lapse_model.predict(score_data)\n",
    "ann_prob = ann_lapse_model.predict_proba(score_data)\n",
    "\n"
   ]
  },
  {
   "cell_type": "code",
   "execution_count": 93,
   "id": "0d8d8573",
   "metadata": {},
   "outputs": [],
   "source": [
    "new_data['pred 3m lapse']=m3_prediction\n",
    "new_data['prob 3m lapse']=m3_prob[:,1]\n",
    "new_data['pred 6m lapse']=m6_prediction\n",
    "new_data['prob 6m lapse']=m6_prob[:,1]\n",
    "new_data['pred y1 lapse']=y1_prediction\n",
    "new_data['prob y1 lapse']=y1_prob[:,1]\n",
    "new_data['pred lapse']=lapse_prediction\n",
    "new_data['prob lapse']=lapse_prob[:,1]\n",
    "new_data['pred ann lapse']=ann_prediction\n",
    "new_data['prob ann lapse']=ann_prob[:,1]\n",
    "new_data.to_csv(path+'scored_data_no_smote_split_old_2.csv')"
   ]
  },
  {
   "cell_type": "markdown",
   "id": "b103fca3",
   "metadata": {},
   "source": [
    "# Viewing scored data"
   ]
  },
  {
   "cell_type": "markdown",
   "id": "fe58857d",
   "metadata": {},
   "source": [
    "## Data"
   ]
  },
  {
   "cell_type": "code",
   "execution_count": 241,
   "id": "60b1bd87",
   "metadata": {},
   "outputs": [],
   "source": [
    "path=\"C:/Users/E1005279/OneDrive - Sanlam Life Insurance Limited/MWL/Lapse Rate Projections/Data/AtIncept-2025/\"\n",
    "scored_data=pd.DataFrame(pd.read_csv(path+\"scored_data_no_smote_split.csv\"))"
   ]
  },
  {
   "cell_type": "code",
   "execution_count": 119,
   "id": "9c3945c1",
   "metadata": {},
   "outputs": [],
   "source": [
    "path=\"C:/Users/E1005279/OneDrive - Sanlam Life Insurance Limited/MWL/Lapse Rate Projections/Data/AtIncept-2025/\"\n",
    "#scored_data=pd.DataFrame(pd.read_csv(path+\"scored_data_no_smote.csv\"))\n",
    "d_pre2025=pd.DataFrame(pd.read_csv(path+\"scored_data_no_smote_split_old.csv\"))\n",
    "d=pd.DataFrame(pd.read_csv(\"C:/Users/E1005279/OneDrive - Sanlam Life Insurance Limited/MWL/Lapse Rate Projections/Data/AtInception/inception_data_eco_v3.csv\"))\n",
    "d_pre2025=d_pre2025.merge(d[[ 'policy_name','lapse_flag','3month_lapse', '6month_lapse', '1yr_lapse', 'ann_lapse']], on='policy_name',how='left')\n",
    "d_post2025 = pd.DataFrame(pd.read_csv(path+\"scored_data_no_smote_split.csv\"))\n",
    "d_pre2025 = d_pre2025[~d_pre2025['policy_name'].isin(d_post2025['policy_name'])]"
   ]
  },
  {
   "cell_type": "code",
   "execution_count": 120,
   "id": "9dd33628",
   "metadata": {},
   "outputs": [],
   "source": [
    "scored_data = pd.concat([d_pre2025,d_post2025])"
   ]
  },
  {
   "cell_type": "code",
   "execution_count": 142,
   "id": "5ab6ca4c",
   "metadata": {},
   "outputs": [
    {
     "data": {
      "text/plain": [
       "Index(['Unnamed: 0', 'policy_name', 'income', 'eml', 'pml', 'benefits_count',\n",
       "       'last_benefit_amount', 'cover_amount_full', 'total_funeral_premium',\n",
       "       'funeral_count', 'duration_policy_start_delay', '# calls',\n",
       "       '# calls contacted', 'res_code_QA_sum', 'res_code_claims_sum',\n",
       "       'res_code_no interest_sum', 'res_code_other_sum',\n",
       "       'res_code_payment_sum', 'res_code_quote_sum', 'res_code_sale_sum',\n",
       "       'res_code_update_sum', 'lapse_flag', 'inflation', 'unemployment rate',\n",
       "       '3month_lapse', '6month_lapse', '1yr_lapse', 'ann_lapse', '2yr_lapse',\n",
       "       'score_data', 'education_4 year Degree', 'education_Matric',\n",
       "       'education_Matric + 3 year Diploma',\n",
       "       'education_Matric + 4 year Diploma', 'education_Matric + certificate',\n",
       "       'education_No Matric', 'education_Postgraduate Degree', 'gender_Female',\n",
       "       'gender_Male', 'smoker_status_E', 'smoker_status_N', 'smoker_status_S',\n",
       "       'sold_socio_economic_class_1.0', 'sold_socio_economic_class_2.0',\n",
       "       'sold_socio_economic_class_3.0', 'sold_socio_economic_class_4.0',\n",
       "       'occupation_class_A', 'occupation_class_B', 'occupation_class_C',\n",
       "       'occupation_class_D', 'occupation_class_E', 'lead_type_Affiliate',\n",
       "       'lead_type_External Call Centre', 'lead_type_External Web Start',\n",
       "       'lead_type_Inbound Phone Call',\n",
       "       'lead_type_Life - Personal Details Submitted', 'lead_type_Referral',\n",
       "       'optionality_0.0', 'optionality_1.0', 'hiv_test_required_0.0',\n",
       "       'hiv_test_required_1.0', 'age_band_32.50 - 38.50',\n",
       "       'age_band_38.50 - 43.50', 'age_band_43.50 - 50.50', 'age_band_< 32.50',\n",
       "       'age_band_> 50.50', 'original_premium_band_280.76 - 385.28',\n",
       "       'original_premium_band_385.28 - 596.20',\n",
       "       'original_premium_band_< 280.76', 'original_premium_band_> 596.20',\n",
       "       'lead_provider_groups_BLDS', 'lead_provider_groups_D365',\n",
       "       'lead_provider_groups_Freemium', 'lead_provider_groups_LeadWarming',\n",
       "       'lead_provider_groups_MWL', 'lead_provider_groups_Other',\n",
       "       'lead_provider_groups_Phone leads', 'lead_provider_groups_Refferals',\n",
       "       'lead_provider_groups_Web', 'pred 3m lapse', 'prob 3m lapse',\n",
       "       'pred 6m lapse', 'prob 6m lapse', 'pred y1 lapse', 'prob y1 lapse',\n",
       "       'pred lapse', 'prob lapse', 'pred ann lapse', 'prob ann lapse'],\n",
       "      dtype='object')"
      ]
     },
     "execution_count": 142,
     "metadata": {},
     "output_type": "execute_result"
    }
   ],
   "source": [
    "scored_data"
   ]
  },
  {
   "cell_type": "code",
   "execution_count": 121,
   "id": "b6fd43de",
   "metadata": {},
   "outputs": [
    {
     "data": {
      "text/plain": [
       "Index(['Unnamed: 0', 'policy_id', 'policy_name', 'age', 'education', 'gender',\n",
       "       'income', 'smoker_status', 'sold_socio_economic_class',\n",
       "       'occupation_class', 'occupation', 'orginal individual_income',\n",
       "       'lead_provider_name', 'lead_type', 'sales_channel', 'sale_date',\n",
       "       'campaign_name', 'underwriting_outcome', 'optionality',\n",
       "       'hiv_test_required', 'eml', 'pml', 'hiv_group', 'securitygroup_id',\n",
       "       'policy_type', 'benefits_count', 'last_benefit_amount',\n",
       "       'cover_amount_full', 'total_funeral_premium', 'funeral_count',\n",
       "       'original_premium', 'duration_policy_start_delay', '# calls',\n",
       "       '# calls contacted', 'res_code_QA_sum', 'res_code_claims_sum',\n",
       "       'res_code_no interest_sum', 'res_code_other_sum',\n",
       "       'res_code_payment_sum', 'res_code_quote_sum', 'res_code_sale_sum',\n",
       "       'res_code_update_sum', 'policy_status', 'current_policy_status',\n",
       "       'cancellation_effective_date', 'cancellation_reason', 'lapse_type',\n",
       "       'lapse_flag', 'cover_start_date'],\n",
       "      dtype='object')"
      ]
     },
     "execution_count": 121,
     "metadata": {},
     "output_type": "execute_result"
    }
   ],
   "source": [
    "old_data =pd.DataFrame(pd.read_csv(path+\"inception_data.csv\"))\n",
    "old_data.columns"
   ]
  },
  {
   "cell_type": "code",
   "execution_count": 122,
   "id": "efffdad5",
   "metadata": {},
   "outputs": [],
   "source": [
    "\n",
    "data=scored_data.merge(old_data[['policy_name','sale_date']],how='left',on='policy_name')"
   ]
  },
  {
   "cell_type": "code",
   "execution_count": 123,
   "id": "2d31b56d",
   "metadata": {},
   "outputs": [],
   "source": [
    "data['sale_month'] = pd.to_datetime(data['sale_date']).dt.month"
   ]
  },
  {
   "cell_type": "code",
   "execution_count": 124,
   "id": "a5e7fde3",
   "metadata": {},
   "outputs": [],
   "source": [
    "data['sale date'] = pd.to_datetime(data['sale_date']).dt.to_period('M')"
   ]
  },
  {
   "cell_type": "code",
   "execution_count": 175,
   "id": "82f42411",
   "metadata": {},
   "outputs": [
    {
     "data": {
      "application/vnd.microsoft.datawrangler.viewer.v0+json": {
       "columns": [
        {
         "name": "index",
         "rawType": "int64",
         "type": "integer"
        },
        {
         "name": "Unnamed: 0",
         "rawType": "int64",
         "type": "integer"
        },
        {
         "name": "optionality_1.0",
         "rawType": "int64",
         "type": "integer"
        },
        {
         "name": "unemployment rate",
         "rawType": "float64",
         "type": "float"
        },
        {
         "name": "smoker_status_N",
         "rawType": "int64",
         "type": "integer"
        },
        {
         "name": "res_code_claims_sum",
         "rawType": "float64",
         "type": "float"
        },
        {
         "name": "sold_socio_economic_class_3.0",
         "rawType": "int64",
         "type": "integer"
        },
        {
         "name": "sold_socio_economic_class_4.0",
         "rawType": "int64",
         "type": "integer"
        },
        {
         "name": "benefits_count",
         "rawType": "float64",
         "type": "float"
        },
        {
         "name": "smoker_status_E",
         "rawType": "int64",
         "type": "integer"
        },
        {
         "name": "funeral_count",
         "rawType": "float64",
         "type": "float"
        },
        {
         "name": "education_Matric + 3 year Diploma",
         "rawType": "int64",
         "type": "integer"
        },
        {
         "name": "lead_type_Affiliate",
         "rawType": "int64",
         "type": "integer"
        },
        {
         "name": "# calls",
         "rawType": "float64",
         "type": "float"
        },
        {
         "name": "lead_provider_groups_BLDS",
         "rawType": "int64",
         "type": "integer"
        },
        {
         "name": "education_Matric",
         "rawType": "int64",
         "type": "integer"
        },
        {
         "name": "pml",
         "rawType": "float64",
         "type": "float"
        },
        {
         "name": "cover_amount_full",
         "rawType": "float64",
         "type": "float"
        },
        {
         "name": "res_code_update_sum",
         "rawType": "float64",
         "type": "float"
        },
        {
         "name": "lead_type_Referral",
         "rawType": "int64",
         "type": "integer"
        },
        {
         "name": "age_band_43.50 - 50.50",
         "rawType": "int64",
         "type": "integer"
        },
        {
         "name": "hiv_test_required_0.0",
         "rawType": "int64",
         "type": "integer"
        },
        {
         "name": "res_code_quote_sum",
         "rawType": "float64",
         "type": "float"
        },
        {
         "name": "eml",
         "rawType": "float64",
         "type": "float"
        },
        {
         "name": "res_code_payment_sum",
         "rawType": "float64",
         "type": "float"
        },
        {
         "name": "lead_type_External Web Start",
         "rawType": "int64",
         "type": "integer"
        },
        {
         "name": "last_benefit_amount",
         "rawType": "float64",
         "type": "float"
        },
        {
         "name": "original_premium_band_> 596.20",
         "rawType": "int64",
         "type": "integer"
        },
        {
         "name": "lead_provider_groups_LeadWarming",
         "rawType": "int64",
         "type": "integer"
        },
        {
         "name": "education_No Matric",
         "rawType": "int64",
         "type": "integer"
        },
        {
         "name": "lead_provider_groups_D365",
         "rawType": "int64",
         "type": "integer"
        },
        {
         "name": "occupation_class_A",
         "rawType": "int64",
         "type": "integer"
        },
        {
         "name": "hiv_test_required_1.0",
         "rawType": "int64",
         "type": "integer"
        },
        {
         "name": "original_premium_band_385.28 - 596.20",
         "rawType": "int64",
         "type": "integer"
        },
        {
         "name": "lead_provider_groups_MWL",
         "rawType": "int64",
         "type": "integer"
        },
        {
         "name": "education_4 year Degree",
         "rawType": "int64",
         "type": "integer"
        },
        {
         "name": "education_Postgraduate Degree",
         "rawType": "int64",
         "type": "integer"
        },
        {
         "name": "duration_policy_start_delay",
         "rawType": "float64",
         "type": "float"
        },
        {
         "name": "age_band_< 32.50",
         "rawType": "int64",
         "type": "integer"
        },
        {
         "name": "occupation_class_C",
         "rawType": "int64",
         "type": "integer"
        },
        {
         "name": "lead_type_Life - Personal Details Submitted",
         "rawType": "int64",
         "type": "integer"
        },
        {
         "name": "age_band_38.50 - 43.50",
         "rawType": "int64",
         "type": "integer"
        },
        {
         "name": "res_code_no interest_sum",
         "rawType": "float64",
         "type": "float"
        },
        {
         "name": "original_premium_band_< 280.76",
         "rawType": "int64",
         "type": "integer"
        },
        {
         "name": "inflation",
         "rawType": "float64",
         "type": "float"
        },
        {
         "name": "original_premium_band_280.76 - 385.28",
         "rawType": "int64",
         "type": "integer"
        },
        {
         "name": "occupation_class_D",
         "rawType": "int64",
         "type": "integer"
        },
        {
         "name": "sold_socio_economic_class_1.0",
         "rawType": "int64",
         "type": "integer"
        },
        {
         "name": "education_Matric + 4 year Diploma",
         "rawType": "int64",
         "type": "integer"
        },
        {
         "name": "sold_socio_economic_class_2.0",
         "rawType": "int64",
         "type": "integer"
        },
        {
         "name": "res_code_other_sum",
         "rawType": "float64",
         "type": "float"
        },
        {
         "name": "occupation_class_B",
         "rawType": "int64",
         "type": "integer"
        },
        {
         "name": "optionality_0.0",
         "rawType": "int64",
         "type": "integer"
        },
        {
         "name": "smoker_status_S",
         "rawType": "int64",
         "type": "integer"
        },
        {
         "name": "income",
         "rawType": "float64",
         "type": "float"
        },
        {
         "name": "age_band_32.50 - 38.50",
         "rawType": "int64",
         "type": "integer"
        },
        {
         "name": "lead_provider_groups_Freemium",
         "rawType": "int64",
         "type": "integer"
        },
        {
         "name": "res_code_QA_sum",
         "rawType": "float64",
         "type": "float"
        },
        {
         "name": "total_funeral_premium",
         "rawType": "float64",
         "type": "float"
        },
        {
         "name": "lead_provider_groups_Phone leads",
         "rawType": "int64",
         "type": "integer"
        },
        {
         "name": "education_Matric + certificate",
         "rawType": "int64",
         "type": "integer"
        },
        {
         "name": "gender_Female",
         "rawType": "int64",
         "type": "integer"
        },
        {
         "name": "lead_provider_groups_Other",
         "rawType": "int64",
         "type": "integer"
        },
        {
         "name": "lead_type_External Call Centre",
         "rawType": "int64",
         "type": "integer"
        },
        {
         "name": "res_code_sale_sum",
         "rawType": "float64",
         "type": "float"
        },
        {
         "name": "lead_provider_groups_Refferals",
         "rawType": "int64",
         "type": "integer"
        },
        {
         "name": "# calls contacted",
         "rawType": "float64",
         "type": "float"
        },
        {
         "name": "age_band_> 50.50",
         "rawType": "int64",
         "type": "integer"
        },
        {
         "name": "occupation_class_E",
         "rawType": "int64",
         "type": "integer"
        },
        {
         "name": "lead_type_Inbound Phone Call",
         "rawType": "int64",
         "type": "integer"
        },
        {
         "name": "gender_Male",
         "rawType": "int64",
         "type": "integer"
        },
        {
         "name": "lead_provider_groups_Web",
         "rawType": "int64",
         "type": "integer"
        },
        {
         "name": "policy_name",
         "rawType": "object",
         "type": "string"
        },
        {
         "name": "pred 3m lapse",
         "rawType": "int64",
         "type": "integer"
        },
        {
         "name": "prob 3m lapse",
         "rawType": "float64",
         "type": "float"
        },
        {
         "name": "pred 6m lapse",
         "rawType": "int64",
         "type": "integer"
        },
        {
         "name": "prob 6m lapse",
         "rawType": "float64",
         "type": "float"
        },
        {
         "name": "pred y1 lapse",
         "rawType": "int64",
         "type": "integer"
        },
        {
         "name": "prob y1 lapse",
         "rawType": "float64",
         "type": "float"
        },
        {
         "name": "pred lapse",
         "rawType": "int64",
         "type": "integer"
        },
        {
         "name": "prob lapse",
         "rawType": "float64",
         "type": "float"
        },
        {
         "name": "pred ann lapse",
         "rawType": "int64",
         "type": "integer"
        },
        {
         "name": "prob ann lapse",
         "rawType": "float64",
         "type": "float"
        },
        {
         "name": "lapse_flag",
         "rawType": "bool",
         "type": "boolean"
        },
        {
         "name": "3month_lapse",
         "rawType": "int64",
         "type": "integer"
        },
        {
         "name": "6month_lapse",
         "rawType": "int64",
         "type": "integer"
        },
        {
         "name": "1yr_lapse",
         "rawType": "int64",
         "type": "integer"
        },
        {
         "name": "ann_lapse",
         "rawType": "float64",
         "type": "float"
        },
        {
         "name": "2yr_lapse",
         "rawType": "float64",
         "type": "float"
        },
        {
         "name": "score_data",
         "rawType": "object",
         "type": "unknown"
        },
        {
         "name": "sale_date",
         "rawType": "object",
         "type": "string"
        },
        {
         "name": "sale_month",
         "rawType": "int32",
         "type": "integer"
        },
        {
         "name": "sale date",
         "rawType": "period[M]",
         "type": "unknown"
        }
       ],
       "ref": "9a971286-3046-4f48-8a03-c45a3bf68366",
       "rows": [
        [
         "0",
         "2",
         "1",
         "-0.7256270876755101",
         "1",
         "-0.0092792809557407",
         "1",
         "0",
         "0.8379567188196678",
         "0",
         "0.8504841256776053",
         "0",
         "0",
         "-0.6500821915880123",
         "1",
         "1",
         "-0.2824814678998729",
         "-0.7473953642251955",
         "-0.1372355194653339",
         "0",
         "0",
         "1",
         "-0.0066912463824674",
         "-0.3698678374358447",
         "-0.0841436146587729",
         "0",
         "-0.8709023497826169",
         "0",
         "0",
         "0",
         "0",
         "1",
         "0",
         "0",
         "0",
         "0",
         "0",
         "-0.3494164946664865",
         "1",
         "0",
         "0",
         "0",
         "-0.0375479466510379",
         "0",
         "0.7654448208878191",
         "1",
         "0",
         "0",
         "0",
         "0",
         "-0.3829019240781871",
         "0",
         "0",
         "0",
         "-0.0095234158545081",
         "0",
         "0",
         "-0.014704612264204",
         "0.8348343348717716",
         "0",
         "0",
         "1",
         "0",
         "1",
         "-0.5402482622399025",
         "0",
         "-0.7673423631731249",
         "0",
         "0",
         "0",
         "0",
         "0",
         "ML23-0023842",
         "0",
         "0.0026367566617141",
         "0",
         "0.0013036731618704",
         "0",
         "0.0159624529514207",
         "0",
         "0.0260284980485179",
         "0",
         "0.0047802338166649",
         "False",
         "0",
         "0",
         "0",
         "0.0",
         null,
         null,
         "2023-03-07",
         "3",
         "2023-03"
        ],
        [
         "1",
         "3",
         "0",
         "0.0058621315473363",
         "1",
         "-0.0092792809557407",
         "0",
         "0",
         "0.8379567188196678",
         "0",
         "0.8504841256776053",
         "0",
         "1",
         "0.4176719350105349",
         "0",
         "0",
         "-0.2824814678998729",
         "-0.4362307706923968",
         "-0.1372355194653339",
         "0",
         "0",
         "0",
         "-0.0066912463824674",
         "-0.2908561065274956",
         "-0.0841436146587729",
         "0",
         "0.1434306146646077",
         "0",
         "0",
         "0",
         "0",
         "0",
         "1",
         "1",
         "0",
         "0",
         "0",
         "-0.3494164946664865",
         "0",
         "1",
         "0",
         "0",
         "-0.0375479466510379",
         "0",
         "-0.6458881253761055",
         "0",
         "0",
         "0",
         "1",
         "1",
         "0.0897684294207842",
         "0",
         "1",
         "0",
         "-0.0095234158545081",
         "1",
         "0",
         "-0.014704612264204",
         "0.957178501103333",
         "0",
         "0",
         "1",
         "0",
         "0",
         "0.4357423435908508",
         "0",
         "-0.3328625663815279",
         "0",
         "0",
         "0",
         "0",
         "1",
         "ML24-0214091",
         "0",
         "0.0046105711606391",
         "0",
         "0.003159870631849",
         "0",
         "0.0251881152698074",
         "0",
         "0.0173929968699198",
         "0",
         "0.008750652282998",
         "False",
         "0",
         "0",
         "0",
         "0.0",
         null,
         null,
         "2024-05-22",
         "5",
         "2024-05"
        ],
        [
         "2",
         "4",
         "0",
         "0.0058621315473363",
         "1",
         "-0.0092792809557407",
         "0",
         "0",
         "-0.6853281571920601",
         "0",
         "-0.6770499231431564",
         "0",
         "0",
         "-0.4975458877882199",
         "0",
         "0",
         "-0.2824814678998729",
         "-0.1354604738253353",
         "-0.1372355194653339",
         "0",
         "0",
         "0",
         "-0.0066912463824674",
         "-0.5143464310968257",
         "-0.0841436146587729",
         "1",
         "-0.423235845920434",
         "0",
         "0",
         "0",
         "0",
         "1",
         "1",
         "1",
         "0",
         "1",
         "0",
         "-0.3494164946664865",
         "0",
         "0",
         "0",
         "0",
         "-0.0375479466510379",
         "0",
         "-0.6458881253761055",
         "0",
         "0",
         "1",
         "0",
         "0",
         "0.0897684294207842",
         "0",
         "1",
         "0",
         "-0.0094508400799803",
         "0",
         "0",
         "-0.014704612264204",
         "-0.5570629727414028",
         "0",
         "0",
         "0",
         "0",
         "0",
         "-0.5402482622399025",
         "0",
         "-0.7673423631731249",
         "1",
         "0",
         "0",
         "1",
         "1",
         "ML24-0140216",
         "0",
         "0.0005273601112696",
         "0",
         "0.0061752807289583",
         "0",
         "0.0133717921302754",
         "0",
         "0.0334094892655295",
         "0",
         "0.0132745559849501",
         "False",
         "0",
         "0",
         "0",
         "0.0",
         null,
         null,
         "2024-01-10",
         "1",
         "2024-01"
        ],
        [
         "3",
         "5",
         "0",
         "-0.7256270876755101",
         "1",
         "-0.0092792809557407",
         "0",
         "0",
         "-0.6853281571920601",
         "0",
         "-0.6770499231431564",
         "0",
         "0",
         "0.8752808464099122",
         "0",
         "1",
         "-0.2824814678998729",
         "0.5417447663203481",
         "-0.1372355194653339",
         "0",
         "0",
         "0",
         "-0.0066912463824674",
         "-0.5143464310968257",
         "-0.0841436146587729",
         "0",
         "0.1434306146646077",
         "0",
         "0",
         "0",
         "0",
         "0",
         "1",
         "0",
         "0",
         "0",
         "0",
         "-0.3494164946664865",
         "1",
         "0",
         "0",
         "0",
         "-0.0375479466510379",
         "1",
         "0.7654448208878191",
         "0",
         "0",
         "1",
         "0",
         "0",
         "-0.3829019240781871",
         "1",
         "1",
         "0",
         "-0.0092522116444306",
         "0",
         "0",
         "-0.014704612264204",
         "-0.5570629727414028",
         "1",
         "0",
         "0",
         "0",
         "0",
         "1.0864027474780198",
         "0",
         "-0.3328625663815279",
         "0",
         "0",
         "1",
         "1",
         "0",
         "ML23-0136444",
         "0",
         "0.0005996678266694",
         "0",
         "0.0027250261486197",
         "0",
         "0.0255461577676402",
         "0",
         "0.109005814267616",
         "0",
         "0.0042437641517675",
         "False",
         "0",
         "0",
         "0",
         "0.0",
         null,
         null,
         "2023-12-14",
         "12",
         "2023-12"
        ],
        [
         "4",
         "6",
         "1",
         "2.9318190084386986",
         "0",
         "-0.0092792809557407",
         "0",
         "1",
         "1.3457183441569105",
         "0",
         "1.3596621419511925",
         "0",
         "0",
         "-0.6500821915880123",
         "0",
         "1",
         "-0.2824814678998729",
         "-0.6935055417066914",
         "-0.1372355194653339",
         "0",
         "0",
         "1",
         "-0.0066912463824674",
         "-0.4026012688121606",
         "-0.0841436146587729",
         "0",
         "-0.5581564317740153",
         "0",
         "0",
         "0",
         "0",
         "0",
         "0",
         "0",
         "0",
         "0",
         "0",
         "2.788728589720584",
         "1",
         "0",
         "0",
         "0",
         "-0.0375479466510379",
         "0",
         "1.5593196031612773",
         "1",
         "0",
         "0",
         "0",
         "0",
         "-0.3829019240781871",
         "1",
         "0",
         "1",
         "-0.0095539740753619",
         "0",
         "0",
         "-0.014704612264204",
         "-0.2314564318527852",
         "0",
         "0",
         "0",
         "1",
         "1",
         "-0.5402482622399025",
         "0",
         "-0.7673423631731249",
         "0",
         "0",
         "0",
         "1",
         "0",
         "ML22-0004523",
         "1",
         "0.9291887363613724",
         "1",
         "0.8188539451944222",
         "1",
         "0.994619322468128",
         "1",
         "0.9946529692676024",
         "1",
         "0.8603417954775892",
         "True",
         "1",
         "1",
         "1",
         null,
         null,
         null,
         "2022-11-22",
         "11",
         "2022-11"
        ]
       ],
       "shape": {
        "columns": 92,
        "rows": 5
       }
      },
      "text/html": [
       "<div>\n",
       "<style scoped>\n",
       "    .dataframe tbody tr th:only-of-type {\n",
       "        vertical-align: middle;\n",
       "    }\n",
       "\n",
       "    .dataframe tbody tr th {\n",
       "        vertical-align: top;\n",
       "    }\n",
       "\n",
       "    .dataframe thead th {\n",
       "        text-align: right;\n",
       "    }\n",
       "</style>\n",
       "<table border=\"1\" class=\"dataframe\">\n",
       "  <thead>\n",
       "    <tr style=\"text-align: right;\">\n",
       "      <th></th>\n",
       "      <th>Unnamed: 0</th>\n",
       "      <th>optionality_1.0</th>\n",
       "      <th>unemployment rate</th>\n",
       "      <th>smoker_status_N</th>\n",
       "      <th>res_code_claims_sum</th>\n",
       "      <th>sold_socio_economic_class_3.0</th>\n",
       "      <th>sold_socio_economic_class_4.0</th>\n",
       "      <th>benefits_count</th>\n",
       "      <th>smoker_status_E</th>\n",
       "      <th>funeral_count</th>\n",
       "      <th>...</th>\n",
       "      <th>lapse_flag</th>\n",
       "      <th>3month_lapse</th>\n",
       "      <th>6month_lapse</th>\n",
       "      <th>1yr_lapse</th>\n",
       "      <th>ann_lapse</th>\n",
       "      <th>2yr_lapse</th>\n",
       "      <th>score_data</th>\n",
       "      <th>sale_date</th>\n",
       "      <th>sale_month</th>\n",
       "      <th>sale date</th>\n",
       "    </tr>\n",
       "  </thead>\n",
       "  <tbody>\n",
       "    <tr>\n",
       "      <th>0</th>\n",
       "      <td>2</td>\n",
       "      <td>1</td>\n",
       "      <td>-0.725627</td>\n",
       "      <td>1</td>\n",
       "      <td>-0.009279</td>\n",
       "      <td>1</td>\n",
       "      <td>0</td>\n",
       "      <td>0.837957</td>\n",
       "      <td>0</td>\n",
       "      <td>0.850484</td>\n",
       "      <td>...</td>\n",
       "      <td>False</td>\n",
       "      <td>0</td>\n",
       "      <td>0</td>\n",
       "      <td>0</td>\n",
       "      <td>0.0</td>\n",
       "      <td>NaN</td>\n",
       "      <td>NaN</td>\n",
       "      <td>2023-03-07</td>\n",
       "      <td>3</td>\n",
       "      <td>2023-03</td>\n",
       "    </tr>\n",
       "    <tr>\n",
       "      <th>1</th>\n",
       "      <td>3</td>\n",
       "      <td>0</td>\n",
       "      <td>0.005862</td>\n",
       "      <td>1</td>\n",
       "      <td>-0.009279</td>\n",
       "      <td>0</td>\n",
       "      <td>0</td>\n",
       "      <td>0.837957</td>\n",
       "      <td>0</td>\n",
       "      <td>0.850484</td>\n",
       "      <td>...</td>\n",
       "      <td>False</td>\n",
       "      <td>0</td>\n",
       "      <td>0</td>\n",
       "      <td>0</td>\n",
       "      <td>0.0</td>\n",
       "      <td>NaN</td>\n",
       "      <td>NaN</td>\n",
       "      <td>2024-05-22</td>\n",
       "      <td>5</td>\n",
       "      <td>2024-05</td>\n",
       "    </tr>\n",
       "    <tr>\n",
       "      <th>2</th>\n",
       "      <td>4</td>\n",
       "      <td>0</td>\n",
       "      <td>0.005862</td>\n",
       "      <td>1</td>\n",
       "      <td>-0.009279</td>\n",
       "      <td>0</td>\n",
       "      <td>0</td>\n",
       "      <td>-0.685328</td>\n",
       "      <td>0</td>\n",
       "      <td>-0.677050</td>\n",
       "      <td>...</td>\n",
       "      <td>False</td>\n",
       "      <td>0</td>\n",
       "      <td>0</td>\n",
       "      <td>0</td>\n",
       "      <td>0.0</td>\n",
       "      <td>NaN</td>\n",
       "      <td>NaN</td>\n",
       "      <td>2024-01-10</td>\n",
       "      <td>1</td>\n",
       "      <td>2024-01</td>\n",
       "    </tr>\n",
       "    <tr>\n",
       "      <th>3</th>\n",
       "      <td>5</td>\n",
       "      <td>0</td>\n",
       "      <td>-0.725627</td>\n",
       "      <td>1</td>\n",
       "      <td>-0.009279</td>\n",
       "      <td>0</td>\n",
       "      <td>0</td>\n",
       "      <td>-0.685328</td>\n",
       "      <td>0</td>\n",
       "      <td>-0.677050</td>\n",
       "      <td>...</td>\n",
       "      <td>False</td>\n",
       "      <td>0</td>\n",
       "      <td>0</td>\n",
       "      <td>0</td>\n",
       "      <td>0.0</td>\n",
       "      <td>NaN</td>\n",
       "      <td>NaN</td>\n",
       "      <td>2023-12-14</td>\n",
       "      <td>12</td>\n",
       "      <td>2023-12</td>\n",
       "    </tr>\n",
       "    <tr>\n",
       "      <th>4</th>\n",
       "      <td>6</td>\n",
       "      <td>1</td>\n",
       "      <td>2.931819</td>\n",
       "      <td>0</td>\n",
       "      <td>-0.009279</td>\n",
       "      <td>0</td>\n",
       "      <td>1</td>\n",
       "      <td>1.345718</td>\n",
       "      <td>0</td>\n",
       "      <td>1.359662</td>\n",
       "      <td>...</td>\n",
       "      <td>True</td>\n",
       "      <td>1</td>\n",
       "      <td>1</td>\n",
       "      <td>1</td>\n",
       "      <td>NaN</td>\n",
       "      <td>NaN</td>\n",
       "      <td>NaN</td>\n",
       "      <td>2022-11-22</td>\n",
       "      <td>11</td>\n",
       "      <td>2022-11</td>\n",
       "    </tr>\n",
       "  </tbody>\n",
       "</table>\n",
       "<p>5 rows × 92 columns</p>\n",
       "</div>"
      ],
      "text/plain": [
       "   Unnamed: 0  optionality_1.0  unemployment rate  smoker_status_N  \\\n",
       "0           2                1          -0.725627                1   \n",
       "1           3                0           0.005862                1   \n",
       "2           4                0           0.005862                1   \n",
       "3           5                0          -0.725627                1   \n",
       "4           6                1           2.931819                0   \n",
       "\n",
       "   res_code_claims_sum  sold_socio_economic_class_3.0  \\\n",
       "0            -0.009279                              1   \n",
       "1            -0.009279                              0   \n",
       "2            -0.009279                              0   \n",
       "3            -0.009279                              0   \n",
       "4            -0.009279                              0   \n",
       "\n",
       "   sold_socio_economic_class_4.0  benefits_count  smoker_status_E  \\\n",
       "0                              0        0.837957                0   \n",
       "1                              0        0.837957                0   \n",
       "2                              0       -0.685328                0   \n",
       "3                              0       -0.685328                0   \n",
       "4                              1        1.345718                0   \n",
       "\n",
       "   funeral_count  ...  lapse_flag  3month_lapse  6month_lapse  1yr_lapse  \\\n",
       "0       0.850484  ...       False             0             0          0   \n",
       "1       0.850484  ...       False             0             0          0   \n",
       "2      -0.677050  ...       False             0             0          0   \n",
       "3      -0.677050  ...       False             0             0          0   \n",
       "4       1.359662  ...        True             1             1          1   \n",
       "\n",
       "   ann_lapse  2yr_lapse  score_data   sale_date  sale_month  sale date  \n",
       "0        0.0        NaN         NaN  2023-03-07           3    2023-03  \n",
       "1        0.0        NaN         NaN  2024-05-22           5    2024-05  \n",
       "2        0.0        NaN         NaN  2024-01-10           1    2024-01  \n",
       "3        0.0        NaN         NaN  2023-12-14          12    2023-12  \n",
       "4        NaN        NaN         NaN  2022-11-22          11    2022-11  \n",
       "\n",
       "[5 rows x 92 columns]"
      ]
     },
     "execution_count": 175,
     "metadata": {},
     "output_type": "execute_result"
    }
   ],
   "source": [
    "data.head()"
   ]
  },
  {
   "cell_type": "code",
   "execution_count": 125,
   "id": "77805e72",
   "metadata": {},
   "outputs": [],
   "source": [
    "for t in [ 'prob 3m lapse', \n",
    "       'prob 6m lapse', 'prob y1 lapse',\n",
    "       'prob lapse','prob ann lapse']:\n",
    "    ceilings = [0.0, 0.1,0.2,0.3001,0.4,0.5,0.6,0.7,0.8,0.9,1.05]\n",
    "    bins=[f'{math.floor((n-0.1)*10)/10} - {math.floor(n*10)/10}' for n in ceilings[1:]]\n",
    "\n",
    "    data[t+' band'] = pd.cut(data[t],bins=ceilings, labels=bins,right=False)\n"
   ]
  },
  {
   "cell_type": "code",
   "execution_count": 126,
   "id": "0a03c5d5",
   "metadata": {},
   "outputs": [],
   "source": [
    "curr_date = datetime(2025,8,1)\n",
    "data['sale_date'] = pd.to_datetime(data['sale_date'])\n",
    "data['duration'] = (curr_date-data['sale_date']).dt.days//30"
   ]
  },
  {
   "cell_type": "code",
   "execution_count": null,
   "id": "2badf8f9",
   "metadata": {},
   "outputs": [],
   "source": [
    "data"
   ]
  },
  {
   "cell_type": "code",
   "execution_count": 127,
   "id": "b1fedc6a",
   "metadata": {},
   "outputs": [],
   "source": [
    "data_3m = data[data['duration'] >3]\n",
    "data_6m = data[data['duration'] >6]\n",
    "data_1y = data[data['duration'] >12]\n",
    "data_l = data[data['duration'] >13]\n",
    "data_ann = data[data['duration'] >11]"
   ]
  },
  {
   "cell_type": "code",
   "execution_count": 128,
   "id": "032f5315",
   "metadata": {},
   "outputs": [
    {
     "data": {
      "image/png": "[encoded data removed]",
      "text/plain": [
       "<Figure size 1100x450 with 8 Axes>"
      ]
     },
     "metadata": {},
     "output_type": "display_data"
    }
   ],
   "source": [
    "#['policy_name', 'pred 3m lapse', 'prob 3m lapse', 'pred 6m lapse',\n",
    "#       'prob 6m lapse', 'pred y1 lapse', 'prob y1 lapse', 'pred lapse',\n",
    "#       'prob lapse', 'pred ann lapse', 'prob ann lapse', 'age', 'income', 'eml',\n",
    "#       'pml','benefits_count',\n",
    "#       'last_benefit_amount', 'cover_amount_full', 'total_funeral_premium',\n",
    "#       'funeral_count', 'original_premium', 'duration_policy_start_delay',\n",
    "#       '# calls', '# calls contacted', 'res_code_QA_sum',\n",
    "#       'res_code_claims_sum', 'res_code_no interest_sum', 'res_code_other_sum',\n",
    "#       'res_code_payment_sum', 'res_code_quote_sum', 'res_code_sale_sum',\n",
    "#       'res_code_update_sum', 'lapse_flag', 'inflation', 'unemployment rate',\n",
    "#       '3month_lapse', '6month_lapse', '1yr_lapse', 'ann_lapse', ]\n",
    "\n",
    "value_col= 'prob lapse'\n",
    "data_p = data_l\n",
    "target='lapse_flag'\n",
    "cat = 'pred lapse'\n",
    "band='prob lapse band'\n",
    "plot_grouped_distributions(data_p, value_col, category_col=target,cat_list = [], main_title=\"Grouped Distributions\")"
   ]
  },
  {
   "cell_type": "code",
   "execution_count": 129,
   "id": "43d2f0a6",
   "metadata": {},
   "outputs": [
    {
     "data": {
      "image/png": "[encoded data removed]",
      "text/plain": [
       "<Figure size 1000x600 with 1 Axes>"
      ]
     },
     "metadata": {},
     "output_type": "display_data"
    }
   ],
   "source": [
    "\n",
    "bar_comp(data_p,category=cat,split=target)"
   ]
  },
  {
   "cell_type": "markdown",
   "id": "1bcac0e9",
   "metadata": {},
   "source": [
    "## Band view"
   ]
  },
  {
   "cell_type": "code",
   "execution_count": 130,
   "id": "b1d72250",
   "metadata": {},
   "outputs": [
    {
     "name": "stderr",
     "output_type": "stream",
     "text": [
      "C:\\Users/E1005279/OneDrive - Sanlam Life Insurance Limited/MWL/MWLrepo/MiWayLife2/Data_Analysis_Package\\data_preparation.py:124: FutureWarning: The default of observed=False is deprecated and will be changed to True in a future version of pandas. Pass observed=False to retain current behavior or observed=True to adopt the future default and silence this warning.\n",
      "  df = df.groupby(groupby_cols).agg(**agg_dict).reset_index()\n"
     ]
    },
    {
     "data": {
      "application/vnd.microsoft.datawrangler.viewer.v0+json": {
       "columns": [
        {
         "name": "index",
         "rawType": "int64",
         "type": "integer"
        },
        {
         "name": "prob lapse band",
         "rawType": "category",
         "type": "unknown"
        },
        {
         "name": "lapse_flag",
         "rawType": "int64",
         "type": "integer"
        },
        {
         "name": "total policies",
         "rawType": "int64",
         "type": "integer"
        },
        {
         "name": "lapse rate",
         "rawType": "float64",
         "type": "float"
        }
       ],
       "ref": "65c066b4-e95f-47b3-86d2-4c5819e18c27",
       "rows": [
        [
         "0",
         "0.0 - 0.1",
         "9",
         "316",
         "0.028481012658227847"
        ],
        [
         "1",
         "0.1 - 0.2",
         "43",
         "222",
         "0.19369369369369369"
        ],
        [
         "2",
         "0.2 - 0.3",
         "37",
         "178",
         "0.20786516853932585"
        ],
        [
         "3",
         "0.3 - 0.4",
         "37",
         "133",
         "0.2781954887218045"
        ],
        [
         "4",
         "0.4 - 0.5",
         "40",
         "83",
         "0.4819277108433735"
        ],
        [
         "5",
         "0.5 - 0.6",
         "29",
         "71",
         "0.4084507042253521"
        ],
        [
         "6",
         "0.6 - 0.7",
         "27",
         "54",
         "0.5"
        ],
        [
         "7",
         "0.7 - 0.8",
         "28",
         "52",
         "0.5384615384615384"
        ],
        [
         "8",
         "0.8 - 0.9",
         "34",
         "69",
         "0.4927536231884058"
        ],
        [
         "9",
         "0.9 - 1.0",
         "1223",
         "1605",
         "0.761993769470405"
        ]
       ],
       "shape": {
        "columns": 4,
        "rows": 10
       }
      },
      "text/html": [
       "<div>\n",
       "<style scoped>\n",
       "    .dataframe tbody tr th:only-of-type {\n",
       "        vertical-align: middle;\n",
       "    }\n",
       "\n",
       "    .dataframe tbody tr th {\n",
       "        vertical-align: top;\n",
       "    }\n",
       "\n",
       "    .dataframe thead th {\n",
       "        text-align: right;\n",
       "    }\n",
       "</style>\n",
       "<table border=\"1\" class=\"dataframe\">\n",
       "  <thead>\n",
       "    <tr style=\"text-align: right;\">\n",
       "      <th></th>\n",
       "      <th>prob lapse band</th>\n",
       "      <th>lapse_flag</th>\n",
       "      <th>total policies</th>\n",
       "      <th>lapse rate</th>\n",
       "    </tr>\n",
       "  </thead>\n",
       "  <tbody>\n",
       "    <tr>\n",
       "      <th>0</th>\n",
       "      <td>0.0 - 0.1</td>\n",
       "      <td>9</td>\n",
       "      <td>316</td>\n",
       "      <td>0.028481</td>\n",
       "    </tr>\n",
       "    <tr>\n",
       "      <th>1</th>\n",
       "      <td>0.1 - 0.2</td>\n",
       "      <td>43</td>\n",
       "      <td>222</td>\n",
       "      <td>0.193694</td>\n",
       "    </tr>\n",
       "    <tr>\n",
       "      <th>2</th>\n",
       "      <td>0.2 - 0.3</td>\n",
       "      <td>37</td>\n",
       "      <td>178</td>\n",
       "      <td>0.207865</td>\n",
       "    </tr>\n",
       "    <tr>\n",
       "      <th>3</th>\n",
       "      <td>0.3 - 0.4</td>\n",
       "      <td>37</td>\n",
       "      <td>133</td>\n",
       "      <td>0.278195</td>\n",
       "    </tr>\n",
       "    <tr>\n",
       "      <th>4</th>\n",
       "      <td>0.4 - 0.5</td>\n",
       "      <td>40</td>\n",
       "      <td>83</td>\n",
       "      <td>0.481928</td>\n",
       "    </tr>\n",
       "    <tr>\n",
       "      <th>5</th>\n",
       "      <td>0.5 - 0.6</td>\n",
       "      <td>29</td>\n",
       "      <td>71</td>\n",
       "      <td>0.408451</td>\n",
       "    </tr>\n",
       "    <tr>\n",
       "      <th>6</th>\n",
       "      <td>0.6 - 0.7</td>\n",
       "      <td>27</td>\n",
       "      <td>54</td>\n",
       "      <td>0.500000</td>\n",
       "    </tr>\n",
       "    <tr>\n",
       "      <th>7</th>\n",
       "      <td>0.7 - 0.8</td>\n",
       "      <td>28</td>\n",
       "      <td>52</td>\n",
       "      <td>0.538462</td>\n",
       "    </tr>\n",
       "    <tr>\n",
       "      <th>8</th>\n",
       "      <td>0.8 - 0.9</td>\n",
       "      <td>34</td>\n",
       "      <td>69</td>\n",
       "      <td>0.492754</td>\n",
       "    </tr>\n",
       "    <tr>\n",
       "      <th>9</th>\n",
       "      <td>0.9 - 1.0</td>\n",
       "      <td>1223</td>\n",
       "      <td>1605</td>\n",
       "      <td>0.761994</td>\n",
       "    </tr>\n",
       "  </tbody>\n",
       "</table>\n",
       "</div>"
      ],
      "text/plain": [
       "  prob lapse band  lapse_flag  total policies  lapse rate\n",
       "0       0.0 - 0.1           9             316    0.028481\n",
       "1       0.1 - 0.2          43             222    0.193694\n",
       "2       0.2 - 0.3          37             178    0.207865\n",
       "3       0.3 - 0.4          37             133    0.278195\n",
       "4       0.4 - 0.5          40              83    0.481928\n",
       "5       0.5 - 0.6          29              71    0.408451\n",
       "6       0.6 - 0.7          27              54    0.500000\n",
       "7       0.7 - 0.8          28              52    0.538462\n",
       "8       0.8 - 0.9          34              69    0.492754\n",
       "9       0.9 - 1.0        1223            1605    0.761994"
      ]
     },
     "execution_count": 130,
     "metadata": {},
     "output_type": "execute_result"
    }
   ],
   "source": [
    "\n",
    "df = DataPreparation(df=data_p)\n",
    "df.aggregation(groupby_cols=[band],cat_cols=[],agg_dict_not_cat_cols={target: pd.NamedAgg(column=target, aggfunc='sum'),'total policies': pd.NamedAgg(column=target, aggfunc='count')})\n",
    "df.agg_df['lapse rate'] = df.agg_df[target]/df.agg_df['total policies']\n",
    "df.agg_df"
   ]
  },
  {
   "cell_type": "code",
   "execution_count": 106,
   "id": "b3d7fdf6",
   "metadata": {},
   "outputs": [
    {
     "data": {
      "image/png": "[encoded data removed]",
      "text/plain": [
       "<Figure size 800x800 with 1 Axes>"
      ]
     },
     "metadata": {},
     "output_type": "display_data"
    }
   ],
   "source": [
    "plt.figure(figsize=(8, 8))\n",
    "plt.plot(bins,[0.0, 0.1,0.2,0.3,0.4,0.5,0.6,0.7,0.8,0.9],color='blue')\n",
    "plt.plot([0.1,0.2,0.3,0.4,0.5,0.6,0.7,0.8,0.9,1.0],color='blue')\n",
    "plt.plot(df.agg_df['lapse rate'],color='orange')\n",
    "\n",
    "plt.show()"
   ]
  },
  {
   "cell_type": "markdown",
   "id": "22c1194c",
   "metadata": {},
   "source": [
    "## U-graphs"
   ]
  },
  {
   "cell_type": "code",
   "execution_count": 131,
   "id": "b4fc083e",
   "metadata": {},
   "outputs": [
    {
     "name": "stderr",
     "output_type": "stream",
     "text": [
      "C:\\Users\\E1005279\\AppData\\Local\\Temp\\ipykernel_21428\\2900424593.py:1: FutureWarning: The default of observed=False is deprecated and will be changed to True in a future version of pandas. Pass observed=False to retain current behavior or observed=True to adopt the future default and silence this warning.\n",
      "  new_df= data_p[['policy_name',band,target]].groupby([band,target]).count().unstack()\n"
     ]
    },
    {
     "data": {
      "text/plain": [
       "<Axes: xlabel='prob lapse band'>"
      ]
     },
     "execution_count": 131,
     "metadata": {},
     "output_type": "execute_result"
    },
    {
     "data": {
      "image/png": "[encoded data removed]",
      "text/plain": [
       "<Figure size 1600x1000 with 1 Axes>"
      ]
     },
     "metadata": {},
     "output_type": "display_data"
    }
   ],
   "source": [
    "\n",
    "new_df= data_p[['policy_name',band,target]].groupby([band,target]).count().unstack() \n",
    "new_df.plot(kind='bar',figsize=(16,10))"
   ]
  },
  {
   "cell_type": "code",
   "execution_count": 187,
   "id": "ba28c847",
   "metadata": {},
   "outputs": [
    {
     "data": {
      "text/plain": [
       "Index(['policy_name'], dtype='object')"
      ]
     },
     "execution_count": 187,
     "metadata": {},
     "output_type": "execute_result"
    }
   ],
   "source": [
    "new_df.columns"
   ]
  },
  {
   "cell_type": "markdown",
   "id": "606dbe09",
   "metadata": {},
   "source": [
    "## probability band cohort"
   ]
  },
  {
   "cell_type": "code",
   "execution_count": 165,
   "id": "3d876548",
   "metadata": {},
   "outputs": [],
   "source": [
    "def stats_nums(data):\n",
    "    mean_val = data.mean()\n",
    "    median_val = data.median()\n",
    "    std_dev = data.std()\n",
    "    q1 = data.quantile(0.25)\n",
    "    q3 = data.quantile(0.75)\n",
    "    iqr = q3 - q1\n",
    "    count = len(data)\n",
    "    return [mean_val,median_val,std_dev,q1,q3,iqr]"
   ]
  },
  {
   "cell_type": "code",
   "execution_count": 167,
   "id": "f5dff001",
   "metadata": {},
   "outputs": [
    {
     "data": {
      "text/plain": [
       "[]"
      ]
     },
     "execution_count": 167,
     "metadata": {},
     "output_type": "execute_result"
    },
    {
     "data": {
      "image/png": "[encoded data removed]",
      "text/plain": [
       "<Figure size 640x480 with 1 Axes>"
      ]
     },
     "metadata": {},
     "output_type": "display_data"
    },
    {
     "data": {
      "image/png": "[encoded data removed]",
      "text/plain": [
       "<Figure size 640x480 with 1 Axes>"
      ]
     },
     "metadata": {},
     "output_type": "display_data"
    }
   ],
   "source": [
    "#['0.1 - 0.2', '0.4 - 0.5', '0.0 - 0.1', '0.9 - 1.0', '0.6 - 0.7', '0.2 - 0.3', '0.3 - 0.4', '0.5 - 0.6', '0.8 - 0.9', '0.7 - 0.8']\n",
    "band_name = 'prob lapse band'\n",
    "bands=['0.0 - 0.1','0.1 - 0.2', '0.2 - 0.3', '0.3 - 0.4','0.4 - 0.5', '0.5 - 0.6', '0.6 - 0.7',  '0.7 - 0.8', '0.8 - 0.9','0.9 - 1.0']\n",
    "colormap = plt.cm.gist_ncar\n",
    "plt.gca().set_prop_cycle(plt.cycler('color', plt.cm.jet(np.linspace(0, 1, 10))))\n",
    "fig, ax = plt.subplots()\n",
    "\n",
    "for i in range(len(bands)):\n",
    "    df_pbc = data[data[band_name]== bands[i]].copy()\n",
    "    stats = {}\n",
    "    y=[]\n",
    "    lower=[]\n",
    "    upper=[]\n",
    "\n",
    "    stats['3m prob'] = stats_nums(df_pbc['prob 3m lapse'])\n",
    "    y.append(stats['3m prob'][0])\n",
    "    lower.append(stats['3m prob'][0]-stats['3m prob'][2])\n",
    "    upper.append(stats['3m prob'][0]+stats['3m prob'][2])\n",
    "\n",
    "    stats['6m prob'] = stats_nums(df_pbc['prob 6m lapse'])\n",
    "    y.append(stats['6m prob'][0])\n",
    "    lower.append(stats['6m prob'][0]-stats['6m prob'][2])\n",
    "    upper.append(stats['6m prob'][0]+stats['6m prob'][2])\n",
    "\n",
    "    stats['1y prob'] = stats_nums(df_pbc['prob y1 lapse'])\n",
    "    y.append(stats['1y prob'][0])\n",
    "    lower.append(stats['1y prob'][0]-stats['1y prob'][2])\n",
    "    upper.append(stats['1y prob'][0]+stats['1y prob'][2])\n",
    "\n",
    "\n",
    "\n",
    "    stats['lapse prob'] = stats_nums(df_pbc['prob lapse'])\n",
    "    y.append(stats['lapse prob'][0])\n",
    "    lower.append(stats['lapse prob'][0]-stats['lapse prob'][2])\n",
    "    upper.append(stats['lapse prob'][0]+stats['lapse prob'][2])\n",
    "\n",
    "    stats['ann prob'] = stats_nums(df_pbc['prob ann lapse'])\n",
    "    y.append(stats['ann prob'][0])\n",
    "    lower.append(stats['ann prob'][0]-stats['ann prob'][2])\n",
    "    upper.append(stats['ann prob'][0]+stats['ann prob'][2])\n",
    "\n",
    " \n",
    "    ax.plot(stats.keys(),y, label=bands[i])\n",
    "    ax.fill_between(stats.keys(), lower, upper, alpha=.1)\n",
    "\n",
    "ax.set_title('Lapse Probabilities for subsequent bands per lapse band for 3 months')\n",
    "ax.set_ylabel('Mean Probability')\n",
    "ax.grid(True, which='both', linestyle='--', linewidth=0.5)\n",
    "ax.legend(title=band_name, bbox_to_anchor=(1.05, 1), loc='upper left')\n",
    "plt.tight_layout()\n",
    "plt.plot()\n"
   ]
  },
  {
   "cell_type": "markdown",
   "id": "caa3ebac",
   "metadata": {},
   "source": [
    "## Sale cohort view"
   ]
  },
  {
   "cell_type": "code",
   "execution_count": 23,
   "id": "bbea2cc0",
   "metadata": {},
   "outputs": [
    {
     "data": {
      "text/plain": [
       "Index(['policy_name', 'pred 3m lapse', 'prob 3m lapse', 'pred 6m lapse',\n",
       "       'prob 6m lapse', 'pred y1 lapse', 'prob y1 lapse', 'pred lapse',\n",
       "       'prob lapse', 'pred ann lapse', 'prob ann lapse', 'Unnamed: 0', 'age',\n",
       "       'education', 'gender', 'income', 'smoker_status',\n",
       "       'sold_socio_economic_class', 'occupation_class', 'occupation',\n",
       "       'lead_provider_name', 'lead_type', 'sales_channel', 'campaign_name',\n",
       "       'underwriting_outcome', 'optionality', 'hiv_test_required', 'eml',\n",
       "       'pml', 'hiv_group', 'securitygroup_id', 'benefits_count',\n",
       "       'last_benefit_amount', 'cover_amount_full', 'total_funeral_premium',\n",
       "       'funeral_count', 'original_premium', 'duration_policy_start_delay',\n",
       "       '# calls', '# calls contacted', 'res_code_QA_sum',\n",
       "       'res_code_claims_sum', 'res_code_no interest_sum', 'res_code_other_sum',\n",
       "       'res_code_payment_sum', 'res_code_quote_sum', 'res_code_sale_sum',\n",
       "       'res_code_update_sum', 'lapse_flag', 'inflation', 'unemployment rate',\n",
       "       '3month_lapse', '6month_lapse', '1yr_lapse', 'ann_lapse', 'age_band',\n",
       "       'income_band', 'last_benefit_amount_band', 'cover_amount_full_band',\n",
       "       'total_funeral_premium_band', 'original_premium_band', 'sale_date',\n",
       "       'lead_provider_groups', 'sale_month', 'sale date', 'prob 3m lapse band',\n",
       "       'prob 6m lapse band', 'prob y1 lapse band', 'prob lapse band',\n",
       "       'prob ann lapse band'],\n",
       "      dtype='object')"
      ]
     },
     "execution_count": 23,
     "metadata": {},
     "output_type": "execute_result"
    }
   ],
   "source": [
    "data.columns\n",
    "\n"
   ]
  },
  {
   "cell_type": "code",
   "execution_count": 141,
   "id": "ea171620",
   "metadata": {},
   "outputs": [
    {
     "name": "stdout",
     "output_type": "stream",
     "text": [
      "(144, 98)\n",
      "(119, 98)\n",
      "(104, 98)\n",
      "(12, 98)\n",
      "(0, 98)\n",
      "(0, 98)\n",
      "(0, 98)\n",
      "(718, 98)\n"
     ]
    },
    {
     "name": "stderr",
     "output_type": "stream",
     "text": [
      "C:\\Users\\E1005279\\AppData\\Local\\Temp\\ipykernel_21428\\3167384379.py:15: RuntimeWarning: invalid value encountered in scalar divide\n",
      "  y_pred.append(cohort['pred 3m lapse'].sum()/len(policies))\n",
      "C:\\Users\\E1005279\\AppData\\Local\\Temp\\ipykernel_21428\\3167384379.py:16: RuntimeWarning: invalid value encountered in scalar divide\n",
      "  y_pred.append(cohort['pred 6m lapse'].sum()/len(policies))\n",
      "C:\\Users\\E1005279\\AppData\\Local\\Temp\\ipykernel_21428\\3167384379.py:17: RuntimeWarning: invalid value encountered in scalar divide\n",
      "  y_pred.append(cohort['pred y1 lapse'].sum()/len(policies))\n",
      "C:\\Users\\E1005279\\AppData\\Local\\Temp\\ipykernel_21428\\3167384379.py:18: RuntimeWarning: invalid value encountered in scalar divide\n",
      "  y_pred.append(cohort['pred lapse'].sum()/len(policies))\n",
      "C:\\Users\\E1005279\\AppData\\Local\\Temp\\ipykernel_21428\\3167384379.py:19: RuntimeWarning: invalid value encountered in scalar divide\n",
      "  y_pred.append(cohort['pred ann lapse'].sum()/len(policies))\n",
      "C:\\Users\\E1005279\\AppData\\Local\\Temp\\ipykernel_21428\\3167384379.py:21: RuntimeWarning: invalid value encountered in scalar divide\n",
      "  y_act.append(cohort['3month_lapse'].sum()/len(policies))\n",
      "C:\\Users\\E1005279\\AppData\\Local\\Temp\\ipykernel_21428\\3167384379.py:22: RuntimeWarning: invalid value encountered in scalar divide\n",
      "  y_act.append(cohort['6month_lapse'].sum()/len(policies))\n",
      "C:\\Users\\E1005279\\AppData\\Local\\Temp\\ipykernel_21428\\3167384379.py:23: RuntimeWarning: invalid value encountered in scalar divide\n",
      "  y_act.append(cohort['1yr_lapse'].sum()/len(policies))\n",
      "C:\\Users\\E1005279\\AppData\\Local\\Temp\\ipykernel_21428\\3167384379.py:24: RuntimeWarning: invalid value encountered in scalar divide\n",
      "  y_act.append(cohort['lapse_flag'].sum()/len(policies))\n",
      "C:\\Users\\E1005279\\AppData\\Local\\Temp\\ipykernel_21428\\3167384379.py:25: RuntimeWarning: invalid value encountered in scalar divide\n",
      "  y_act.append(cohort['ann_lapse'].sum()/len(policies))\n",
      "C:\\Users\\E1005279\\AppData\\Local\\Temp\\ipykernel_21428\\3167384379.py:15: RuntimeWarning: invalid value encountered in scalar divide\n",
      "  y_pred.append(cohort['pred 3m lapse'].sum()/len(policies))\n",
      "C:\\Users\\E1005279\\AppData\\Local\\Temp\\ipykernel_21428\\3167384379.py:16: RuntimeWarning: invalid value encountered in scalar divide\n",
      "  y_pred.append(cohort['pred 6m lapse'].sum()/len(policies))\n",
      "C:\\Users\\E1005279\\AppData\\Local\\Temp\\ipykernel_21428\\3167384379.py:17: RuntimeWarning: invalid value encountered in scalar divide\n",
      "  y_pred.append(cohort['pred y1 lapse'].sum()/len(policies))\n",
      "C:\\Users\\E1005279\\AppData\\Local\\Temp\\ipykernel_21428\\3167384379.py:18: RuntimeWarning: invalid value encountered in scalar divide\n",
      "  y_pred.append(cohort['pred lapse'].sum()/len(policies))\n",
      "C:\\Users\\E1005279\\AppData\\Local\\Temp\\ipykernel_21428\\3167384379.py:19: RuntimeWarning: invalid value encountered in scalar divide\n",
      "  y_pred.append(cohort['pred ann lapse'].sum()/len(policies))\n",
      "C:\\Users\\E1005279\\AppData\\Local\\Temp\\ipykernel_21428\\3167384379.py:21: RuntimeWarning: invalid value encountered in scalar divide\n",
      "  y_act.append(cohort['3month_lapse'].sum()/len(policies))\n",
      "C:\\Users\\E1005279\\AppData\\Local\\Temp\\ipykernel_21428\\3167384379.py:22: RuntimeWarning: invalid value encountered in scalar divide\n",
      "  y_act.append(cohort['6month_lapse'].sum()/len(policies))\n",
      "C:\\Users\\E1005279\\AppData\\Local\\Temp\\ipykernel_21428\\3167384379.py:23: RuntimeWarning: invalid value encountered in scalar divide\n",
      "  y_act.append(cohort['1yr_lapse'].sum()/len(policies))\n",
      "C:\\Users\\E1005279\\AppData\\Local\\Temp\\ipykernel_21428\\3167384379.py:24: RuntimeWarning: invalid value encountered in scalar divide\n",
      "  y_act.append(cohort['lapse_flag'].sum()/len(policies))\n",
      "C:\\Users\\E1005279\\AppData\\Local\\Temp\\ipykernel_21428\\3167384379.py:25: RuntimeWarning: invalid value encountered in scalar divide\n",
      "  y_act.append(cohort['ann_lapse'].sum()/len(policies))\n",
      "C:\\Users\\E1005279\\AppData\\Local\\Temp\\ipykernel_21428\\3167384379.py:15: RuntimeWarning: invalid value encountered in scalar divide\n",
      "  y_pred.append(cohort['pred 3m lapse'].sum()/len(policies))\n",
      "C:\\Users\\E1005279\\AppData\\Local\\Temp\\ipykernel_21428\\3167384379.py:16: RuntimeWarning: invalid value encountered in scalar divide\n",
      "  y_pred.append(cohort['pred 6m lapse'].sum()/len(policies))\n",
      "C:\\Users\\E1005279\\AppData\\Local\\Temp\\ipykernel_21428\\3167384379.py:17: RuntimeWarning: invalid value encountered in scalar divide\n",
      "  y_pred.append(cohort['pred y1 lapse'].sum()/len(policies))\n",
      "C:\\Users\\E1005279\\AppData\\Local\\Temp\\ipykernel_21428\\3167384379.py:18: RuntimeWarning: invalid value encountered in scalar divide\n",
      "  y_pred.append(cohort['pred lapse'].sum()/len(policies))\n",
      "C:\\Users\\E1005279\\AppData\\Local\\Temp\\ipykernel_21428\\3167384379.py:19: RuntimeWarning: invalid value encountered in scalar divide\n",
      "  y_pred.append(cohort['pred ann lapse'].sum()/len(policies))\n",
      "C:\\Users\\E1005279\\AppData\\Local\\Temp\\ipykernel_21428\\3167384379.py:21: RuntimeWarning: invalid value encountered in scalar divide\n",
      "  y_act.append(cohort['3month_lapse'].sum()/len(policies))\n",
      "C:\\Users\\E1005279\\AppData\\Local\\Temp\\ipykernel_21428\\3167384379.py:22: RuntimeWarning: invalid value encountered in scalar divide\n",
      "  y_act.append(cohort['6month_lapse'].sum()/len(policies))\n",
      "C:\\Users\\E1005279\\AppData\\Local\\Temp\\ipykernel_21428\\3167384379.py:23: RuntimeWarning: invalid value encountered in scalar divide\n",
      "  y_act.append(cohort['1yr_lapse'].sum()/len(policies))\n",
      "C:\\Users\\E1005279\\AppData\\Local\\Temp\\ipykernel_21428\\3167384379.py:24: RuntimeWarning: invalid value encountered in scalar divide\n",
      "  y_act.append(cohort['lapse_flag'].sum()/len(policies))\n",
      "C:\\Users\\E1005279\\AppData\\Local\\Temp\\ipykernel_21428\\3167384379.py:25: RuntimeWarning: invalid value encountered in scalar divide\n",
      "  y_act.append(cohort['ann_lapse'].sum()/len(policies))\n"
     ]
    },
    {
     "name": "stdout",
     "output_type": "stream",
     "text": [
      "(714, 98)\n",
      "(737, 98)\n",
      "(497, 98)\n",
      "(266, 98)\n"
     ]
    },
    {
     "data": {
      "text/plain": [
       "[]"
      ]
     },
     "execution_count": 141,
     "metadata": {},
     "output_type": "execute_result"
    },
    {
     "data": {
      "image/png": "[encoded data removed]",
      "text/plain": [
       "<Figure size 640x480 with 1 Axes>"
      ]
     },
     "metadata": {},
     "output_type": "display_data"
    },
    {
     "data": {
      "image/png": "[encoded data removed]",
      "text/plain": [
       "<Figure size 640x480 with 1 Axes>"
      ]
     },
     "metadata": {},
     "output_type": "display_data"
    }
   ],
   "source": [
    "data_p= data.copy()\n",
    "colormap = plt.cm.gist_ncar\n",
    "plt.gca().set_prop_cycle(plt.cycler('color', plt.cm.jet(np.linspace(0, 1, 10))))\n",
    "fig, ax = plt.subplots()\n",
    "yrs = [2024]\n",
    "\n",
    "for year in yrs:\n",
    "    \n",
    "    for month in range(1,13):\n",
    "        policies=data_p[(pd.to_datetime(data_p['sale_date']).dt.year==year) & (pd.to_datetime(data_p['sale_date']).dt.month==month)]['policy_name']\n",
    "        cohort=data_p[data_p['policy_name'].isin(policies)]\n",
    "        print(cohort.shape)\n",
    "        x=['3m','6m','1y','all','ann']\n",
    "        y_pred=[]\n",
    "        y_pred.append(cohort['pred 3m lapse'].sum()/len(policies))\n",
    "        y_pred.append(cohort['pred 6m lapse'].sum()/len(policies))\n",
    "        y_pred.append(cohort['pred y1 lapse'].sum()/len(policies))\n",
    "        y_pred.append(cohort['pred lapse'].sum()/len(policies))\n",
    "        y_pred.append(cohort['pred ann lapse'].sum()/len(policies))\n",
    "        y_act = []\n",
    "        y_act.append(cohort['3month_lapse'].sum()/len(policies))\n",
    "        y_act.append(cohort['6month_lapse'].sum()/len(policies))\n",
    "        y_act.append(cohort['1yr_lapse'].sum()/len(policies))\n",
    "        y_act.append(cohort['lapse_flag'].sum()/len(policies))\n",
    "        y_act.append(cohort['ann_lapse'].sum()/len(policies))\n",
    "        \n",
    "        line1, = ax.plot(x,y_pred, label=f'pred {year}-{month}')#, color=col)\n",
    "        #ax.plot(x,y_act, label=f'actual {year}-{month}', linestyle='dashed', color=col)\n",
    "        ax.plot(x,y_act, label=f'actual {year}-{month}', linestyle='dashed', color=line1.get_color())\n",
    "\n",
    "\n",
    "ax.set_title(f'predicted lapses for monthly cohorts from {yrs}') #vs predicted\n",
    "ax.set_ylabel('lapse rate')\n",
    "ax.grid(True, which='both', linestyle='--', linewidth=0.5)\n",
    "ax.legend(title='cohort', bbox_to_anchor=(1.05, 1), loc='upper left')\n",
    "plt.tight_layout()\n",
    "plt.plot()"
   ]
  },
  {
   "cell_type": "code",
   "execution_count": 143,
   "id": "3720817b",
   "metadata": {},
   "outputs": [
    {
     "name": "stdout",
     "output_type": "stream",
     "text": [
      "(144, 98)\n",
      "(119, 98)\n",
      "(104, 98)\n",
      "(12, 98)\n",
      "(0, 98)\n"
     ]
    },
    {
     "name": "stderr",
     "output_type": "stream",
     "text": [
      "C:\\Users\\E1005279\\AppData\\Local\\Temp\\ipykernel_21428\\205812249.py:15: RuntimeWarning: invalid value encountered in scalar divide\n",
      "  y_pred.append(cohort['pred 3m lapse'].sum()/len(policies))\n",
      "C:\\Users\\E1005279\\AppData\\Local\\Temp\\ipykernel_21428\\205812249.py:16: RuntimeWarning: invalid value encountered in scalar divide\n",
      "  y_pred.append(cohort['pred 6m lapse'].sum()/len(policies))\n",
      "C:\\Users\\E1005279\\AppData\\Local\\Temp\\ipykernel_21428\\205812249.py:17: RuntimeWarning: invalid value encountered in scalar divide\n",
      "  y_pred.append(cohort['pred y1 lapse'].sum()/len(policies))\n",
      "C:\\Users\\E1005279\\AppData\\Local\\Temp\\ipykernel_21428\\205812249.py:18: RuntimeWarning: invalid value encountered in scalar divide\n",
      "  y_pred.append(cohort['pred lapse'].sum()/len(policies))\n",
      "C:\\Users\\E1005279\\AppData\\Local\\Temp\\ipykernel_21428\\205812249.py:19: RuntimeWarning: invalid value encountered in scalar divide\n",
      "  y_pred.append(cohort['pred ann lapse'].sum()/len(policies))\n",
      "C:\\Users\\E1005279\\AppData\\Local\\Temp\\ipykernel_21428\\205812249.py:21: RuntimeWarning: invalid value encountered in scalar divide\n",
      "  y_act.append(cohort['3month_lapse'].sum()/len(policies))\n",
      "C:\\Users\\E1005279\\AppData\\Local\\Temp\\ipykernel_21428\\205812249.py:22: RuntimeWarning: invalid value encountered in scalar divide\n",
      "  y_act.append(cohort['6month_lapse'].sum()/len(policies))\n",
      "C:\\Users\\E1005279\\AppData\\Local\\Temp\\ipykernel_21428\\205812249.py:23: RuntimeWarning: invalid value encountered in scalar divide\n",
      "  y_act.append(cohort['1yr_lapse'].sum()/len(policies))\n",
      "C:\\Users\\E1005279\\AppData\\Local\\Temp\\ipykernel_21428\\205812249.py:24: RuntimeWarning: invalid value encountered in scalar divide\n",
      "  y_act.append(cohort['lapse_flag'].sum()/len(policies))\n",
      "C:\\Users\\E1005279\\AppData\\Local\\Temp\\ipykernel_21428\\205812249.py:25: RuntimeWarning: invalid value encountered in scalar divide\n",
      "  y_act.append(cohort['ann_lapse'].sum()/len(policies))\n"
     ]
    },
    {
     "data": {
      "text/plain": [
       "[]"
      ]
     },
     "execution_count": 143,
     "metadata": {},
     "output_type": "execute_result"
    },
    {
     "data": {
      "image/png": "[encoded data removed]",
      "text/plain": [
       "<Figure size 640x480 with 1 Axes>"
      ]
     },
     "metadata": {},
     "output_type": "display_data"
    },
    {
     "data": {
      "image/png": "[encoded data removed]",
      "text/plain": [
       "<Figure size 640x480 with 1 Axes>"
      ]
     },
     "metadata": {},
     "output_type": "display_data"
    }
   ],
   "source": [
    "data_p= data.copy()\n",
    "colormap = plt.cm.gist_ncar\n",
    "plt.gca().set_prop_cycle(plt.cycler('color', plt.cm.jet(np.linspace(0, 1, 10))))\n",
    "fig, ax = plt.subplots()\n",
    "\n",
    "\n",
    "for year in yrs:\n",
    "\n",
    "    for month in range(1,6):\n",
    "        policies=data_p[(pd.to_datetime(data_p['sale_date']).dt.year==year) & (pd.to_datetime(data_p['sale_date']).dt.month==month)]['policy_name']\n",
    "        cohort=data_p[data_p['policy_name'].isin(policies)]\n",
    "        print(cohort.shape)\n",
    "        x=['3m','6m','1y','all','ann']\n",
    "        y_pred=[]\n",
    "        y_pred.append(cohort['pred 3m lapse'].sum()/len(policies))\n",
    "        y_pred.append(cohort['pred 6m lapse'].sum()/len(policies))\n",
    "        y_pred.append(cohort['pred y1 lapse'].sum()/len(policies))\n",
    "        y_pred.append(cohort['pred lapse'].sum()/len(policies))\n",
    "        y_pred.append(cohort['pred ann lapse'].sum()/len(policies))\n",
    "        y_act = []\n",
    "        y_act.append(cohort['3month_lapse'].sum()/len(policies))\n",
    "        y_act.append(cohort['6month_lapse'].sum()/len(policies))\n",
    "        y_act.append(cohort['1yr_lapse'].sum()/len(policies))\n",
    "        y_act.append(cohort['lapse_flag'].sum()/len(policies))\n",
    "        y_act.append(cohort['ann_lapse'].sum()/len(policies))\n",
    "        y_diff =  [abs(a - b) for a, b in zip(y_pred, y_act)]\n",
    "        line1, = ax.plot(x,y_diff, label=f'pred {year}-{month}')#, color=col)\n",
    "        #ax.plot(x,y_act, label=f'actual {year}-{month}', linestyle='dashed', color=col)\n",
    "        #ax.plot(x,y_act, label=f'actual {year}-{month}', linestyle='dashed', color=line1.get_color())\n",
    "\n",
    "\n",
    "ax.set_title(f'difference between actual and predicted lapse rates for monthly cohorts from {yrs}') #vs predicted\n",
    "ax.set_ylabel('lapse rate')\n",
    "ax.grid(True, which='both', linestyle='--', linewidth=0.5)\n",
    "ax.legend(title='cohort', bbox_to_anchor=(1.05, 1), loc='upper left')\n",
    "plt.tight_layout()\n",
    "plt.plot()"
   ]
  }
 ],
 "metadata": {
  "kernelspec": {
   "display_name": "Python 3",
   "language": "python",
   "name": "python3"
  },
  "language_info": {
   "codemirror_mode": {
    "name": "ipython",
    "version": 3
   },
   "file_extension": ".py",
   "mimetype": "text/x-python",
   "name": "python",
   "nbconvert_exporter": "python",
   "pygments_lexer": "ipython3",
   "version": "3.12.6"
  }
 },
 "nbformat": 4,
 "nbformat_minor": 5
}
