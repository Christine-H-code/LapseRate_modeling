{
 "cells": [
  {
   "cell_type": "code",
   "execution_count": 1,
   "id": "01ac6647",
   "metadata": {},
   "outputs": [],
   "source": [
    "import sys\n",
    "sys.path.append(\"C:/Users/E1005279/OneDrive - Sanlam Life Insurance Limited/MWL/MWLrepo/MiWayLife2/Data_Analysis_Package\")\n",
    "from data_preparation import DataPreparation, Analysis, multi_data_ops\n",
    "import data_operations as do\n",
    "\n",
    "import pandas as pd\n",
    "import matplotlib.pyplot as plt\n",
    "import seaborn as sns\n",
    "import numpy as np\n",
    "from datetime import datetime\n",
    "\n",
    "import scipy.stats as stats\n",
    "from statsmodels.tsa.stattools import adfuller\n",
    "from statsmodels.tsa.seasonal import STL\n",
    "import math\n",
    "import matplotlib.gridspec as gridspec\n",
    "\n",
    "\n",
    "import data_transforations as data_tr\n",
    "\n",
    "from sklearn import tree"
   ]
  },
  {
   "cell_type": "markdown",
   "id": "5a6d04fd",
   "metadata": {},
   "source": [
    "# parameters"
   ]
  },
  {
   "cell_type": "code",
   "execution_count": 2,
   "id": "bdc38c3e",
   "metadata": {},
   "outputs": [],
   "source": [
    "current_date='2025-08-01'"
   ]
  },
  {
   "cell_type": "markdown",
   "id": "3799edfe",
   "metadata": {},
   "source": [
    "# loading data"
   ]
  },
  {
   "cell_type": "code",
   "execution_count": 3,
   "id": "9e8ef213",
   "metadata": {},
   "outputs": [],
   "source": [
    "path = \"C:/Users/E1005279/OneDrive - Sanlam Life Insurance Limited/MWL/Lapse Rate Projections/Data/\"\n",
    "\n",
    "calls_data = pd.DataFrame(pd.read_csv(path+\"call_reason.csv\"))\n",
    "sales_data = pd.DataFrame(pd.read_csv(path+\"sales.csv\"))\n",
    "policy_data = pd.DataFrame(pd.read_csv(path+\"policy_data.csv\"))\n",
    "payment_data = pd.concat([pd.DataFrame(pd.read_csv(path+\"Payment_data_1.csv\")),pd.DataFrame(pd.read_csv(path+\"Payment_data_2.csv\"))])\n",
    "lapse_data = pd.concat([pd.DataFrame(pd.read_csv(path+\"lapse_1.csv\")),pd.DataFrame(pd.read_csv(path+\"lapse_2.csv\"))])"
   ]
  },
  {
   "cell_type": "markdown",
   "id": "7e513d65",
   "metadata": {},
   "source": [
    "## Filtering data to relevant policies\n",
    "\n",
    "Relevant policies are policies that have been incepted. The rpt_datamodel_lapse has incepted policies only, hence filtering on policies within that dataset"
   ]
  },
  {
   "cell_type": "code",
   "execution_count": 4,
   "id": "6a3c4aa5",
   "metadata": {},
   "outputs": [],
   "source": [
    "pol_names = list(lapse_data['policy_name'])\n",
    "sales_data = sales_data[sales_data['policy_name'].isin(pol_names)]\n",
    "pol_ids= list(sales_data['policy_id'])\n",
    "calls_data = calls_data[calls_data['policy_name'].isin(pol_names)]\n",
    "payment_data = payment_data[payment_data['policy_id'].isin(pol_ids)]\n",
    "policy_data = policy_data[policy_data['policy_name'].isin(pol_names)]\n",
    "\n",
    "#Make date column of data type datetime\n",
    "sales_data=do.dtype_datetime(sales_data)\n",
    "calls_data=do.dtype_datetime(calls_data)\n",
    "payment_data=do.dtype_datetime(payment_data)\n",
    "policy_data=do.dtype_datetime(policy_data)\n",
    "lapse_data=do.dtype_datetime(lapse_data)\n"
   ]
  },
  {
   "cell_type": "markdown",
   "id": "d0e0d697",
   "metadata": {},
   "source": [
    "## Aggregating call, payment, sales and lapse data then merging"
   ]
  },
  {
   "cell_type": "code",
   "execution_count": 5,
   "id": "fbe468c1",
   "metadata": {},
   "outputs": [
    {
     "name": "stderr",
     "output_type": "stream",
     "text": [
      "c:\\Users\\E1005279\\OneDrive - Sanlam Life Insurance Limited\\MWL\\MWLrepo\\LapseRate_modeling\\data_transforations.py:113: SettingWithCopyWarning: \n",
      "A value is trying to be set on a copy of a slice from a DataFrame.\n",
      "Try using .loc[row_indexer,col_indexer] = value instead\n",
      "\n",
      "See the caveats in the documentation: https://pandas.pydata.org/pandas-docs/stable/user_guide/indexing.html#returning-a-view-versus-a-copy\n",
      "  calls.df['res_code']= calls.df['resolution_code'].apply(res_code_categories)\n",
      "c:\\Users\\E1005279\\OneDrive - Sanlam Life Insurance Limited\\MWL\\MWLrepo\\LapseRate_modeling\\data_transforations.py:88: SettingWithCopyWarning: \n",
      "A value is trying to be set on a copy of a slice from a DataFrame.\n",
      "Try using .loc[row_indexer,col_indexer] = value instead\n",
      "\n",
      "See the caveats in the documentation: https://pandas.pydata.org/pandas-docs/stable/user_guide/indexing.html#returning-a-view-versus-a-copy\n",
      "  calls.df['res_code']= calls.df['resolution_code'].apply(res_code_categories_postsale)\n",
      "c:\\Users\\E1005279\\OneDrive - Sanlam Life Insurance Limited\\MWL\\MWLrepo\\LapseRate_modeling\\data_transforations.py:138: SettingWithCopyWarning: \n",
      "A value is trying to be set on a copy of a slice from a DataFrame.\n",
      "Try using .loc[row_indexer,col_indexer] = value instead\n",
      "\n",
      "See the caveats in the documentation: https://pandas.pydata.org/pandas-docs/stable/user_guide/indexing.html#returning-a-view-versus-a-copy\n",
      "  payment_data['anniversary_due'] = pd.to_datetime(payment_data['anniversary_due'], errors='coerce')\n"
     ]
    }
   ],
   "source": [
    "pre_inception_calls_data = data_tr.pre_sale_calls(calls_data,policy_data)\n",
    "post_sale_calls_data = data_tr.post_sale_calls(calls_data,policy_data)\n",
    "payment_hist_data = data_tr.payments_history(payment_data,current_date=current_date)\n",
    "lapse_data = data_tr.lapses(lapse_data)\n",
    "sales_data = sales_data.drop_duplicates(subset=['policy_id'], keep='last')"
   ]
  },
  {
   "cell_type": "code",
   "execution_count": 6,
   "id": "f0bb6886",
   "metadata": {},
   "outputs": [],
   "source": [
    "inception_data = data_tr.at_inception_data_merge(pre_inception_calls_data, sales_data,policy_data,lapse_data)"
   ]
  },
  {
   "cell_type": "code",
   "execution_count": 6,
   "id": "8f0e0f00",
   "metadata": {},
   "outputs": [],
   "source": [
    "\n",
    "near_ftr_lapse_data = data_tr.post_sale_data_merge(post_sale_calls_data, sales_data,policy_data,lapse_data,payment_hist_data)"
   ]
  },
  {
   "cell_type": "markdown",
   "id": "b3adae71",
   "metadata": {},
   "source": [
    "## Some cleaning and filtering"
   ]
  },
  {
   "cell_type": "code",
   "execution_count": 7,
   "id": "5aad5195",
   "metadata": {},
   "outputs": [],
   "source": [
    "\n",
    "inception_data = data_tr.at_inception_data_clean_filter(inception_data)"
   ]
  },
  {
   "cell_type": "code",
   "execution_count": 7,
   "id": "ebaccaa9",
   "metadata": {},
   "outputs": [],
   "source": [
    "near_ftr_lapse_data = data_tr.near_ftr_lapse_data_clean_filter(near_ftr_lapse_data)"
   ]
  },
  {
   "cell_type": "markdown",
   "id": "c91c7698",
   "metadata": {},
   "source": [
    "## Adding economic indicators"
   ]
  },
  {
   "cell_type": "code",
   "execution_count": 8,
   "id": "da894fdb",
   "metadata": {},
   "outputs": [],
   "source": [
    "path = \"C:/Users/E1005279/OneDrive - Sanlam Life Insurance Limited/MWL/Lapse Rate Projections/Data/\"\n",
    "unemployment = pd.DataFrame(pd.read_csv(path+\"unemployment rates.csv\"))\n",
    "unemployment= unemployment[['year','ave']]\n",
    "inflation = pd.DataFrame(pd.read_csv(path+\"inflation.csv\"))"
   ]
  },
  {
   "cell_type": "code",
   "execution_count": 9,
   "id": "57d6f1cd",
   "metadata": {},
   "outputs": [],
   "source": [
    "\n",
    "inception_data['sale_date_year'] = pd.to_datetime(inception_data['sale_date']).dt.year\n",
    "inception_data = data_tr.adding_eco_ind(inflation, unemployment,inception_data,'sale_date_year')"
   ]
  },
  {
   "cell_type": "code",
   "execution_count": 9,
   "id": "d774f180",
   "metadata": {},
   "outputs": [],
   "source": [
    "near_ftr_lapse_data['cover_start_date_year' ] = pd.to_datetime(near_ftr_lapse_data['cover_start_date' ]).dt.year\n",
    "near_ftr_lapse_data = data_tr.adding_eco_ind(inflation, unemployment,near_ftr_lapse_data,'cover_start_date_year')"
   ]
  },
  {
   "cell_type": "markdown",
   "id": "3e4638ab",
   "metadata": {},
   "source": [
    "## Target creation"
   ]
  },
  {
   "cell_type": "code",
   "execution_count": 10,
   "id": "596050b4",
   "metadata": {},
   "outputs": [],
   "source": [
    "inception_data = data_tr.inception_targets(inception_data)\n"
   ]
  },
  {
   "cell_type": "code",
   "execution_count": 10,
   "id": "aaa00036",
   "metadata": {},
   "outputs": [],
   "source": [
    "near_ftr_lapse_data = data_tr.near_ftr_targets(near_ftr_lapse_data)"
   ]
  },
  {
   "cell_type": "code",
   "execution_count": 11,
   "id": "cbaee7e6",
   "metadata": {},
   "outputs": [
    {
     "data": {
      "application/vnd.microsoft.datawrangler.viewer.v0+json": {
       "columns": [
        {
         "name": "index",
         "rawType": "int64",
         "type": "integer"
        },
        {
         "name": "policy_id",
         "rawType": "object",
         "type": "string"
        },
        {
         "name": "policy_name",
         "rawType": "object",
         "type": "string"
        },
        {
         "name": "age",
         "rawType": "int64",
         "type": "integer"
        },
        {
         "name": "benefits_count",
         "rawType": "float64",
         "type": "float"
        },
        {
         "name": "education",
         "rawType": "object",
         "type": "string"
        },
        {
         "name": "gender",
         "rawType": "object",
         "type": "string"
        },
        {
         "name": "income",
         "rawType": "float64",
         "type": "float"
        },
        {
         "name": "smoker_status",
         "rawType": "object",
         "type": "string"
        },
        {
         "name": "sold_socio_economic_class",
         "rawType": "float64",
         "type": "float"
        },
        {
         "name": "securitygroup_id",
         "rawType": "object",
         "type": "string"
        },
        {
         "name": "optionality",
         "rawType": "float64",
         "type": "float"
        },
        {
         "name": "policy_type",
         "rawType": "object",
         "type": "string"
        },
        {
         "name": "policy_status",
         "rawType": "object",
         "type": "string"
        },
        {
         "name": "premium",
         "rawType": "float64",
         "type": "float"
        },
        {
         "name": "cover_start_date",
         "rawType": "datetime64[ns]",
         "type": "datetime"
        },
        {
         "name": "cancellation_effective_date",
         "rawType": "datetime64[ns]",
         "type": "datetime"
        },
        {
         "name": "original_premium",
         "rawType": "float64",
         "type": "float"
        },
        {
         "name": "cancellation_reason",
         "rawType": "object",
         "type": "unknown"
        },
        {
         "name": "last_benefit_amount",
         "rawType": "float64",
         "type": "float"
        },
        {
         "name": "last_main_premium",
         "rawType": "float64",
         "type": "float"
        },
        {
         "name": "total_funeral_premium",
         "rawType": "float64",
         "type": "float"
        },
        {
         "name": "funeral_count",
         "rawType": "float64",
         "type": "float"
        },
        {
         "name": "has_been_recaptured",
         "rawType": "int64",
         "type": "integer"
        },
        {
         "name": "reason",
         "rawType": "object",
         "type": "string"
        },
        {
         "name": "last_benefit_status",
         "rawType": "object",
         "type": "string"
        },
        {
         "name": "prev_premium",
         "rawType": "float64",
         "type": "float"
        },
        {
         "name": "lapse_flag",
         "rawType": "bool",
         "type": "boolean"
        },
        {
         "name": "cover_amount_full",
         "rawType": "float64",
         "type": "float"
        },
        {
         "name": "current_policy_status",
         "rawType": "object",
         "type": "string"
        },
        {
         "name": "eml",
         "rawType": "float64",
         "type": "float"
        },
        {
         "name": "pml",
         "rawType": "float64",
         "type": "float"
        },
        {
         "name": "current individual_income",
         "rawType": "float64",
         "type": "float"
        },
        {
         "name": "orginal individual_income",
         "rawType": "float64",
         "type": "float"
        },
        {
         "name": "lapse_type",
         "rawType": "object",
         "type": "unknown"
        },
        {
         "name": "* policy start delay months",
         "rawType": "int64",
         "type": "integer"
        },
        {
         "name": "* policy duration months",
         "rawType": "int64",
         "type": "integer"
        },
        {
         "name": "last premium amount due",
         "rawType": "float64",
         "type": "float"
        },
        {
         "name": "duration to anniversary",
         "rawType": "float64",
         "type": "float"
        },
        {
         "name": "payment_method_DebiCheck_sum",
         "rawType": "int32",
         "type": "integer"
        },
        {
         "name": "payment_method_EFT_sum",
         "rawType": "int32",
         "type": "integer"
        },
        {
         "name": "payment_method_Pre Fund_sum",
         "rawType": "int32",
         "type": "integer"
        },
        {
         "name": "# anniversaries",
         "rawType": "int64",
         "type": "integer"
        },
        {
         "name": "payment rate",
         "rawType": "float64",
         "type": "float"
        },
        {
         "name": "1 month ago payment",
         "rawType": "object",
         "type": "string"
        },
        {
         "name": "2 month ago payment",
         "rawType": "object",
         "type": "string"
        },
        {
         "name": "3 month ago payment",
         "rawType": "object",
         "type": "string"
        },
        {
         "name": "4 month ago payment",
         "rawType": "object",
         "type": "string"
        },
        {
         "name": "5 month ago payment",
         "rawType": "object",
         "type": "string"
        },
        {
         "name": "6 month ago payment",
         "rawType": "object",
         "type": "string"
        },
        {
         "name": "# claims",
         "rawType": "float64",
         "type": "float"
        },
        {
         "name": "# calls",
         "rawType": "float64",
         "type": "float"
        },
        {
         "name": "# calls contacted",
         "rawType": "float64",
         "type": "float"
        },
        {
         "name": "res_code_QA_sum",
         "rawType": "float64",
         "type": "float"
        },
        {
         "name": "res_code_claims_sum",
         "rawType": "float64",
         "type": "float"
        },
        {
         "name": "res_code_other_sum",
         "rawType": "float64",
         "type": "float"
        },
        {
         "name": "res_code_payment_sum",
         "rawType": "float64",
         "type": "float"
        },
        {
         "name": "res_code_sale_sum",
         "rawType": "float64",
         "type": "float"
        },
        {
         "name": "res_code_update_sum",
         "rawType": "float64",
         "type": "float"
        },
        {
         "name": "cover_start_date_year",
         "rawType": "int32",
         "type": "integer"
        },
        {
         "name": "inflation",
         "rawType": "float64",
         "type": "float"
        },
        {
         "name": "unemployment rate",
         "rawType": "float64",
         "type": "float"
        },
        {
         "name": "payment lapse",
         "rawType": "object",
         "type": "unknown"
        }
       ],
       "ref": "01469189-1c8c-410b-adef-e86a76e1ef20",
       "rows": [
        [
         "0",
         "100003c9-2094-3107-e604-65d8e6b4ec03",
         "MWL008050072",
         "51",
         "1.0",
         "Matric",
         "Male",
         "40000.0",
         "S",
         "1.0",
         "MWL",
         "0.0",
         "Fully Underwritten",
         "Active",
         "698.95",
         "2021-11-01 00:00:00",
         null,
         "624.06",
         null,
         "578812.5",
         "698.95",
         "0.0",
         "0.0",
         "0",
         "Time In clearing",
         "Active",
         "624.06",
         "False",
         "567463.2352941176",
         "Active",
         "0.0",
         "0.0",
         "40000.0",
         "40000.0",
         null,
         "0",
         "45",
         "624.06",
         "3.0",
         "6",
         "11",
         "0",
         "3",
         "1.0",
         "paid",
         "paid",
         "paid",
         "paid",
         "paid",
         "paid",
         "0.0",
         "0.0",
         "0.0",
         "0.0",
         "0.0",
         "0.0",
         "0.0",
         "0.0",
         "0.0",
         "2021",
         "4.5",
         "34.3",
         null
        ],
        [
         "1",
         "10000cc8-8f08-5e2c-b6ad-661d48606710",
         "ML24-0199554",
         "23",
         "1.0",
         "Matric + 3 year Diploma",
         "Female",
         "20000.0",
         "N",
         "2.0",
         "MWL",
         "1.0",
         "Fully Underwritten",
         "Active",
         "261.73",
         "2024-06-01 00:00:00",
         null,
         "249.27",
         null,
         "2520000.0",
         "261.73",
         "0.0",
         "0.0",
         "0",
         "Time In clearing",
         "Active",
         "249.27",
         "False",
         "2424000.0",
         "Active",
         "-0.05",
         "0.0",
         "20000.0",
         "20000.0",
         null,
         "0",
         "14",
         "249.27",
         "10.0",
         "12",
         "3",
         "0",
         "1",
         "1.0",
         "paid",
         "paid",
         "paid",
         "paid",
         "paid",
         "paid",
         "0.0",
         "0.0",
         "0.0",
         "0.0",
         "0.0",
         "0.0",
         "0.0",
         "0.0",
         "0.0",
         "2024",
         "4.4",
         "32.6",
         null
        ],
        [
         "2",
         "100307d2-6857-7f50-833c-66b391c37879",
         "ML24-0254853",
         "63",
         "1.0",
         "Matric + 3 year Diploma",
         "Female",
         "45000.0",
         "E",
         "1.0",
         "MWL",
         "1.0",
         "Fully Underwritten",
         "Active",
         "332.25",
         "2024-09-01 00:00:00",
         null,
         "288.91",
         null,
         "105000.0",
         "332.25",
         "0.0",
         "0.0",
         "0",
         "Not provided for (equivalent to R/D on a cheque)",
         "Active",
         "288.91",
         "False",
         "100000.0",
         "Active",
         "0.6",
         "0.0",
         "45000.0",
         "45000.0",
         null,
         "0",
         "11",
         "288.91",
         "1.0",
         "11",
         "4",
         "0",
         "0",
         "0.7333333333333333",
         "unpaid",
         "unpaid",
         "paid",
         "paid",
         "paid",
         "paid",
         "0.0",
         "4.0",
         "1.0",
         "0.0",
         "0.0",
         "0.0",
         "3.0",
         "1.0",
         "0.0",
         "2024",
         "4.4",
         "32.6",
         null
        ],
        [
         "3",
         "10048ce0-253d-aeff-4f59-64e76756bddf",
         "ML23-0067459",
         "41",
         "1.0",
         "Matric + 3 year Diploma",
         "Male",
         "70000.0",
         "S",
         "1.0",
         "MWL",
         "1.0",
         "Fully Underwritten",
         "Active",
         "211.26",
         "2023-10-01 00:00:00",
         null,
         "193.82",
         null,
         "105000.0",
         "211.26",
         "0.0",
         "0.0",
         "0",
         "Time In clearing",
         "Active",
         "193.82",
         "False",
         "102500.0",
         "Active",
         "1.05",
         "0.0",
         "70000.0",
         "70000.0",
         null,
         "0",
         "22",
         "193.82",
         "2.0",
         "12",
         "11",
         "0",
         "1",
         "1.0",
         "paid",
         "paid",
         "paid",
         "paid",
         "paid",
         "paid",
         "0.0",
         "0.0",
         "0.0",
         "0.0",
         "0.0",
         "0.0",
         "0.0",
         "0.0",
         "0.0",
         "2023",
         "6.0",
         "32.375",
         null
        ],
        [
         "4",
         "10061226-ed6a-b733-47f0-65fb970086cd",
         "MWL007912004",
         "36",
         "5.0",
         "4 year Degree",
         "Female",
         "40000.0",
         "N",
         "1.0",
         "MWL",
         "0.0",
         "Fully Underwritten",
         "Active",
         "423.14",
         "2021-08-01 00:00:00",
         null,
         "358.47",
         null,
         "1215506.25",
         "236.12",
         "187.02",
         "4.0",
         "0",
         "Time In clearing",
         "Active",
         "388.1",
         "False",
         "245690.39462500002",
         "Active",
         "0.0",
         "0.0",
         "40000.0",
         "40000.0",
         null,
         "0",
         "48",
         "388.1",
         "0.0",
         "0",
         "16",
         "0",
         "4",
         "1.0",
         "paid",
         "paid",
         "paid",
         "paid",
         "paid",
         "paid",
         "0.0",
         "0.0",
         "0.0",
         "0.0",
         "0.0",
         "0.0",
         "0.0",
         "0.0",
         "0.0",
         "2021",
         "4.5",
         "34.3",
         null
        ]
       ],
       "shape": {
        "columns": 62,
        "rows": 5
       }
      },
      "text/html": [
       "<div>\n",
       "<style scoped>\n",
       "    .dataframe tbody tr th:only-of-type {\n",
       "        vertical-align: middle;\n",
       "    }\n",
       "\n",
       "    .dataframe tbody tr th {\n",
       "        vertical-align: top;\n",
       "    }\n",
       "\n",
       "    .dataframe thead th {\n",
       "        text-align: right;\n",
       "    }\n",
       "</style>\n",
       "<table border=\"1\" class=\"dataframe\">\n",
       "  <thead>\n",
       "    <tr style=\"text-align: right;\">\n",
       "      <th></th>\n",
       "      <th>policy_id</th>\n",
       "      <th>policy_name</th>\n",
       "      <th>age</th>\n",
       "      <th>benefits_count</th>\n",
       "      <th>education</th>\n",
       "      <th>gender</th>\n",
       "      <th>income</th>\n",
       "      <th>smoker_status</th>\n",
       "      <th>sold_socio_economic_class</th>\n",
       "      <th>securitygroup_id</th>\n",
       "      <th>...</th>\n",
       "      <th>res_code_QA_sum</th>\n",
       "      <th>res_code_claims_sum</th>\n",
       "      <th>res_code_other_sum</th>\n",
       "      <th>res_code_payment_sum</th>\n",
       "      <th>res_code_sale_sum</th>\n",
       "      <th>res_code_update_sum</th>\n",
       "      <th>cover_start_date_year</th>\n",
       "      <th>inflation</th>\n",
       "      <th>unemployment rate</th>\n",
       "      <th>payment lapse</th>\n",
       "    </tr>\n",
       "  </thead>\n",
       "  <tbody>\n",
       "    <tr>\n",
       "      <th>0</th>\n",
       "      <td>100003c9-2094-3107-e604-65d8e6b4ec03</td>\n",
       "      <td>MWL008050072</td>\n",
       "      <td>51</td>\n",
       "      <td>1.0</td>\n",
       "      <td>Matric</td>\n",
       "      <td>Male</td>\n",
       "      <td>40000.0</td>\n",
       "      <td>S</td>\n",
       "      <td>1.0</td>\n",
       "      <td>MWL</td>\n",
       "      <td>...</td>\n",
       "      <td>0.0</td>\n",
       "      <td>0.0</td>\n",
       "      <td>0.0</td>\n",
       "      <td>0.0</td>\n",
       "      <td>0.0</td>\n",
       "      <td>0.0</td>\n",
       "      <td>2021</td>\n",
       "      <td>4.5</td>\n",
       "      <td>34.300</td>\n",
       "      <td>NaN</td>\n",
       "    </tr>\n",
       "    <tr>\n",
       "      <th>1</th>\n",
       "      <td>10000cc8-8f08-5e2c-b6ad-661d48606710</td>\n",
       "      <td>ML24-0199554</td>\n",
       "      <td>23</td>\n",
       "      <td>1.0</td>\n",
       "      <td>Matric + 3 year Diploma</td>\n",
       "      <td>Female</td>\n",
       "      <td>20000.0</td>\n",
       "      <td>N</td>\n",
       "      <td>2.0</td>\n",
       "      <td>MWL</td>\n",
       "      <td>...</td>\n",
       "      <td>0.0</td>\n",
       "      <td>0.0</td>\n",
       "      <td>0.0</td>\n",
       "      <td>0.0</td>\n",
       "      <td>0.0</td>\n",
       "      <td>0.0</td>\n",
       "      <td>2024</td>\n",
       "      <td>4.4</td>\n",
       "      <td>32.600</td>\n",
       "      <td>NaN</td>\n",
       "    </tr>\n",
       "    <tr>\n",
       "      <th>2</th>\n",
       "      <td>100307d2-6857-7f50-833c-66b391c37879</td>\n",
       "      <td>ML24-0254853</td>\n",
       "      <td>63</td>\n",
       "      <td>1.0</td>\n",
       "      <td>Matric + 3 year Diploma</td>\n",
       "      <td>Female</td>\n",
       "      <td>45000.0</td>\n",
       "      <td>E</td>\n",
       "      <td>1.0</td>\n",
       "      <td>MWL</td>\n",
       "      <td>...</td>\n",
       "      <td>0.0</td>\n",
       "      <td>0.0</td>\n",
       "      <td>0.0</td>\n",
       "      <td>3.0</td>\n",
       "      <td>1.0</td>\n",
       "      <td>0.0</td>\n",
       "      <td>2024</td>\n",
       "      <td>4.4</td>\n",
       "      <td>32.600</td>\n",
       "      <td>NaN</td>\n",
       "    </tr>\n",
       "    <tr>\n",
       "      <th>3</th>\n",
       "      <td>10048ce0-253d-aeff-4f59-64e76756bddf</td>\n",
       "      <td>ML23-0067459</td>\n",
       "      <td>41</td>\n",
       "      <td>1.0</td>\n",
       "      <td>Matric + 3 year Diploma</td>\n",
       "      <td>Male</td>\n",
       "      <td>70000.0</td>\n",
       "      <td>S</td>\n",
       "      <td>1.0</td>\n",
       "      <td>MWL</td>\n",
       "      <td>...</td>\n",
       "      <td>0.0</td>\n",
       "      <td>0.0</td>\n",
       "      <td>0.0</td>\n",
       "      <td>0.0</td>\n",
       "      <td>0.0</td>\n",
       "      <td>0.0</td>\n",
       "      <td>2023</td>\n",
       "      <td>6.0</td>\n",
       "      <td>32.375</td>\n",
       "      <td>NaN</td>\n",
       "    </tr>\n",
       "    <tr>\n",
       "      <th>4</th>\n",
       "      <td>10061226-ed6a-b733-47f0-65fb970086cd</td>\n",
       "      <td>MWL007912004</td>\n",
       "      <td>36</td>\n",
       "      <td>5.0</td>\n",
       "      <td>4 year Degree</td>\n",
       "      <td>Female</td>\n",
       "      <td>40000.0</td>\n",
       "      <td>N</td>\n",
       "      <td>1.0</td>\n",
       "      <td>MWL</td>\n",
       "      <td>...</td>\n",
       "      <td>0.0</td>\n",
       "      <td>0.0</td>\n",
       "      <td>0.0</td>\n",
       "      <td>0.0</td>\n",
       "      <td>0.0</td>\n",
       "      <td>0.0</td>\n",
       "      <td>2021</td>\n",
       "      <td>4.5</td>\n",
       "      <td>34.300</td>\n",
       "      <td>NaN</td>\n",
       "    </tr>\n",
       "  </tbody>\n",
       "</table>\n",
       "<p>5 rows × 62 columns</p>\n",
       "</div>"
      ],
      "text/plain": [
       "                              policy_id   policy_name  age  benefits_count  \\\n",
       "0  100003c9-2094-3107-e604-65d8e6b4ec03  MWL008050072   51             1.0   \n",
       "1  10000cc8-8f08-5e2c-b6ad-661d48606710  ML24-0199554   23             1.0   \n",
       "2  100307d2-6857-7f50-833c-66b391c37879  ML24-0254853   63             1.0   \n",
       "3  10048ce0-253d-aeff-4f59-64e76756bddf  ML23-0067459   41             1.0   \n",
       "4  10061226-ed6a-b733-47f0-65fb970086cd  MWL007912004   36             5.0   \n",
       "\n",
       "                 education  gender   income smoker_status  \\\n",
       "0                   Matric    Male  40000.0             S   \n",
       "1  Matric + 3 year Diploma  Female  20000.0             N   \n",
       "2  Matric + 3 year Diploma  Female  45000.0             E   \n",
       "3  Matric + 3 year Diploma    Male  70000.0             S   \n",
       "4            4 year Degree  Female  40000.0             N   \n",
       "\n",
       "   sold_socio_economic_class securitygroup_id  ...  res_code_QA_sum  \\\n",
       "0                        1.0              MWL  ...              0.0   \n",
       "1                        2.0              MWL  ...              0.0   \n",
       "2                        1.0              MWL  ...              0.0   \n",
       "3                        1.0              MWL  ...              0.0   \n",
       "4                        1.0              MWL  ...              0.0   \n",
       "\n",
       "  res_code_claims_sum res_code_other_sum  res_code_payment_sum  \\\n",
       "0                 0.0                0.0                   0.0   \n",
       "1                 0.0                0.0                   0.0   \n",
       "2                 0.0                0.0                   3.0   \n",
       "3                 0.0                0.0                   0.0   \n",
       "4                 0.0                0.0                   0.0   \n",
       "\n",
       "  res_code_sale_sum res_code_update_sum  cover_start_date_year inflation  \\\n",
       "0               0.0                 0.0                   2021       4.5   \n",
       "1               0.0                 0.0                   2024       4.4   \n",
       "2               1.0                 0.0                   2024       4.4   \n",
       "3               0.0                 0.0                   2023       6.0   \n",
       "4               0.0                 0.0                   2021       4.5   \n",
       "\n",
       "   unemployment rate  payment lapse  \n",
       "0             34.300            NaN  \n",
       "1             32.600            NaN  \n",
       "2             32.600            NaN  \n",
       "3             32.375            NaN  \n",
       "4             34.300            NaN  \n",
       "\n",
       "[5 rows x 62 columns]"
      ]
     },
     "execution_count": 11,
     "metadata": {},
     "output_type": "execute_result"
    }
   ],
   "source": [
    "near_ftr_lapse_data.head()"
   ]
  },
  {
   "cell_type": "code",
   "execution_count": 12,
   "id": "dbe23b78",
   "metadata": {},
   "outputs": [],
   "source": [
    "near_ftr_lapse_data.to_csv(path+'NearFuture/near_ftr_model_data.csv')"
   ]
  },
  {
   "cell_type": "markdown",
   "id": "4c40d52f",
   "metadata": {},
   "source": [
    "## grouping continous variables"
   ]
  },
  {
   "cell_type": "code",
   "execution_count": 65,
   "id": "8b6ea16a",
   "metadata": {},
   "outputs": [],
   "source": [
    "#gropuping function using decision trees\n",
    "from sklearn.tree import DecisionTreeClassifier, export_text\n",
    "from sklearn.model_selection import train_test_split\n",
    "\n",
    "\n",
    "def group_by_decision_tree(model, column_data, column_name):\n",
    "    \"\"\"\n",
    "    Groups a pandas Series into categorical bands based on the leaf nodes of a\n",
    "    fitted Decision Tree Classifier model.\n",
    "\n",
    "    This function first traverses the decision tree to determine the value ranges\n",
    "    for each leaf node. It then applies the model to the input column data to get\n",
    "    the leaf node index for each data point and uses the collected ranges to\n",
    "    assign a categorical band.\n",
    "\n",
    "    Args:\n",
    "        model (sklearn.tree.DecisionTreeClassifier): A fitted decision tree model.\n",
    "        column_data (pd.Series): The pandas Series to be grouped.\n",
    "        column_name (str): The name of the column in the original DataFrame\n",
    "                           that the decision tree was trained on.\n",
    "\n",
    "    Returns:\n",
    "        pd.Series: A new pandas Series containing the categorical bands.\n",
    "    \"\"\"\n",
    "    # Ensure the model is a decision tree\n",
    "    if not isinstance(model, DecisionTreeClassifier):\n",
    "        raise TypeError(\"The provided model must be an instance of DecisionTreeClassifier.\")\n",
    "    \n",
    "    tree = model.tree_\n",
    "    \n",
    "    # Check if the tree is empty or not fitted\n",
    "    if tree.node_count == 0:\n",
    "        raise ValueError(\"The decision tree model does not seem to be fitted.\")\n",
    "\n",
    "    # A helper dictionary to store the min/max range for each leaf node\n",
    "    leaf_ranges = {}\n",
    "    \n",
    "    def traverse_tree(node_index, lower_bound=float('-inf'), upper_bound=float('inf')):\n",
    "        \"\"\"\n",
    "        Recursively traverses the tree to find the value range for each leaf node.\n",
    "        \"\"\"\n",
    "        # Base case: if it's a leaf node\n",
    "        if tree.children_left[node_index] == tree.children_right[node_index]:\n",
    "            leaf_ranges[node_index] = (lower_bound, upper_bound)\n",
    "            return\n",
    "\n",
    "        threshold = tree.threshold[node_index]\n",
    "        left_child = tree.children_left[node_index]\n",
    "        right_child = tree.children_right[node_index]\n",
    "\n",
    "        # Recurse down the left child (less than or equal to threshold)\n",
    "        traverse_tree(left_child, lower_bound, min(upper_bound, threshold))\n",
    "\n",
    "        # Recurse down the right child (greater than threshold)\n",
    "        traverse_tree(right_child, max(lower_bound, threshold), upper_bound)\n",
    "\n",
    "    # Start the traversal from the root node (index 0)\n",
    "    traverse_tree(0)\n",
    "\n",
    "    # Use the model's apply method to get the leaf node for each data point\n",
    "    # We need to reshape the data to a 2D array for the model\n",
    "    leaf_indices = model.apply(column_data.values.reshape(-1, 1))\n",
    "\n",
    "    # Create the new column of grouped bands\n",
    "    grouped_bands = []\n",
    "    for index in leaf_indices:\n",
    "        lower, upper = leaf_ranges[index]\n",
    "\n",
    "        # Format the string for the band\n",
    "        if lower == float('-inf'):\n",
    "            band = f\"< {upper:.2f}\"\n",
    "        elif upper == float('inf'):\n",
    "            band = f\"> {lower:.2f}\"\n",
    "        else:\n",
    "            band = f\"{lower:.2f} - {upper:.2f}\"\n",
    "        \n",
    "        grouped_bands.append(band)\n",
    "\n",
    "    return pd.Series(grouped_bands, index=column_data.index, name=f'{column_name}_bands')"
   ]
  },
  {
   "cell_type": "code",
   "execution_count": 66,
   "id": "a2f655aa",
   "metadata": {},
   "outputs": [],
   "source": [
    "inception_data.drop(columns=['orginal individual_income', 'policy_id', 'sale_date_year', 'policy_type',\n",
    "       'policy_status','occupation','campaign_name','hiv_group',\n",
    "       'current_policy_status', 'cancellation_effective_date',\n",
    "       'cancellation_reason', 'lapse_type','cover_start_date', 'end_date', 'pol_duration'],inplace=True)\n",
    "cont_var_list=['age','income',  'last_benefit_amount', 'cover_amount_full', 'total_funeral_premium',  'original_premium']\n",
    "target='lapse_flag'\n",
    "df=inception_data.copy()\n",
    "for variable in cont_var_list:\n",
    "    X = df[variable].values.reshape(-1, 1)\n",
    "    Y = df[target]\n",
    "    clf=tree.DecisionTreeClassifier(min_samples_leaf=math.floor(0.15*inception_data.shape[0]))\n",
    "    clf=clf.fit(X,Y)\n",
    "    df[variable+'_band'] = group_by_decision_tree(clf, df[variable], df)\n",
    "inception_data=df"
   ]
  },
  {
   "cell_type": "code",
   "execution_count": 67,
   "id": "f8c45337",
   "metadata": {},
   "outputs": [],
   "source": [
    "inception_data.to_csv(path+'AtIncept-2025/at_incpt_data.csv')"
   ]
  }
 ],
 "metadata": {
  "kernelspec": {
   "display_name": "Python 3",
   "language": "python",
   "name": "python3"
  },
  "language_info": {
   "codemirror_mode": {
    "name": "ipython",
    "version": 3
   },
   "file_extension": ".py",
   "mimetype": "text/x-python",
   "name": "python",
   "nbconvert_exporter": "python",
   "pygments_lexer": "ipython3",
   "version": "3.12.6"
  }
 },
 "nbformat": 4,
 "nbformat_minor": 5
}
