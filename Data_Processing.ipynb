{
 "cells": [
  {
   "cell_type": "code",
   "execution_count": null,
   "id": "01ac6647",
   "metadata": {},
   "outputs": [],
   "source": [
    "import sys\n",
    "sys.path.append(\"C:/Users/E1005279/OneDrive - Sanlam Life Insurance Limited/MWL/MWLrepo/MiWayLife2/Data_Analysis_Package\")\n",
    "from data_preparation import DataPreparation, Analysis, multi_data_ops\n",
    "import data_operations as do\n",
    "\n",
    "import pandas as pd\n",
    "import matplotlib.pyplot as plt\n",
    "import seaborn as sns\n",
    "import numpy as np\n",
    "from datetime import datetime\n",
    "\n",
    "import scipy.stats as stats\n",
    "from statsmodels.tsa.stattools import adfuller\n",
    "from statsmodels.tsa.seasonal import STL\n",
    "import math\n",
    "import matplotlib.gridspec as gridspec\n",
    "\n",
    "\n",
    "import data_transforations as data_tr\n",
    "\n",
    "from sklearn import tree"
   ]
  },
  {
   "cell_type": "markdown",
   "id": "3799edfe",
   "metadata": {},
   "source": [
    "# loading data"
   ]
  },
  {
   "cell_type": "code",
   "execution_count": null,
   "id": "9e8ef213",
   "metadata": {},
   "outputs": [],
   "source": [
    "path = \"C:/Users/E1005279/OneDrive - Sanlam Life Insurance Limited/MWL/Lapse Rate Projections/Data/\"\n",
    "\n",
    "calls_data = pd.DataFrame(pd.read_csv(path+\"call_reason.csv\"))\n",
    "sales_data = pd.DataFrame(pd.read_csv(path+\"sales.csv\"))\n",
    "policy_data = pd.DataFrame(pd.read_csv(path+\"policy_data.csv\"))\n",
    "payment_data = pd.concat([pd.DataFrame(pd.read_csv(path+\"Payment_data_1.csv\")),pd.DataFrame(pd.read_csv(path+\"Payment_data_2.csv\"))])\n",
    "lapse_data = pd.concat([pd.DataFrame(pd.read_csv(path+\"lapse_1.csv\")),pd.DataFrame(pd.read_csv(path+\"lapse_2.csv\"))])"
   ]
  },
  {
   "cell_type": "markdown",
   "id": "7e513d65",
   "metadata": {},
   "source": [
    "## Filtering data to relevant policies\n",
    "\n",
    "Relevant policies are policies that have been incepted. The rpt_datamodel_lapse has incepted policies only, hence filtering on policies within that dataset"
   ]
  },
  {
   "cell_type": "code",
   "execution_count": null,
   "id": "6a3c4aa5",
   "metadata": {},
   "outputs": [],
   "source": [
    "pol_names = list(lapse_data['policy_name'])\n",
    "sales_data = sales_data[sales_data['policy_name'].isin(pol_names)]\n",
    "pol_ids= list(sales_data['policy_id'])\n",
    "calls_data = calls_data[calls_data['policy_name'].isin(pol_names)]\n",
    "payment_data = payment_data[payment_data['policy_id'].isin(pol_ids)]\n",
    "policy_data = policy_data[policy_data['policy_name'].isin(pol_names)]\n",
    "\n",
    "#Make date column of data type datetime\n",
    "sales_data=do.dtype_datetime(sales_data)\n",
    "calls_data=do.dtype_datetime(calls_data)\n",
    "payment_data=do.dtype_datetime(payment_data)\n",
    "policy_data=do.dtype_datetime(policy_data)\n",
    "lapse_data=do.dtype_datetime(lapse_data)\n"
   ]
  },
  {
   "cell_type": "markdown",
   "id": "d0e0d697",
   "metadata": {},
   "source": [
    "## Aggregating call, payment, sales and lapse data then merging"
   ]
  },
  {
   "cell_type": "code",
   "execution_count": null,
   "id": "fbe468c1",
   "metadata": {},
   "outputs": [
    {
     "name": "stderr",
     "output_type": "stream",
     "text": [
      "c:\\Users\\E1005279\\OneDrive - Sanlam Life Insurance Limited\\MWL\\MWLrepo\\LapseRate_modeling\\data_transforations.py:113: SettingWithCopyWarning: \n",
      "A value is trying to be set on a copy of a slice from a DataFrame.\n",
      "Try using .loc[row_indexer,col_indexer] = value instead\n",
      "\n",
      "See the caveats in the documentation: https://pandas.pydata.org/pandas-docs/stable/user_guide/indexing.html#returning-a-view-versus-a-copy\n",
      "  calls.df['res_code']= calls.df['resolution_code'].apply(res_code_categories)\n",
      "c:\\Users\\E1005279\\OneDrive - Sanlam Life Insurance Limited\\MWL\\MWLrepo\\LapseRate_modeling\\data_transforations.py:88: SettingWithCopyWarning: \n",
      "A value is trying to be set on a copy of a slice from a DataFrame.\n",
      "Try using .loc[row_indexer,col_indexer] = value instead\n",
      "\n",
      "See the caveats in the documentation: https://pandas.pydata.org/pandas-docs/stable/user_guide/indexing.html#returning-a-view-versus-a-copy\n",
      "  calls.df['res_code']= calls.df['resolution_code'].apply(res_code_categories_postsale)\n",
      "c:\\Users\\E1005279\\OneDrive - Sanlam Life Insurance Limited\\MWL\\MWLrepo\\LapseRate_modeling\\data_transforations.py:139: SettingWithCopyWarning: \n",
      "A value is trying to be set on a copy of a slice from a DataFrame.\n",
      "Try using .loc[row_indexer,col_indexer] = value instead\n",
      "\n",
      "See the caveats in the documentation: https://pandas.pydata.org/pandas-docs/stable/user_guide/indexing.html#returning-a-view-versus-a-copy\n",
      "  payment_data['anniversary_due'] = pd.to_datetime(payment_data['anniversary_due'], errors='coerce')\n"
     ]
    }
   ],
   "source": [
    "pre_inception_calls_data = data_tr.pre_sale_calls(calls_data,policy_data)\n",
    "post_sale_calls_data = data_tr.post_sale_calls(calls_data,policy_data)\n",
    "payment_hist_data = data_tr.payments_history(payment_data,current_date='2025-08-01')\n",
    "lapse_data = data_tr.lapses(lapse_data)\n",
    "sales_data = sales_data.drop_duplicates(subset=['policy_id'], keep='last')"
   ]
  },
  {
   "cell_type": "code",
   "execution_count": null,
   "id": "8f0e0f00",
   "metadata": {},
   "outputs": [],
   "source": [
    "inception_data = data_tr.at_inception_data_merge(pre_inception_calls_data, sales_data,policy_data,lapse_data)\n",
    "near_ftr_lapse_data = data_tr.post_sale_data_merge(post_sale_calls_data, sales_data,policy_data,lapse_data,payment_hist_data)"
   ]
  },
  {
   "cell_type": "markdown",
   "id": "b3adae71",
   "metadata": {},
   "source": [
    "## Some cleaning and filtering"
   ]
  },
  {
   "cell_type": "code",
   "execution_count": null,
   "id": "5aad5195",
   "metadata": {},
   "outputs": [],
   "source": [
    "near_ftr_lapse_data = data_tr.near_ftr_lapse_data_clean_filter(near_ftr_lapse_data)\n",
    "inception_data = data_tr.at_inception_data_clean_filter(inception_data)"
   ]
  },
  {
   "cell_type": "markdown",
   "id": "c91c7698",
   "metadata": {},
   "source": [
    "## Adding economic indicators"
   ]
  },
  {
   "cell_type": "code",
   "execution_count": null,
   "id": "da894fdb",
   "metadata": {},
   "outputs": [],
   "source": [
    "path = \"C:/Users/E1005279/OneDrive - Sanlam Life Insurance Limited/MWL/Lapse Rate Projections/Data/\"\n",
    "unemployment = pd.DataFrame(pd.read_csv(path+\"unemployment rates.csv\"))\n",
    "unemployment= unemployment[['year','ave']]\n",
    "inflation = pd.DataFrame(pd.read_csv(path+\"inflation.csv\"))"
   ]
  },
  {
   "cell_type": "code",
   "execution_count": null,
   "id": "57d6f1cd",
   "metadata": {},
   "outputs": [],
   "source": [
    "near_ftr_lapse_data['cover_start_date' ] = pd.to_datetime(near_ftr_lapse_data['cover_start_date' ]).dt.year\n",
    "near_ftr_lapse_data = data_tr.adding_eco_ind(inflation, unemployment,near_ftr_lapse_data,'cover_start_date')\n",
    "inception_data['sale_date'] = pd.to_datetime(inception_data['sale_date']).dt.year\n",
    "inception_data = data_tr.adding_eco_ind(inflation, unemployment,inception_data,'sale_date')"
   ]
  },
  {
   "cell_type": "markdown",
   "id": "3e4638ab",
   "metadata": {},
   "source": [
    "## Target creation"
   ]
  },
  {
   "cell_type": "code",
   "execution_count": null,
   "id": "596050b4",
   "metadata": {},
   "outputs": [],
   "source": [
    "inception_data = data_tr.inception_targets(inception_data)\n",
    "near_ftr_lapse_data = data_tr.near_ftr_targets(near_ftr_lapse_data)"
   ]
  },
  {
   "cell_type": "markdown",
   "id": "4c40d52f",
   "metadata": {},
   "source": [
    "## grouping continous variables"
   ]
  },
  {
   "cell_type": "code",
   "execution_count": null,
   "id": "8b6ea16a",
   "metadata": {},
   "outputs": [],
   "source": [
    "#gropuping function using decision trees\n",
    "from sklearn.tree import DecisionTreeClassifier, export_text\n",
    "from sklearn.model_selection import train_test_split\n",
    "\n",
    "\n",
    "def group_by_decision_tree(model, column_data, column_name):\n",
    "    \"\"\"\n",
    "    Groups a pandas Series into categorical bands based on the leaf nodes of a\n",
    "    fitted Decision Tree Classifier model.\n",
    "\n",
    "    This function first traverses the decision tree to determine the value ranges\n",
    "    for each leaf node. It then applies the model to the input column data to get\n",
    "    the leaf node index for each data point and uses the collected ranges to\n",
    "    assign a categorical band.\n",
    "\n",
    "    Args:\n",
    "        model (sklearn.tree.DecisionTreeClassifier): A fitted decision tree model.\n",
    "        column_data (pd.Series): The pandas Series to be grouped.\n",
    "        column_name (str): The name of the column in the original DataFrame\n",
    "                           that the decision tree was trained on.\n",
    "\n",
    "    Returns:\n",
    "        pd.Series: A new pandas Series containing the categorical bands.\n",
    "    \"\"\"\n",
    "    # Ensure the model is a decision tree\n",
    "    if not isinstance(model, DecisionTreeClassifier):\n",
    "        raise TypeError(\"The provided model must be an instance of DecisionTreeClassifier.\")\n",
    "    \n",
    "    tree = model.tree_\n",
    "    \n",
    "    # Check if the tree is empty or not fitted\n",
    "    if tree.node_count == 0:\n",
    "        raise ValueError(\"The decision tree model does not seem to be fitted.\")\n",
    "\n",
    "    # A helper dictionary to store the min/max range for each leaf node\n",
    "    leaf_ranges = {}\n",
    "    \n",
    "    def traverse_tree(node_index, lower_bound=float('-inf'), upper_bound=float('inf')):\n",
    "        \"\"\"\n",
    "        Recursively traverses the tree to find the value range for each leaf node.\n",
    "        \"\"\"\n",
    "        # Base case: if it's a leaf node\n",
    "        if tree.children_left[node_index] == tree.children_right[node_index]:\n",
    "            leaf_ranges[node_index] = (lower_bound, upper_bound)\n",
    "            return\n",
    "\n",
    "        threshold = tree.threshold[node_index]\n",
    "        left_child = tree.children_left[node_index]\n",
    "        right_child = tree.children_right[node_index]\n",
    "\n",
    "        # Recurse down the left child (less than or equal to threshold)\n",
    "        traverse_tree(left_child, lower_bound, min(upper_bound, threshold))\n",
    "\n",
    "        # Recurse down the right child (greater than threshold)\n",
    "        traverse_tree(right_child, max(lower_bound, threshold), upper_bound)\n",
    "\n",
    "    # Start the traversal from the root node (index 0)\n",
    "    traverse_tree(0)\n",
    "\n",
    "    # Use the model's apply method to get the leaf node for each data point\n",
    "    # We need to reshape the data to a 2D array for the model\n",
    "    leaf_indices = model.apply(column_data.values.reshape(-1, 1))\n",
    "\n",
    "    # Create the new column of grouped bands\n",
    "    grouped_bands = []\n",
    "    for index in leaf_indices:\n",
    "        lower, upper = leaf_ranges[index]\n",
    "\n",
    "        # Format the string for the band\n",
    "        if lower == float('-inf'):\n",
    "            band = f\"< {upper:.2f}\"\n",
    "        elif upper == float('inf'):\n",
    "            band = f\"> {lower:.2f}\"\n",
    "        else:\n",
    "            band = f\"{lower:.2f} - {upper:.2f}\"\n",
    "        \n",
    "        grouped_bands.append(band)\n",
    "\n",
    "    return pd.Series(grouped_bands, index=column_data.index, name=f'{column_name}_bands')"
   ]
  },
  {
   "cell_type": "code",
   "execution_count": null,
   "id": "a2f655aa",
   "metadata": {},
   "outputs": [],
   "source": [
    "inception_data=inception_data.drop(columns=['Unnamed: 0','orginal individual_income', 'policy_id', 'sale_date', 'policy_type',\n",
    "       'policy_status',\n",
    "       'current_policy_status', 'cancellation_effective_date',\n",
    "       'cancellation_reason', 'lapse_type','cover_start_date', 'end_date', 'pol_duration'\n",
    "      ])\n",
    "cont_var_list=['age','income',  'last_benefit_amount', 'cover_amount_full', 'total_funeral_premium',  'original_premium']\n",
    "target='lapse_flag'\n",
    "df=inception_data.copy()\n",
    "for variable in cont_var_list:\n",
    "    X = df[variable].values.reshape(-1, 1)\n",
    "    Y = df[target]\n",
    "    clf=tree.DecisionTreeClassifier(min_samples_leaf=math.floor(0.15*inception_data.shape[0]))\n",
    "    clf=clf.fit(X,Y)\n",
    "    df[variable+'_band'] = group_by_decision_tree(clf, df[variable], df)\n",
    "inception_data=df"
   ]
  }
 ],
 "metadata": {
  "language_info": {
   "name": "python"
  }
 },
 "nbformat": 4,
 "nbformat_minor": 5
}
