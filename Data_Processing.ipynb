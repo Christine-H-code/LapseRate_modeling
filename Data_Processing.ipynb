{
 "cells": [
  {
   "cell_type": "code",
   "execution_count": null,
   "id": "01ac6647",
   "metadata": {},
   "outputs": [],
   "source": [
    "import sys\n",
    "sys.path.append(\"C:/Users/E1005279/OneDrive - Sanlam Life Insurance Limited/MWL/MWLrepo/MiWayLife2/Data_Analysis_Package\")\n",
    "from data_preparation import DataPreparation, Analysis, multi_data_ops\n",
    "import data_operations as do\n",
    "\n",
    "import pandas as pd\n",
    "import matplotlib.pyplot as plt\n",
    "import seaborn as sns\n",
    "import numpy as np\n",
    "from datetime import datetime\n",
    "\n",
    "import scipy.stats as stats\n",
    "from statsmodels.tsa.stattools import adfuller\n",
    "from statsmodels.tsa.seasonal import STL\n",
    "import math\n",
    "import matplotlib.gridspec as gridspec\n",
    "from sklearn.tree import DecisionTreeClassifier\n",
    "\n",
    "import data_transforations as data_tr\n",
    "\n",
    "from sklearn import tree"
   ]
  },
  {
   "cell_type": "markdown",
   "id": "5a6d04fd",
   "metadata": {},
   "source": [
    "# parameters"
   ]
  },
  {
   "cell_type": "code",
   "execution_count": null,
   "id": "bdc38c3e",
   "metadata": {},
   "outputs": [],
   "source": [
    "current_date='2025-09-01'\n",
    "model_data = 'at_inception' #'near_future'/'at_inception'"
   ]
  },
  {
   "cell_type": "markdown",
   "id": "3799edfe",
   "metadata": {},
   "source": [
    "# loading data"
   ]
  },
  {
   "cell_type": "code",
   "execution_count": 3,
   "id": "9e8ef213",
   "metadata": {},
   "outputs": [],
   "source": [
    "path = \"C:/Users/E1005279/OneDrive - Sanlam Life Insurance Limited/MWL/Lapse Rate Projections/Data/Pipeline_test/\"\n",
    "\n",
    "calls_data = pd.DataFrame(pd.read_csv(path+\"calls.csv\"))\n",
    "sales_data = pd.DataFrame(pd.read_csv(path+\"sales.csv\"))\n",
    "policy_data = pd.DataFrame(pd.read_csv(path+\"policy.csv\"))\n",
    "payment_data = pd.DataFrame(pd.read_csv(path+\"payment.csv\"))\n",
    "lapse_data = pd.DataFrame(pd.read_csv(path+\"lapse.csv\"))\n",
    "#payment_data = pd.concat([pd.DataFrame(pd.read_csv(path+\"Payment_data_1.csv\")),pd.DataFrame(pd.read_csv(path+\"Payment_data_2.csv\"))])\n",
    "#lapse_data = pd.concat([pd.DataFrame(pd.read_csv(path+\"lapse_1.csv\")),pd.DataFrame(pd.read_csv(path+\"lapse_2.csv\"))])"
   ]
  },
  {
   "cell_type": "markdown",
   "id": "2e50ab66",
   "metadata": {},
   "source": [
    "# Processing data"
   ]
  },
  {
   "cell_type": "markdown",
   "id": "7e513d65",
   "metadata": {},
   "source": [
    " Filtering data to relevant policies\n",
    "\n",
    "Relevant policies are policies that have been incepted. The rpt_datamodel_lapse has incepted policies only, hence filtering on policies within that dataset\n",
    "\n",
    "loading economic variables"
   ]
  },
  {
   "cell_type": "code",
   "execution_count": null,
   "id": "6a3c4aa5",
   "metadata": {},
   "outputs": [],
   "source": [
    "pol_names = list(lapse_data['policy_name'])\n",
    "sales_data = sales_data[sales_data['policy_name'].isin(pol_names)]\n",
    "pol_ids= list(sales_data['policy_id'])\n",
    "calls_data = calls_data[calls_data['policy_name'].isin(pol_names)]\n",
    "payment_data = payment_data[payment_data['policy_id'].isin(pol_ids)]\n",
    "policy_data = policy_data[policy_data['policy_name'].isin(pol_names)]\n",
    "\n",
    "#Make date column of data type datetime\n",
    "sales_data=do.dtype_datetime(sales_data)\n",
    "calls_data=do.dtype_datetime(calls_data)\n",
    "payment_data=do.dtype_datetime(payment_data)\n",
    "policy_data=do.dtype_datetime(policy_data)\n",
    "lapse_data=do.dtype_datetime(lapse_data)\n",
    "\n",
    "eco_path = \"C:/Users/E1005279/OneDrive - Sanlam Life Insurance Limited/MWL/Lapse Rate Projections/Data/\"\n",
    "unemployment = pd.DataFrame(pd.read_csv(eco_path+\"unemployment rates.csv\"))\n",
    "unemployment= unemployment[['year','ave']]\n",
    "inflation = pd.DataFrame(pd.read_csv(eco_path+\"inflation.csv\"))\n"
   ]
  },
  {
   "cell_type": "markdown",
   "id": "d0e0d697",
   "metadata": {},
   "source": [
    "### Aggregating call, payment, sales and lapse data then merging. Cleaning the data, adding economic variables, creating targets, grouping continous variable (for at_inception) and saving data as csv to specified path under parameters"
   ]
  },
  {
   "cell_type": "code",
   "execution_count": null,
   "id": "fbe468c1",
   "metadata": {},
   "outputs": [
    {
     "name": "stderr",
     "output_type": "stream",
     "text": [
      "c:\\Users\\E1005279\\OneDrive - Sanlam Life Insurance Limited\\MWL\\MWLrepo\\LapseRate_modeling\\data_transforations.py:113: SettingWithCopyWarning: \n",
      "A value is trying to be set on a copy of a slice from a DataFrame.\n",
      "Try using .loc[row_indexer,col_indexer] = value instead\n",
      "\n",
      "See the caveats in the documentation: https://pandas.pydata.org/pandas-docs/stable/user_guide/indexing.html#returning-a-view-versus-a-copy\n",
      "  calls.df['res_code']= calls.df['resolution_code'].apply(res_code_categories)\n",
      "c:\\Users\\E1005279\\OneDrive - Sanlam Life Insurance Limited\\MWL\\MWLrepo\\LapseRate_modeling\\data_transforations.py:88: SettingWithCopyWarning: \n",
      "A value is trying to be set on a copy of a slice from a DataFrame.\n",
      "Try using .loc[row_indexer,col_indexer] = value instead\n",
      "\n",
      "See the caveats in the documentation: https://pandas.pydata.org/pandas-docs/stable/user_guide/indexing.html#returning-a-view-versus-a-copy\n",
      "  calls.df['res_code']= calls.df['resolution_code'].apply(res_code_categories_postsale)\n",
      "c:\\Users\\E1005279\\OneDrive - Sanlam Life Insurance Limited\\MWL\\MWLrepo\\LapseRate_modeling\\data_transforations.py:138: SettingWithCopyWarning: \n",
      "A value is trying to be set on a copy of a slice from a DataFrame.\n",
      "Try using .loc[row_indexer,col_indexer] = value instead\n",
      "\n",
      "See the caveats in the documentation: https://pandas.pydata.org/pandas-docs/stable/user_guide/indexing.html#returning-a-view-versus-a-copy\n",
      "  payment_data['anniversary_due'] = pd.to_datetime(payment_data['anniversary_due'], errors='coerce')\n"
     ]
    }
   ],
   "source": [
    "if model_data =='at_inception':\n",
    "    pre_inception_calls_data = data_tr.pre_sale_calls(calls_data,policy_data)\n",
    "    lapse_data = data_tr.lapses(lapse_data)\n",
    "    sales_data = sales_data.drop_duplicates(subset=['policy_id'], keep='last')\n",
    "    inception_data = data_tr.at_inception_data_merge(pre_inception_calls_data, sales_data,policy_data,lapse_data)\n",
    "    inception_data = data_tr.at_inception_data_clean_filter(inception_data)\n",
    "\n",
    "    inception_data['sale_date_year'] = pd.to_datetime(inception_data['sale_date']).dt.year\n",
    "    inception_data = data_tr.adding_eco_ind(inflation, unemployment,inception_data,'sale_date_year')\n",
    "\n",
    "    inception_data = data_tr.inception_targets(inception_data)\n",
    "\n",
    "    inception_data.drop(columns=['orginal individual_income', 'policy_id', 'sale_date_year', 'policy_type',\n",
    "           'campaign_name', 'cancellation_effective_date', 'lapse_type','cover_start_date', 'end_date', 'pol_duration'],inplace=True)\n",
    "    cont_var_list=['age','income',  'last_benefit_amount', 'cover_amount_full', 'total_funeral_premium',  'original_premium']\n",
    "    target='lapse_flag'\n",
    "    df=inception_data.copy()\n",
    "    for variable in cont_var_list:\n",
    "        X = df[variable].values.reshape(-1, 1)\n",
    "        Y = df[target]\n",
    "        clf=tree.DecisionTreeClassifier(min_samples_leaf=math.floor(0.15*inception_data.shape[0]))\n",
    "        clf=clf.fit(X,Y)\n",
    "        df[variable+'_band'] = data_tr.group_by_decision_tree(clf, df[variable], df)\n",
    "    inception_data=df\n",
    "    inception_data.to_csv(path+'at_incpt_data.csv')\n",
    "\n",
    "elif model_data=='near_future':\n",
    "    post_sale_calls_data = data_tr.post_sale_calls(calls_data,policy_data)\n",
    "    payment_hist_data = data_tr.payments_history(payment_data,current_date=current_date)\n",
    "    lapse_data = data_tr.lapses(lapse_data)\n",
    "    sales_data = sales_data.drop_duplicates(subset=['policy_id'], keep='last')\n",
    "    near_ftr_lapse_data = data_tr.post_sale_data_merge(post_sale_calls_data, sales_data,policy_data,lapse_data,payment_hist_data)\n",
    "    near_ftr_lapse_data = data_tr.near_ftr_lapse_data_clean_filter(near_ftr_lapse_data)\n",
    "\n",
    "    near_ftr_lapse_data['cover_start_date_year' ] = pd.to_datetime(near_ftr_lapse_data['cover_start_date' ]).dt.year\n",
    "    near_ftr_lapse_data = data_tr.adding_eco_ind(inflation, unemployment,near_ftr_lapse_data,'cover_start_date_year')\n",
    "\n",
    "    near_ftr_lapse_data = data_tr.near_ftr_targets(near_ftr_lapse_data)\n",
    "    near_ftr_lapse_data.to_csv(path+'near_ftr_model_data.csv')\n"
   ]
  }
 ],
 "metadata": {
  "kernelspec": {
   "display_name": "Python 3",
   "language": "python",
   "name": "python3"
  },
  "language_info": {
   "codemirror_mode": {
    "name": "ipython",
    "version": 3
   },
   "file_extension": ".py",
   "mimetype": "text/x-python",
   "name": "python",
   "nbconvert_exporter": "python",
   "pygments_lexer": "ipython3",
   "version": "3.12.6"
  }
 },
 "nbformat": 4,
 "nbformat_minor": 5
}
