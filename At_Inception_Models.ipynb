{
 "cells": [
  {
   "cell_type": "markdown",
   "id": "2533c391",
   "metadata": {},
   "source": [
    "# imports"
   ]
  },
  {
   "cell_type": "code",
   "execution_count": 1,
   "id": "9447f512",
   "metadata": {},
   "outputs": [],
   "source": [
    "import sys\n",
    "sys.path.append(\"C:/Users/E1005279/OneDrive - Sanlam Life Insurance Limited/MWL/MWLrepo/MiWayLife2/Data_Analysis_Package\")\n",
    "from data_preparation import DataPreparation, Analysis, multi_data_ops\n",
    "import data_operations as do\n",
    "\n",
    "import pandas as pd\n",
    "import matplotlib.pyplot as plt\n",
    "import seaborn as sns\n",
    "import numpy as np\n",
    "from datetime import datetime\n",
    "\n",
    "import data_transforations as data_tr\n",
    "\n",
    "from imblearn.over_sampling import SMOTE\n",
    "from sklearn.preprocessing import StandardScaler\n",
    "\n",
    "import joblib"
   ]
  },
  {
   "cell_type": "markdown",
   "id": "66010a63",
   "metadata": {},
   "source": [
    "## Models"
   ]
  },
  {
   "cell_type": "code",
   "execution_count": 2,
   "id": "36782f98",
   "metadata": {},
   "outputs": [],
   "source": [
    "from sklearn.linear_model import Lasso\n",
    "from sklearn.model_selection import RandomizedSearchCV, train_test_split\n",
    "from scipy.stats import randint\n",
    "from sklearn.model_selection import GridSearchCV, KFold\n",
    "from scipy.stats import loguniform\n",
    "\n",
    "from sklearn.ensemble import RandomForestClassifier,GradientBoostingClassifier\n",
    "\n",
    "from sklearn.svm import SVC\n",
    "\n",
    "from sklearn.neural_network import MLPClassifier\n",
    "\n",
    "from imblearn.ensemble import BalancedRandomForestClassifier\n",
    "\n",
    "from xgboost import XGBClassifier\n",
    "from sklearn.utils import compute_sample_weight\n",
    "\n"
   ]
  },
  {
   "cell_type": "markdown",
   "id": "da62dbd8",
   "metadata": {},
   "source": [
    "## Scoring"
   ]
  },
  {
   "cell_type": "code",
   "execution_count": 3,
   "id": "a91159aa",
   "metadata": {},
   "outputs": [],
   "source": [
    "from sklearn.model_selection import cross_val_score\n",
    "from sklearn.metrics import fbeta_score, make_scorer\n",
    "\n",
    "from sklearn.metrics import accuracy_score, confusion_matrix, ConfusionMatrixDisplay"
   ]
  },
  {
   "cell_type": "markdown",
   "id": "565739a3",
   "metadata": {},
   "source": [
    "### Functions"
   ]
  },
  {
   "cell_type": "code",
   "execution_count": 4,
   "id": "98078a84",
   "metadata": {},
   "outputs": [],
   "source": [
    "#grouping lead_provider_name into less granular categories\n",
    "def lead_prov_grouping(prov):\n",
    "    if prov in ['Recycled Freemium', 'SPL-Freemium', 'Sold Freemium','Quoted Freemium', 'ABBY Freemium', 'Freemium','CellC-Freemium']:\n",
    "        return 'Freemium'\n",
    "    elif prov in ['LeadWarming', 'LeadWarming TN ', 'Lead Warming']:\n",
    "        return 'LeadWarming'\n",
    "    elif prov in ['BLDS 101', 'BLDS']:\n",
    "        return 'BLDS'\n",
    "    elif prov in ['SD Phone Leads','MWL Phone Leads', 'iTalk External Call Center']:\n",
    "        return 'Phone leads'\n",
    "    elif prov in ['Sanlam Direct Cape Referral', 'SDC-Referral', 'MWL Referrals']:\n",
    "        return 'Refferals'\n",
    "    elif prov in ['Website',  'Bing', 'SD Web','MWL Web', 'Sanlam Digital','GoogleDisplay','GoogleSearch']:\n",
    "        return 'Web'\n",
    "    elif prov in ['MiWayLife', 'Sure_Strat_MWL','Existing Client','Reach_Republic_MWL', 'Newsletter']:\n",
    "        return 'MWL'\n",
    "    elif prov in ['Lead-D365-Production', 'Sanlam-Lead-D365-Production']:\n",
    "        return 'D365'\n",
    "    elif prov in ['Recycled','Facebook', 'Reinstatement', 'Vicidial','Wills', 'Affiliate', 'Sanlam Direct Cape', 'LiveLeads','SEO',\n",
    "       'Competitions', 'SDC HIV','Olico']:\n",
    "        return 'Other'\n",
    "    else:\n",
    "        return 'Other'\n"
   ]
  },
  {
   "cell_type": "code",
   "execution_count": 5,
   "id": "4405a8ff",
   "metadata": {},
   "outputs": [],
   "source": [
    "def data_prep(data,target,features=[],filter=None,column_excl = ['3month_lapse', '6month_lapse', 'ann_lapse', 'lapse_flag', 'policy_name'],cat_cols=['education', 'gender', 'smoker_status',\n",
    "       'sold_socio_economic_class', 'occupation_class',\n",
    "       'lead_provider_groups', 'lead_type', 'sales_channel','hiv_group', 'securitygroup_id', 'age_band',\n",
    "       'income_band', 'last_benefit_amount_band', 'cover_amount_full_band',\n",
    "       'total_funeral_premium_band', 'original_premium_band','underwriting_outcome'],imp_dict={'optionality': 'mode','cover_amount_full':'mean'}):\n",
    "\n",
    "    if filter is not None:\n",
    "        data = data[data[filter].notnull()].copy() \n",
    "                #for annual lapse, only policies older than 11 months have a flag, \n",
    "                        #thus excluding missing values for anniversary lapse flag excludes the policies younger than 11 months\n",
    "\n",
    "    #imputing nulls\n",
    "    df=DataPreparation(df=data)\n",
    "    df.imputating_nulls(imp_dict=imp_dict)\n",
    "    data=df.imputed_df.copy()\n",
    "\n",
    "    #grouping lead-provider_name\n",
    "    data['lead_provider_groups']= data['lead_provider_name'].apply(lead_prov_grouping)\n",
    "    data.drop(columns=['lead_provider_name'],inplace=True)\n",
    "    cat_cols.append('lead_provider_groups')\n",
    "\n",
    "    #hot-one encoding categorical features\n",
    "    data=pd.get_dummies(data,columns=cat_cols, dtype=int)\n",
    "    if features == []:\n",
    "        cols=set(data.columns)\n",
    "        features=list(cols.difference(column_excl))\n",
    "\n",
    "    #split data and target     \n",
    "    X = data[features].copy()\n",
    "    Y = data[target].astype(int).copy()\n",
    "    \n",
    "    # Train Test Split\n",
    "    X_train, X_test, Y_train, y_test = train_test_split(X, Y, test_size=0.20, random_state=42, stratify=Y)\n",
    "\n",
    "    return X_train, X_test, Y_train, y_test\n"
   ]
  },
  {
   "cell_type": "code",
   "execution_count": 6,
   "id": "916d4b41",
   "metadata": {},
   "outputs": [],
   "source": [
    "#custom score for models\n",
    "from sklearn.metrics import make_scorer\n",
    "def my_custom_accuracy(y_true, y_pred):\n",
    "    w=2\n",
    "    cm = confusion_matrix(y_true, y_pred)\n",
    "    true_0 =(cm[0][0]/(cm[0][0]+cm[0][1]))\n",
    "    true_1= w*(cm[1][1]/(cm[1][1]+cm[1][0]))\n",
    "\n",
    "    return (true_0+true_1)/(1+w)\n",
    "custom_scorer = make_scorer(my_custom_accuracy, greater_is_better=True)"
   ]
  },
  {
   "cell_type": "markdown",
   "id": "db6f7b81",
   "metadata": {},
   "source": [
    "# Training Data"
   ]
  },
  {
   "cell_type": "code",
   "execution_count": 7,
   "id": "39cdf179",
   "metadata": {},
   "outputs": [
    {
     "data": {
      "application/vnd.microsoft.datawrangler.viewer.v0+json": {
       "columns": [
        {
         "name": "index",
         "rawType": "object",
         "type": "string"
        },
        {
         "name": "nulls",
         "rawType": "int64",
         "type": "integer"
        },
        {
         "name": "percentage nulls",
         "rawType": "float64",
         "type": "float"
        }
       ],
       "ref": "2d8d649a-3228-4886-8923-aa6ec52a3f34",
       "rows": [
        [
         "policy_name",
         "0",
         "0.0"
        ],
        [
         "age",
         "0",
         "0.0"
        ],
        [
         "education",
         "0",
         "0.0"
        ],
        [
         "gender",
         "0",
         "0.0"
        ],
        [
         "income",
         "0",
         "0.0"
        ],
        [
         "smoker_status",
         "0",
         "0.0"
        ],
        [
         "sold_socio_economic_class",
         "0",
         "0.0"
        ],
        [
         "occupation_class",
         "0",
         "0.0"
        ],
        [
         "lead_provider_name",
         "0",
         "0.0"
        ],
        [
         "lead_type",
         "0",
         "0.0"
        ],
        [
         "sales_channel",
         "0",
         "0.0"
        ],
        [
         "underwriting_outcome",
         "0",
         "0.0"
        ],
        [
         "optionality",
         "25",
         "0.1119269340974212"
        ],
        [
         "hiv_test_required",
         "0",
         "0.0"
        ],
        [
         "eml",
         "0",
         "0.0"
        ],
        [
         "pml",
         "0",
         "0.0"
        ],
        [
         "securitygroup_id",
         "0",
         "0.0"
        ],
        [
         "benefits_count",
         "0",
         "0.0"
        ],
        [
         "last_benefit_amount",
         "0",
         "0.0"
        ],
        [
         "cover_amount_full",
         "23",
         "0.1029727793696275"
        ],
        [
         "total_funeral_premium",
         "0",
         "0.0"
        ],
        [
         "funeral_count",
         "0",
         "0.0"
        ],
        [
         "original_premium",
         "0",
         "0.0"
        ],
        [
         "duration_policy_start_delay",
         "0",
         "0.0"
        ],
        [
         "# calls",
         "0",
         "0.0"
        ],
        [
         "# calls contacted",
         "0",
         "0.0"
        ],
        [
         "res_code_QA_sum",
         "0",
         "0.0"
        ],
        [
         "res_code_claims_sum",
         "0",
         "0.0"
        ],
        [
         "res_code_no interest_sum",
         "0",
         "0.0"
        ],
        [
         "res_code_other_sum",
         "0",
         "0.0"
        ],
        [
         "res_code_payment_sum",
         "0",
         "0.0"
        ],
        [
         "res_code_quote_sum",
         "0",
         "0.0"
        ],
        [
         "res_code_sale_sum",
         "0",
         "0.0"
        ],
        [
         "res_code_update_sum",
         "0",
         "0.0"
        ],
        [
         "lapse_flag",
         "0",
         "0.0"
        ],
        [
         "inflation",
         "0",
         "0.0"
        ],
        [
         "unemployment rate",
         "0",
         "0.0"
        ],
        [
         "3month_lapse",
         "0",
         "0.0"
        ],
        [
         "6month_lapse",
         "0",
         "0.0"
        ],
        [
         "1yr_lapse",
         "0",
         "0.0"
        ],
        [
         "ann_lapse",
         "12397",
         "55.502328080229226"
        ],
        [
         "age_band",
         "0",
         "0.0"
        ],
        [
         "income_band",
         "0",
         "0.0"
        ],
        [
         "last_benefit_amount_band",
         "0",
         "0.0"
        ],
        [
         "cover_amount_full_band",
         "0",
         "0.0"
        ],
        [
         "total_funeral_premium_band",
         "0",
         "0.0"
        ],
        [
         "original_premium_band",
         "0",
         "0.0"
        ]
       ],
       "shape": {
        "columns": 2,
        "rows": 47
       }
      },
      "text/html": [
       "<div>\n",
       "<style scoped>\n",
       "    .dataframe tbody tr th:only-of-type {\n",
       "        vertical-align: middle;\n",
       "    }\n",
       "\n",
       "    .dataframe tbody tr th {\n",
       "        vertical-align: top;\n",
       "    }\n",
       "\n",
       "    .dataframe thead th {\n",
       "        text-align: right;\n",
       "    }\n",
       "</style>\n",
       "<table border=\"1\" class=\"dataframe\">\n",
       "  <thead>\n",
       "    <tr style=\"text-align: right;\">\n",
       "      <th></th>\n",
       "      <th>nulls</th>\n",
       "      <th>percentage nulls</th>\n",
       "    </tr>\n",
       "  </thead>\n",
       "  <tbody>\n",
       "    <tr>\n",
       "      <th>policy_name</th>\n",
       "      <td>0</td>\n",
       "      <td>0.000000</td>\n",
       "    </tr>\n",
       "    <tr>\n",
       "      <th>age</th>\n",
       "      <td>0</td>\n",
       "      <td>0.000000</td>\n",
       "    </tr>\n",
       "    <tr>\n",
       "      <th>education</th>\n",
       "      <td>0</td>\n",
       "      <td>0.000000</td>\n",
       "    </tr>\n",
       "    <tr>\n",
       "      <th>gender</th>\n",
       "      <td>0</td>\n",
       "      <td>0.000000</td>\n",
       "    </tr>\n",
       "    <tr>\n",
       "      <th>income</th>\n",
       "      <td>0</td>\n",
       "      <td>0.000000</td>\n",
       "    </tr>\n",
       "    <tr>\n",
       "      <th>smoker_status</th>\n",
       "      <td>0</td>\n",
       "      <td>0.000000</td>\n",
       "    </tr>\n",
       "    <tr>\n",
       "      <th>sold_socio_economic_class</th>\n",
       "      <td>0</td>\n",
       "      <td>0.000000</td>\n",
       "    </tr>\n",
       "    <tr>\n",
       "      <th>occupation_class</th>\n",
       "      <td>0</td>\n",
       "      <td>0.000000</td>\n",
       "    </tr>\n",
       "    <tr>\n",
       "      <th>lead_provider_name</th>\n",
       "      <td>0</td>\n",
       "      <td>0.000000</td>\n",
       "    </tr>\n",
       "    <tr>\n",
       "      <th>lead_type</th>\n",
       "      <td>0</td>\n",
       "      <td>0.000000</td>\n",
       "    </tr>\n",
       "    <tr>\n",
       "      <th>sales_channel</th>\n",
       "      <td>0</td>\n",
       "      <td>0.000000</td>\n",
       "    </tr>\n",
       "    <tr>\n",
       "      <th>underwriting_outcome</th>\n",
       "      <td>0</td>\n",
       "      <td>0.000000</td>\n",
       "    </tr>\n",
       "    <tr>\n",
       "      <th>optionality</th>\n",
       "      <td>25</td>\n",
       "      <td>0.111927</td>\n",
       "    </tr>\n",
       "    <tr>\n",
       "      <th>hiv_test_required</th>\n",
       "      <td>0</td>\n",
       "      <td>0.000000</td>\n",
       "    </tr>\n",
       "    <tr>\n",
       "      <th>eml</th>\n",
       "      <td>0</td>\n",
       "      <td>0.000000</td>\n",
       "    </tr>\n",
       "    <tr>\n",
       "      <th>pml</th>\n",
       "      <td>0</td>\n",
       "      <td>0.000000</td>\n",
       "    </tr>\n",
       "    <tr>\n",
       "      <th>securitygroup_id</th>\n",
       "      <td>0</td>\n",
       "      <td>0.000000</td>\n",
       "    </tr>\n",
       "    <tr>\n",
       "      <th>benefits_count</th>\n",
       "      <td>0</td>\n",
       "      <td>0.000000</td>\n",
       "    </tr>\n",
       "    <tr>\n",
       "      <th>last_benefit_amount</th>\n",
       "      <td>0</td>\n",
       "      <td>0.000000</td>\n",
       "    </tr>\n",
       "    <tr>\n",
       "      <th>cover_amount_full</th>\n",
       "      <td>23</td>\n",
       "      <td>0.102973</td>\n",
       "    </tr>\n",
       "    <tr>\n",
       "      <th>total_funeral_premium</th>\n",
       "      <td>0</td>\n",
       "      <td>0.000000</td>\n",
       "    </tr>\n",
       "    <tr>\n",
       "      <th>funeral_count</th>\n",
       "      <td>0</td>\n",
       "      <td>0.000000</td>\n",
       "    </tr>\n",
       "    <tr>\n",
       "      <th>original_premium</th>\n",
       "      <td>0</td>\n",
       "      <td>0.000000</td>\n",
       "    </tr>\n",
       "    <tr>\n",
       "      <th>duration_policy_start_delay</th>\n",
       "      <td>0</td>\n",
       "      <td>0.000000</td>\n",
       "    </tr>\n",
       "    <tr>\n",
       "      <th># calls</th>\n",
       "      <td>0</td>\n",
       "      <td>0.000000</td>\n",
       "    </tr>\n",
       "    <tr>\n",
       "      <th># calls contacted</th>\n",
       "      <td>0</td>\n",
       "      <td>0.000000</td>\n",
       "    </tr>\n",
       "    <tr>\n",
       "      <th>res_code_QA_sum</th>\n",
       "      <td>0</td>\n",
       "      <td>0.000000</td>\n",
       "    </tr>\n",
       "    <tr>\n",
       "      <th>res_code_claims_sum</th>\n",
       "      <td>0</td>\n",
       "      <td>0.000000</td>\n",
       "    </tr>\n",
       "    <tr>\n",
       "      <th>res_code_no interest_sum</th>\n",
       "      <td>0</td>\n",
       "      <td>0.000000</td>\n",
       "    </tr>\n",
       "    <tr>\n",
       "      <th>res_code_other_sum</th>\n",
       "      <td>0</td>\n",
       "      <td>0.000000</td>\n",
       "    </tr>\n",
       "    <tr>\n",
       "      <th>res_code_payment_sum</th>\n",
       "      <td>0</td>\n",
       "      <td>0.000000</td>\n",
       "    </tr>\n",
       "    <tr>\n",
       "      <th>res_code_quote_sum</th>\n",
       "      <td>0</td>\n",
       "      <td>0.000000</td>\n",
       "    </tr>\n",
       "    <tr>\n",
       "      <th>res_code_sale_sum</th>\n",
       "      <td>0</td>\n",
       "      <td>0.000000</td>\n",
       "    </tr>\n",
       "    <tr>\n",
       "      <th>res_code_update_sum</th>\n",
       "      <td>0</td>\n",
       "      <td>0.000000</td>\n",
       "    </tr>\n",
       "    <tr>\n",
       "      <th>lapse_flag</th>\n",
       "      <td>0</td>\n",
       "      <td>0.000000</td>\n",
       "    </tr>\n",
       "    <tr>\n",
       "      <th>inflation</th>\n",
       "      <td>0</td>\n",
       "      <td>0.000000</td>\n",
       "    </tr>\n",
       "    <tr>\n",
       "      <th>unemployment rate</th>\n",
       "      <td>0</td>\n",
       "      <td>0.000000</td>\n",
       "    </tr>\n",
       "    <tr>\n",
       "      <th>3month_lapse</th>\n",
       "      <td>0</td>\n",
       "      <td>0.000000</td>\n",
       "    </tr>\n",
       "    <tr>\n",
       "      <th>6month_lapse</th>\n",
       "      <td>0</td>\n",
       "      <td>0.000000</td>\n",
       "    </tr>\n",
       "    <tr>\n",
       "      <th>1yr_lapse</th>\n",
       "      <td>0</td>\n",
       "      <td>0.000000</td>\n",
       "    </tr>\n",
       "    <tr>\n",
       "      <th>ann_lapse</th>\n",
       "      <td>12397</td>\n",
       "      <td>55.502328</td>\n",
       "    </tr>\n",
       "    <tr>\n",
       "      <th>age_band</th>\n",
       "      <td>0</td>\n",
       "      <td>0.000000</td>\n",
       "    </tr>\n",
       "    <tr>\n",
       "      <th>income_band</th>\n",
       "      <td>0</td>\n",
       "      <td>0.000000</td>\n",
       "    </tr>\n",
       "    <tr>\n",
       "      <th>last_benefit_amount_band</th>\n",
       "      <td>0</td>\n",
       "      <td>0.000000</td>\n",
       "    </tr>\n",
       "    <tr>\n",
       "      <th>cover_amount_full_band</th>\n",
       "      <td>0</td>\n",
       "      <td>0.000000</td>\n",
       "    </tr>\n",
       "    <tr>\n",
       "      <th>total_funeral_premium_band</th>\n",
       "      <td>0</td>\n",
       "      <td>0.000000</td>\n",
       "    </tr>\n",
       "    <tr>\n",
       "      <th>original_premium_band</th>\n",
       "      <td>0</td>\n",
       "      <td>0.000000</td>\n",
       "    </tr>\n",
       "  </tbody>\n",
       "</table>\n",
       "</div>"
      ],
      "text/plain": [
       "                             nulls  percentage nulls\n",
       "policy_name                      0          0.000000\n",
       "age                              0          0.000000\n",
       "education                        0          0.000000\n",
       "gender                           0          0.000000\n",
       "income                           0          0.000000\n",
       "smoker_status                    0          0.000000\n",
       "sold_socio_economic_class        0          0.000000\n",
       "occupation_class                 0          0.000000\n",
       "lead_provider_name               0          0.000000\n",
       "lead_type                        0          0.000000\n",
       "sales_channel                    0          0.000000\n",
       "underwriting_outcome             0          0.000000\n",
       "optionality                     25          0.111927\n",
       "hiv_test_required                0          0.000000\n",
       "eml                              0          0.000000\n",
       "pml                              0          0.000000\n",
       "securitygroup_id                 0          0.000000\n",
       "benefits_count                   0          0.000000\n",
       "last_benefit_amount              0          0.000000\n",
       "cover_amount_full               23          0.102973\n",
       "total_funeral_premium            0          0.000000\n",
       "funeral_count                    0          0.000000\n",
       "original_premium                 0          0.000000\n",
       "duration_policy_start_delay      0          0.000000\n",
       "# calls                          0          0.000000\n",
       "# calls contacted                0          0.000000\n",
       "res_code_QA_sum                  0          0.000000\n",
       "res_code_claims_sum              0          0.000000\n",
       "res_code_no interest_sum         0          0.000000\n",
       "res_code_other_sum               0          0.000000\n",
       "res_code_payment_sum             0          0.000000\n",
       "res_code_quote_sum               0          0.000000\n",
       "res_code_sale_sum                0          0.000000\n",
       "res_code_update_sum              0          0.000000\n",
       "lapse_flag                       0          0.000000\n",
       "inflation                        0          0.000000\n",
       "unemployment rate                0          0.000000\n",
       "3month_lapse                     0          0.000000\n",
       "6month_lapse                     0          0.000000\n",
       "1yr_lapse                        0          0.000000\n",
       "ann_lapse                    12397         55.502328\n",
       "age_band                         0          0.000000\n",
       "income_band                      0          0.000000\n",
       "last_benefit_amount_band         0          0.000000\n",
       "cover_amount_full_band           0          0.000000\n",
       "total_funeral_premium_band       0          0.000000\n",
       "original_premium_band            0          0.000000"
      ]
     },
     "metadata": {},
     "output_type": "display_data"
    }
   ],
   "source": [
    "path=\"C:/Users/E1005279/OneDrive - Sanlam Life Insurance Limited/MWL/Lapse Rate Projections/Data/Data2/\"\n",
    "data=pd.DataFrame(pd.read_csv(path+\"inception_data_eco_v3.csv\"))\n",
    "data=data.drop(columns=['Unnamed: 0','occupation','campaign_name','hiv_group'])\n",
    "data_info=DataPreparation(df=data)\n",
    "display(data_info.null_df)"
   ]
  },
  {
   "cell_type": "code",
   "execution_count": 8,
   "id": "84c5f3e6",
   "metadata": {},
   "outputs": [],
   "source": [
    "#scaling numerical, countinous features\n",
    "\n",
    "scale = StandardScaler()\n",
    "data_s=data.copy()\n",
    "column_scale=[ 'age',  'income',  'eml','pml',  'benefits_count',\n",
    "       'last_benefit_amount', 'cover_amount_full', 'total_funeral_premium',\n",
    "       'funeral_count', 'original_premium', 'duration_policy_start_delay',\n",
    "       '# calls', '# calls contacted', 'res_code_QA_sum',\n",
    "       'res_code_claims_sum', 'res_code_no interest_sum', 'res_code_other_sum',\n",
    "       'res_code_payment_sum', 'res_code_quote_sum', 'res_code_sale_sum',\n",
    "       'res_code_update_sum','inflation', 'unemployment rate']\n",
    "data_s[column_scale] = scale.fit_transform(data_s[column_scale])\n",
    "\n",
    " #columns to be hot-one encoded\n",
    "categorical_cols=['education', 'gender', 'smoker_status',\n",
    "       'sold_socio_economic_class', 'occupation_class',\n",
    "       'lead_type', 'optionality', 'hiv_test_required', 'age_band',\n",
    "        'original_premium_band']\n",
    "\n",
    " #columns with nulls to be imputed and the method of imputation\n",
    "impt_dict={'optionality': 'mode','cover_amount_full':'mean'}"
   ]
  },
  {
   "cell_type": "markdown",
   "id": "fd539811",
   "metadata": {},
   "source": [
    "# Lapses within 3 Months\n",
    "\n",
    "XGBoost classification model with SMOTE resampling"
   ]
  },
  {
   "cell_type": "markdown",
   "id": "8717fa76",
   "metadata": {},
   "source": [
    "## Training"
   ]
  },
  {
   "cell_type": "code",
   "execution_count": 9,
   "id": "596d5e1a",
   "metadata": {},
   "outputs": [
    {
     "name": "stdout",
     "output_type": "stream",
     "text": [
      "target ratios:  19.873746418338108\n",
      "smote resampling target ratio:  28.568577558249764\n"
     ]
    }
   ],
   "source": [
    "target='3month_lapse'\n",
    "print('target ratios: ',data[target].sum()*100/data[target].count())\n",
    "\n",
    "#dropping unimportant features\n",
    "data_s.drop(columns=['underwriting_outcome','securitygroup_id','sales_channel',\n",
    " 'age', 'income_band', 'last_benefit_amount_band', 'cover_amount_full_band',\n",
    "       'total_funeral_premium_band', 'original_premium'],inplace=True)\n",
    "\n",
    "\n",
    "#split data into training and test sets\n",
    "X_train,x_test, Y_train, y_test = data_prep(data_s,target,column_excl =['policy_name','lapse_flag', \n",
    "       '3month_lapse', '6month_lapse', '1yr_lapse', 'ann_lapse'],cat_cols=categorical_cols)\n",
    "\n",
    "\n",
    "#apply SMOTE resampling\n",
    "sm = SMOTE(sampling_strategy=0.4,random_state=42)\n",
    "X_smote, Y_smote = sm.fit_resample(X_train.copy(), Y_train.copy())\n",
    "print('smote resampling target ratio: ',Y_smote.sum()*100/Y_smote.count())"
   ]
  },
  {
   "cell_type": "code",
   "execution_count": 10,
   "id": "aabccee1",
   "metadata": {},
   "outputs": [],
   "source": [
    "X_train_n=X_smote.copy()\n",
    "Y_train_n=Y_smote.copy()\n",
    "scorer=custom_scorer\n",
    "\n",
    "#getting best params\n",
    "param_dist = {'n_estimators': randint(50,300),\n",
    "              'min_samples_leaf': randint(700,2000),\n",
    "              'learning_rate': randint(0,3),\n",
    "              'max_depth': randint(3,5)}\n",
    "\n",
    "# Create a XG-Boost classifier\n",
    "xgb = GradientBoostingClassifier()\n",
    "\n",
    "# Use random search to find the best hyperparameters\n",
    "b=1\n",
    "fbeta_scorer = make_scorer(fbeta_score, beta=b)\n",
    "rand_search = RandomizedSearchCV(xgb, \n",
    "                                 param_distributions = param_dist, \n",
    "                                 n_iter=30, \n",
    "                                 cv=5,\n",
    "                                 scoring=scorer,random_state=42)\n",
    "\n",
    "# Fit the random search object to the data\n",
    "rand_search.fit(X_train_n, Y_train_n)\n",
    "\n",
    "n_estimators=rand_search.best_params_['n_estimators']\n",
    "learning_rate = rand_search.best_params_['learning_rate']\n",
    "max_depth = rand_search.best_params_['max_depth']\n",
    "min_samples_leaf=rand_search.best_params_['min_samples_leaf']\n",
    " #{'learning_rate': 1, 'max_depth': 4, 'min_samples_leaf': 1385, 'n_estimators': 241} 0.6381045715849234 for b=2 and recall\n",
    "\n",
    "xgbc = GradientBoostingClassifier(n_estimators = n_estimators,learning_rate=learning_rate,max_depth=max_depth, min_samples_leaf=min_samples_leaf, random_state=42)\n"
   ]
  },
  {
   "cell_type": "code",
   "execution_count": 11,
   "id": "a34d6d13",
   "metadata": {},
   "outputs": [
    {
     "data": {
      "text/plain": [
       "['3month_lapse_model.joblib']"
      ]
     },
     "execution_count": 11,
     "metadata": {},
     "output_type": "execute_result"
    }
   ],
   "source": [
    "joblib.dump(xgbc, '3month_lapse_model.joblib')"
   ]
  },
  {
   "cell_type": "code",
   "execution_count": 12,
   "id": "62bb9fe4",
   "metadata": {},
   "outputs": [
    {
     "data": {
      "text/plain": [
       "<sklearn.metrics._plot.confusion_matrix.ConfusionMatrixDisplay at 0x1ace11366c0>"
      ]
     },
     "execution_count": 12,
     "metadata": {},
     "output_type": "execute_result"
    },
    {
     "data": {
      "image/png": "[encoded data removed]",
      "text/plain": [
       "<Figure size 640x480 with 2 Axes>"
      ]
     },
     "metadata": {},
     "output_type": "display_data"
    }
   ],
   "source": [
    "xgbc.fit(X_train_n.copy(),Y_train_n.copy())\n",
    "y_pred = xgbc.predict(x_test)\n",
    "conf_matrix = confusion_matrix(y_test, y_pred)\n",
    "ConfusionMatrixDisplay(confusion_matrix=conf_matrix).plot()"
   ]
  },
  {
   "cell_type": "markdown",
   "id": "00fd6cb5",
   "metadata": {},
   "source": [
    "## Model for scoring"
   ]
  },
  {
   "cell_type": "code",
   "execution_count": 13,
   "id": "e9e77c7d",
   "metadata": {},
   "outputs": [
    {
     "name": "stderr",
     "output_type": "stream",
     "text": [
      "c:\\Users\\E1005279\\AppData\\Local\\Programs\\Python\\Python312\\Lib\\site-packages\\sklearn\\base.py:486: UserWarning: X has feature names, but GradientBoostingClassifier was fitted without feature names\n",
      "  warnings.warn(\n"
     ]
    },
    {
     "ename": "NotFittedError",
     "evalue": "This GradientBoostingClassifier instance is not fitted yet. Call 'fit' with appropriate arguments before using this estimator.",
     "output_type": "error",
     "traceback": [
      "\u001b[1;31m---------------------------------------------------------------------------\u001b[0m",
      "\u001b[1;31mNotFittedError\u001b[0m                            Traceback (most recent call last)",
      "Cell \u001b[1;32mIn[13], line 4\u001b[0m\n\u001b[0;32m      2\u001b[0m model_file\u001b[38;5;241m=\u001b[39m\u001b[38;5;124m'\u001b[39m\u001b[38;5;124m3month_lapse_model.joblib\u001b[39m\u001b[38;5;124m'\u001b[39m\n\u001b[0;32m      3\u001b[0m m3_model \u001b[38;5;241m=\u001b[39m joblib\u001b[38;5;241m.\u001b[39mload(model_file)\n\u001b[1;32m----> 4\u001b[0m m3_prediction \u001b[38;5;241m=\u001b[39m \u001b[43mm3_model\u001b[49m\u001b[38;5;241;43m.\u001b[39;49m\u001b[43mpredict\u001b[49m\u001b[43m(\u001b[49m\u001b[43mnew_data\u001b[49m\u001b[43m)\u001b[49m\n",
      "File \u001b[1;32mc:\\Users\\E1005279\\AppData\\Local\\Programs\\Python\\Python312\\Lib\\site-packages\\sklearn\\ensemble\\_gb.py:1612\u001b[0m, in \u001b[0;36mGradientBoostingClassifier.predict\u001b[1;34m(self, X)\u001b[0m\n\u001b[0;32m   1597\u001b[0m \u001b[38;5;28;01mdef\u001b[39;00m \u001b[38;5;21mpredict\u001b[39m(\u001b[38;5;28mself\u001b[39m, X):\n\u001b[0;32m   1598\u001b[0m \u001b[38;5;250m    \u001b[39m\u001b[38;5;124;03m\"\"\"Predict class for X.\u001b[39;00m\n\u001b[0;32m   1599\u001b[0m \n\u001b[0;32m   1600\u001b[0m \u001b[38;5;124;03m    Parameters\u001b[39;00m\n\u001b[1;32m   (...)\u001b[0m\n\u001b[0;32m   1610\u001b[0m \u001b[38;5;124;03m        The predicted values.\u001b[39;00m\n\u001b[0;32m   1611\u001b[0m \u001b[38;5;124;03m    \"\"\"\u001b[39;00m\n\u001b[1;32m-> 1612\u001b[0m     raw_predictions \u001b[38;5;241m=\u001b[39m \u001b[38;5;28;43mself\u001b[39;49m\u001b[38;5;241;43m.\u001b[39;49m\u001b[43mdecision_function\u001b[49m\u001b[43m(\u001b[49m\u001b[43mX\u001b[49m\u001b[43m)\u001b[49m\n\u001b[0;32m   1613\u001b[0m     \u001b[38;5;28;01mif\u001b[39;00m raw_predictions\u001b[38;5;241m.\u001b[39mndim \u001b[38;5;241m==\u001b[39m \u001b[38;5;241m1\u001b[39m:  \u001b[38;5;66;03m# decision_function already squeezed it\u001b[39;00m\n\u001b[0;32m   1614\u001b[0m         encoded_classes \u001b[38;5;241m=\u001b[39m (raw_predictions \u001b[38;5;241m>\u001b[39m\u001b[38;5;241m=\u001b[39m \u001b[38;5;241m0\u001b[39m)\u001b[38;5;241m.\u001b[39mastype(\u001b[38;5;28mint\u001b[39m)\n",
      "File \u001b[1;32mc:\\Users\\E1005279\\AppData\\Local\\Programs\\Python\\Python312\\Lib\\site-packages\\sklearn\\ensemble\\_gb.py:1568\u001b[0m, in \u001b[0;36mGradientBoostingClassifier.decision_function\u001b[1;34m(self, X)\u001b[0m\n\u001b[0;32m   1547\u001b[0m \u001b[38;5;250m\u001b[39m\u001b[38;5;124;03m\"\"\"Compute the decision function of ``X``.\u001b[39;00m\n\u001b[0;32m   1548\u001b[0m \n\u001b[0;32m   1549\u001b[0m \u001b[38;5;124;03mParameters\u001b[39;00m\n\u001b[1;32m   (...)\u001b[0m\n\u001b[0;32m   1563\u001b[0m \u001b[38;5;124;03m    array of shape (n_samples,).\u001b[39;00m\n\u001b[0;32m   1564\u001b[0m \u001b[38;5;124;03m\"\"\"\u001b[39;00m\n\u001b[0;32m   1565\u001b[0m X \u001b[38;5;241m=\u001b[39m \u001b[38;5;28mself\u001b[39m\u001b[38;5;241m.\u001b[39m_validate_data(\n\u001b[0;32m   1566\u001b[0m     X, dtype\u001b[38;5;241m=\u001b[39mDTYPE, order\u001b[38;5;241m=\u001b[39m\u001b[38;5;124m\"\u001b[39m\u001b[38;5;124mC\u001b[39m\u001b[38;5;124m\"\u001b[39m, accept_sparse\u001b[38;5;241m=\u001b[39m\u001b[38;5;124m\"\u001b[39m\u001b[38;5;124mcsr\u001b[39m\u001b[38;5;124m\"\u001b[39m, reset\u001b[38;5;241m=\u001b[39m\u001b[38;5;28;01mFalse\u001b[39;00m\n\u001b[0;32m   1567\u001b[0m )\n\u001b[1;32m-> 1568\u001b[0m raw_predictions \u001b[38;5;241m=\u001b[39m \u001b[38;5;28;43mself\u001b[39;49m\u001b[38;5;241;43m.\u001b[39;49m\u001b[43m_raw_predict\u001b[49m\u001b[43m(\u001b[49m\u001b[43mX\u001b[49m\u001b[43m)\u001b[49m\n\u001b[0;32m   1569\u001b[0m \u001b[38;5;28;01mif\u001b[39;00m raw_predictions\u001b[38;5;241m.\u001b[39mshape[\u001b[38;5;241m1\u001b[39m] \u001b[38;5;241m==\u001b[39m \u001b[38;5;241m1\u001b[39m:\n\u001b[0;32m   1570\u001b[0m     \u001b[38;5;28;01mreturn\u001b[39;00m raw_predictions\u001b[38;5;241m.\u001b[39mravel()\n",
      "File \u001b[1;32mc:\\Users\\E1005279\\AppData\\Local\\Programs\\Python\\Python312\\Lib\\site-packages\\sklearn\\ensemble\\_gb.py:960\u001b[0m, in \u001b[0;36mBaseGradientBoosting._raw_predict\u001b[1;34m(self, X)\u001b[0m\n\u001b[0;32m    958\u001b[0m \u001b[38;5;28;01mdef\u001b[39;00m \u001b[38;5;21m_raw_predict\u001b[39m(\u001b[38;5;28mself\u001b[39m, X):\n\u001b[0;32m    959\u001b[0m \u001b[38;5;250m    \u001b[39m\u001b[38;5;124;03m\"\"\"Return the sum of the trees raw predictions (+ init estimator).\"\"\"\u001b[39;00m\n\u001b[1;32m--> 960\u001b[0m     \u001b[43mcheck_is_fitted\u001b[49m\u001b[43m(\u001b[49m\u001b[38;5;28;43mself\u001b[39;49m\u001b[43m)\u001b[49m\n\u001b[0;32m    961\u001b[0m     raw_predictions \u001b[38;5;241m=\u001b[39m \u001b[38;5;28mself\u001b[39m\u001b[38;5;241m.\u001b[39m_raw_predict_init(X)\n\u001b[0;32m    962\u001b[0m     predict_stages(\u001b[38;5;28mself\u001b[39m\u001b[38;5;241m.\u001b[39mestimators_, X, \u001b[38;5;28mself\u001b[39m\u001b[38;5;241m.\u001b[39mlearning_rate, raw_predictions)\n",
      "File \u001b[1;32mc:\\Users\\E1005279\\AppData\\Local\\Programs\\Python\\Python312\\Lib\\site-packages\\sklearn\\utils\\validation.py:1661\u001b[0m, in \u001b[0;36mcheck_is_fitted\u001b[1;34m(estimator, attributes, msg, all_or_any)\u001b[0m\n\u001b[0;32m   1658\u001b[0m     \u001b[38;5;28;01mraise\u001b[39;00m \u001b[38;5;167;01mTypeError\u001b[39;00m(\u001b[38;5;124m\"\u001b[39m\u001b[38;5;132;01m%s\u001b[39;00m\u001b[38;5;124m is not an estimator instance.\u001b[39m\u001b[38;5;124m\"\u001b[39m \u001b[38;5;241m%\u001b[39m (estimator))\n\u001b[0;32m   1660\u001b[0m \u001b[38;5;28;01mif\u001b[39;00m \u001b[38;5;129;01mnot\u001b[39;00m _is_fitted(estimator, attributes, all_or_any):\n\u001b[1;32m-> 1661\u001b[0m     \u001b[38;5;28;01mraise\u001b[39;00m NotFittedError(msg \u001b[38;5;241m%\u001b[39m {\u001b[38;5;124m\"\u001b[39m\u001b[38;5;124mname\u001b[39m\u001b[38;5;124m\"\u001b[39m: \u001b[38;5;28mtype\u001b[39m(estimator)\u001b[38;5;241m.\u001b[39m\u001b[38;5;18m__name__\u001b[39m})\n",
      "\u001b[1;31mNotFittedError\u001b[0m: This GradientBoostingClassifier instance is not fitted yet. Call 'fit' with appropriate arguments before using this estimator."
     ]
    }
   ],
   "source": [
    "new_data = x_test.copy()\n",
    "model_file='3month_lapse_model.joblib'\n",
    "m3_model = joblib.load(model_file)\n",
    "m3_prediction = m3_model.predict(new_data)"
   ]
  },
  {
   "cell_type": "code",
   "execution_count": null,
   "id": "3db534dd",
   "metadata": {},
   "outputs": [],
   "source": [
    "m3_prediction"
   ]
  },
  {
   "cell_type": "markdown",
   "id": "a8147fc2",
   "metadata": {},
   "source": [
    "# Lapses within 6 months\n",
    "\n",
    "XGBoost classifier"
   ]
  },
  {
   "cell_type": "markdown",
   "id": "ffe7891b",
   "metadata": {},
   "source": [
    "## Training"
   ]
  },
  {
   "cell_type": "code",
   "execution_count": null,
   "id": "4b8027bb",
   "metadata": {},
   "outputs": [],
   "source": [
    "target='6month_lapse'\n",
    "print('target ratios: ',data[target].sum()*100/data[target].count())\n",
    "\n",
    "#dropping unimportant features\n",
    "data_s.drop(columns=['underwriting_outcome','securitygroup_id','sales_channel',\n",
    " 'age', 'income_band', 'last_benefit_amount_band', 'cover_amount_full_band',\n",
    "       'total_funeral_premium_band', 'original_premium'],inplace=True)\n",
    "\n",
    "\n",
    "\n",
    "#split data into training and test sets\n",
    "X_train,x_test, Y_train, y_test = data_prep(data_s,target,column_excl =['policy_name','lapse_flag', \n",
    "       '3month_lapse', '6month_lapse', '1yr_lapse', 'ann_lapse'],cat_cols=categorical_cols)\n",
    "\n"
   ]
  },
  {
   "cell_type": "code",
   "execution_count": null,
   "id": "515155af",
   "metadata": {},
   "outputs": [],
   "source": [
    "X_train_n=X_train.copy()\n",
    "Y_train_n=Y_train.copy()\n",
    "\n",
    "scorer=custom_scorer\n",
    "#getting best params\n",
    "param_dist = {'n_estimators': randint(50,300),\n",
    "              'min_samples_leaf': randint(700,2000),\n",
    "              'learning_rate': randint(0,3),\n",
    "              'max_depth': randint(3,5)}\n",
    "\n",
    "# Create a XG-Boost classifier\n",
    "xgb = GradientBoostingClassifier()\n",
    "\n",
    "# Use random search to find the best hyperparameters\n",
    "b=1\n",
    "fbeta_scorer = make_scorer(fbeta_score, beta=b)\n",
    "rand_search = RandomizedSearchCV(xgb, \n",
    "                                 param_distributions = param_dist, \n",
    "                                 n_iter=30, \n",
    "                                 cv=5,\n",
    "                                 scoring=scorer,random_state=42)\n",
    "\n",
    "# Fit the random search object to the data\n",
    "rand_search.fit(X_train_n, Y_train_n)\n",
    "\n",
    "n_estimators=rand_search.best_params_['n_estimators']\n",
    "learning_rate = rand_search.best_params_['learning_rate']\n",
    "max_depth = rand_search.best_params_['max_depth']\n",
    "min_samples_leaf=rand_search.best_params_['min_samples_leaf']\n",
    " #{'learning_rate': 1, 'max_depth': 4, 'min_samples_leaf': 1385, 'n_estimators': 241} 0.6381045715849234 for b=2 and recall\n",
    "\n",
    "xgbc = GradientBoostingClassifier(n_estimators = n_estimators,learning_rate=learning_rate,max_depth=max_depth, min_samples_leaf=min_samples_leaf, random_state=42)\n"
   ]
  },
  {
   "cell_type": "code",
   "execution_count": null,
   "id": "cfcf4fd9",
   "metadata": {},
   "outputs": [],
   "source": [
    "joblib.dump(xgbc, '6month_lapse_model.joblib')"
   ]
  },
  {
   "cell_type": "code",
   "execution_count": null,
   "id": "8755304a",
   "metadata": {},
   "outputs": [],
   "source": [
    "xgbc.fit(X_train_n.copy(),Y_train_n.copy())\n",
    "y_pred = xgbc.predict(x_test)\n",
    "conf_matrix = confusion_matrix(y_test, y_pred)\n",
    "ConfusionMatrixDisplay(confusion_matrix=conf_matrix).plot()"
   ]
  },
  {
   "cell_type": "markdown",
   "id": "07539db5",
   "metadata": {},
   "source": [
    "## Model for scoring"
   ]
  },
  {
   "cell_type": "code",
   "execution_count": null,
   "id": "822dcdd2",
   "metadata": {},
   "outputs": [],
   "source": [
    "new_data = x_test.copy()\n",
    "model_file='6month_lapse_model.joblib'\n",
    "m6_model = joblib.load(model_file)\n",
    "m6_prediction = m6_model.predict(new_data)"
   ]
  },
  {
   "cell_type": "code",
   "execution_count": null,
   "id": "245ec24e",
   "metadata": {},
   "outputs": [],
   "source": [
    "m6_prediction"
   ]
  },
  {
   "cell_type": "markdown",
   "id": "e6d825c1",
   "metadata": {},
   "source": [
    "# Lapses within 1 year\n",
    "\n",
    "XGBoost classifier"
   ]
  },
  {
   "cell_type": "markdown",
   "id": "9bb002d6",
   "metadata": {},
   "source": [
    "## Training"
   ]
  },
  {
   "cell_type": "code",
   "execution_count": null,
   "id": "e06c553c",
   "metadata": {},
   "outputs": [],
   "source": [
    "target='1yr_lapse'\n",
    "print('target ratios: ',data[target].sum()*100/data[target].count())\n",
    "\n",
    "#dropping unimportant features\n",
    "data_s.drop(columns=['underwriting_outcome','securitygroup_id','sales_channel',\n",
    " 'age', 'income_band', 'last_benefit_amount_band', 'cover_amount_full_band',\n",
    "       'total_funeral_premium_band', 'original_premium'],inplace=True)\n",
    "\n",
    "\n",
    "#split data into training and test sets\n",
    "X_train,x_test, Y_train, y_test = data_prep(data_s,target,column_excl =['policy_name','lapse_flag', \n",
    "       '3month_lapse', '6month_lapse', '1yr_lapse', 'ann_lapse'],cat_cols=categorical_cols)\n",
    "\n",
    "\n"
   ]
  },
  {
   "cell_type": "code",
   "execution_count": null,
   "id": "68f24055",
   "metadata": {},
   "outputs": [],
   "source": [
    "X_train_n=X_train.copy()\n",
    "Y_train_n=Y_train.copy()\n",
    "\n",
    "scorer=custom_scorer\n",
    "#getting best params\n",
    "param_dist = {'n_estimators': randint(50,300),\n",
    "              'min_samples_leaf': randint(700,2000),\n",
    "              'learning_rate': randint(0,3),\n",
    "              'max_depth': randint(3,5)}\n",
    "\n",
    "# Create a XG-Boost classifier\n",
    "xgb = GradientBoostingClassifier()\n",
    "\n",
    "# Use random search to find the best hyperparameters\n",
    "b=1\n",
    "fbeta_scorer = make_scorer(fbeta_score, beta=b)\n",
    "rand_search = RandomizedSearchCV(xgb, \n",
    "                                 param_distributions = param_dist, \n",
    "                                 n_iter=30, \n",
    "                                 cv=5,\n",
    "                                 scoring=scorer,random_state=42)\n",
    "\n",
    "# Fit the random search object to the data\n",
    "rand_search.fit(X_train_n, Y_train_n)\n",
    "\n",
    "n_estimators=rand_search.best_params_['n_estimators']\n",
    "learning_rate = rand_search.best_params_['learning_rate']\n",
    "max_depth = rand_search.best_params_['max_depth']\n",
    "min_samples_leaf=rand_search.best_params_['min_samples_leaf']\n",
    " #{'learning_rate': 1, 'max_depth': 4, 'min_samples_leaf': 1385, 'n_estimators': 241} 0.6381045715849234 for b=2 and recall\n",
    "\n",
    "xgbc = GradientBoostingClassifier(n_estimators = n_estimators,learning_rate=learning_rate,max_depth=max_depth, min_samples_leaf=min_samples_leaf, random_state=42)\n"
   ]
  },
  {
   "cell_type": "code",
   "execution_count": null,
   "id": "6218c613",
   "metadata": {},
   "outputs": [],
   "source": [
    "joblib.dump(xgbc, '1year_lapse_model.joblib')"
   ]
  },
  {
   "cell_type": "code",
   "execution_count": null,
   "id": "0e5bf7bd",
   "metadata": {},
   "outputs": [],
   "source": [
    "xgbc.fit(X_train_n.copy(),Y_train_n.copy())\n",
    "y_pred = xgbc.predict(x_test)\n",
    "conf_matrix = confusion_matrix(y_test, y_pred)\n",
    "ConfusionMatrixDisplay(confusion_matrix=conf_matrix).plot()"
   ]
  },
  {
   "cell_type": "markdown",
   "id": "16ec5db6",
   "metadata": {},
   "source": [
    "## Model for scoring"
   ]
  },
  {
   "cell_type": "code",
   "execution_count": null,
   "id": "0d94b9d8",
   "metadata": {},
   "outputs": [],
   "source": [
    "new_data = x_test.copy()\n",
    "model_file='1year_lapse_model.joblib'\n",
    "y1_model = joblib.load(model_file)\n",
    "y1_prediction = y1_model.predict(new_data)"
   ]
  },
  {
   "cell_type": "code",
   "execution_count": null,
   "id": "3c8b82d2",
   "metadata": {},
   "outputs": [],
   "source": [
    "y1_prediction"
   ]
  },
  {
   "cell_type": "markdown",
   "id": "ef9f1696",
   "metadata": {},
   "source": [
    "# Lapses\n",
    "\n",
    "XGBoost classifier model"
   ]
  },
  {
   "cell_type": "markdown",
   "id": "27c0c936",
   "metadata": {},
   "source": [
    "## Training"
   ]
  },
  {
   "cell_type": "code",
   "execution_count": null,
   "id": "8f39de34",
   "metadata": {},
   "outputs": [],
   "source": [
    "target='lapse_flag'\n",
    "print('target ratios: ',data[target].sum()*100/data[target].count())\n",
    "\n",
    "#dropping unimportant features\n",
    "data_s.drop(columns=['underwriting_outcome','securitygroup_id','sales_channel',\n",
    " 'age', 'income_band', 'last_benefit_amount_band', 'cover_amount_full_band',\n",
    "       'total_funeral_premium_band', 'original_premium'],inplace=True)\n",
    "\n",
    "\n",
    "#split data into training and test sets\n",
    "X_train,x_test, Y_train, y_test = data_prep(data_s,target,column_excl =['policy_name','lapse_flag', \n",
    "       '3month_lapse', '6month_lapse', '1yr_lapse', 'ann_lapse'],cat_cols=categorical_cols)\n",
    "\n",
    "\n"
   ]
  },
  {
   "cell_type": "code",
   "execution_count": null,
   "id": "403a83b0",
   "metadata": {},
   "outputs": [],
   "source": [
    "X_train_n=X_train.copy()\n",
    "Y_train_n=Y_train.copy()\n",
    "\n",
    "scorer=custom_scorer\n",
    "#getting best params\n",
    "param_dist = {'n_estimators': randint(50,300),\n",
    "              'min_samples_leaf': randint(700,2000),\n",
    "              'learning_rate': randint(0,3),\n",
    "              'max_depth': randint(3,5)}\n",
    "\n",
    "# Create a XG-Boost classifier\n",
    "xgb = GradientBoostingClassifier()\n",
    "\n",
    "# Use random search to find the best hyperparameters\n",
    "b=1\n",
    "fbeta_scorer = make_scorer(fbeta_score, beta=b)\n",
    "rand_search = RandomizedSearchCV(xgb, \n",
    "                                 param_distributions = param_dist, \n",
    "                                 n_iter=30, \n",
    "                                 cv=5,\n",
    "                                 scoring=scorer,random_state=42)\n",
    "\n",
    "# Fit the random search object to the data\n",
    "rand_search.fit(X_train_n, Y_train_n)\n",
    "\n",
    "n_estimators=rand_search.best_params_['n_estimators']\n",
    "learning_rate = rand_search.best_params_['learning_rate']\n",
    "max_depth = rand_search.best_params_['max_depth']\n",
    "min_samples_leaf=rand_search.best_params_['min_samples_leaf']\n",
    " #{'learning_rate': 1, 'max_depth': 4, 'min_samples_leaf': 1385, 'n_estimators': 241} 0.6381045715849234 for b=2 and recall\n",
    "\n",
    "xgbc = GradientBoostingClassifier(n_estimators = n_estimators,learning_rate=learning_rate,max_depth=max_depth, min_samples_leaf=min_samples_leaf, random_state=42)\n"
   ]
  },
  {
   "cell_type": "code",
   "execution_count": null,
   "id": "fcd548f1",
   "metadata": {},
   "outputs": [],
   "source": [
    "joblib.dump(xgbc, 'lapse_model.joblib')"
   ]
  },
  {
   "cell_type": "code",
   "execution_count": null,
   "id": "2ff056a4",
   "metadata": {},
   "outputs": [],
   "source": [
    "xgbc.fit(X_train_n.copy(),Y_train_n.copy())\n",
    "y_pred = xgbc.predict(x_test)\n",
    "conf_matrix = confusion_matrix(y_test, y_pred)\n",
    "ConfusionMatrixDisplay(confusion_matrix=conf_matrix).plot()"
   ]
  },
  {
   "cell_type": "markdown",
   "id": "71530b72",
   "metadata": {},
   "source": [
    "## Model for scoring"
   ]
  },
  {
   "cell_type": "code",
   "execution_count": null,
   "id": "7863ef0a",
   "metadata": {},
   "outputs": [],
   "source": [
    "new_data = x_test.copy()\n",
    "model_file='lapse_model.joblib'\n",
    "lapse_model = joblib.load(model_file)\n",
    "lapse_prediction = lapse_model.predict(new_data)"
   ]
  },
  {
   "cell_type": "code",
   "execution_count": null,
   "id": "0352df22",
   "metadata": {},
   "outputs": [],
   "source": [
    "lapse_prediction"
   ]
  },
  {
   "cell_type": "markdown",
   "id": "b31d75b2",
   "metadata": {},
   "source": [
    "# Anniversary lapses\n",
    "\n",
    "XGBoost classifier model with SMOTE resampled data"
   ]
  },
  {
   "cell_type": "markdown",
   "id": "2271fbaf",
   "metadata": {},
   "source": [
    "## Training"
   ]
  },
  {
   "cell_type": "code",
   "execution_count": null,
   "id": "023be39a",
   "metadata": {},
   "outputs": [],
   "source": [
    "target='ann_lapse'\n",
    "print('target ratios: ',data[target].sum()*100/data[target].count())\n",
    "\n",
    "#dropping unimportant features\n",
    "data_s.drop(columns=['underwriting_outcome','securitygroup_id','sales_channel',\n",
    " 'age', 'income_band', 'last_benefit_amount_band', 'cover_amount_full_band',\n",
    "       'total_funeral_premium_band', 'original_premium'],inplace=True)\n",
    "\n",
    "\n",
    "#split data into training and test sets\n",
    "X_train,x_test, Y_train, y_test = data_prep(data_s,target,column_excl =['policy_name','lapse_flag', \n",
    "       '3month_lapse', '6month_lapse', '1yr_lapse', 'ann_lapse'],cat_cols=categorical_cols,filter='ann_lapse')\n",
    "\n",
    "#apply SMOTE resampling\n",
    "sm = SMOTE(sampling_strategy=0.6,random_state=42)\n",
    "X_smote, Y_smote = sm.fit_resample(X_train.copy(), Y_train.copy())\n",
    "print('smote resampling target ratio: ',Y_smote.sum()*100/Y_smote.count())\n"
   ]
  },
  {
   "cell_type": "code",
   "execution_count": null,
   "id": "8e2f86d7",
   "metadata": {},
   "outputs": [],
   "source": [
    "X_train_n=X_smote.copy()\n",
    "Y_train_n=Y_smote.copy()\n",
    "\n",
    "scorer=custom_scorer\n",
    "#getting best params\n",
    "param_dist = {'n_estimators': randint(50,300),\n",
    "              'min_samples_leaf': randint(700,2000),\n",
    "              'learning_rate': randint(0,3),\n",
    "              'max_depth': randint(3,5)}\n",
    "\n",
    "# Create a XG-Boost classifier\n",
    "xgb = GradientBoostingClassifier()\n",
    "\n",
    "# Use random search to find the best hyperparameters\n",
    "b=1\n",
    "fbeta_scorer = make_scorer(fbeta_score, beta=b)\n",
    "rand_search = RandomizedSearchCV(xgb, \n",
    "                                 param_distributions = param_dist, \n",
    "                                 n_iter=30, \n",
    "                                 cv=5,\n",
    "                                 scoring=scorer,random_state=42)\n",
    "\n",
    "# Fit the random search object to the data\n",
    "rand_search.fit(X_train_n, Y_train_n)\n",
    "\n",
    "n_estimators=rand_search.best_params_['n_estimators']\n",
    "learning_rate = rand_search.best_params_['learning_rate']\n",
    "max_depth = rand_search.best_params_['max_depth']\n",
    "min_samples_leaf=rand_search.best_params_['min_samples_leaf']\n",
    " #{'learning_rate': 1, 'max_depth': 4, 'min_samples_leaf': 1385, 'n_estimators': 241} 0.6381045715849234 for b=2 and recall\n",
    "\n",
    "xgbc = GradientBoostingClassifier(n_estimators = n_estimators,learning_rate=learning_rate,max_depth=max_depth, min_samples_leaf=min_samples_leaf, random_state=42)"
   ]
  },
  {
   "cell_type": "code",
   "execution_count": null,
   "id": "d56d8390",
   "metadata": {},
   "outputs": [],
   "source": [
    "joblib.dump(xgbc, 'ann_lapse_model.joblib')"
   ]
  },
  {
   "cell_type": "code",
   "execution_count": null,
   "id": "cf8c8811",
   "metadata": {},
   "outputs": [],
   "source": [
    "xgbc.fit(X_train_n.copy(),Y_train_n.copy())\n",
    "y_pred = xgbc.predict(x_test)\n",
    "conf_matrix = confusion_matrix(y_test, y_pred)\n",
    "ConfusionMatrixDisplay(confusion_matrix=conf_matrix).plot()"
   ]
  },
  {
   "cell_type": "markdown",
   "id": "8a7c7414",
   "metadata": {},
   "source": [
    "## Model for scoring"
   ]
  },
  {
   "cell_type": "code",
   "execution_count": null,
   "id": "c328ef00",
   "metadata": {},
   "outputs": [],
   "source": [
    "new_data = x_test.copy()\n",
    "model_file='ann_lapse_model.joblib'\n",
    "ann_lapse_model = joblib.load(model_file)\n",
    "ann_lapse_prediction = ann_lapse_model.predict(new_data)"
   ]
  },
  {
   "cell_type": "code",
   "execution_count": null,
   "id": "ea45f9ba",
   "metadata": {},
   "outputs": [],
   "source": [
    "lapse_prediction"
   ]
  },
  {
   "cell_type": "markdown",
   "id": "722e334f",
   "metadata": {},
   "source": [
    "# Using Enriched Data"
   ]
  }
 ],
 "metadata": {
  "kernelspec": {
   "display_name": "Python 3",
   "language": "python",
   "name": "python3"
  },
  "language_info": {
   "codemirror_mode": {
    "name": "ipython",
    "version": 3
   },
   "file_extension": ".py",
   "mimetype": "text/x-python",
   "name": "python",
   "nbconvert_exporter": "python",
   "pygments_lexer": "ipython3",
   "version": "3.12.6"
  }
 },
 "nbformat": 4,
 "nbformat_minor": 5
}
